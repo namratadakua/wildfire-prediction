{
 "cells": [
  {
   "cell_type": "code",
   "execution_count": 1,
   "id": "cde78f3f-bf91-4007-9370-f6970f82633c",
   "metadata": {},
   "outputs": [],
   "source": [
    "import pandas as pd\n",
    "import cdsapi\n",
    "import netCDF4\n",
    "from netCDF4 import num2date\n",
    "import numpy as np\n",
    "import os\n",
    "import xarray as xr\n"
   ]
  },
  {
   "cell_type": "code",
   "execution_count": null,
   "id": "ccdff289-b220-4312-a4e7-4e6c8cd0be0c",
   "metadata": {},
   "outputs": [],
   "source": [
    "def download_climate_data_xarray(year, month, day, latitude, longitude, area, day_night_ind, result_df):\n",
    "    area_str = '_'.join(str(num) for num in area)\n",
    "    c = cdsapi.Client()\n",
    "    file_name = './historical_climate_data/weather-'+area_str+'-'+str(year)+'-'+str(month)+'-'+str(day)+'.nc'\n",
    "    time = '12:00'\n",
    "    if day_night_ind == \"N\":\n",
    "        time = '22:00'\n",
    "    c.retrieve('reanalysis-era5-single-levels',\n",
    "    {\n",
    "        'product_type': 'reanalysis',\n",
    "        'format': 'netcdf',\n",
    "        'variable': [\n",
    "            '10m_u_component_of_wind', '10m_v_component_of_wind', '2m_temperature',\n",
    "            'soil_temperature_level_1', 'soil_temperature_level_2', 'soil_temperature_level_3',\n",
    "            'soil_temperature_level_4', 'soil_type', 'total_precipitation', 'volumetric_soil_water_layer_1'\n",
    "        ],\n",
    "        'year': year,\n",
    "        'month': month,\n",
    "        'day': [str(day)],\n",
    "        'time': [time],\n",
    "        'area': area,\n",
    "    },\n",
    "    file_name)\n",
    "\n",
    "    ds = xr.open_dataset(file_name)\n",
    "\n",
    "    longitude = np.mean(ds['longitude'].values)\n",
    "    latitude = np.mean(ds['latitude'].values)\n",
    "    u10 = np.mean(ds['u10'].values)\n",
    "    v10 = np.mean(ds['v10'].values)\n",
    "    t2m = np.mean(ds['t2m'].values)\n",
    "    stl1 = np.mean(ds['stl1'].values)\n",
    "    stl2 = np.mean(ds['stl2'].values)\n",
    "    stl3 = np.mean(ds['stl3'].values)\n",
    "    stl4 = np.mean(ds['stl4'].values)\n",
    "    slt = np.mean(ds['slt'].values)\n",
    "    tp = np.mean(ds['tp'].values)\n",
    "    vswl1 = 0\n",
    "\n",
    "    new_row = {'longitude':longitude, \n",
    "           'latitude':latitude, \n",
    "           '10m_u_component_of_wind': u10,\n",
    "                   '10m_v_component_of_wind': v10,\n",
    "                   '2m_temperature': t2m,\n",
    "                   'soil_temperature_level_1': stl1,\n",
    "                   'soil_temperature_level_2': stl2,\n",
    "                   'soil_temperature_level_3': stl3,\n",
    "                   'soil_temperature_level_4': stl4,\n",
    "                   'soil_type': slt,\n",
    "                   'total_precipitation': tp,\n",
    "                   'volumetric_soil_water_layer_1': vswl1}\n",
    "    result_df.loc[len(result_df)] = new_row\n",
    "    "
   ]
  },
  {
   "cell_type": "code",
   "execution_count": null,
   "id": "c15f6d16-62a9-46d6-8522-367bcd103ba4",
   "metadata": {},
   "outputs": [],
   "source": [
    "def group_fire_data_xarray(file_name):\n",
    "    file_path = \"./historical_fire_data/\" + file_name + \".csv\"\n",
    "    fire_data = pd.read_csv(file_path)\n",
    "    \n",
    "    filtered_fire_data = fire_data.query(\"`confidence` >= 75 and `type` == 0\")\n",
    "    grouped_fire_data = filtered_fire_data.groupby(['acq_date', 'daynight']).agg({'latitude':'mean','longitude':'mean','brightness':'mean','confidence':'mean', 'frp':'mean', 'bright_t31':'mean'}).reset_index()\n",
    "\n",
    "    #grouped_fire_data.apply(apply_on_each_group)\n",
    "\n",
    "    result_df = pd.DataFrame({'longitude': pd.Series(dtype='float'),\n",
    "                   'latitude': pd.Series(dtype='float'),\n",
    "                   '10m_u_component_of_wind': pd.Series(dtype='float'),\n",
    "                   '10m_v_component_of_wind': pd.Series(dtype='float'),\n",
    "                   '2m_temperature': pd.Series(dtype='float'),\n",
    "                   'soil_temperature_level_1': pd.Series(dtype='float'),\n",
    "                   'soil_temperature_level_2': pd.Series(dtype='float'),\n",
    "                   'soil_temperature_level_3': pd.Series(dtype='float'),\n",
    "                   'soil_temperature_level_4': pd.Series(dtype='float'),\n",
    "                   'soil_type': pd.Series(dtype='float'),\n",
    "                   'total_precipitation': pd.Series(dtype='float'),\n",
    "                   'volumetric_soil_water_layer_1': pd.Series(dtype='float')})\n",
    "    \n",
    "    #print(grouped_fire_data)\n",
    "    for modis_data_index, modis_row in grouped_fire_data.iterrows():\n",
    "        #print(modis_row['acq_date'])\n",
    "        date_value = modis_row['acq_date']\n",
    "        date_split = date_value.split(\"-\")\n",
    "        #print(type(weather_row['DATE']))\n",
    "        year = date_split[0]\n",
    "        month = date_split[1]\n",
    "        day = date_split[2]\n",
    "        #print(year + month + day)\n",
    "        confidence = modis_row['confidence']\n",
    "        latitude = modis_row['latitude']\n",
    "        longitude = modis_row['longitude']\n",
    "        day_night_ind = modis_row['daynight']\n",
    "        #print(type(confidence))\n",
    "        if confidence > 75:\n",
    "            north_coord = latitude+0.25\n",
    "            south_coord = latitude-0.25\n",
    "            west_coord = longitude-0.25\n",
    "            east_coord = longitude+0.25\n",
    "            area = [north_coord, west_coord, south_coord, east_coord]\n",
    "            #print(area)\n",
    "            download_climate_data(year, month, day, latitude, longitude, area, day_night_ind, result_df)\n",
    "    \n",
    "    result_filename = \"./historical_climate_data/xarray/\"+file_name+\".csv\"\n",
    "    result_df.to_csv(result_filename)\n",
    "    "
   ]
  },
  {
   "cell_type": "code",
   "execution_count": 2,
   "id": "a0abbf0d-16f7-4d00-8f9e-00c6345ff73e",
   "metadata": {},
   "outputs": [],
   "source": [
    "def download_climate_data(year, month, day, area, day_night_ind):\n",
    "    area_str = '_'.join(str(num) for num in area)\n",
    "    c = cdsapi.Client()\n",
    "    file_name = './historical_climate_data/weather-'+area_str+'-'+str(year)+'-'+str(month)+'-'+str(day)+'.nc'\n",
    "    time = '12:00'\n",
    "    if day_night_ind == \"N\":\n",
    "        time = '22:00'\n",
    "    c.retrieve('reanalysis-era5-single-levels',\n",
    "    {\n",
    "        'product_type': 'reanalysis',\n",
    "        'format': 'netcdf',\n",
    "        'variable': [\n",
    "            '10m_u_component_of_wind', '10m_v_component_of_wind', '2m_temperature',\n",
    "            'soil_temperature_level_1', 'soil_temperature_level_2', 'soil_temperature_level_3',\n",
    "            'soil_temperature_level_4', 'soil_type', 'total_precipitation',\n",
    "        ],\n",
    "        'year': year,\n",
    "        'month': month,\n",
    "        'day': [str(day)],\n",
    "        'time': [time],\n",
    "        'area': area,\n",
    "    },\n",
    "    file_name)\n",
    "\n",
    "    nc = netCDF4.Dataset(file_name, mode='r')\n",
    "    print(nc.variables['t2m'][:])\n",
    "    cols = list(nc.variables.keys())\n",
    "    list_nc = []\n",
    "    for c in cols:\n",
    "        list_nc.append(list(nc.variables[c][:]))\n",
    "    df_nc = pd.DataFrame(list_nc)\n",
    "    df_nc = df_nc.T\n",
    "    df_nc.columns = cols\n",
    "    csv_file_name = './historical_climate_data/csv/weather-'+area_str+'-'+str(year)+str(month)+'-'+str(day)+'.csv'\n",
    "    df_nc.to_csv(csv_file_name, index = False)"
   ]
  },
  {
   "cell_type": "code",
   "execution_count": 3,
   "id": "32d8b890-5baf-49be-b4ae-57c38e060baf",
   "metadata": {},
   "outputs": [],
   "source": [
    "#download_climate_data(2022, 1, 11, [59.7686, -125.092, 49.7686, -115.092], 'D')"
   ]
  },
  {
   "cell_type": "code",
   "execution_count": 4,
   "id": "e2992347-a9e5-419b-afb0-396ad68762ba",
   "metadata": {},
   "outputs": [],
   "source": [
    "def download_satellite_image(year, month, day, area, day_night_ind):\n",
    "    print(\"image\")"
   ]
  },
  {
   "cell_type": "code",
   "execution_count": 5,
   "id": "b603c4b3-ddfc-49cb-b3eb-28fad04e73a3",
   "metadata": {},
   "outputs": [],
   "source": [
    "def get_climate_data_for_fire_data(file_name):\n",
    "    file_path = \"./historical_fire_data/\" + file_name\n",
    "    fire_data = pd.read_csv(file_path)\n",
    "    for modis_data_index, modis_row in fire_data.iterrows():\n",
    "        date_value = modis_row['acq_date']\n",
    "        date_split = date_value.split(\"-\")\n",
    "        #print(type(weather_row['DATE']))\n",
    "        year = date_split[0]\n",
    "        month = date_split[1]\n",
    "        day = date_split[2]\n",
    "        #print(year + month + day)\n",
    "        confidence = modis_row['confidence']\n",
    "        latitude = modis_row['latitude']\n",
    "        longitude = modis_row['longitude']\n",
    "        day_night_ind = modis_row['daynight']\n",
    "        #print(type(confidence))\n",
    "        if confidence > 70:\n",
    "            north_coord = latitude+0.25\n",
    "            south_coord = latitude-0.25\n",
    "            west_coord = longitude-0.25\n",
    "            east_coord = longitude+0.25\n",
    "            area = [north_coord, west_coord, south_coord, east_coord]\n",
    "            #print(area)\n",
    "            download_climate_data(year, month, day, area, day_night_ind)"
   ]
  },
  {
   "cell_type": "code",
   "execution_count": 6,
   "id": "c576a8ae-b526-4c50-9a98-afed0a8344ea",
   "metadata": {},
   "outputs": [],
   "source": [
    "#get_climate_data_for_fire_data('canada_2023.csv')"
   ]
  },
  {
   "cell_type": "code",
   "execution_count": 7,
   "id": "5bd029ce-9e5c-4142-8a18-85d592b4a1ce",
   "metadata": {},
   "outputs": [],
   "source": [
    "def group_fire_data(file_name):\n",
    "    file_path = \"./historical_fire_data/\" + file_name\n",
    "    fire_data = pd.read_csv(file_path)\n",
    "    \n",
    "    filtered_fire_data = fire_data.query(\"`confidence` >= 75 and `type` == 0\")\n",
    "    grouped_fire_data = filtered_fire_data.groupby(['acq_date', 'daynight']).agg({'latitude':'mean','longitude':'mean','brightness':'mean','confidence':'mean', 'frp':'mean', 'bright_t31':'mean'}).reset_index()\n",
    "\n",
    "    #grouped_fire_data.apply(apply_on_each_group)\n",
    "    \n",
    "    #print(grouped_fire_data)\n",
    "    for modis_data_index, modis_row in grouped_fire_data.iterrows():\n",
    "        #print(modis_row['acq_date'])\n",
    "        date_value = modis_row['acq_date']\n",
    "        date_split = date_value.split(\"-\")\n",
    "        #print(type(weather_row['DATE']))\n",
    "        year = date_split[0]\n",
    "        month = date_split[1]\n",
    "        day = date_split[2]\n",
    "        #print(year + month + day)\n",
    "        confidence = modis_row['confidence']\n",
    "        latitude = modis_row['latitude']\n",
    "        longitude = modis_row['longitude']\n",
    "        day_night_ind = modis_row['daynight']\n",
    "        #print(type(confidence))\n",
    "        if confidence > 75:\n",
    "            north_coord = latitude+0.25\n",
    "            south_coord = latitude-0.25\n",
    "            west_coord = longitude-0.25\n",
    "            east_coord = longitude+0.25\n",
    "            area = [north_coord, west_coord, south_coord, east_coord]\n",
    "            #print(area)\n",
    "            download_climate_data(year, month, day, area, day_night_ind)\n",
    "                \n",
    "\n",
    "#print(daynight)\n",
    "    #return grouped_fire_data\n",
    "\n"
   ]
  },
  {
   "cell_type": "code",
   "execution_count": null,
   "id": "a818ca3d-86fc-441f-a8b7-248a05d60a88",
   "metadata": {},
   "outputs": [
    {
     "name": "stderr",
     "output_type": "stream",
     "text": [
      "2024-01-15 17:47:42,400 INFO Welcome to the CDS\n",
      "2024-01-15 17:47:42,402 INFO Sending request to https://cds.climate.copernicus.eu/api/v2/resources/reanalysis-era5-single-levels\n",
      "2024-01-15 17:47:42,514 INFO Request is queued\n",
      "2024-01-15 17:54:01,581 INFO Request is completed\n",
      "2024-01-15 17:54:01,584 INFO Downloading https://download-0015-clone.copernicus-climate.eu/cache-compute-0015/cache/data8/adaptor.mars.internal-1705341122.9465227-9646-1-2e7ab8e9-b966-4f23-810d-6c1ed22e69f0.nc to ./historical_climate_data/weather-53.336800000000004_-117.56796666666666_52.836800000000004_-117.06796666666666-2023-01-01.nc (3.1K)\n",
      "2024-01-15 17:54:01,942 INFO Download rate 8.8K/s                                                                                                                                                                                                 \n",
      "2024-01-15 17:54:02,088 INFO Welcome to the CDS\n",
      "2024-01-15 17:54:02,089 INFO Sending request to https://cds.climate.copernicus.eu/api/v2/resources/reanalysis-era5-single-levels\n",
      "2024-01-15 17:54:02,196 INFO Request is queued\n"
     ]
    },
    {
     "name": "stdout",
     "output_type": "stream",
     "text": [
      "[[[262.85845947 262.81658988]\n",
      "  [261.89551937 262.57500655]\n",
      "  [258.88763428 259.57887646]]]\n"
     ]
    },
    {
     "name": "stderr",
     "output_type": "stream",
     "text": [
      "2024-01-15 17:58:20,792 INFO Request is completed\n",
      "2024-01-15 17:58:20,798 INFO Downloading https://download-0005-clone.copernicus-climate.eu/cache-compute-0005/cache/data6/adaptor.mars.internal-1705341488.8430274-29887-7-3ec4131d-b9a1-466e-b293-b9ea2ac83133.nc to ./historical_climate_data/weather-54.66256666666666_-117.794_54.16256666666666_-117.294-2023-01-01.nc (3.1K)\n",
      "2024-01-15 17:58:21,075 INFO Download rate 11.3K/s                                                                                                                                                                                                \n",
      "2024-01-15 17:58:21,257 INFO Welcome to the CDS\n",
      "2024-01-15 17:58:21,258 INFO Sending request to https://cds.climate.copernicus.eu/api/v2/resources/reanalysis-era5-single-levels\n"
     ]
    },
    {
     "name": "stdout",
     "output_type": "stream",
     "text": [
      "[[[271.9979248  271.35511484 270.24795532]\n",
      "  [271.88641041 271.74998153 271.1808202 ]]]\n"
     ]
    },
    {
     "name": "stderr",
     "output_type": "stream",
     "text": [
      "2024-01-15 17:58:21,459 INFO Request is queued\n",
      "2024-01-15 18:02:40,067 INFO Request is completed\n",
      "2024-01-15 18:02:40,076 INFO Downloading https://download-0005-clone.copernicus-climate.eu/cache-compute-0005/cache/data5/adaptor.mars.internal-1705341692.4000833-31654-6-8f3dfbc4-d117-4689-9211-f3b7b8fa3490.nc to ./historical_climate_data/weather-53.7462_-118.216975_53.2462_-117.716975-2023-01-02.nc (3.2K)\n",
      "2024-01-15 18:02:40,361 INFO Download rate 11.3K/s                                                                                                                                                                                                \n",
      "2024-01-15 18:02:40,528 INFO Welcome to the CDS\n",
      "2024-01-15 18:02:40,529 INFO Sending request to https://cds.climate.copernicus.eu/api/v2/resources/reanalysis-era5-single-levels\n"
     ]
    },
    {
     "name": "stdout",
     "output_type": "stream",
     "text": [
      "[[[261.73461914 261.52604184 261.17325226]\n",
      "  [259.93597149 259.78937733 260.92347918]\n",
      "  [258.18707275 258.61499997 260.06242791]]]\n"
     ]
    },
    {
     "name": "stderr",
     "output_type": "stream",
     "text": [
      "2024-01-15 18:02:40,657 INFO Request is queued\n",
      "2024-01-15 18:06:59,453 INFO Request is completed\n",
      "2024-01-15 18:06:59,458 INFO Downloading https://download-0003-clone.copernicus-climate.eu/cache-compute-0003/cache/data5/adaptor.mars.internal-1705341943.6623268-28089-14-095c1cb6-a4d3-456e-bccb-41f398ab9def.nc to ./historical_climate_data/weather-53.885241379310344_-117.36670689655173_53.385241379310344_-116.86670689655173-2023-01-03.nc (3.1K)\n",
      "2024-01-15 18:06:59,790 INFO Download rate 9.5K/s                                                                                                                                                                                                 \n",
      "2024-01-15 18:06:59,935 INFO Welcome to the CDS\n",
      "2024-01-15 18:06:59,936 INFO Sending request to https://cds.climate.copernicus.eu/api/v2/resources/reanalysis-era5-single-levels\n",
      "2024-01-15 18:07:00,021 INFO Request is queued\n"
     ]
    },
    {
     "name": "stdout",
     "output_type": "stream",
     "text": [
      "[[[256.5540955  256.88798458 256.30877686]\n",
      "  [259.9206543  259.90015137 259.17841522]]]\n"
     ]
    },
    {
     "name": "stderr",
     "output_type": "stream",
     "text": [
      "2024-01-15 18:09:51,773 INFO Request is completed\n",
      "2024-01-15 18:09:51,778 INFO Downloading https://download-0012-clone.copernicus-climate.eu/cache-compute-0012/cache/data8/adaptor.mars.internal-1705342182.5610995-6274-18-a4b6f4f7-1a96-4f31-9d0d-c40eb840d5ed.nc to ./historical_climate_data/weather-55.8209_-118.0554_55.3209_-117.5554-2023-01-03.nc (3.2K)\n",
      "2024-01-15 18:09:52,107 INFO Download rate 9.8K/s                                                                                                                                                                                                 \n",
      "2024-01-15 18:09:52,252 INFO Welcome to the CDS\n",
      "2024-01-15 18:09:52,253 INFO Sending request to https://cds.climate.copernicus.eu/api/v2/resources/reanalysis-era5-single-levels\n",
      "2024-01-15 18:09:52,378 INFO Request is queued\n"
     ]
    },
    {
     "name": "stdout",
     "output_type": "stream",
     "text": [
      "[[[260.43993438 259.51550176 258.46789551]\n",
      "  [262.59887695 262.36242644 261.52170651]\n",
      "  [261.31652218 261.65175114 262.3104212 ]]]\n"
     ]
    },
    {
     "name": "stderr",
     "output_type": "stream",
     "text": [
      "2024-01-15 18:18:11,469 INFO Request is completed\n",
      "2024-01-15 18:18:11,472 INFO Downloading https://download-0010-clone.copernicus-climate.eu/cache-compute-0010/cache/data6/adaptor.mars.internal-1705342659.5780213-21207-5-7562fece-0280-4ab8-96c5-6ca81a00eb7d.nc to ./historical_climate_data/weather-54.864836363636364_-117.37820454545454_54.364836363636364_-116.87820454545454-2023-01-04.nc (3.1K)\n",
      "2024-01-15 18:18:11,788 INFO Download rate 9.8K/s                                                                                                                                                                                                 \n",
      "2024-01-15 18:18:11,942 INFO Welcome to the CDS\n",
      "2024-01-15 18:18:11,943 INFO Sending request to https://cds.climate.copernicus.eu/api/v2/resources/reanalysis-era5-single-levels\n"
     ]
    },
    {
     "name": "stdout",
     "output_type": "stream",
     "text": [
      "[[[257.02130631 256.57464577]\n",
      "  [257.21353149 256.44490051]]]\n"
     ]
    },
    {
     "name": "stderr",
     "output_type": "stream",
     "text": [
      "2024-01-15 18:18:12,152 INFO Request is queued\n",
      "2024-01-15 18:26:31,370 INFO Request is completed\n",
      "2024-01-15 18:26:31,375 INFO Downloading https://download-0008-clone.copernicus-climate.eu/cache-compute-0008/cache/data4/adaptor.mars.internal-1705343162.233941-13686-9-d41ecd4f-71e2-42e7-b5c7-5d71b8856989.nc to ./historical_climate_data/weather-53.5516_-117.6782_53.0516_-117.1782-2023-01-04.nc (3.2K)\n",
      "2024-01-15 18:26:31,721 INFO Download rate 9.3K/s                                                                                                                                                                                                 \n",
      "2024-01-15 18:26:31,871 INFO Welcome to the CDS\n",
      "2024-01-15 18:26:31,873 INFO Sending request to https://cds.climate.copernicus.eu/api/v2/resources/reanalysis-era5-single-levels\n",
      "2024-01-15 18:26:31,981 INFO Request is queued\n"
     ]
    },
    {
     "name": "stdout",
     "output_type": "stream",
     "text": [
      "[[[267.78576038 268.91069398 269.2624046 ]\n",
      "  [266.38792456 268.01160273 270.00500488]\n",
      "  [262.6270752  263.57153756 265.61222475]]]\n"
     ]
    },
    {
     "name": "stderr",
     "output_type": "stream",
     "text": [
      "2024-01-15 18:29:23,731 INFO Request is completed\n",
      "2024-01-15 18:29:23,736 INFO Downloading https://download-0013-clone.copernicus-climate.eu/cache-compute-0013/cache/data5/adaptor.mars.internal-1705343332.3354454-30653-6-c3683c2e-f853-4746-8c4e-2574919b101e.nc to ./historical_climate_data/weather-54.40614000000001_-115.91792000000001_53.90614000000001_-115.41792000000001-2023-01-06.nc (3.2K)\n",
      "2024-01-15 18:29:24,058 INFO Download rate 10K/s                                                                                                                                                                                                  \n",
      "2024-01-15 18:29:24,258 INFO Welcome to the CDS\n",
      "2024-01-15 18:29:24,260 INFO Sending request to https://cds.climate.copernicus.eu/api/v2/resources/reanalysis-era5-single-levels\n"
     ]
    },
    {
     "name": "stdout",
     "output_type": "stream",
     "text": [
      "[[[257.93695068 257.22974682 257.06477265]\n",
      "  [255.93910191 255.4899841  256.01147934]\n",
      "  [256.00877484 255.12371826 255.51149127]]]\n"
     ]
    },
    {
     "name": "stderr",
     "output_type": "stream",
     "text": [
      "2024-01-15 18:29:24,358 INFO Request is queued\n",
      "2024-01-15 18:33:42,906 INFO Request is completed\n",
      "2024-01-15 18:33:42,908 INFO Downloading https://download-0019.copernicus-climate.eu/cache-compute-0019/cache/data4/adaptor.mars.internal-1705343579.1352582-11626-1-eb73beeb-9476-4bd5-8abe-525a82df1ac4.nc to ./historical_climate_data/weather-56.5372_-122.4946_56.0372_-121.9946-2023-01-07.nc (3.2K)\n",
      "2024-01-15 18:33:43,277 INFO Download rate 8.7K/s                                                                                                                                                                                                 \n",
      "2024-01-15 18:33:43,410 INFO Welcome to the CDS\n",
      "2024-01-15 18:33:43,411 INFO Sending request to https://cds.climate.copernicus.eu/api/v2/resources/reanalysis-era5-single-levels\n",
      "2024-01-15 18:33:43,527 INFO Request is queued\n"
     ]
    },
    {
     "name": "stdout",
     "output_type": "stream",
     "text": [
      "[[[264.24748978 262.7064923  261.77685547]\n",
      "  [263.55466559 262.98073414 262.88672593]\n",
      "  [264.326598   264.65178656 265.13232422]]]\n"
     ]
    },
    {
     "name": "stderr",
     "output_type": "stream",
     "text": [
      "2024-01-15 18:36:35,231 INFO Request is completed\n",
      "2024-01-15 18:36:35,233 INFO Downloading https://download-0001-clone.copernicus-climate.eu/cache-compute-0001/cache/data3/adaptor.mars.internal-1705343753.4259355-25125-10-bddf1d25-78ea-4461-b96a-f86417d5b2f0.nc to ./historical_climate_data/weather-56.1558_-117.8338625_55.6558_-117.3338625-2023-01-07.nc (3.2K)\n",
      "2024-01-15 18:36:35,567 INFO Download rate 9.6K/s                                                                                                                                                                                                 \n",
      "2024-01-15 18:36:35,691 INFO Welcome to the CDS\n",
      "2024-01-15 18:36:35,693 INFO Sending request to https://cds.climate.copernicus.eu/api/v2/resources/reanalysis-era5-single-levels\n",
      "2024-01-15 18:36:35,753 INFO Request is queued\n"
     ]
    },
    {
     "name": "stdout",
     "output_type": "stream",
     "text": [
      "[[[264.16706772 263.77385647 264.57529761]\n",
      "  [262.78149414 263.00719312 264.14747638]\n",
      "  [265.27425127 265.53070068 265.42716442]]]\n"
     ]
    },
    {
     "name": "stderr",
     "output_type": "stream",
     "text": [
      "2024-01-15 18:38:29,770 INFO Request is completed\n",
      "2024-01-15 18:38:29,771 INFO Downloading https://download-0021.copernicus-climate.eu/cache-compute-0021/cache/data0/adaptor.mars.internal-1705343889.0584474-7061-9-7b8eaccb-8c75-4054-8a11-a139c995bebf.nc to ./historical_climate_data/weather-54.12270625_-117.77994375_53.62270625_-117.27994375-2023-01-08.nc (3.1K)\n",
      "2024-01-15 18:38:30,101 INFO Download rate 9.5K/s                                                                                                                                                                                                 \n",
      "2024-01-15 18:38:30,295 INFO Welcome to the CDS\n",
      "2024-01-15 18:38:30,296 INFO Sending request to https://cds.climate.copernicus.eu/api/v2/resources/reanalysis-era5-single-levels\n",
      "2024-01-15 18:38:30,426 INFO Request is queued\n"
     ]
    },
    {
     "name": "stdout",
     "output_type": "stream",
     "text": [
      "[[[268.78268742 268.46921065 268.41369629]\n",
      "  [268.70930367 268.88575899 269.05430603]]]\n"
     ]
    },
    {
     "name": "stderr",
     "output_type": "stream",
     "text": [
      "2024-01-15 18:40:24,404 INFO Request is completed\n",
      "2024-01-15 18:40:24,408 INFO Downloading https://download-0018.copernicus-climate.eu/cache-compute-0018/cache/data1/adaptor.mars.internal-1705344008.953092-6266-15-728887b7-6bf9-44dc-9bd0-d7a84ed1bc67.nc to ./historical_climate_data/weather-57.093975_-120.480525_56.593975_-119.980525-2023-01-08.nc (3.2K)\n",
      "2024-01-15 18:40:24,737 INFO Download rate 9.8K/s                                                                                                                                                                                                 \n",
      "2024-01-15 18:40:24,866 INFO Welcome to the CDS\n",
      "2024-01-15 18:40:24,867 INFO Sending request to https://cds.climate.copernicus.eu/api/v2/resources/reanalysis-era5-single-levels\n"
     ]
    },
    {
     "name": "stdout",
     "output_type": "stream",
     "text": [
      "[[[265.59112549 266.52314809 267.00612031]\n",
      "  [265.80385025 267.23765531 267.89953613]\n",
      "  [266.09533848 267.04595997 267.60850583]]]\n"
     ]
    },
    {
     "name": "stderr",
     "output_type": "stream",
     "text": [
      "2024-01-15 18:40:25,043 INFO Request is queued\n",
      "2024-01-15 18:42:19,133 INFO Request is running\n",
      "2024-01-15 18:43:16,869 INFO Request is completed\n",
      "2024-01-15 18:43:16,872 INFO Downloading https://download-0021.copernicus-climate.eu/cache-compute-0021/cache/data7/adaptor.mars.internal-1705344140.9747787-31576-10-2ffcba8d-b0da-4f11-ad9d-d3b6c696230f.nc to ./historical_climate_data/weather-53.161541666666665_-118.02974166666667_52.661541666666665_-117.52974166666667-2023-01-09.nc (3.2K)\n",
      "2024-01-15 18:43:17,141 INFO Download rate 11.9K/s                                                                                                                                                                                                \n",
      "2024-01-15 18:43:17,275 INFO Welcome to the CDS\n",
      "2024-01-15 18:43:17,277 INFO Sending request to https://cds.climate.copernicus.eu/api/v2/resources/reanalysis-era5-single-levels\n",
      "2024-01-15 18:43:17,379 INFO Request is queued\n"
     ]
    },
    {
     "name": "stdout",
     "output_type": "stream",
     "text": [
      "[[[268.47631471 269.04725153 269.61730957]\n",
      "  [267.60510541 267.65147797 267.01388905]\n",
      "  [266.93919272 266.18161647 265.18737793]]]\n"
     ]
    },
    {
     "name": "stderr",
     "output_type": "stream",
     "text": [
      "2024-01-15 18:45:11,355 INFO Request is completed\n",
      "2024-01-15 18:45:11,365 INFO Downloading https://download-0005-clone.copernicus-climate.eu/cache-compute-0005/cache/data1/adaptor.mars.internal-1705344303.4501994-19140-15-544e77bf-1d82-43fa-b96c-6da28226991d.nc to ./historical_climate_data/weather-55.158500000000004_-116.0349_54.658500000000004_-115.5349-2023-01-09.nc (3.2K)\n",
      "2024-01-15 18:45:11,640 INFO Download rate 11.7K/s                                                                                                                                                                                                \n",
      "2024-01-15 18:45:11,786 INFO Welcome to the CDS\n",
      "2024-01-15 18:45:11,787 INFO Sending request to https://cds.climate.copernicus.eu/api/v2/resources/reanalysis-era5-single-levels\n",
      "2024-01-15 18:45:11,879 INFO Request is queued\n"
     ]
    },
    {
     "name": "stdout",
     "output_type": "stream",
     "text": [
      "[[[268.06001861 267.69582504 267.6829834 ]\n",
      "  [270.67479656 270.25136947 270.44729127]\n",
      "  [271.06831766 270.76619202 271.47375488]]]\n"
     ]
    },
    {
     "name": "stderr",
     "output_type": "stream",
     "text": [
      "2024-01-15 18:51:30,720 INFO Request is completed\n",
      "2024-01-15 18:51:30,725 INFO Downloading https://download-0016.copernicus-climate.eu/cache-compute-0016/cache/data1/adaptor.mars.internal-1705344685.6959891-7751-11-8452d7d7-a986-4604-805c-f585466cf5a6.nc to ./historical_climate_data/weather-53.856950000000005_-117.63844999999999_53.356950000000005_-117.13844999999999-2023-01-11.nc (3.2K)\n",
      "2024-01-15 18:51:31,062 INFO Download rate 9.5K/s                                                                                                                                                                                                 \n",
      "2024-01-15 18:51:31,226 INFO Welcome to the CDS\n",
      "2024-01-15 18:51:31,227 INFO Sending request to https://cds.climate.copernicus.eu/api/v2/resources/reanalysis-era5-single-levels\n"
     ]
    },
    {
     "name": "stdout",
     "output_type": "stream",
     "text": [
      "[[[256.93359375 258.40534349 260.33300781]\n",
      "  [257.01731728 257.37960053 259.32178938]\n",
      "  [258.21782145 258.62689443 259.15413482]]]\n"
     ]
    },
    {
     "name": "stderr",
     "output_type": "stream",
     "text": [
      "2024-01-15 18:51:31,351 INFO Request is queued\n",
      "2024-01-15 18:59:50,461 INFO Request is completed\n",
      "2024-01-15 18:59:50,465 INFO Downloading https://download-0016.copernicus-climate.eu/cache-compute-0016/cache/data2/adaptor.mars.internal-1705345078.1833699-11205-5-19a19815-ca1a-4804-85a7-e7b2f171ac59.nc to ./historical_climate_data/weather-55.89735_-115.91755_55.39735_-115.41755-2023-01-12.nc (3.2K)\n",
      "2024-01-15 18:59:50,741 INFO Download rate 11.6K/s                                                                                                                                                                                                \n",
      "2024-01-15 18:59:50,895 INFO Welcome to the CDS\n",
      "2024-01-15 18:59:50,896 INFO Sending request to https://cds.climate.copernicus.eu/api/v2/resources/reanalysis-era5-single-levels\n"
     ]
    },
    {
     "name": "stdout",
     "output_type": "stream",
     "text": [
      "[[[264.13122327 264.22221657 264.22785559]\n",
      "  [263.90454102 264.03782698 264.93859657]\n",
      "  [264.66087477 264.94353072 266.00421143]]]\n"
     ]
    },
    {
     "name": "stderr",
     "output_type": "stream",
     "text": [
      "2024-01-15 18:59:51,023 INFO Request is queued\n",
      "2024-01-15 19:02:42,786 INFO Request is completed\n",
      "2024-01-15 19:02:42,789 INFO Downloading https://download-0018.copernicus-climate.eu/cache-compute-0018/cache/data7/adaptor.mars.internal-1705345310.1833847-28173-14-1eeba1b7-846b-4b8b-b8b8-105d4fc1fd11.nc to ./historical_climate_data/weather-54.419000000000004_-117.18143333333335_53.919000000000004_-116.68143333333335-2023-01-14.nc (3.2K)\n",
      "2024-01-15 19:02:43,090 INFO Download rate 10.7K/s                                                                                                                                                                                                \n",
      "2024-01-15 19:02:43,240 INFO Welcome to the CDS\n",
      "2024-01-15 19:02:43,241 INFO Sending request to https://cds.climate.copernicus.eu/api/v2/resources/reanalysis-era5-single-levels\n"
     ]
    },
    {
     "name": "stdout",
     "output_type": "stream",
     "text": [
      "[[[264.81819284 263.8734645  262.80181885]\n",
      "  [265.73630656 264.55880595 263.16181019]\n",
      "  [266.7567749  265.70377758 263.95572237]]]\n"
     ]
    },
    {
     "name": "stderr",
     "output_type": "stream",
     "text": [
      "2024-01-15 19:02:43,619 INFO Request is completed\n",
      "2024-01-15 19:02:43,620 INFO Downloading https://download-0020.copernicus-climate.eu/cache-compute-0020/cache/data4/adaptor.mars.internal-1705164530.0422761-13665-16-4c4a4ca7-edb9-44dd-b727-f01349c3d379.nc to ./historical_climate_data/weather-54.3881_-117.1342_53.8881_-116.6342-2023-01-15.nc (3.2K)\n",
      "2024-01-15 19:02:43,976 INFO Download rate 9K/s                                                                                                                                                                                                   \n",
      "2024-01-15 19:02:44,105 INFO Welcome to the CDS\n",
      "2024-01-15 19:02:44,106 INFO Sending request to https://cds.climate.copernicus.eu/api/v2/resources/reanalysis-era5-single-levels\n",
      "2024-01-15 19:02:44,217 INFO Request is queued\n"
     ]
    },
    {
     "name": "stdout",
     "output_type": "stream",
     "text": [
      "[[[258.83455968 258.14141193 258.0440979 ]\n",
      "  [258.62478905 258.70712983 258.56881474]\n",
      "  [258.7887933  258.94442801 259.62930298]]]\n"
     ]
    },
    {
     "name": "stderr",
     "output_type": "stream",
     "text": [
      "2024-01-15 19:05:36,017 INFO Request is completed\n",
      "2024-01-15 19:05:36,023 INFO Downloading https://download-0020.copernicus-climate.eu/cache-compute-0020/cache/data8/adaptor.mars.internal-1705345486.3771083-30651-9-0838b5d6-1166-49f6-8d08-d4f2406846e1.nc to ./historical_climate_data/weather-54.29815_-118.7809_53.79815_-118.2809-2023-01-15.nc (3.2K)\n",
      "2024-01-15 19:05:36,323 INFO Download rate 10.7K/s                                                                                                                                                                                                \n",
      "2024-01-15 19:05:36,459 INFO Welcome to the CDS\n",
      "2024-01-15 19:05:36,461 INFO Sending request to https://cds.climate.copernicus.eu/api/v2/resources/reanalysis-era5-single-levels\n"
     ]
    },
    {
     "name": "stdout",
     "output_type": "stream",
     "text": [
      "[[[267.74462891 267.93889379 268.19681575]\n",
      "  [268.57070005 268.62080954 268.81975601]\n",
      "  [268.7804183  268.51746261 269.10214233]]]\n"
     ]
    },
    {
     "name": "stderr",
     "output_type": "stream",
     "text": [
      "2024-01-15 19:05:36,654 INFO Request is queued\n",
      "2024-01-15 19:08:28,357 INFO Request is completed\n",
      "2024-01-15 19:08:28,362 INFO Downloading https://download-0017.copernicus-climate.eu/cache-compute-0017/cache/data5/adaptor.mars.internal-1705345659.7803538-9632-9-89e92969-b5fe-4483-8942-4da15541cc9f.nc to ./historical_climate_data/weather-53.49274285714286_-115.93877142857143_52.99274285714286_-115.43877142857143-2023-01-16.nc (3.1K)\n",
      "2024-01-15 19:08:28,694 INFO Download rate 9.5K/s                                                                                                                                                                                                 \n",
      "2024-01-15 19:08:28,827 INFO Welcome to the CDS\n",
      "2024-01-15 19:08:28,828 INFO Sending request to https://cds.climate.copernicus.eu/api/v2/resources/reanalysis-era5-single-levels\n"
     ]
    },
    {
     "name": "stdout",
     "output_type": "stream",
     "text": [
      "[[[263.49113727 264.23309826 265.05493164]\n",
      "  [262.45727539 263.43730764 264.51830017]]]\n"
     ]
    },
    {
     "name": "stderr",
     "output_type": "stream",
     "text": [
      "2024-01-15 19:08:29,306 INFO Request is queued\n",
      "2024-01-15 19:10:23,304 INFO Request is running\n",
      "2024-01-15 19:11:21,050 INFO Request is completed\n",
      "2024-01-15 19:11:21,055 INFO Downloading https://download-0018.copernicus-climate.eu/cache-compute-0018/cache/data3/adaptor.mars.internal-1705345828.0632484-32035-8-c37ca212-981b-49ac-b5e4-eb1be88a49e0.nc to ./historical_climate_data/weather-53.6731_-115.882_53.1731_-115.382-2023-01-17.nc (3.2K)\n",
      "2024-01-15 19:11:21,341 INFO Download rate 11.3K/s                                                                                                                                                                                                \n",
      "2024-01-15 19:11:21,550 INFO Welcome to the CDS\n",
      "2024-01-15 19:11:21,551 INFO Sending request to https://cds.climate.copernicus.eu/api/v2/resources/reanalysis-era5-single-levels\n"
     ]
    },
    {
     "name": "stdout",
     "output_type": "stream",
     "text": [
      "[[[260.33428885 261.26860524 262.39654541]\n",
      "  [259.98581627 259.83302676 260.90461261]\n",
      "  [260.32158151 259.69932338 259.1050415 ]]]\n"
     ]
    },
    {
     "name": "stderr",
     "output_type": "stream",
     "text": [
      "2024-01-15 19:11:21,841 INFO Request is completed\n",
      "2024-01-15 19:11:21,842 INFO Downloading https://download-0001-clone.copernicus-climate.eu/cache-compute-0001/cache/data0/adaptor.mars.internal-1705164590.1262236-5184-9-52cdcb86-824b-4363-8b8f-9290af3fbcb9.nc to ./historical_climate_data/weather-52.8733_-116.3912_52.3733_-115.8912-2023-01-18.nc (3.2K)\n",
      "2024-01-15 19:11:22,143 INFO Download rate 10.7K/s                                                                                                                                                                                                \n",
      "2024-01-15 19:11:22,277 INFO Welcome to the CDS\n",
      "2024-01-15 19:11:22,278 INFO Sending request to https://cds.climate.copernicus.eu/api/v2/resources/reanalysis-era5-single-levels\n",
      "2024-01-15 19:11:22,355 INFO Request is queued\n"
     ]
    },
    {
     "name": "stdout",
     "output_type": "stream",
     "text": [
      "[[[261.95059372 261.88897162 260.96072388]\n",
      "  [261.65142432 261.71150855 262.11341126]\n",
      "  [261.69037177 261.72366845 262.13259888]]]\n"
     ]
    },
    {
     "name": "stderr",
     "output_type": "stream",
     "text": [
      "2024-01-15 19:14:14,082 INFO Request is completed\n",
      "2024-01-15 19:14:14,084 INFO Downloading https://download-0016.copernicus-climate.eu/cache-compute-0016/cache/data9/adaptor.mars.internal-1705346005.6842854-12468-7-da76042c-9409-450b-b702-a41ec7d71945.nc to ./historical_climate_data/weather-55.92746666666667_-118.08483333333334_55.42746666666667_-117.58483333333334-2023-01-19.nc (3.1K)\n",
      "2024-01-15 19:14:14,362 INFO Download rate 11.3K/s                                                                                                                                                                                                \n",
      "2024-01-15 19:14:14,492 INFO Welcome to the CDS\n",
      "2024-01-15 19:14:14,493 INFO Sending request to https://cds.climate.copernicus.eu/api/v2/resources/reanalysis-era5-single-levels\n"
     ]
    },
    {
     "name": "stdout",
     "output_type": "stream",
     "text": [
      "[[[266.15417608 265.83959961]\n",
      "  [267.58128549 267.29064133]\n",
      "  [268.30169678 268.14356321]]]\n"
     ]
    },
    {
     "name": "stderr",
     "output_type": "stream",
     "text": [
      "2024-01-15 19:14:14,795 INFO Request is queued\n",
      "2024-01-15 19:16:08,781 INFO Request is completed\n",
      "2024-01-15 19:16:08,782 INFO Downloading https://download-0013-clone.copernicus-climate.eu/cache-compute-0013/cache/data4/adaptor.mars.internal-1705346139.5946498-30286-1-c9e4bf43-fed6-4696-acf8-1cc2ee28b303.nc to ./historical_climate_data/weather-52.0199_-121.5835_51.5199_-121.0835-2023-01-19.nc (3.2K)\n",
      "2024-01-15 19:16:09,115 INFO Download rate 9.6K/s                                                                                                                                                                                                 \n",
      "2024-01-15 19:16:09,249 INFO Welcome to the CDS\n",
      "2024-01-15 19:16:09,251 INFO Sending request to https://cds.climate.copernicus.eu/api/v2/resources/reanalysis-era5-single-levels\n",
      "2024-01-15 19:16:09,376 INFO Request is queued\n"
     ]
    },
    {
     "name": "stdout",
     "output_type": "stream",
     "text": [
      "[[[271.25558556 270.75556219 270.16342163]\n",
      "  [271.55735335 271.37189491 271.29818336]\n",
      "  [271.1594178  271.49312281 271.62191772]]]\n"
     ]
    },
    {
     "name": "stderr",
     "output_type": "stream",
     "text": [
      "2024-01-15 19:22:28,424 INFO Request is completed\n",
      "2024-01-15 19:22:28,429 INFO Downloading https://download-0009-clone.copernicus-climate.eu/cache-compute-0009/cache/data0/adaptor.mars.internal-1705346539.6966646-24078-2-87fb9685-42b6-4b28-b6e1-0e7263b1828b.nc to ./historical_climate_data/weather-56.27814285714286_-111.29634285714285_55.77814285714286_-110.79634285714285-2023-01-20.nc (3.2K)\n",
      "2024-01-15 19:22:28,762 INFO Download rate 9.6K/s                                                                                                                                                                                                 \n",
      "2024-01-15 19:22:28,905 INFO Welcome to the CDS\n",
      "2024-01-15 19:22:28,906 INFO Sending request to https://cds.climate.copernicus.eu/api/v2/resources/reanalysis-era5-single-levels\n",
      "2024-01-15 19:22:29,023 INFO Request is queued\n"
     ]
    },
    {
     "name": "stdout",
     "output_type": "stream",
     "text": [
      "[[[266.83263328 267.13306427 266.96424049]\n",
      "  [266.74183655 267.13067033 267.06905463]\n",
      "  [266.9566527  266.8676768  266.76953704]]]\n"
     ]
    }
   ],
   "source": [
    "group_fire_data(\"canada_2023.csv\")"
   ]
  },
  {
   "cell_type": "code",
   "execution_count": null,
   "id": "316e25f9-0e2d-4973-9306-db7956b4b07e",
   "metadata": {},
   "outputs": [],
   "source": [
    "file_path = \"./historical_fire_data/canada_2023.csv\" \n",
    "fire_data = pd.read_csv(file_path)\n",
    "fire_data.dtypes"
   ]
  },
  {
   "cell_type": "code",
   "execution_count": null,
   "id": "182438fb-0792-43ca-8767-8b729a344488",
   "metadata": {},
   "outputs": [],
   "source": []
  }
 ],
 "metadata": {
  "kernelspec": {
   "display_name": "Python 3 (ipykernel)",
   "language": "python",
   "name": "python3"
  },
  "language_info": {
   "codemirror_mode": {
    "name": "ipython",
    "version": 3
   },
   "file_extension": ".py",
   "mimetype": "text/x-python",
   "name": "python",
   "nbconvert_exporter": "python",
   "pygments_lexer": "ipython3",
   "version": "3.11.5"
  }
 },
 "nbformat": 4,
 "nbformat_minor": 5
}
