{
 "cells": [
  {
   "cell_type": "code",
   "execution_count": 1,
   "id": "cde78f3f-bf91-4007-9370-f6970f82633c",
   "metadata": {},
   "outputs": [],
   "source": [
    "import pandas as pd\n",
    "import cdsapi\n",
    "import netCDF4\n",
    "from netCDF4 import num2date\n",
    "import numpy as np\n",
    "import os"
   ]
  },
  {
   "cell_type": "code",
   "execution_count": 4,
   "id": "a0abbf0d-16f7-4d00-8f9e-00c6345ff73e",
   "metadata": {},
   "outputs": [],
   "source": [
    "def download_climate_data(year, month, day, area, day_night_ind):\n",
    "    area_str = '_'.join(str(num) for num in area)\n",
    "    c = cdsapi.Client()\n",
    "    file_name = 'weather-'+area_str+'-'+str(year)+'-'+str(month)+'-'+str(day)+'.nc'\n",
    "    time = '12:00'\n",
    "    if day_night_ind == \"N\":\n",
    "        time = '22:00'\n",
    "    c.retrieve('reanalysis-era5-single-levels',\n",
    "    {\n",
    "        'product_type': 'reanalysis',\n",
    "        'format': 'netcdf',\n",
    "        'variable': [\n",
    "            '10m_u_component_of_wind', '10m_v_component_of_wind', '2m_temperature',\n",
    "            'soil_temperature_level_1', 'soil_temperature_level_2', 'soil_temperature_level_3',\n",
    "            'soil_temperature_level_4', 'soil_type', 'total_precipitation',\n",
    "        ],\n",
    "        'year': year,\n",
    "        'month': month,\n",
    "        'day': [str(day)],\n",
    "        'time': [time],\n",
    "        'area': area,\n",
    "    },\n",
    "    file_name)\n",
    "\n",
    "    nc = netCDF4.Dataset(file_name, mode='r')\n",
    "    print(nc.variables['t2m'][:])\n",
    "    cols = list(nc.variables.keys())\n",
    "    list_nc = []\n",
    "    for c in cols:\n",
    "        list_nc.append(list(nc.variables[c][:]))\n",
    "    df_nc = pd.DataFrame(list_nc)\n",
    "    df_nc = df_nc.T\n",
    "    df_nc.columns = cols\n",
    "    csv_file_name = 'weather-'+area_str+'-'str(year)+str(month)+'-'+str(day)+'.csv'\n",
    "    #df_nc.to_csv(csv_file_name, index = False)"
   ]
  },
  {
   "cell_type": "code",
   "execution_count": 5,
   "id": "32d8b890-5baf-49be-b4ae-57c38e060baf",
   "metadata": {},
   "outputs": [
    {
     "name": "stderr",
     "output_type": "stream",
     "text": [
      "2024-01-08 18:16:22,618 INFO Welcome to the CDS\n",
      "2024-01-08 18:16:22,620 INFO Sending request to https://cds.climate.copernicus.eu/api/v2/resources/reanalysis-era5-single-levels\n",
      "2024-01-08 18:16:22,831 INFO Request is queued\n",
      "2024-01-08 18:49:36,253 WARNING Connection error: [('Connection aborted.', RemoteDisconnected('Remote end closed connection without response'))]. Attempt 1 of 500.\n",
      "2024-01-08 18:49:36,255 WARNING Retrying in 120 seconds\n",
      "2024-01-08 19:14:44,911 INFO Retrying now...\n",
      "2024-01-08 20:04:45,488 WARNING Connection error: [('Connection aborted.', RemoteDisconnected('Remote end closed connection without response'))]. Attempt 1 of 500.\n",
      "2024-01-08 20:04:45,499 WARNING Retrying in 120 seconds\n",
      "2024-01-08 20:06:45,502 INFO Retrying now...\n",
      "2024-01-08 22:05:00,037 INFO Request is completed\n",
      "2024-01-08 22:05:00,048 INFO Downloading https://download-0017.copernicus-climate.eu/cache-compute-0017/cache/data9/adaptor.mars.internal-1704751456.573563-18406-4-8b9d4ed1-63d0-45fc-9df2-5fe163908b08.nc to weather-2022-1-11.nc (32.9K)\n",
      "2024-01-08 22:05:00,445 INFO Download rate 83.1K/s                                                                                                                                                                                                \n"
     ]
    },
    {
     "name": "stdout",
     "output_type": "stream",
     "text": [
      "[[[249.73906037 249.81916314 250.46749496 ... 249.23541419 249.16282105\n",
      "   249.10825104]\n",
      "  [248.45391151 248.72425837 249.52929124 ... 250.70279685 250.63921528\n",
      "   250.52306626]\n",
      "  [248.128494   247.64337158 247.87767219 ... 253.18748473 253.15594427\n",
      "   252.99974386]\n",
      "  ...\n",
      "  [278.00082049 277.23233451 275.87359123 ... 264.1640678  263.48219295\n",
      "   263.33300153]\n",
      "  [278.88845934 279.88373629 279.01662377 ... 264.89550624 264.17658386\n",
      "   263.69496594]\n",
      "  [278.60910092 279.71251661 280.45196533 ... 265.37261838 264.50200137\n",
      "   264.0399085 ]]]\n"
     ]
    }
   ],
   "source": [
    "#download_climate_data(2022, 1, 11, [59.7686, -125.092, 49.7686, -115.092], 'D')"
   ]
  },
  {
   "cell_type": "code",
   "execution_count": null,
   "id": "e2992347-a9e5-419b-afb0-396ad68762ba",
   "metadata": {},
   "outputs": [],
   "source": [
    "def download_satellite_image(year, month, day, area, day_night_ind):\n",
    "    print(\"image\")"
   ]
  },
  {
   "cell_type": "code",
   "execution_count": null,
   "id": "b603c4b3-ddfc-49cb-b3eb-28fad04e73a3",
   "metadata": {},
   "outputs": [],
   "source": [
    "def get_climate_data_for_fire_data(file_name):\n",
    "    file_path = \"./historical_fire_data/\" + file_name\n",
    "    fire_data = pd.read_csv(file_path)\n",
    "    for modis_data_index, modis_row in fire_data.iterrows():\n",
    "    date_value = modis_row['acq_date']\n",
    "    date_split = date_value.split(\"-\")\n",
    "    #print(type(weather_row['DATE']))\n",
    "    year = date_split[0]\n",
    "    month = date_split[1]\n",
    "    day = date_split[2]\n",
    "    #print(year + month + day)\n",
    "    confidence = modis_row['confidence']\n",
    "    latitude = modis_row['latitude']\n",
    "    longitude = modis_row['longitude']\n",
    "    day_night_ind = modis_row['daynight']\n",
    "    #print(type(confidence))\n",
    "    if confidence > 70:\n",
    "        north_coord = latitude+0.25\n",
    "        south_coord = latitude-0.25\n",
    "        west_coord = longitude-0.25\n",
    "        east_coord = longitude+0.25\n",
    "        area = [north_coord, west_coord, south_coord, east_coord]\n",
    "        #print(area)\n",
    "        download_climate_data(year, month, day, area, day_night_ind)"
   ]
  },
  {
   "cell_type": "code",
   "execution_count": null,
   "id": "c576a8ae-b526-4c50-9a98-afed0a8344ea",
   "metadata": {},
   "outputs": [
    {
     "name": "stderr",
     "output_type": "stream",
     "text": [
      "2024-01-08 22:05:00,594 INFO Welcome to the CDS\n",
      "2024-01-08 22:05:00,594 INFO Sending request to https://cds.climate.copernicus.eu/api/v2/resources/reanalysis-era5-single-levels\n"
     ]
    },
    {
     "name": "stdout",
     "output_type": "stream",
     "text": [
      "[59.7686, -125.092, 49.7686, -115.092]\n"
     ]
    },
    {
     "name": "stderr",
     "output_type": "stream",
     "text": [
      "2024-01-08 22:05:00,726 INFO Request is queued\n",
      "2024-01-08 23:01:56,072 WARNING HTTP error: [500 Internal Server Error]. Attempt 1 of 500.\n",
      "2024-01-08 23:01:56,078 WARNING Retrying in 120 seconds\n",
      "2024-01-08 23:03:56,086 INFO Retrying now...\n",
      "2024-01-08 23:25:48,251 INFO Request is completed\n",
      "2024-01-08 23:25:48,256 INFO Downloading https://download-0017.copernicus-climate.eu/cache-compute-0017/cache/data9/adaptor.mars.internal-1704751456.573563-18406-4-8b9d4ed1-63d0-45fc-9df2-5fe163908b08.nc to weather-2022-01-11.nc (32.9K)\n",
      "2024-01-08 23:25:48,619 INFO Download rate 90.8K/s                                                                                                                                                                                                \n"
     ]
    },
    {
     "name": "stdout",
     "output_type": "stream",
     "text": [
      "HTTPSConnectionPool(host='cds.climate.copernicus.eu', port=443): Read timed out. (read timeout=60)\n",
      "[[[249.73906037 249.81916314 250.46749496 ... 249.23541419 249.16282105\n",
      "   249.10825104]\n",
      "  [248.45391151 248.72425837 249.52929124 ... 250.70279685 250.63921528\n",
      "   250.52306626]\n",
      "  [248.128494   247.64337158 247.87767219 ... 253.18748473 253.15594427\n",
      "   252.99974386]\n",
      "  ...\n",
      "  [278.00082049 277.23233451 275.87359123 ... 264.1640678  263.48219295\n",
      "   263.33300153]\n",
      "  [278.88845934 279.88373629 279.01662377 ... 264.89550624 264.17658386\n",
      "   263.69496594]\n",
      "  [278.60910092 279.71251661 280.45196533 ... 265.37261838 264.50200137\n",
      "   264.0399085 ]]]\n",
      "[59.782, -125.0656, 49.782, -115.0656]\n"
     ]
    },
    {
     "name": "stderr",
     "output_type": "stream",
     "text": [
      "2024-01-08 23:31:47,911 INFO Welcome to the CDS\n",
      "2024-01-08 23:31:47,913 INFO Sending request to https://cds.climate.copernicus.eu/api/v2/resources/reanalysis-era5-single-levels\n",
      "2024-01-08 23:31:48,044 INFO Request is queued\n",
      "2024-01-08 23:37:17,566 WARNING Connection error: [('Connection aborted.', RemoteDisconnected('Remote end closed connection without response'))]. Attempt 1 of 500.\n",
      "2024-01-08 23:37:17,567 WARNING Retrying in 120 seconds\n",
      "2024-01-08 23:48:32,436 INFO Retrying now...\n",
      "2024-01-08 23:54:12,858 WARNING Connection error: [('Connection aborted.', RemoteDisconnected('Remote end closed connection without response'))]. Attempt 1 of 500.\n",
      "2024-01-08 23:54:12,860 WARNING Retrying in 120 seconds\n",
      "2024-01-09 00:08:40,873 INFO Retrying now...\n",
      "2024-01-09 00:09:11,179 WARNING HTTP error: [500 Internal Server Error]. Attempt 2 of 500.\n",
      "2024-01-09 00:09:11,181 WARNING Retrying in 120 seconds\n",
      "2024-01-09 00:26:07,031 INFO Retrying now...\n",
      "2024-01-09 00:32:29,207 WARNING Connection error: [('Connection aborted.', RemoteDisconnected('Remote end closed connection without response'))]. Attempt 1 of 500.\n",
      "2024-01-09 00:32:29,209 WARNING Retrying in 120 seconds\n",
      "2024-01-09 00:39:27,989 INFO Retrying now...\n",
      "2024-01-09 00:39:28,246 INFO Request is completed\n",
      "2024-01-09 00:39:28,248 INFO Downloading https://download-0005-clone.copernicus-climate.eu/cache-compute-0005/cache/data0/adaptor.mars.internal-1704760178.8254266-31096-8-450d578e-ebf9-4bee-832e-6574a8c80b72.nc to weather-2022-01-11.nc (32.9K)\n",
      "2024-01-09 00:39:28,587 INFO Download rate 97.2K/s                                                                                                                                                                                                \n",
      "2024-01-09 00:39:28,729 INFO Welcome to the CDS\n",
      "2024-01-09 00:39:28,731 INFO Sending request to https://cds.climate.copernicus.eu/api/v2/resources/reanalysis-era5-single-levels\n"
     ]
    },
    {
     "name": "stdout",
     "output_type": "stream",
     "text": [
      "[[[249.84787016 249.87994656 250.59765593 ... 249.1767718  249.11612736\n",
      "   249.06951635]\n",
      "  [248.54226058 248.81841831 249.69550728 ... 250.6162001  250.54904014\n",
      "   250.43075843]\n",
      "  [247.89371593 247.70326233 247.98443199 ... 253.06653608 253.00689403\n",
      "   252.84200131]\n",
      "  ...\n",
      "  [277.9152184  276.99151842 275.61123097 ... 264.02964702 263.42871577\n",
      "   263.38210476]\n",
      "  [279.00681827 279.84982607 278.69056505 ... 264.78444473 264.05370431\n",
      "   263.64372787]\n",
      "  [278.83390645 279.79419357 280.54798889 ... 265.18740446 264.41105542\n",
      "   263.98854913]]]\n",
      "[59.7797, -125.0808, 49.7797, -115.0808]\n"
     ]
    },
    {
     "name": "stderr",
     "output_type": "stream",
     "text": [
      "2024-01-09 00:39:28,825 INFO Request is queued\n",
      "2024-01-09 00:50:18,193 WARNING HTTP error: [500 Internal Server Error]. Attempt 1 of 500.\n",
      "2024-01-09 00:50:18,197 WARNING Retrying in 120 seconds\n",
      "2024-01-09 00:52:18,204 INFO Retrying now...\n",
      "2024-01-09 00:52:49,544 WARNING HTTP error: [500 Internal Server Error]. Attempt 2 of 500.\n",
      "2024-01-09 00:52:49,546 WARNING Retrying in 120 seconds\n",
      "2024-01-09 00:58:19,526 INFO Retrying now...\n",
      "2024-01-09 04:42:36,641 WARNING Connection error: [('Connection aborted.', RemoteDisconnected('Remote end closed connection without response'))]. Attempt 1 of 500.\n",
      "2024-01-09 04:42:36,647 WARNING Retrying in 120 seconds\n",
      "2024-01-09 08:03:50,773 INFO Retrying now...\n",
      "2024-01-09 08:03:51,068 INFO Request is completed\n",
      "2024-01-09 08:03:51,070 INFO Downloading https://download-0001-clone.copernicus-climate.eu/cache-compute-0001/cache/data9/adaptor.mars.internal-1704763110.9772782-31284-17-ca1d6686-4b3d-4372-9b13-7facdde96438.nc to weather-2022-01-11.nc (32.9K)\n",
      "2024-01-09 08:03:53,409 INFO Download rate 14.1K/s                                                                                                                                                                                                \n",
      "2024-01-09 08:03:53,482 INFO Welcome to the CDS\n",
      "2024-01-09 08:03:53,483 INFO Sending request to https://cds.climate.copernicus.eu/api/v2/resources/reanalysis-era5-single-levels\n"
     ]
    },
    {
     "name": "stdout",
     "output_type": "stream",
     "text": [
      "[[[249.82581532 249.85985292 250.53660046 ... 249.19011311 249.1285451\n",
      "   249.07798926]\n",
      "  [248.51636889 248.78967078 249.61858641 ... 250.63320718 250.5681353\n",
      "   250.45300813]\n",
      "  [248.00630546 247.69496155 247.94874188 ... 253.0824126  253.03686229\n",
      "   252.87668535]\n",
      "  ...\n",
      "  [277.92635558 277.08442558 275.71741556 ... 264.08756906 263.47038731\n",
      "   263.36477065]\n",
      "  [278.90493654 279.83546441 278.80832982 ... 264.83089014 264.10709062\n",
      "   263.66960737]\n",
      "  [278.71372532 279.75137152 280.49769592 ... 265.27488058 264.45647656\n",
      "   264.01148502]]]\n",
      "[59.7774, -125.096, 49.7774, -115.096]\n"
     ]
    },
    {
     "name": "stderr",
     "output_type": "stream",
     "text": [
      "2024-01-09 08:36:14,396 WARNING Connection error: [('Connection aborted.', RemoteDisconnected('Remote end closed connection without response'))]. Attempt 1 of 500.\n",
      "2024-01-09 08:36:14,398 WARNING Retrying in 120 seconds\n",
      "2024-01-09 08:52:29,419 INFO Retrying now...\n",
      "2024-01-09 08:52:59,714 WARNING HTTP error: [504 Gateway Time-out]. Attempt 2 of 500.\n",
      "2024-01-09 08:52:59,715 WARNING Retrying in 120 seconds\n",
      "2024-01-09 08:54:59,719 INFO Retrying now...\n",
      "2024-01-09 08:55:00,004 INFO Request is queued\n",
      "2024-01-09 09:13:20,237 INFO Request is completed\n",
      "2024-01-09 09:13:20,240 INFO Downloading https://download-0005-clone.copernicus-climate.eu/cache-compute-0005/cache/data6/adaptor.mars.internal-1704791599.5237167-7285-10-83211333-e609-4dd7-94c8-a5163056fc64.nc to weather-2022-01-11.nc (32.9K)\n",
      "2024-01-09 09:13:20,576 INFO Download rate 98.2K/s                                                                                                                                                                                                \n",
      "2024-01-09 09:13:20,670 INFO Welcome to the CDS\n",
      "2024-01-09 09:13:20,671 INFO Sending request to https://cds.climate.copernicus.eu/api/v2/resources/reanalysis-era5-single-levels\n",
      "2024-01-09 09:13:20,777 INFO Request is queued\n"
     ]
    },
    {
     "name": "stdout",
     "output_type": "stream",
     "text": [
      "[[[249.8047885  249.83978235 250.47667041 ... 249.2033942  249.14090518\n",
      "   249.08491502]\n",
      "  [248.49151931 248.76097195 249.5413348  ... 250.64964001 250.587151\n",
      "   250.47567059]\n",
      "  [248.11808494 247.68666077 247.91412079 ... 253.09870958 253.0667152\n",
      "   252.91224235]\n",
      "  ...\n",
      "  [277.93784402 277.17897739 275.8242155  ... 264.14676785 263.51187943\n",
      "   263.34790825]\n",
      "  [278.80369184 279.82151296 278.9256704  ... 264.87713948 264.1612653\n",
      "   263.69434736]\n",
      "  [278.59372874 279.71003255 280.44740295 ... 265.36255417 264.50120555\n",
      "   264.03428762]]]\n",
      "[61.4635, -127.2232, 51.4635, -117.2232]\n"
     ]
    },
    {
     "name": "stderr",
     "output_type": "stream",
     "text": [
      "2024-01-09 09:37:45,246 WARNING Connection error: [HTTPSConnectionPool(host='cds.climate.copernicus.eu', port=443): Max retries exceeded with url: /api/v2/tasks/570ff41e-d265-4a6d-b0c0-d5cb910bffe1 (Caused by NameResolutionError(\"<urllib3.connection.HTTPSConnection object at 0x11d6f4d10>: Failed to resolve 'cds.climate.copernicus.eu' ([Errno 8] nodename nor servname provided, or not known)\"))]. Attempt 1 of 500.\n",
      "2024-01-09 09:37:45,252 WARNING Retrying in 120 seconds\n",
      "2024-01-09 11:33:52,757 INFO Retrying now...\n",
      "2024-01-09 11:33:53,730 INFO Request is completed\n",
      "2024-01-09 11:33:53,731 INFO Downloading https://download-0010-clone.copernicus-climate.eu/cache-compute-0010/cache/data4/adaptor.mars.internal-1704797635.9117422-25907-8-570ff41e-d265-4a6d-b0c0-d5cb910bffe1.nc to weather-2022-01-11.nc (32.9K)\n",
      "2024-01-09 11:33:54,515 INFO Download rate 42K/s                                                                                                                                                                                                  \n",
      "2024-01-09 11:33:54,701 INFO Welcome to the CDS\n",
      "2024-01-09 11:33:54,702 INFO Sending request to https://cds.climate.copernicus.eu/api/v2/resources/reanalysis-era5-single-levels\n"
     ]
    },
    {
     "name": "stdout",
     "output_type": "stream",
     "text": [
      "[[[254.01572362 253.67084038 253.59797069 ... 245.17802819 244.38893933\n",
      "   243.86238098]\n",
      "  [254.92210273 254.1085576  253.57900461 ... 247.17196241 246.46572538\n",
      "   246.02850727]\n",
      "  [255.22655826 254.55376144 254.0012495  ... 248.20212017 247.74543686\n",
      "   247.46793312]\n",
      "  ...\n",
      "  [275.2757041  274.04690158 273.29873953 ... 264.47002804 264.16806804\n",
      "   263.62803379]\n",
      "  [275.83719997 274.50707864 273.74044961 ... 265.66239571 266.04670844\n",
      "   265.59751174]\n",
      "  [276.57038879 274.99820036 274.10729358 ... 266.6141936  267.07836352\n",
      "   266.80385442]]]\n",
      "[61.4723, -127.228, 51.4723, -117.228]\n"
     ]
    },
    {
     "name": "stderr",
     "output_type": "stream",
     "text": [
      "2024-01-09 11:33:54,870 INFO Request is queued\n",
      "2024-01-09 11:47:26,330 WARNING Connection error: [('Connection aborted.', RemoteDisconnected('Remote end closed connection without response'))]. Attempt 1 of 500.\n",
      "2024-01-09 11:47:26,331 WARNING Retrying in 120 seconds\n",
      "2024-01-09 14:30:26,542 INFO Retrying now...\n",
      "2024-01-09 14:30:26,938 INFO Request is completed\n",
      "2024-01-09 14:30:26,940 INFO Downloading https://download-0015-clone.copernicus-climate.eu/cache-compute-0015/cache/data2/adaptor.mars.internal-1704806443.7115014-726-1-c1ffa04e-9225-4a13-a646-e9b73bc81813.nc to weather-2022-01-11.nc (32.9K)\n",
      "2024-01-09 14:30:27,505 INFO Download rate 58.3K/s                                                                                                                                                                                                \n",
      "2024-01-09 14:30:27,597 INFO Welcome to the CDS\n",
      "2024-01-09 14:30:27,598 INFO Sending request to https://cds.climate.copernicus.eu/api/v2/resources/reanalysis-era5-single-levels\n"
     ]
    },
    {
     "name": "stdout",
     "output_type": "stream",
     "text": [
      "[[[253.99735221 253.65259446 253.60355779 ... 245.11721313 244.32412019\n",
      "   243.78521729]\n",
      "  [254.92404503 254.10042927 253.56352787 ... 247.15223458 246.42368989\n",
      "   245.97685583]\n",
      "  [255.25579306 254.58128878 254.00485782 ... 248.17599998 247.71415469\n",
      "   247.44445305]\n",
      "  ...\n",
      "  [275.2822655  274.04283886 273.30778932 ... 264.41914388 264.11041306\n",
      "   263.56650642]\n",
      "  [275.83517887 274.50668565 273.75512376 ... 265.6125361  266.00783163\n",
      "   265.56149794]\n",
      "  [276.57623291 274.99104777 274.11239086 ... 266.60928129 267.11215726\n",
      "   266.80943093]]]\n",
      "[59.7709, -125.0768, 49.7709, -115.0768]\n"
     ]
    },
    {
     "name": "stderr",
     "output_type": "stream",
     "text": [
      "2024-01-09 14:30:27,741 INFO Request is queued\n",
      "2024-01-09 14:43:58,532 WARNING Connection error: [('Connection aborted.', RemoteDisconnected('Remote end closed connection without response'))]. Attempt 1 of 500.\n",
      "2024-01-09 14:43:58,533 WARNING Retrying in 120 seconds\n",
      "2024-01-09 16:52:52,924 INFO Retrying now...\n",
      "2024-01-09 16:52:53,329 INFO Request is completed\n",
      "2024-01-09 16:52:53,331 INFO Downloading https://download-0021.copernicus-climate.eu/cache-compute-0021/cache/data2/adaptor.mars.internal-1704816861.837506-20252-9-08c80652-621c-4edd-a0f9-9c9b58aeedda.nc to weather-2022-01-11.nc (32.9K)\n",
      "2024-01-09 16:52:53,902 INFO Download rate 57.8K/s                                                                                                                                                                                                \n",
      "2024-01-09 16:52:54,001 INFO Welcome to the CDS\n",
      "2024-01-09 16:52:54,002 INFO Sending request to https://cds.climate.copernicus.eu/api/v2/resources/reanalysis-era5-single-levels\n"
     ]
    },
    {
     "name": "stdout",
     "output_type": "stream",
     "text": [
      "[[[249.76005386 249.84025916 250.5275183  ... 249.22217708 249.1504936\n",
      "   249.10086657]\n",
      "  [248.47877423 248.75297609 249.60666123 ... 250.68592376 250.62025567\n",
      "   250.50145158]\n",
      "  [248.01608992 247.6516571  247.91332689 ... 253.17128541 253.12616993\n",
      "   252.96525805]\n",
      "  ...\n",
      "  [277.98931082 277.1381321  275.76762408 ... 264.10577385 263.44057117\n",
      "   263.35084149]\n",
      "  [278.98937062 279.89769561 278.89863838 ... 264.84867542 264.12331876\n",
      "   263.67015883]\n",
      "  [278.72970597 279.75432864 280.50224304 ... 265.28629557 264.45617074\n",
      "   264.01704674]]]\n",
      "[59.6038, -120.6054, 49.6038, -110.6054]\n"
     ]
    },
    {
     "name": "stderr",
     "output_type": "stream",
     "text": [
      "2024-01-09 16:52:54,180 INFO Request is queued\n",
      "2024-01-09 17:00:45,394 WARNING Connection error: [('Connection aborted.', RemoteDisconnected('Remote end closed connection without response'))]. Attempt 1 of 500.\n",
      "2024-01-09 17:00:45,395 WARNING Retrying in 120 seconds\n",
      "2024-01-09 17:58:57,513 INFO Retrying now...\n",
      "2024-01-09 17:58:57,532 WARNING Connection error: [HTTPSConnectionPool(host='cds.climate.copernicus.eu', port=443): Max retries exceeded with url: /api/v2/tasks/4feb441a-3dae-4a72-953e-62d9be6a7d8b (Caused by NameResolutionError(\"<urllib3.connection.HTTPSConnection object at 0x11d720210>: Failed to resolve 'cds.climate.copernicus.eu' ([Errno 8] nodename nor servname provided, or not known)\"))]. Attempt 2 of 500.\n",
      "2024-01-09 17:58:57,533 WARNING Retrying in 120 seconds\n"
     ]
    },
    {
     "name": "stdout",
     "output_type": "stream",
     "text": [
      "HTTPSConnectionPool(host='cds.climate.copernicus.eu', port=443): Max retries exceeded with url: /api/v2/tasks/c1ffa04e-9225-4a13-a646-e9b73bc81813 (Caused by NameResolutionError(\"<urllib3.connection.HTTPSConnection object at 0x11d720b50>: Failed to resolve 'cds.climate.copernicus.eu' ([Errno 8] nodename nor servname provided, or not known)\"))\n",
      "HTTPSConnectionPool(host='cds.climate.copernicus.eu', port=443): Max retries exceeded with url: /api/v2/tasks/08c80652-621c-4edd-a0f9-9c9b58aeedda (Caused by NameResolutionError(\"<urllib3.connection.HTTPSConnection object at 0x11d721290>: Failed to resolve 'cds.climate.copernicus.eu' ([Errno 8] nodename nor servname provided, or not known)\"))\n"
     ]
    },
    {
     "name": "stderr",
     "output_type": "stream",
     "text": [
      "2024-01-09 18:14:39,242 INFO Retrying now...\n",
      "2024-01-09 18:14:39,490 INFO Request is completed\n",
      "2024-01-09 18:14:39,492 INFO Downloading https://download-0009-clone.copernicus-climate.eu/cache-compute-0009/cache/data8/adaptor.mars.internal-1704823587.1568189-7846-1-4feb441a-3dae-4a72-953e-62d9be6a7d8b.nc to weather-2022-01-12.nc (32.9K)\n",
      "2024-01-09 18:14:39,824 INFO Download rate 99.2K/s                                                                                                                                                                                                \n",
      "2024-01-09 18:14:39,893 INFO Welcome to the CDS\n",
      "2024-01-09 18:14:39,894 INFO Sending request to https://cds.climate.copernicus.eu/api/v2/resources/reanalysis-era5-single-levels\n"
     ]
    },
    {
     "name": "stdout",
     "output_type": "stream",
     "text": [
      "[[[260.63135737 259.29106112 258.86279051 ... 252.11319379 251.57135346\n",
      "   250.98789978]\n",
      "  [260.28457956 258.84285079 257.198257   ... 252.68277636 252.12663143\n",
      "   251.45214858]\n",
      "  [258.48090144 256.57362345 255.03479689 ... 253.31737976 252.74086164\n",
      "   252.06247754]\n",
      "  ...\n",
      "  [276.6772004  276.67069832 275.71099071 ... 276.19301187 275.71099071\n",
      "   275.45654249]\n",
      "  [276.5176826  276.4145162  274.84101186 ... 276.41061495 275.92512601\n",
      "   275.55580764]\n",
      "  [276.29097661 275.9142892  274.35032125 ... 276.43922412 275.44787304\n",
      "   274.99229369]]]\n",
      "[59.6152, -120.6129, 49.6152, -110.6129]\n"
     ]
    },
    {
     "name": "stderr",
     "output_type": "stream",
     "text": [
      "2024-01-09 18:14:40,048 INFO Request is queued\n",
      "2024-01-09 20:12:20,232 INFO Request is completed\n",
      "2024-01-09 20:12:20,237 INFO Downloading https://download-0006-clone.copernicus-climate.eu/cache-compute-0006/cache/data7/adaptor.mars.internal-1704826687.0456245-11646-10-7d8226e4-c8c8-4002-b160-9b9e34d6ef12.nc to weather-2022-01-12.nc (32.9K)\n",
      "2024-01-09 20:12:20,641 INFO Download rate 81.6K/s                                                                                                                                                                                                \n",
      "2024-01-09 20:12:20,772 INFO Welcome to the CDS\n",
      "2024-01-09 20:12:20,773 INFO Sending request to https://cds.climate.copernicus.eu/api/v2/resources/reanalysis-era5-single-levels\n"
     ]
    },
    {
     "name": "stdout",
     "output_type": "stream",
     "text": [
      "[[[260.64802029 259.28736207 258.95022697 ... 252.10625457 251.5674443\n",
      "   250.9957428 ]\n",
      "  [260.39224771 258.96797092 257.33379615 ... 252.66843493 252.12010351\n",
      "   251.44669886]\n",
      "  [258.66026481 256.73829179 255.15431942 ... 253.28947327 252.72945681\n",
      "   252.05345549]\n",
      "  ...\n",
      "  [276.65220008 276.68465853 275.80351981 ... 276.1744117  275.68710217\n",
      "   275.42310677]\n",
      "  [276.50765178 276.48947505 274.9388267  ... 276.43581042 275.94590421\n",
      "   275.57674344]\n",
      "  [276.28087541 275.95845481 274.40910479 ... 276.46740331 275.48585978\n",
      "   275.07039162]]]\n",
      "[59.3254, -122.5002, 49.3254, -112.5002]\n"
     ]
    },
    {
     "name": "stderr",
     "output_type": "stream",
     "text": [
      "2024-01-09 20:12:20,960 INFO Request is queued\n",
      "2024-01-09 20:44:33,528 WARNING Connection error: [('Connection aborted.', RemoteDisconnected('Remote end closed connection without response'))]. Attempt 1 of 500.\n",
      "2024-01-09 20:44:33,530 WARNING Retrying in 120 seconds\n",
      "2024-01-09 21:05:58,324 INFO Retrying now...\n",
      "2024-01-09 21:05:58,668 INFO Request is completed\n",
      "2024-01-09 21:05:58,670 INFO Downloading https://download-0012-clone.copernicus-climate.eu/cache-compute-0012/cache/data2/adaptor.mars.internal-1704831798.2079308-25934-3-17181c77-5664-48a9-8239-397129f5a384.nc to weather-2022-01-13.nc (32.9K)\n",
      "2024-01-09 21:05:59,136 INFO Download rate 70.9K/s                                                                                                                                                                                                \n",
      "2024-01-09 21:05:59,206 INFO Welcome to the CDS\n",
      "2024-01-09 21:05:59,207 INFO Sending request to https://cds.climate.copernicus.eu/api/v2/resources/reanalysis-era5-single-levels\n",
      "2024-01-09 21:05:59,291 INFO Request is queued\n"
     ]
    },
    {
     "name": "stdout",
     "output_type": "stream",
     "text": [
      "[[[259.56299732 260.83390365 261.66891721 ... 253.73153699 253.79599128\n",
      "   253.91415747]\n",
      "  [258.81392281 259.4386336  260.47527339 ... 253.15475375 253.59932307\n",
      "   253.79929662]\n",
      "  [259.24527074 259.43326241 260.7021029  ... 252.89776294 253.50470748\n",
      "   254.30501488]\n",
      "  ...\n",
      "  [275.92694927 275.60839635 275.54187622 ... 279.26287181 278.95423493\n",
      "   278.38778091]\n",
      "  [276.29095073 276.09262984 276.08436647 ... 279.78429047 279.37731949\n",
      "   278.86581687]\n",
      "  [276.99127135 276.82145909 276.28805855 ... 279.52688649 279.48639597\n",
      "   279.04306616]]]\n",
      "[59.8881, -125.1482, 49.8881, -115.1482]\n"
     ]
    },
    {
     "name": "stderr",
     "output_type": "stream",
     "text": [
      "2024-01-09 21:20:18,985 INFO Request is completed\n",
      "2024-01-09 21:20:18,989 INFO Downloading https://download-0019.copernicus-climate.eu/cache-compute-0019/cache/data9/adaptor.mars.internal-1704835114.807747-26515-6-57f44837-6fdb-4b89-93bf-16004c79e461.nc to weather-2022-01-13.nc (32.9K)\n",
      "2024-01-09 21:20:19,321 INFO Download rate 99.4K/s                                                                                                                                                                                                \n",
      "2024-01-09 21:20:19,452 INFO Welcome to the CDS\n",
      "2024-01-09 21:20:19,454 INFO Sending request to https://cds.climate.copernicus.eu/api/v2/resources/reanalysis-era5-single-levels\n",
      "2024-01-09 21:20:19,514 INFO Request is queued\n"
     ]
    },
    {
     "name": "stdout",
     "output_type": "stream",
     "text": [
      "[[[262.66150703 261.22070279 259.64455289 ... 252.32377982 253.45281339\n",
      "   253.61842805]\n",
      "  [261.00103636 261.07281712 259.58401489 ... 256.31626049 256.29031563\n",
      "   256.2803701 ]\n",
      "  [259.09754887 259.34359258 259.29689184 ... 260.79088303 260.76061404\n",
      "   260.17469274]\n",
      "  ...\n",
      "  [277.84703029 277.56250172 276.72491534 ... 272.96204663 271.19217515\n",
      "   270.35631842]\n",
      "  [278.23014931 279.21302687 278.38581843 ... 273.88265654 272.48033717\n",
      "   271.54978172]\n",
      "  [278.45586954 279.64241421 280.32000732 ... 274.64327319 273.28895179\n",
      "   272.5906028 ]]]\n",
      "[59.3504, -122.5005, 49.3504, -112.5005]\n"
     ]
    },
    {
     "name": "stderr",
     "output_type": "stream",
     "text": [
      "2024-01-09 22:00:24,090 INFO Request is completed\n",
      "2024-01-09 22:00:24,094 INFO Downloading https://download-0012-clone.copernicus-climate.eu/cache-compute-0012/cache/data7/adaptor.mars.internal-1704835873.8970623-26940-1-bc1b98ab-8122-4d94-b62d-7791f0bd80b0.nc to weather-2022-01-14.nc (32.9K)\n",
      "2024-01-09 22:00:24,467 INFO Download rate 88.6K/s                                                                                                                                                                                                \n",
      "2024-01-09 22:00:24,677 INFO Welcome to the CDS\n",
      "2024-01-09 22:00:24,679 INFO Sending request to https://cds.climate.copernicus.eu/api/v2/resources/reanalysis-era5-single-levels\n"
     ]
    },
    {
     "name": "stdout",
     "output_type": "stream",
     "text": [
      "[[[262.82648599 264.77156604 266.36094032 ... 268.4547268  268.41713382\n",
      "   268.41951312]\n",
      "  [262.0715332  263.63854204 265.05398929 ... 268.8342256  268.94153216\n",
      "   269.01291124]\n",
      "  [263.20289169 264.49366347 265.9003073  ... 269.63914375 269.83448451\n",
      "   269.05573869]\n",
      "  ...\n",
      "  [274.98710269 274.68635881 274.4795974  ... 276.61525961 276.27335379\n",
      "   275.73372791]\n",
      "  [276.26835726 275.96904096 275.83794138 ... 277.20485085 276.96596884\n",
      "   276.55934599]\n",
      "  [277.66381836 277.30882638 276.38851205 ... 276.97144124 277.03354104\n",
      "   276.73565233]]]\n",
      "[59.2927, -120.424, 49.2927, -110.424]\n"
     ]
    },
    {
     "name": "stderr",
     "output_type": "stream",
     "text": [
      "2024-01-09 22:00:24,761 INFO Request is queued\n",
      "2024-01-09 22:02:33,230 WARNING Connection error: [('Connection aborted.', RemoteDisconnected('Remote end closed connection without response'))]. Attempt 1 of 500.\n",
      "2024-01-09 22:02:33,232 WARNING Retrying in 120 seconds\n",
      "2024-01-10 01:59:27,134 INFO Retrying now...\n",
      "2024-01-10 01:59:27,412 INFO Request is completed\n",
      "2024-01-10 01:59:27,414 INFO Downloading https://download-0015-clone.copernicus-climate.eu/cache-compute-0015/cache/data9/adaptor.mars.internal-1704838057.8394458-10453-5-f14d1a51-6713-4b67-80bb-2651706a4610.nc to weather-2022-01-14.nc (32.9K)\n",
      "2024-01-10 02:14:54,339 WARNING Connection error: [('Connection aborted.', RemoteDisconnected('Remote end closed connection without response'))]. Attempt 1 of 500.\n",
      "2024-01-10 02:14:54,340 WARNING Retrying in 120 seconds\n",
      "2024-01-10 06:14:47,558 INFO Retrying now...\n",
      "2024-01-10 06:14:47,964 INFO Download rate 2.2/s                                                                                                                                                                                                  \n"
     ]
    },
    {
     "name": "stdout",
     "output_type": "stream",
     "text": [
      "[[[265.6216192  264.5999934  264.12065856 ... 266.25986395 264.83553611\n",
      "   263.5501459 ]\n",
      "  [265.07889406 264.13498651 264.07789182 ... 265.82199332 264.63082019\n",
      "   263.47329602]\n",
      "  [266.826469   267.46623338 267.40805325 ... 265.81526352 265.20089867\n",
      "   265.11992408]\n",
      "  ...\n",
      "  [275.02986795 273.72776181 272.73218682 ... 272.06420073 271.84776194\n",
      "   271.52755411]\n",
      "  [274.68013587 273.40994197 272.49317067 ... 272.1957573  271.60136473\n",
      "   270.91470889]\n",
      "  [274.65061163 273.71625603 272.83552169 ... 272.80057019 272.07418687\n",
      "   271.49433933]]]\n",
      "[59.8844, -125.1446, 49.8844, -115.1446]\n"
     ]
    },
    {
     "name": "stderr",
     "output_type": "stream",
     "text": [
      "2024-01-10 06:36:15,899 INFO Sending request to https://cds.climate.copernicus.eu/api/v2/resources/reanalysis-era5-single-levels\n",
      "2024-01-10 06:36:16,251 INFO Request is queued\n",
      "2024-01-10 07:09:00,733 WARNING Connection error: [('Connection aborted.', RemoteDisconnected('Remote end closed connection without response'))]. Attempt 1 of 500.\n",
      "2024-01-10 07:09:00,734 WARNING Retrying in 120 seconds\n",
      "2024-01-10 11:03:09,930 INFO Retrying now...\n",
      "2024-01-10 11:03:10,216 INFO Request is completed\n",
      "2024-01-10 11:03:10,218 INFO Downloading https://download-0002-clone.copernicus-climate.eu/cache-compute-0002/cache/data6/adaptor.mars.internal-1704873054.5668628-26361-7-cae9cd8b-9bc0-4a35-85e7-d5c8e1028241.nc to weather-2022-01-14.nc (32.9K)\n",
      "2024-01-10 11:20:27,846 INFO Download rate 32.5/s                                                                                                                                                                                                 \n"
     ]
    },
    {
     "name": "stdout",
     "output_type": "stream",
     "text": [
      "[[[260.67695404 259.06088656 257.32301988 ... 265.31089385 262.97108659\n",
      "   261.44451182]\n",
      "  [259.61789511 259.4236848  257.7322355  ... 266.73460771 266.2455542\n",
      "   264.88459664]\n",
      "  [258.77049944 258.72593875 258.39544701 ... 266.77768304 266.42379694\n",
      "   266.23330001]\n",
      "  ...\n",
      "  [277.26244067 276.54761303 275.01658219 ... 270.41680557 268.32950886\n",
      "   267.8675631 ]\n",
      "  [278.28882176 278.60520262 277.04075127 ... 270.07777303 269.48140254\n",
      "   269.06513149]\n",
      "  [279.05860758 279.52278137 279.50829915 ... 269.45837952 269.09372459\n",
      "   269.96562865]]]\n",
      "[59.8824, -125.168, 49.8824, -115.168]\n"
     ]
    },
    {
     "name": "stderr",
     "output_type": "stream",
     "text": [
      "2024-01-10 11:43:02,704 INFO Sending request to https://cds.climate.copernicus.eu/api/v2/resources/reanalysis-era5-single-levels\n",
      "2024-01-10 11:43:03,244 INFO Request is queued\n",
      "2024-01-10 12:04:01,969 WARNING Connection error: [('Connection aborted.', RemoteDisconnected('Remote end closed connection without response'))]. Attempt 1 of 500.\n",
      "2024-01-10 12:04:01,973 WARNING Retrying in 120 seconds\n",
      "2024-01-10 12:06:01,977 INFO Retrying now...\n",
      "2024-01-10 14:58:40,415 INFO Request is completed\n",
      "2024-01-10 14:58:40,419 INFO Downloading https://download-0002-clone.copernicus-climate.eu/cache-compute-0002/cache/data5/adaptor.mars.internal-1704898621.3555875-17483-5-30e23bfe-b535-4190-b364-c294e0018051.nc to weather-2022-01-14.nc (32.9K)\n",
      "2024-01-10 14:59:40,509 WARNING Connection error: [HTTPSConnectionPool(host='download-0002-clone.copernicus-climate.eu', port=443): Read timed out. (read timeout=60)]. Attempt 1 of 500.\n",
      "2024-01-10 14:59:40,511 WARNING Retrying in 120 seconds\n",
      "2024-01-10 15:01:40,516 INFO Retrying now...\n",
      "2024-01-10 15:01:40,840 INFO Download rate 186.7/s                                                                                                                                                                                                \n"
     ]
    },
    {
     "name": "stdout",
     "output_type": "stream",
     "text": [
      "[[[260.77787729 259.22336152 257.55857798 ... 265.46147326 263.23272759\n",
      "   261.63031774]\n",
      "  [259.68039733 259.47694028 257.93801794 ... 266.86710897 266.30463192\n",
      "   265.05047519]\n",
      "  [258.77783515 258.80493801 258.45037327 ... 266.77911751 266.46316506\n",
      "   266.24188696]\n",
      "  ...\n",
      "  [277.28908461 276.64826918 275.18360123 ... 270.59319452 268.43944578\n",
      "   267.89441852]\n",
      "  [278.30711236 278.65722184 277.22039929 ... 270.24197123 269.54323737\n",
      "   269.07988994]\n",
      "  [278.94867034 279.56089783 279.4818169  ... 269.3520323  269.14189236\n",
      "   269.94235474]]]\n",
      "[59.8952, -125.1472, 49.8952, -115.1472]\n"
     ]
    },
    {
     "name": "stderr",
     "output_type": "stream",
     "text": [
      "2024-01-10 15:01:41,082 INFO Welcome to the CDS\n",
      "2024-01-10 15:01:41,087 INFO Sending request to https://cds.climate.copernicus.eu/api/v2/resources/reanalysis-era5-single-levels\n",
      "2024-01-10 15:01:41,230 INFO Request is queued\n",
      "2024-01-10 17:32:18,386 INFO Request is completed\n",
      "2024-01-10 17:32:18,403 INFO Downloading https://download-0012-clone.copernicus-climate.eu/cache-compute-0012/cache/data7/adaptor.mars.internal-1704907917.860623-6796-1-db30773f-35d8-4a88-8db3-8195f5802901.nc to weather-2022-01-14.nc (32.9K)\n",
      "2024-01-10 17:33:01,368 WARNING Connection error: [('Connection aborted.', RemoteDisconnected('Remote end closed connection without response'))]. Attempt 1 of 500.\n",
      "2024-01-10 17:33:01,370 WARNING Retrying in 120 seconds\n",
      "2024-01-10 17:35:01,380 INFO Retrying now...\n",
      "2024-01-10 17:35:01,738 INFO Download rate 206.2/s                                                                                                                                                                                                \n"
     ]
    },
    {
     "name": "stdout",
     "output_type": "stream",
     "text": [
      "[[[260.63589274 258.99505354 257.25170832 ... 265.21672359 262.85128564\n",
      "   261.26095666]\n",
      "  [259.78687545 259.5261536  257.82960461 ... 266.74168641 266.19350202\n",
      "   264.81301327]\n",
      "  [258.705734   258.68939246 258.32839298 ... 266.83416468 266.47910757\n",
      "   266.26815315]\n",
      "  ...\n",
      "  [277.19841517 276.47121663 274.9767085  ... 270.41816157 268.2763056\n",
      "   267.78680219]\n",
      "  [278.27101445 278.53656448 276.93509353 ... 270.14964035 269.47146643\n",
      "   269.04992897]\n",
      "  [279.04835181 279.52597046 279.49551577 ... 269.55540252 269.15540619\n",
      "   269.91565921]]]\n"
     ]
    },
    {
     "name": "stderr",
     "output_type": "stream",
     "text": [
      "2024-01-10 17:35:02,184 INFO Welcome to the CDS\n",
      "2024-01-10 17:35:02,186 INFO Sending request to https://cds.climate.copernicus.eu/api/v2/resources/reanalysis-era5-single-levels\n"
     ]
    },
    {
     "name": "stdout",
     "output_type": "stream",
     "text": [
      "[59.8931, -125.1704, 49.8931, -115.1704]\n"
     ]
    },
    {
     "name": "stderr",
     "output_type": "stream",
     "text": [
      "2024-01-10 17:35:02,353 INFO Request is queued\n",
      "2024-01-10 18:55:31,076 INFO Request is completed\n",
      "2024-01-10 18:55:31,080 INFO Downloading https://download-0011-clone.copernicus-climate.eu/cache-compute-0011/cache/data7/adaptor.mars.internal-1704912875.1241734-6142-7-c9692370-8e7d-4995-aa36-dc286dcd36a8.nc to weather-2022-01-14.nc (32.9K)\n",
      "2024-01-10 18:55:31,451 INFO Download rate 89K/s                                                                                                                                                                                                  \n",
      "2024-01-10 18:55:31,590 INFO Welcome to the CDS\n",
      "2024-01-10 18:55:31,591 INFO Sending request to https://cds.climate.copernicus.eu/api/v2/resources/reanalysis-era5-single-levels\n"
     ]
    },
    {
     "name": "stdout",
     "output_type": "stream",
     "text": [
      "[[[260.73623644 259.15767421 257.48553454 ... 265.36757688 263.11206359\n",
      "   261.44697936]\n",
      "  [259.84687946 259.57728732 258.03288827 ... 266.87335666 266.25284914\n",
      "   264.97841357]\n",
      "  [258.71355272 258.76888224 258.38343232 ... 266.8347374  266.51798521\n",
      "   266.27661484]\n",
      "  ...\n",
      "  [277.22554626 276.57198956 275.14270562 ... 270.59305977 268.38619189\n",
      "   267.81432978]\n",
      "  [278.2894326  278.58798918 277.11488723 ... 270.31195612 269.53288683\n",
      "   269.06462831]\n",
      "  [278.93964725 279.5642395  279.46954805 ... 269.44896421 269.2035091\n",
      "   269.89271435]]]\n",
      "[59.6463, -120.6172, 49.6463, -110.6172]\n"
     ]
    },
    {
     "name": "stderr",
     "output_type": "stream",
     "text": [
      "2024-01-10 18:55:31,816 INFO Request is queued\n",
      "2024-01-10 19:43:56,178 INFO Request is completed\n",
      "2024-01-10 19:43:56,183 INFO Downloading https://download-0018.copernicus-climate.eu/cache-compute-0018/cache/data7/adaptor.mars.internal-1704915794.217699-1091-5-5d9e284d-0550-41db-9c7b-126d2ce00d85.nc to weather-2022-01-15.nc (32.9K)\n",
      "2024-01-10 19:43:56,507 INFO Download rate 101.8K/s                                                                                                                                                                                               \n",
      "2024-01-10 19:43:56,661 INFO Welcome to the CDS\n",
      "2024-01-10 19:43:56,663 INFO Sending request to https://cds.climate.copernicus.eu/api/v2/resources/reanalysis-era5-single-levels\n",
      "2024-01-10 19:43:56,764 INFO Request is queued\n"
     ]
    },
    {
     "name": "stdout",
     "output_type": "stream",
     "text": [
      "[[[263.48887764 263.6019812  263.72893417 ... 262.67868683 262.80823657\n",
      "   262.93461248]\n",
      "  [263.50445823 263.62592914 263.66343798 ... 263.74307212 263.8671398\n",
      "   263.77683007]\n",
      "  [264.12450811 263.95312159 263.94042629 ... 265.02096923 264.32474757\n",
      "   264.2076046 ]\n",
      "  ...\n",
      "  [273.34677622 273.49652303 272.86954844 ... 276.96984104 276.40865118\n",
      "   276.04827784]\n",
      "  [273.61568571 273.74754368 272.50340452 ... 276.98571016 276.41557589\n",
      "   276.0214446 ]\n",
      "  [273.85458813 273.43448919 272.15774619 ... 276.46635708 275.33878383\n",
      "   274.93397695]]]\n",
      "[61.3108, -127.1057, 51.3108, -117.1057]\n"
     ]
    },
    {
     "name": "stderr",
     "output_type": "stream",
     "text": [
      "2024-01-10 20:18:19,392 INFO Request is completed\n",
      "2024-01-10 20:18:19,396 INFO Downloading https://download-0002-clone.copernicus-climate.eu/cache-compute-0002/cache/data9/adaptor.mars.internal-1704917846.9220703-30574-4-32a91639-7a75-4625-8d18-9587969938ec.nc to weather-2022-01-15.nc (32.9K)\n",
      "2024-01-10 20:18:19,736 INFO Download rate 97.2K/s                                                                                                                                                                                                \n",
      "2024-01-10 20:18:19,875 INFO Welcome to the CDS\n",
      "2024-01-10 20:18:19,876 INFO Sending request to https://cds.climate.copernicus.eu/api/v2/resources/reanalysis-era5-single-levels\n"
     ]
    },
    {
     "name": "stdout",
     "output_type": "stream",
     "text": [
      "[[[260.933207   260.30281371 259.79000105 ... 253.87067772 253.89888242\n",
      "   254.16005058]\n",
      "  [262.97163734 262.36139027 261.64345254 ... 254.49118105 254.57762661\n",
      "   254.801799  ]\n",
      "  [264.18810224 263.54928417 262.41010747 ... 255.51570749 255.4658914\n",
      "   255.42962822]\n",
      "  ...\n",
      "  [273.19968593 272.80408759 272.21911486 ... 270.94917092 270.10632668\n",
      "   268.73931463]\n",
      "  [273.84143435 272.95976286 272.30189747 ... 271.23378195 270.73195813\n",
      "   269.63710309]\n",
      "  [274.93995234 273.71176601 272.69712952 ... 270.35064528 270.07775569\n",
      "   270.03416661]]]\n",
      "[61.3032, -127.075, 51.3032, -117.075]\n"
     ]
    },
    {
     "name": "stderr",
     "output_type": "stream",
     "text": [
      "2024-01-10 20:18:20,055 INFO Request is queued\n",
      "2024-01-10 20:42:41,248 INFO Request is completed\n",
      "2024-01-10 20:42:41,259 INFO Downloading https://download-0013-clone.copernicus-climate.eu/cache-compute-0013/cache/data5/adaptor.mars.internal-1704919313.4719005-14345-1-d5f14ca5-f910-4a34-92d4-76592991b24e.nc to weather-2022-01-15.nc (32.9K)\n",
      "2024-01-10 20:42:41,576 INFO Download rate 103.8K/s                                                                                                                                                                                               \n",
      "2024-01-10 20:42:41,718 INFO Welcome to the CDS\n",
      "2024-01-10 20:42:41,719 INFO Sending request to https://cds.climate.copernicus.eu/api/v2/resources/reanalysis-era5-single-levels\n",
      "2024-01-10 20:42:41,818 INFO Request is queued\n"
     ]
    },
    {
     "name": "stdout",
     "output_type": "stream",
     "text": [
      "[[[260.92210985 260.29308375 259.78582829 ... 253.87445002 253.94083703\n",
      "   254.22142302]\n",
      "  [262.97057096 262.3477801  261.56287289 ... 254.50604358 254.62047865\n",
      "   254.84421388]\n",
      "  [264.14793178 263.48479522 262.25791923 ... 255.52092127 255.47837489\n",
      "   255.45526781]\n",
      "  ...\n",
      "  [273.10724413 272.81528799 272.1088715  ... 271.04777965 270.01052844\n",
      "   268.63914149]\n",
      "  [273.66291442 272.9220207  272.17672563 ... 271.32359751 270.56509839\n",
      "   269.5993691 ]\n",
      "  [274.75811672 273.57121965 272.60585714 ... 270.25553686 270.08535137\n",
      "   270.01492979]]]\n",
      "[59.6365, -120.6183, 49.6365, -110.6183]\n"
     ]
    },
    {
     "name": "stderr",
     "output_type": "stream",
     "text": [
      "2024-01-10 20:59:01,934 INFO Request is completed\n",
      "2024-01-10 20:59:01,938 INFO Downloading https://download-0021.copernicus-climate.eu/cache-compute-0021/cache/data6/adaptor.mars.internal-1704920315.8735938-22165-6-03dac96c-1e59-40f7-8595-828efa7d4a8d.nc to weather-2022-01-15.nc (32.9K)\n",
      "2024-01-10 20:59:02,282 INFO Download rate 96K/s                                                                                                                                                                                                  \n",
      "2024-01-10 20:59:02,407 INFO Welcome to the CDS\n",
      "2024-01-10 20:59:02,409 INFO Sending request to https://cds.climate.copernicus.eu/api/v2/resources/reanalysis-era5-single-levels\n",
      "2024-01-10 20:59:02,527 INFO Request is queued\n"
     ]
    },
    {
     "name": "stdout",
     "output_type": "stream",
     "text": [
      "[[[263.4811334  263.5965232  263.72396865 ... 262.72047924 262.84648949\n",
      "   262.97336087]\n",
      "  [263.51586515 263.63642166 263.65393106 ... 263.78625618 263.91025716\n",
      "   263.80548781]\n",
      "  [264.15653689 263.97283173 263.96077608 ... 265.07391451 264.32101041\n",
      "   264.20332429]\n",
      "  ...\n",
      "  [273.37078567 273.51401828 272.88855963 ... 276.99695322 276.43234691\n",
      "   276.07096442]\n",
      "  [273.61390796 273.75168683 272.49244539 ... 276.95619364 276.3855595\n",
      "   275.98714894]\n",
      "  [273.85272466 273.43249912 272.15747052 ... 276.44555072 275.2850508\n",
      "   274.87917722]]]\n",
      "[59.6454, -120.6227, 49.6454, -110.6227]\n"
     ]
    },
    {
     "name": "stderr",
     "output_type": "stream",
     "text": [
      "2024-01-10 21:15:22,754 INFO Request is completed\n",
      "2024-01-10 21:15:22,759 INFO Downloading https://download-0015-clone.copernicus-climate.eu/cache-compute-0015/cache/data2/adaptor.mars.internal-1704921260.4830046-17344-10-1520fdbb-f938-43ab-bfbf-84d92de1bda9.nc to weather-2022-01-15.nc (32.9K)\n",
      "2024-01-10 21:16:04,225 WARNING Connection error: [('Connection aborted.', RemoteDisconnected('Remote end closed connection without response'))]. Attempt 1 of 500.\n",
      "2024-01-10 21:16:04,226 WARNING Retrying in 120 seconds\n",
      "2024-01-10 21:18:04,236 INFO Retrying now...\n",
      "2024-01-10 21:18:04,622 INFO Download rate 208.1/s                                                                                                                                                                                                \n"
     ]
    },
    {
     "name": "stdout",
     "output_type": "stream",
     "text": [
      "[[[263.48889013 263.59760676 263.7265095  ... 262.67827357 262.80861817\n",
      "   262.9355023 ]\n",
      "  [263.50532739 263.62211847 263.65672323 ... 263.74410026 263.8686774\n",
      "   263.77870502]\n",
      "  [264.13282709 263.95259395 263.94538462 ... 265.02534159 264.32805562\n",
      "   264.20838082]\n",
      "  ...\n",
      "  [273.32471715 273.50783402 272.8881204  ... 276.98590103 276.42097828\n",
      "   276.05676316]\n",
      "  [273.59809477 273.75785343 272.53601694 ... 276.99714758 276.42386201\n",
      "   276.02331188]\n",
      "  [273.84724906 273.45506176 272.19141118 ... 276.48874594 275.34477017\n",
      "   274.93556885]]]\n",
      "[61.2987, -127.0721, 51.2987, -117.0721]\n"
     ]
    },
    {
     "name": "stderr",
     "output_type": "stream",
     "text": [
      "2024-01-10 21:18:04,897 INFO Welcome to the CDS\n",
      "2024-01-10 21:18:04,898 INFO Sending request to https://cds.climate.copernicus.eu/api/v2/resources/reanalysis-era5-single-levels\n",
      "2024-01-10 21:18:04,997 INFO Request is queued\n",
      "2024-01-10 21:38:25,640 INFO Request is completed\n",
      "2024-01-10 21:38:25,644 INFO Downloading https://download-0013-clone.copernicus-climate.eu/cache-compute-0013/cache/data8/adaptor.mars.internal-1704922589.6872833-10929-3-2d5009f8-d520-4602-8ea1-4d7da3ee201d.nc to weather-2022-01-15.nc (32.9K)\n",
      "2024-01-10 21:38:25,979 INFO Download rate 98.2K/s                                                                                                                                                                                                \n",
      "2024-01-10 21:38:26,114 INFO Welcome to the CDS\n",
      "2024-01-10 21:38:26,115 INFO Sending request to https://cds.climate.copernicus.eu/api/v2/resources/reanalysis-era5-single-levels\n",
      "2024-01-10 21:38:26,200 INFO Request is queued\n"
     ]
    },
    {
     "name": "stdout",
     "output_type": "stream",
     "text": [
      "[[[260.93964143 260.32107369 259.81360613 ... 253.88386245 253.95536258\n",
      "   254.23806307]\n",
      "  [263.00397837 262.37991061 261.57874255 ... 254.51783023 254.63443043\n",
      "   254.85663082]\n",
      "  [264.15751371 263.49091255 262.25597706 ... 255.54119868 255.49206526\n",
      "   255.47006522]\n",
      "  ...\n",
      "  [273.10272932 272.82296217 272.10466091 ... 271.07395911 270.03629064\n",
      "   268.66385491]\n",
      "  [273.65163028 272.92416234 272.16479435 ... 271.33355957 270.5514582\n",
      "   269.60948989]\n",
      "  [274.76483222 273.56363013 272.60332845 ... 270.245291   270.08505739\n",
      "   270.01172393]]]\n",
      "[61.304, -127.1014, 51.304, -117.1014]\n"
     ]
    },
    {
     "name": "stderr",
     "output_type": "stream",
     "text": [
      "2024-01-10 22:00:46,974 INFO Request is completed\n",
      "2024-01-10 22:00:46,979 INFO Downloading https://download-0005-clone.copernicus-climate.eu/cache-compute-0005/cache/data9/adaptor.mars.internal-1704923967.808516-28773-5-21f92161-7260-4018-aa8f-e1da36b26a27.nc to weather-2022-01-15.nc (32.9K)\n",
      "2024-01-10 22:00:48,750 INFO Download rate 18.6K/s                                                                                                                                                                                                \n",
      "2024-01-10 22:00:48,960 INFO Welcome to the CDS\n",
      "2024-01-10 22:00:48,962 INFO Sending request to https://cds.climate.copernicus.eu/api/v2/resources/reanalysis-era5-single-levels\n"
     ]
    },
    {
     "name": "stdout",
     "output_type": "stream",
     "text": [
      "[[[260.96019226 260.34437272 259.8321661  ... 253.88595614 253.92110398\n",
      "   254.18471282]\n",
      "  [263.02256531 262.40967476 261.66754265 ... 254.50873202 254.5991645\n",
      "   254.82030303]\n",
      "  [264.202581   263.5593022  262.4071119  ... 255.54705795 255.48591535\n",
      "   255.45186587]\n",
      "  ...\n",
      "  [273.19310694 272.81599985 272.21336075 ... 270.98831189 270.14549585\n",
      "   268.77729275]\n",
      "  [273.82466979 272.96281533 272.28365644 ... 271.24899175 270.71115649\n",
      "   269.65342602]\n",
      "  [274.95086533 273.70128621 272.69408076 ... 270.33514777 270.07666465\n",
      "   270.02980086]]]\n",
      "[61.3071, -127.0824, 51.3071, -117.0824]\n"
     ]
    },
    {
     "name": "stderr",
     "output_type": "stream",
     "text": [
      "2024-01-10 22:00:49,063 INFO Request is queued\n",
      "2024-01-10 22:19:09,425 INFO Request is completed\n",
      "2024-01-10 22:19:09,429 INFO Downloading https://download-0021.copernicus-climate.eu/cache-compute-0021/cache/data9/adaptor.mars.internal-1704925082.511377-23388-1-96f9c80d-117e-4ae6-8f8f-2917dfa30fde.nc to weather-2022-01-16.nc (32.9K)\n",
      "2024-01-10 22:19:09,772 INFO Download rate 96.2K/s                                                                                                                                                                                                \n",
      "2024-01-10 22:19:09,899 INFO Welcome to the CDS\n",
      "2024-01-10 22:19:09,901 INFO Sending request to https://cds.climate.copernicus.eu/api/v2/resources/reanalysis-era5-single-levels\n",
      "2024-01-10 22:19:10,020 INFO Request is queued\n"
     ]
    },
    {
     "name": "stdout",
     "output_type": "stream",
     "text": [
      "[[[262.18858334 261.60882814 261.04499107 ... 250.7384181  250.70700073\n",
      "   250.97593342]\n",
      "  [263.20692503 262.89735921 262.34148121 ... 251.26078424 251.33534813\n",
      "   251.56490438]\n",
      "  [263.98104903 263.75819515 263.2391802  ... 251.81959453 251.74461174\n",
      "   251.74293615]\n",
      "  ...\n",
      "  [274.80328577 274.56828384 274.24782666 ... 270.06973535 269.22565534\n",
      "   268.1218584 ]\n",
      "  [275.26993844 274.53560977 274.18457303 ... 270.93015239 270.80448291\n",
      "   270.18618906]\n",
      "  [276.32221088 275.28501877 274.38648199 ... 270.20755288 270.59754716\n",
      "   271.02189111]]]\n",
      "[54.376, -119.1811, 44.376, -109.1811]\n"
     ]
    },
    {
     "name": "stderr",
     "output_type": "stream",
     "text": [
      "2024-01-10 22:39:30,513 INFO Request is completed\n",
      "2024-01-10 22:39:30,515 INFO Downloading https://download-0011-clone.copernicus-climate.eu/cache-compute-0011/cache/data0/adaptor.mars.internal-1704926328.4669285-13326-4-9333f1c7-3c91-46cc-bbd4-928514ee38d8.nc to weather-2022-01-18.nc (32.9K)\n",
      "2024-01-10 22:39:31,185 INFO Download rate 49.2K/s                                                                                                                                                                                                \n",
      "2024-01-10 22:39:31,344 INFO Welcome to the CDS\n",
      "2024-01-10 22:39:31,345 INFO Sending request to https://cds.climate.copernicus.eu/api/v2/resources/reanalysis-era5-single-levels\n"
     ]
    },
    {
     "name": "stdout",
     "output_type": "stream",
     "text": [
      "[[[253.84524594 253.51792397 253.41978043 ... 248.50252381 248.38528207\n",
      "   248.27016234]\n",
      "  [255.67920388 255.03463955 254.7280073  ... 248.62241808 248.75345297\n",
      "   248.76936814]\n",
      "  [258.05639957 257.40122513 256.3890204  ... 248.5492083  248.6531874\n",
      "   248.59430128]\n",
      "  ...\n",
      "  [276.11481099 274.85432963 273.56042641 ... 266.72220893 267.95298197\n",
      "   267.81292849]\n",
      "  [276.10101784 274.6824458  273.37634096 ... 267.7009918  269.59330536\n",
      "   269.65802705]\n",
      "  [275.06122682 273.88350433 273.35512073 ... 266.64687713 268.49940277\n",
      "   270.31691503]]]\n",
      "[59.4232, -122.5004, 49.4232, -112.5004]\n"
     ]
    },
    {
     "name": "stderr",
     "output_type": "stream",
     "text": [
      "2024-01-10 22:39:31,518 INFO Request is queued\n",
      "2024-01-10 22:59:51,963 INFO Request is completed\n",
      "2024-01-10 22:59:51,973 INFO Downloading https://download-0000-clone.copernicus-climate.eu/cache-compute-0000/cache/data0/adaptor.mars.internal-1704927493.3575401-28883-13-325af1cf-beb3-4524-b04e-590fce547405.nc to weather-2022-01-20.nc (32.9K)\n",
      "2024-01-10 22:59:52,318 INFO Download rate 95.5K/s                                                                                                                                                                                                \n",
      "2024-01-10 22:59:52,465 INFO Welcome to the CDS\n",
      "2024-01-10 22:59:52,465 INFO Sending request to https://cds.climate.copernicus.eu/api/v2/resources/reanalysis-era5-single-levels\n",
      "2024-01-10 22:59:52,594 INFO Request is queued\n"
     ]
    },
    {
     "name": "stdout",
     "output_type": "stream",
     "text": [
      "[[[254.52831754 255.31155869 256.14005937 ... 255.41967866 254.97378856\n",
      "   254.27645669]\n",
      "  [253.92862889 255.03622994 256.34079372 ... 255.74110507 254.65739099\n",
      "   253.40353463]\n",
      "  [253.07707938 254.29321947 255.87143573 ... 255.95902128 253.99861351\n",
      "   251.98414576]\n",
      "  ...\n",
      "  [274.24177241 274.01170317 273.56790843 ... 273.52222984 272.85842353\n",
      "   272.56256036]\n",
      "  [274.69646296 274.53931185 274.48106117 ... 274.37126492 274.11856593\n",
      "   273.78875813]\n",
      "  [275.79400635 275.74204171 275.37745113 ... 274.4102384  274.15292964\n",
      "   273.70745862]]]\n",
      "[59.6481, -120.5913, 49.6481, -110.5913]\n"
     ]
    },
    {
     "name": "stderr",
     "output_type": "stream",
     "text": [
      "2024-01-10 23:20:13,150 INFO Request is completed\n",
      "2024-01-10 23:20:13,154 INFO Downloading https://download-0019.copernicus-climate.eu/cache-compute-0019/cache/data1/adaptor.mars.internal-1704928758.6746702-25661-3-16eaa2d7-a84a-4168-ae96-e99e5c3fb8e4.nc to weather-2022-01-22.nc (32.9K)\n",
      "2024-01-10 23:20:13,483 INFO Download rate 100.5K/s                                                                                                                                                                                               \n",
      "2024-01-10 23:20:13,625 INFO Welcome to the CDS\n",
      "2024-01-10 23:20:13,626 INFO Sending request to https://cds.climate.copernicus.eu/api/v2/resources/reanalysis-era5-single-levels\n",
      "2024-01-10 23:20:13,722 INFO Request is queued\n"
     ]
    },
    {
     "name": "stdout",
     "output_type": "stream",
     "text": [
      "[[[257.6612654  257.20481462 256.88463581 ... 242.25891575 242.35900932\n",
      "   242.33850822]\n",
      "  [257.99229774 257.51655181 257.20119678 ... 241.55464295 241.76146279\n",
      "   242.8582712 ]\n",
      "  [258.12073105 257.74326977 257.48157936 ... 243.10307835 243.92734284\n",
      "   244.98254609]\n",
      "  ...\n",
      "  [267.85754369 267.61213356 267.58499976 ... 276.42639707 276.31725891\n",
      "   276.19545831]\n",
      "  [268.64442383 268.39841073 268.60703949 ... 276.73934021 276.58980284\n",
      "   276.10561529]\n",
      "  [269.07494676 268.38876316 268.59558299 ... 277.02514955 276.4257941\n",
      "   275.81799703]]]\n",
      "[59.6364, -120.5783, 49.6364, -110.5783]\n"
     ]
    },
    {
     "name": "stderr",
     "output_type": "stream",
     "text": [
      "2024-01-10 23:36:33,734 INFO Request is completed\n",
      "2024-01-10 23:36:33,738 INFO Downloading https://download-0005-clone.copernicus-climate.eu/cache-compute-0005/cache/data3/adaptor.mars.internal-1704929766.2652652-31377-5-762a8a6a-a3ce-490c-8ba1-9c76d632dd1a.nc to weather-2022-01-22.nc (32.9K)\n",
      "2024-01-10 23:36:34,082 INFO Download rate 96.1K/s                                                                                                                                                                                                \n",
      "2024-01-10 23:36:34,214 INFO Welcome to the CDS\n",
      "2024-01-10 23:36:34,215 INFO Sending request to https://cds.climate.copernicus.eu/api/v2/resources/reanalysis-era5-single-levels\n",
      "2024-01-10 23:36:34,290 INFO Request is queued\n"
     ]
    },
    {
     "name": "stdout",
     "output_type": "stream",
     "text": [
      "[[[257.66297405 257.21268571 256.87677542 ... 242.12200626 242.27912559\n",
      "   242.39711559]\n",
      "  [257.95855103 257.49501891 257.18800413 ... 241.60489705 241.88963821\n",
      "   243.00933918]\n",
      "  [258.11205842 257.75146655 257.47033733 ... 243.24592116 244.09231877\n",
      "   245.14519887]\n",
      "  ...\n",
      "  [267.87874038 267.66864595 267.66744197 ... 276.45288061 276.33489061\n",
      "   276.18800511]\n",
      "  [268.61677983 268.40909336 268.63423753 ... 276.73400983 276.57388055\n",
      "   276.06098527]\n",
      "  [268.96171996 268.37598392 268.52587937 ... 276.99587538 276.40110949\n",
      "   275.72928891]]]\n",
      "[59.634, -120.5935, 49.634, -110.5935]\n"
     ]
    },
    {
     "name": "stderr",
     "output_type": "stream",
     "text": [
      "2024-01-10 23:54:54,509 INFO Request is completed\n",
      "2024-01-10 23:54:54,513 INFO Downloading https://download-0014-clone.copernicus-climate.eu/cache-compute-0014/cache/data0/adaptor.mars.internal-1704930843.4343927-29467-8-8a97e475-a3a5-40b8-8bf4-6d56a9bdfc4f.nc to weather-2022-01-22.nc (32.9K)\n",
      "2024-01-10 23:54:54,843 INFO Download rate 100K/s                                                                                                                                                                                                 \n",
      "2024-01-10 23:54:54,980 INFO Welcome to the CDS\n",
      "2024-01-10 23:54:54,982 INFO Sending request to https://cds.climate.copernicus.eu/api/v2/resources/reanalysis-era5-single-levels\n"
     ]
    },
    {
     "name": "stdout",
     "output_type": "stream",
     "text": [
      "[[[257.70069749 257.2389341  256.9085864  ... 242.1315551  242.24970865\n",
      "   242.30999108]\n",
      "  [257.99065596 257.51743891 257.21964372 ... 241.65291263 241.85787288\n",
      "   242.94114809]\n",
      "  [258.15100722 257.78087312 257.50236831 ... 243.23291504 244.0690323\n",
      "   245.10830134]\n",
      "  ...\n",
      "  [267.93122816 267.68045326 267.66779395 ... 276.45938309 276.34122953\n",
      "   276.21041667]\n",
      "  [268.66064552 268.40866498 268.62387324 ... 276.73427096 276.58657901\n",
      "   276.07658968]\n",
      "  [269.07478579 268.37068705 268.53947784 ... 277.04291698 276.41296562\n",
      "   275.7938651 ]]]\n",
      "[59.6437, -120.5871, 49.6437, -110.5871]\n"
     ]
    },
    {
     "name": "stderr",
     "output_type": "stream",
     "text": [
      "2024-01-10 23:54:55,131 INFO Request is queued\n",
      "2024-01-11 00:13:15,370 INFO Request is completed\n",
      "2024-01-11 00:13:15,375 INFO Downloading https://download-0006-clone.copernicus-climate.eu/cache-compute-0006/cache/data7/adaptor.mars.internal-1704931945.4598866-15904-6-6f487536-a755-4e8e-a4ef-83c1c408d8f5.nc to weather-2022-01-22.nc (32.9K)\n",
      "2024-01-11 00:13:15,724 INFO Download rate 95K/s                                                                                                                                                                                                  \n",
      "2024-01-11 00:13:15,855 INFO Welcome to the CDS\n",
      "2024-01-11 00:13:15,856 INFO Sending request to https://cds.climate.copernicus.eu/api/v2/resources/reanalysis-era5-single-levels\n",
      "2024-01-11 00:13:15,979 INFO Request is queued\n"
     ]
    },
    {
     "name": "stdout",
     "output_type": "stream",
     "text": [
      "[[[257.66302088 257.20922886 256.88319768 ... 242.20938369 242.32810485\n",
      "   242.35642918]\n",
      "  [257.98182033 257.50994894 257.19717595 ... 241.57419539 241.80681653\n",
      "   242.91146564]\n",
      "  [258.11922349 257.74739125 257.47861138 ... 243.15553704 243.98718776\n",
      "   245.04000936]\n",
      "  ...\n",
      "  [267.86761623 267.6337898  267.61510779 ... 276.43663184 276.32453979\n",
      "   276.19376573]\n",
      "  [268.63598918 268.40276539 268.61730717 ... 276.73735192 276.58427998\n",
      "   276.09011071]\n",
      "  [269.03735105 268.38287809 268.57030082 ... 277.01697941 276.41734719\n",
      "   275.78818534]]]\n",
      "[59.6413, -120.6023, 49.6413, -110.6023]\n"
     ]
    },
    {
     "name": "stderr",
     "output_type": "stream",
     "text": [
      "2024-01-11 00:29:40,115 INFO Request is completed\n",
      "2024-01-11 00:29:40,119 INFO Downloading https://download-0005-clone.copernicus-climate.eu/cache-compute-0005/cache/data7/adaptor.mars.internal-1704932953.5046568-9440-7-cde349c6-5c39-4512-99b3-20b667d771bc.nc to weather-2022-01-22.nc (32.9K)\n",
      "2024-01-11 00:29:40,450 INFO Download rate 99.8K/s                                                                                                                                                                                                \n",
      "2024-01-11 00:29:40,584 INFO Welcome to the CDS\n",
      "2024-01-11 00:29:40,585 INFO Sending request to https://cds.climate.copernicus.eu/api/v2/resources/reanalysis-era5-single-levels\n",
      "2024-01-11 00:29:40,703 INFO Request is queued\n"
     ]
    },
    {
     "name": "stdout",
     "output_type": "stream",
     "text": [
      "[[[257.70145998 257.23557346 256.91633257 ... 242.21857838 242.29884122\n",
      "   242.27047766]\n",
      "  [258.01285564 257.5324856  257.22893518 ... 241.62294367 241.77622758\n",
      "   242.84318013]\n",
      "  [258.1582943  257.7762915  257.51076032 ... 243.14190271 243.9638424\n",
      "   245.00424183]\n",
      "  ...\n",
      "  [267.92078945 267.64439564 267.6154286  ... 276.44373679 276.33088604\n",
      "   276.21622485]\n",
      "  [268.67996723 268.40236645 268.60634268 ... 276.738235   276.5970207\n",
      "   276.10458106]\n",
      "  [269.15128507 268.37883074 268.58341044 ... 277.0635107  276.42804631\n",
      "   275.85292992]]]\n",
      "[58.0929, -121.0083, 48.0929, -111.0083]\n"
     ]
    },
    {
     "name": "stderr",
     "output_type": "stream",
     "text": [
      "2024-01-11 00:54:01,775 INFO Request is completed\n",
      "2024-01-11 00:54:01,779 INFO Downloading https://download-0004-clone.copernicus-climate.eu/cache-compute-0004/cache/data9/adaptor.mars.internal-1704934355.987412-6541-18-258f454b-5249-45a0-be2e-d7937800f36e.nc to weather-2022-01-23.nc (32.9K)\n",
      "2024-01-11 00:54:02,131 INFO Download rate 93.7K/s                                                                                                                                                                                                \n",
      "2024-01-11 00:54:02,265 INFO Welcome to the CDS\n",
      "2024-01-11 00:54:02,267 INFO Sending request to https://cds.climate.copernicus.eu/api/v2/resources/reanalysis-era5-single-levels\n",
      "2024-01-11 00:54:02,377 INFO Request is queued\n"
     ]
    },
    {
     "name": "stdout",
     "output_type": "stream",
     "text": [
      "[[[272.13122956 271.92753926 271.72152991 ... 257.16057217 257.08636242\n",
      "   256.99707882]\n",
      "  [274.54807103 273.96753435 273.40323105 ... 259.41198774 259.12403846\n",
      "   258.80130335]\n",
      "  [274.8518672  274.3173251  273.79824336 ... 261.10489765 260.53170464\n",
      "   260.00682527]\n",
      "  ...\n",
      "  [271.74201489 270.96242601 269.21463181 ... 276.78016115 276.21044672\n",
      "   276.72141176]\n",
      "  [270.3212074  269.79207643 268.52084796 ... 277.69464171 277.02134283\n",
      "   276.88992974]\n",
      "  [271.57117786 270.91217983 269.40672684 ... 277.54776824 277.07815967\n",
      "   276.81224141]]]\n",
      "[59.9318, -123.9835, 49.9318, -113.9835]\n"
     ]
    },
    {
     "name": "stderr",
     "output_type": "stream",
     "text": [
      "2024-01-11 01:14:22,918 INFO Request is completed\n",
      "2024-01-11 01:14:22,923 INFO Downloading https://download-0010-clone.copernicus-climate.eu/cache-compute-0010/cache/data4/adaptor.mars.internal-1704935600.847471-25158-1-fc6176df-2668-4171-b80b-7935c6e2897a.nc to weather-2022-01-24.nc (32.9K)\n",
      "2024-01-11 01:14:23,278 INFO Download rate 92.8K/s                                                                                                                                                                                                \n",
      "2024-01-11 01:14:23,409 INFO Welcome to the CDS\n",
      "2024-01-11 01:14:23,411 INFO Sending request to https://cds.climate.copernicus.eu/api/v2/resources/reanalysis-era5-single-levels\n",
      "2024-01-11 01:14:23,519 INFO Request is queued\n"
     ]
    },
    {
     "name": "stdout",
     "output_type": "stream",
     "text": [
      "[[[266.27724173 265.34555747 265.48531011 ... 256.21857492 255.39963229\n",
      "   254.59752261]\n",
      "  [267.73192186 267.48608248 267.60195582 ... 257.03399438 256.24793472\n",
      "   255.20468323]\n",
      "  [269.83682364 269.53500492 269.3831169  ... 257.75037345 256.52744\n",
      "   255.25831379]\n",
      "  ...\n",
      "  [267.47629588 266.13514031 266.88753406 ... 270.43458913 272.6091715\n",
      "   273.63363272]\n",
      "  [271.26684154 269.57806596 268.99791635 ... 269.36628395 271.02217655\n",
      "   272.47294204]\n",
      "  [274.86165521 273.19441015 272.63226788 ... 269.61916967 271.07032662\n",
      "   272.75440464]]]\n",
      "[59.9249, -124.0123, 49.9249, -114.0123]\n"
     ]
    },
    {
     "name": "stderr",
     "output_type": "stream",
     "text": [
      "2024-01-11 01:38:44,469 INFO Request is completed\n",
      "2024-01-11 01:38:44,473 INFO Downloading https://download-0010-clone.copernicus-climate.eu/cache-compute-0010/cache/data7/adaptor.mars.internal-1704937014.3132617-24852-7-69e8176f-9e72-4f32-81c4-fdb60a100a24.nc to weather-2022-01-24.nc (32.9K)\n",
      "2024-01-11 01:38:44,794 INFO Download rate 102.9K/s                                                                                                                                                                                               \n",
      "2024-01-11 01:38:44,926 INFO Welcome to the CDS\n",
      "2024-01-11 01:38:44,927 INFO Sending request to https://cds.climate.copernicus.eu/api/v2/resources/reanalysis-era5-single-levels\n"
     ]
    },
    {
     "name": "stdout",
     "output_type": "stream",
     "text": [
      "[[[266.45648498 265.39653911 265.52712632 ... 256.32620189 255.5223477\n",
      "   254.69933551]\n",
      "  [267.84368083 267.55083706 267.69667248 ... 257.18948499 256.36725476\n",
      "   255.39567029]\n",
      "  [269.90179778 269.58940503 269.4420057  ... 257.87018058 256.70897098\n",
      "   255.38550482]\n",
      "  ...\n",
      "  [267.76196608 266.34153696 266.79272749 ... 270.12231031 272.37943591\n",
      "   273.5293071 ]\n",
      "  [271.5048144  269.81500029 269.23283158 ... 269.20077124 270.83975799\n",
      "   272.26018711]\n",
      "  [275.07524069 273.34593764 272.84157387 ... 269.47367505 270.91091629\n",
      "   272.56632419]]]\n",
      "[59.6035, -120.6182, 49.6035, -110.6182]\n"
     ]
    },
    {
     "name": "stderr",
     "output_type": "stream",
     "text": [
      "2024-01-11 01:38:45,083 INFO Request is queued\n",
      "2024-01-11 01:41:58,746 WARNING Connection error: [('Connection aborted.', RemoteDisconnected('Remote end closed connection without response'))]. Attempt 1 of 500.\n",
      "2024-01-11 01:41:58,748 WARNING Retrying in 120 seconds\n",
      "2024-01-11 01:43:58,749 INFO Retrying now...\n",
      "2024-01-11 02:07:28,578 INFO Request is completed\n",
      "2024-01-11 02:07:28,583 INFO Downloading https://download-0009-clone.copernicus-climate.eu/cache-compute-0009/cache/data8/adaptor.mars.internal-1704938786.5198672-20878-3-e4dcfa77-95b5-4767-a2ba-2d663c7b07bb.nc to weather-2022-01-25.nc (32.9K)\n",
      "2024-01-11 02:07:28,938 INFO Download rate 92.8K/s                                                                                                                                                                                                \n",
      "2024-01-11 02:07:29,081 INFO Welcome to the CDS\n",
      "2024-01-11 02:07:29,082 INFO Sending request to https://cds.climate.copernicus.eu/api/v2/resources/reanalysis-era5-single-levels\n"
     ]
    },
    {
     "name": "stdout",
     "output_type": "stream",
     "text": [
      "[[[274.41305178 274.10984352 273.84904586 ... 265.26943627 263.80021186\n",
      "   262.60252546]\n",
      "  [275.06298048 274.7988781  274.7181878  ... 267.7611968  266.26278068\n",
      "   263.63001867]\n",
      "  [275.57658939 275.72998358 275.67683263 ... 268.02061749 265.26695772\n",
      "   262.59619141]\n",
      "  ...\n",
      "  [270.00427699 270.5302786  270.55809335 ... 276.4424266  275.79387487\n",
      "   275.24116008]\n",
      "  [270.96677732 271.32809362 269.97646224 ... 276.30610681 275.62395707\n",
      "   274.36926421]\n",
      "  [271.22371947 270.91885885 269.57273535 ... 276.30610681 275.37500133\n",
      "   274.07431776]]]\n",
      "[60.4085, -126.4035, 50.4085, -116.4035]\n"
     ]
    },
    {
     "name": "stderr",
     "output_type": "stream",
     "text": [
      "2024-01-11 02:07:29,189 INFO Request is queued\n",
      "2024-01-11 02:41:51,643 INFO Request is completed\n",
      "2024-01-11 02:41:51,648 INFO Downloading https://download-0006-clone.copernicus-climate.eu/cache-compute-0006/cache/data5/adaptor.mars.internal-1704940897.9491751-22081-13-09f9793f-b308-407a-9cc9-a7f66577f0fb.nc to weather-2022-01-25.nc (32.9K)\n",
      "2024-01-11 02:41:52,004 INFO Download rate 92.8K/s                                                                                                                                                                                                \n",
      "2024-01-11 02:41:52,144 INFO Welcome to the CDS\n",
      "2024-01-11 02:41:52,145 INFO Sending request to https://cds.climate.copernicus.eu/api/v2/resources/reanalysis-era5-single-levels\n",
      "2024-01-11 02:41:52,235 INFO Request is queued\n"
     ]
    },
    {
     "name": "stdout",
     "output_type": "stream",
     "text": [
      "[[[266.32964409 266.5161344  265.83390291 ... 267.4535786  267.14462143\n",
      "   266.67619301]\n",
      "  [267.50144935 267.85886463 268.46297577 ... 265.67913064 265.23625286\n",
      "   265.73287509]\n",
      "  [268.3689964  268.75783604 269.53228478 ... 263.21334694 264.153728\n",
      "   265.03507828]\n",
      "  ...\n",
      "  [270.61657175 268.15636807 267.18749952 ... 260.5170201  260.35637412\n",
      "   260.02039787]\n",
      "  [273.78367649 270.73375227 270.33698313 ... 260.37017734 260.12465624\n",
      "   260.38867953]\n",
      "  [272.64740718 272.2797129  272.41833247 ... 261.65035256 260.62656481\n",
      "   260.80072032]]]\n",
      "[60.4068, -126.409, 50.4068, -116.409]\n"
     ]
    },
    {
     "name": "stderr",
     "output_type": "stream",
     "text": [
      "2024-01-11 03:30:16,526 INFO Request is completed\n",
      "2024-01-11 03:30:16,531 INFO Downloading https://download-0012-clone.copernicus-climate.eu/cache-compute-0012/cache/data5/adaptor.mars.internal-1704943803.1910083-24060-4-0da4db16-58aa-4a75-89d3-cda98483d183.nc to weather-2022-01-25.nc (32.9K)\n",
      "2024-01-11 03:30:16,886 INFO Download rate 93K/s                                                                                                                                                                                                  \n",
      "2024-01-11 03:30:17,025 INFO Welcome to the CDS\n",
      "2024-01-11 03:30:17,027 INFO Sending request to https://cds.climate.copernicus.eu/api/v2/resources/reanalysis-era5-single-levels\n",
      "2024-01-11 03:30:17,124 INFO Request is queued\n"
     ]
    },
    {
     "name": "stdout",
     "output_type": "stream",
     "text": [
      "[[[266.33712392 266.5276805  265.87421802 ... 267.44411105 267.14567013\n",
      "   266.67807361]\n",
      "  [267.50010537 267.86656032 268.47780719 ... 265.6628468  265.2292573\n",
      "   265.7288087 ]\n",
      "  [268.35233301 268.73842995 269.50769219 ... 263.20525329 264.12754712\n",
      "   265.01876557]\n",
      "  ...\n",
      "  [270.68767715 268.20575103 267.22247909 ... 260.51781923 260.35657905\n",
      "   260.02764909]\n",
      "  [273.85912491 270.78500759 270.38161397 ... 260.39732884 260.12380687\n",
      "   260.3732894 ]\n",
      "  [272.67738097 272.26724459 272.4144129  ... 261.69076825 260.63596431\n",
      "   260.79134121]]]\n",
      "[60.581, -126.6337, 50.581, -116.6337]\n"
     ]
    },
    {
     "name": "stderr",
     "output_type": "stream",
     "text": [
      "2024-01-11 04:26:42,540 INFO Request is completed\n",
      "2024-01-11 04:26:42,544 INFO Downloading https://download-0001-clone.copernicus-climate.eu/cache-compute-0001/cache/data2/adaptor.mars.internal-1704947149.8368578-7445-12-20da6916-b7d6-4328-9e63-4b12fa755097.nc to weather-2022-01-25.nc (32.9K)\n",
      "2024-01-11 04:26:42,915 INFO Download rate 89K/s                                                                                                                                                                                                  \n",
      "2024-01-11 04:26:43,078 INFO Welcome to the CDS\n",
      "2024-01-11 04:26:43,079 INFO Sending request to https://cds.climate.copernicus.eu/api/v2/resources/reanalysis-era5-single-levels\n"
     ]
    },
    {
     "name": "stdout",
     "output_type": "stream",
     "text": [
      "[[[266.11242466 266.14147506 266.30851485 ... 268.14798609 268.04601919\n",
      "   267.88072242]\n",
      "  [266.36429162 266.55079518 266.88342224 ... 267.43305578 267.14022776\n",
      "   266.68210298]\n",
      "  [267.40051933 268.02306937 268.49223331 ... 264.72759217 264.66891036\n",
      "   264.49896553]\n",
      "  ...\n",
      "  [269.48256139 267.97368369 267.37263095 ... 261.35164535 261.19128715\n",
      "   260.30408798]\n",
      "  [273.99612181 271.92569991 269.0308277  ... 260.69626836 260.34563005\n",
      "   260.16174103]\n",
      "  [275.15581372 273.55368424 271.26712737 ... 261.799893   260.74216799\n",
      "   260.27155154]]]\n",
      "[60.5898, -126.6376, 50.5898, -116.6376]\n"
     ]
    },
    {
     "name": "stderr",
     "output_type": "stream",
     "text": [
      "2024-01-11 04:26:43,212 INFO Request is queued\n",
      "2024-01-11 05:29:09,380 INFO Request is completed\n",
      "2024-01-11 05:29:09,384 INFO Downloading https://download-0012-clone.copernicus-climate.eu/cache-compute-0012/cache/data3/adaptor.mars.internal-1704950843.078938-9899-1-afc28e39-875e-45a6-b61f-31962ea3e618.nc to weather-2022-01-25.nc (32.9K)\n",
      "2024-01-11 05:29:09,742 INFO Download rate 92.3K/s                                                                                                                                                                                                \n",
      "2024-01-11 05:29:09,889 INFO Welcome to the CDS\n",
      "2024-01-11 05:29:09,891 INFO Sending request to https://cds.climate.copernicus.eu/api/v2/resources/reanalysis-era5-single-levels\n"
     ]
    },
    {
     "name": "stdout",
     "output_type": "stream",
     "text": [
      "[[[266.10839993 266.14401186 266.35507771 ... 268.18373602 268.07371541\n",
      "   267.91215883]\n",
      "  [266.35044526 266.50447411 266.84119508 ... 267.45615237 267.19297149\n",
      "   266.73841267]\n",
      "  [267.33889356 267.95935188 268.39798667 ... 264.84576869 264.78380972\n",
      "   264.53713194]\n",
      "  ...\n",
      "  [269.45592167 267.94632313 267.41301271 ... 261.41515244 261.25475397\n",
      "   260.29931185]\n",
      "  [273.80028803 271.86479392 268.94229915 ... 260.69828132 260.37951109\n",
      "   260.18321116]\n",
      "  [275.18162571 273.59761849 271.14792281 ... 261.74897812 260.7084148\n",
      "   260.26572662]]]\n",
      "[60.5813, -126.7008, 50.5813, -116.7008]\n"
     ]
    },
    {
     "name": "stderr",
     "output_type": "stream",
     "text": [
      "2024-01-11 05:29:10,039 INFO Request is queued\n",
      "2024-01-11 06:33:36,402 INFO Request is completed\n",
      "2024-01-11 06:33:36,407 INFO Downloading https://download-0002-clone.copernicus-climate.eu/cache-compute-0002/cache/data4/adaptor.mars.internal-1704954732.3218665-3343-11-6f219dfb-708a-40cc-be55-8bf150b73b1c.nc to weather-2022-01-25.nc (32.9K)\n",
      "2024-01-11 06:33:36,741 INFO Download rate 98.8K/s                                                                                                                                                                                                \n",
      "2024-01-11 06:33:36,885 INFO Welcome to the CDS\n",
      "2024-01-11 06:33:36,886 INFO Sending request to https://cds.climate.copernicus.eu/api/v2/resources/reanalysis-era5-single-levels\n"
     ]
    },
    {
     "name": "stdout",
     "output_type": "stream",
     "text": [
      "[[[266.07404925 266.19171086 266.30587758 ... 268.22632486 268.00206881\n",
      "   267.98022569]\n",
      "  [266.22636862 266.50654306 266.83418989 ... 267.66917963 267.17115645\n",
      "   266.83855851]\n",
      "  [267.25328659 267.83460488 268.3553449  ... 264.86510525 264.65977991\n",
      "   264.45328959]\n",
      "  ...\n",
      "  [269.83572609 268.36495588 267.50258942 ... 261.41971681 261.23506962\n",
      "   260.47988009]\n",
      "  [274.69654884 272.63688805 269.5433195  ... 260.91091769 260.44260116\n",
      "   260.10272218]\n",
      "  [275.64512281 274.14668464 271.48997853 ... 261.97773577 261.18148116\n",
      "   260.26203135]]]\n",
      "[60.5922, -126.6888, 50.5922, -116.6888]\n"
     ]
    },
    {
     "name": "stderr",
     "output_type": "stream",
     "text": [
      "2024-01-11 06:33:37,067 INFO Request is queued\n",
      "2024-01-11 07:44:04,581 INFO Request is completed\n",
      "2024-01-11 07:44:04,586 INFO Downloading https://download-0002-clone.copernicus-climate.eu/cache-compute-0002/cache/data0/adaptor.mars.internal-1704959014.3631048-31927-8-2e736df7-605b-4321-a949-67314d81f508.nc to weather-2022-01-25.nc (32.9K)\n",
      "2024-01-11 07:44:04,938 INFO Download rate 93.6K/s                                                                                                                                                                                                \n",
      "2024-01-11 07:44:05,072 INFO Welcome to the CDS\n",
      "2024-01-11 07:44:05,074 INFO Sending request to https://cds.climate.copernicus.eu/api/v2/resources/reanalysis-era5-single-levels\n"
     ]
    },
    {
     "name": "stdout",
     "output_type": "stream",
     "text": [
      "[[[266.08293741 266.18153685 266.3477969  ... 268.24865531 268.0482758\n",
      "   267.99073537]\n",
      "  [266.24370365 266.47762432 266.79453043 ... 267.6385532  267.21437321\n",
      "   266.8691306 ]\n",
      "  [267.21495151 267.80307837 268.28913602 ... 264.99805442 264.80577106\n",
      "   264.55132089]\n",
      "  ...\n",
      "  [269.70075615 268.23246303 267.4864614  ... 261.48693126 261.30361148\n",
      "   260.44917939]\n",
      "  [274.2762328  272.32043628 269.30433436 ... 260.85948028 260.44975768\n",
      "   260.14441748]\n",
      "  [275.59821707 274.05272146 271.34167058 ... 261.87641351 261.02892096\n",
      "   260.24764329]]]\n",
      "[60.5901, -126.7046, 50.5901, -116.7046]\n"
     ]
    },
    {
     "name": "stderr",
     "output_type": "stream",
     "text": [
      "2024-01-11 07:44:05,225 INFO Request is queued\n",
      "2024-01-11 07:54:24,480 WARNING HTTP error: [500 Internal Server Error]. Attempt 1 of 500.\n",
      "2024-01-11 07:54:24,487 WARNING Retrying in 120 seconds\n",
      "2024-01-11 07:56:24,494 INFO Retrying now...\n",
      "2024-01-11 09:28:36,617 INFO Request is completed\n",
      "2024-01-11 09:28:36,622 INFO Downloading https://download-0014-clone.copernicus-climate.eu/cache-compute-0014/cache/data7/adaptor.mars.internal-1704965268.329699-28081-14-44e084eb-aad7-4dea-9a3d-cbd3a93403dd.nc to weather-2022-01-25.nc (32.9K)\n",
      "2024-01-11 09:28:36,987 INFO Download rate 90.5K/s                                                                                                                                                                                                \n",
      "2024-01-11 09:28:37,131 INFO Welcome to the CDS\n",
      "2024-01-11 09:28:37,132 INFO Sending request to https://cds.climate.copernicus.eu/api/v2/resources/reanalysis-era5-single-levels\n",
      "2024-01-11 09:28:37,256 INFO Request is queued\n"
     ]
    },
    {
     "name": "stdout",
     "output_type": "stream",
     "text": [
      "[[[266.07794895 266.19350384 266.32099262 ... 268.25660981 268.03044822\n",
      "   268.00454297]\n",
      "  [266.21271448 266.49330621 266.79223536 ... 267.69222459 267.19711408\n",
      "   266.89469209]\n",
      "  [267.19449445 267.77168677 268.29212038 ... 265.02019965 264.77511849\n",
      "   264.56409256]\n",
      "  ...\n",
      "  [269.78501972 268.33723627 267.48032544 ... 261.49184601 261.2991575\n",
      "   260.51035711]\n",
      "  [274.49977572 272.46082858 269.45378177 ... 260.91290728 260.45680019\n",
      "   260.12468902]\n",
      "  [275.75079567 274.18978589 271.47497362 ... 261.939221   261.14663669\n",
      "   260.23849749]]]\n",
      "[60.604, -124.6023, 50.604, -114.6023]\n"
     ]
    },
    {
     "name": "stderr",
     "output_type": "stream",
     "text": [
      "2024-01-11 10:25:02,851 INFO Request is completed\n",
      "2024-01-11 10:25:02,855 INFO Downloading https://download-0020.copernicus-climate.eu/cache-compute-0020/cache/data9/adaptor.mars.internal-1704968609.3603027-6811-2-3fe747be-6bda-42e0-b25e-a17cbd6fecd3.nc to weather-2022-01-26.nc (32.9K)\n",
      "2024-01-11 10:25:03,210 INFO Download rate 93.3K/s                                                                                                                                                                                                \n",
      "2024-01-11 10:25:03,362 INFO Welcome to the CDS\n",
      "2024-01-11 10:25:03,365 INFO Sending request to https://cds.climate.copernicus.eu/api/v2/resources/reanalysis-era5-single-levels\n"
     ]
    },
    {
     "name": "stdout",
     "output_type": "stream",
     "text": [
      "[[[265.95324156 265.85442029 266.63731008 ... 271.27397364 270.78268341\n",
      "   270.45063368]\n",
      "  [267.83289392 267.64497988 268.30754326 ... 272.2865077  271.79726558\n",
      "   271.41017291]\n",
      "  [270.97366961 271.72711783 272.2959802  ... 272.63135811 272.38635303\n",
      "   272.0000284 ]\n",
      "  ...\n",
      "  [262.29199009 262.90002255 262.69239546 ... 264.15295344 266.09481712\n",
      "   267.9898303 ]\n",
      "  [261.76511396 262.10535612 262.8372992  ... 263.12992282 265.19288097\n",
      "   268.01261551]\n",
      "  [263.95300677 262.82373048 263.05235068 ... 261.96378056 263.09484895\n",
      "   265.88181375]]]\n",
      "[60.5865, -124.6468, 50.5865, -114.6468]\n"
     ]
    },
    {
     "name": "stderr",
     "output_type": "stream",
     "text": [
      "2024-01-11 10:25:03,482 INFO Request is queued\n",
      "2024-01-11 11:35:24,051 INFO Request is running\n",
      "2024-01-11 11:37:24,310 INFO Request is completed\n",
      "2024-01-11 11:37:24,313 INFO Downloading https://download-0018.copernicus-climate.eu/cache-compute-0018/cache/data3/adaptor.mars.internal-1704972925.5023239-2451-10-9edd759f-934b-40be-8a97-e22c7abb3a2e.nc to weather-2022-01-26.nc (32.9K)\n",
      "2024-01-11 11:37:24,610 INFO Download rate 111K/s                                                                                                                                                                                                 \n",
      "2024-01-11 11:37:24,744 INFO Welcome to the CDS\n",
      "2024-01-11 11:37:24,746 INFO Sending request to https://cds.climate.copernicus.eu/api/v2/resources/reanalysis-era5-single-levels\n"
     ]
    },
    {
     "name": "stdout",
     "output_type": "stream",
     "text": [
      "[[[266.15549681 265.73025954 266.45633093 ... 271.49684785 270.99820499\n",
      "   270.64379767]\n",
      "  [268.00402977 267.81317524 268.32263577 ... 272.38441154 271.90611619\n",
      "   271.50225669]\n",
      "  [271.1447586  271.90560107 272.5242685  ... 272.70765368 272.46837723\n",
      "   272.10959133]\n",
      "  ...\n",
      "  [262.30002937 262.5789706  262.64284634 ... 263.84695552 265.7361835\n",
      "   267.64730438]\n",
      "  [262.01052804 262.02623942 262.47439984 ... 262.66679974 264.62814549\n",
      "   267.4152397 ]\n",
      "  [264.32731137 263.33620717 263.28495205 ... 261.83280926 262.60962065\n",
      "   265.20199688]]]\n",
      "[58.6915, -122.2123, 48.6915, -112.2123]\n"
     ]
    },
    {
     "name": "stderr",
     "output_type": "stream",
     "text": [
      "2024-01-11 11:37:24,876 INFO Request is queued\n"
     ]
    }
   ],
   "source": [
    "get_climate_data_for_fire_data('canada_2023.csv')"
   ]
  }
 ],
 "metadata": {
  "kernelspec": {
   "display_name": "Python 3 (ipykernel)",
   "language": "python",
   "name": "python3"
  },
  "language_info": {
   "codemirror_mode": {
    "name": "ipython",
    "version": 3
   },
   "file_extension": ".py",
   "mimetype": "text/x-python",
   "name": "python",
   "nbconvert_exporter": "python",
   "pygments_lexer": "ipython3",
   "version": "3.11.5"
  }
 },
 "nbformat": 4,
 "nbformat_minor": 5
}
