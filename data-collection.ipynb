{
 "cells": [
  {
   "cell_type": "code",
   "execution_count": 1,
   "id": "cde78f3f-bf91-4007-9370-f6970f82633c",
   "metadata": {},
   "outputs": [],
   "source": [
    "import pandas as pd\n",
    "import cdsapi\n",
    "import netCDF4\n",
    "from netCDF4 import num2date\n",
    "import numpy as np\n",
    "import os"
   ]
  },
  {
   "cell_type": "code",
   "execution_count": 2,
   "id": "a0abbf0d-16f7-4d00-8f9e-00c6345ff73e",
   "metadata": {},
   "outputs": [],
   "source": [
    "def download_climate_data(year, month, day, area, day_night_ind):\n",
    "    area_str = '_'.join(str(num) for num in area)\n",
    "    c = cdsapi.Client()\n",
    "    file_name = './historical_climate_data/weather-'+area_str+'-'+str(year)+'-'+str(month)+'-'+str(day)+'.nc'\n",
    "    time = '12:00'\n",
    "    if day_night_ind == \"N\":\n",
    "        time = '22:00'\n",
    "    c.retrieve('reanalysis-era5-single-levels',\n",
    "    {\n",
    "        'product_type': 'reanalysis',\n",
    "        'format': 'netcdf',\n",
    "        'variable': [\n",
    "            '10m_u_component_of_wind', '10m_v_component_of_wind', '2m_temperature',\n",
    "            'soil_temperature_level_1', 'soil_temperature_level_2', 'soil_temperature_level_3',\n",
    "            'soil_temperature_level_4', 'soil_type', 'total_precipitation',\n",
    "        ],\n",
    "        'year': year,\n",
    "        'month': month,\n",
    "        'day': [str(day)],\n",
    "        'time': [time],\n",
    "        'area': area,\n",
    "    },\n",
    "    file_name)\n",
    "\n",
    "    nc = netCDF4.Dataset(file_name, mode='r')\n",
    "    print(nc.variables['t2m'][:])\n",
    "    cols = list(nc.variables.keys())\n",
    "    list_nc = []\n",
    "    for c in cols:\n",
    "        list_nc.append(list(nc.variables[c][:]))\n",
    "    df_nc = pd.DataFrame(list_nc)\n",
    "    df_nc = df_nc.T\n",
    "    df_nc.columns = cols\n",
    "    csv_file_name = './historical_climate_data/csv/weather-'+area_str+'-'+str(year)+str(month)+'-'+str(day)+'.csv'\n",
    "    df_nc.to_csv(csv_file_name, index = False)"
   ]
  },
  {
   "cell_type": "code",
   "execution_count": 3,
   "id": "32d8b890-5baf-49be-b4ae-57c38e060baf",
   "metadata": {},
   "outputs": [],
   "source": [
    "#download_climate_data(2022, 1, 11, [59.7686, -125.092, 49.7686, -115.092], 'D')"
   ]
  },
  {
   "cell_type": "code",
   "execution_count": 4,
   "id": "e2992347-a9e5-419b-afb0-396ad68762ba",
   "metadata": {},
   "outputs": [],
   "source": [
    "def download_satellite_image(year, month, day, area, day_night_ind):\n",
    "    print(\"image\")"
   ]
  },
  {
   "cell_type": "code",
   "execution_count": 5,
   "id": "b603c4b3-ddfc-49cb-b3eb-28fad04e73a3",
   "metadata": {},
   "outputs": [],
   "source": [
    "def get_climate_data_for_fire_data(file_name):\n",
    "    file_path = \"./historical_fire_data/\" + file_name\n",
    "    fire_data = pd.read_csv(file_path)\n",
    "    for modis_data_index, modis_row in fire_data.iterrows():\n",
    "        date_value = modis_row['acq_date']\n",
    "        date_split = date_value.split(\"-\")\n",
    "        #print(type(weather_row['DATE']))\n",
    "        year = date_split[0]\n",
    "        month = date_split[1]\n",
    "        day = date_split[2]\n",
    "        #print(year + month + day)\n",
    "        confidence = modis_row['confidence']\n",
    "        latitude = modis_row['latitude']\n",
    "        longitude = modis_row['longitude']\n",
    "        day_night_ind = modis_row['daynight']\n",
    "        #print(type(confidence))\n",
    "        if confidence > 70:\n",
    "            north_coord = latitude+0.25\n",
    "            south_coord = latitude-0.25\n",
    "            west_coord = longitude-0.25\n",
    "            east_coord = longitude+0.25\n",
    "            area = [north_coord, west_coord, south_coord, east_coord]\n",
    "            #print(area)\n",
    "            download_climate_data(year, month, day, area, day_night_ind)"
   ]
  },
  {
   "cell_type": "code",
   "execution_count": null,
   "id": "c576a8ae-b526-4c50-9a98-afed0a8344ea",
   "metadata": {},
   "outputs": [
    {
     "name": "stderr",
     "output_type": "stream",
     "text": [
      "2024-01-11 13:53:49,806 INFO Welcome to the CDS\n",
      "2024-01-11 13:53:49,807 INFO Sending request to https://cds.climate.copernicus.eu/api/v2/resources/reanalysis-era5-single-levels\n",
      "2024-01-11 13:53:49,894 INFO Request is queued\n"
     ]
    }
   ],
   "source": [
    "get_climate_data_for_fire_data('canada_2023.csv')"
   ]
  }
 ],
 "metadata": {
  "kernelspec": {
   "display_name": "Python 3 (ipykernel)",
   "language": "python",
   "name": "python3"
  },
  "language_info": {
   "codemirror_mode": {
    "name": "ipython",
    "version": 3
   },
   "file_extension": ".py",
   "mimetype": "text/x-python",
   "name": "python",
   "nbconvert_exporter": "python",
   "pygments_lexer": "ipython3",
   "version": "3.11.5"
  }
 },
 "nbformat": 4,
 "nbformat_minor": 5
}
