{
 "cells": [
  {
   "cell_type": "code",
   "execution_count": 1,
   "id": "cde78f3f-bf91-4007-9370-f6970f82633c",
   "metadata": {},
   "outputs": [],
   "source": [
    "import pandas as pd\n",
    "import cdsapi\n",
    "import netCDF4\n",
    "from netCDF4 import num2date\n",
    "import numpy as np\n",
    "import os"
   ]
  },
  {
   "cell_type": "code",
   "execution_count": 2,
   "id": "a0abbf0d-16f7-4d00-8f9e-00c6345ff73e",
   "metadata": {},
   "outputs": [],
   "source": [
    "def download_climate_data(year, month, day, area, day_night_ind):\n",
    "    area_str = '_'.join(str(num) for num in area)\n",
    "    c = cdsapi.Client()\n",
    "    file_name = './historical_climate_data/weather-'+area_str+'-'+str(year)+'-'+str(month)+'-'+str(day)+'.nc'\n",
    "    time = '12:00'\n",
    "    if day_night_ind == \"N\":\n",
    "        time = '22:00'\n",
    "    c.retrieve('reanalysis-era5-single-levels',\n",
    "    {\n",
    "        'product_type': 'reanalysis',\n",
    "        'format': 'netcdf',\n",
    "        'variable': [\n",
    "            '10m_u_component_of_wind', '10m_v_component_of_wind', '2m_temperature',\n",
    "            'soil_temperature_level_1', 'soil_temperature_level_2', 'soil_temperature_level_3',\n",
    "            'soil_temperature_level_4', 'soil_type', 'total_precipitation',\n",
    "        ],\n",
    "        'year': year,\n",
    "        'month': month,\n",
    "        'day': [str(day)],\n",
    "        'time': [time],\n",
    "        'area': area,\n",
    "    },\n",
    "    file_name)\n",
    "\n",
    "    nc = netCDF4.Dataset(file_name, mode='r')\n",
    "    print(nc.variables['t2m'][:])\n",
    "    cols = list(nc.variables.keys())\n",
    "    list_nc = []\n",
    "    for c in cols:\n",
    "        list_nc.append(list(nc.variables[c][:]))\n",
    "    df_nc = pd.DataFrame(list_nc)\n",
    "    df_nc = df_nc.T\n",
    "    df_nc.columns = cols\n",
    "    csv_file_name = './historical_climate_data/csv/weather-'+area_str+'-'+str(year)+str(month)+'-'+str(day)+'.csv'\n",
    "    df_nc.to_csv(csv_file_name, index = False)"
   ]
  },
  {
   "cell_type": "code",
   "execution_count": 3,
   "id": "32d8b890-5baf-49be-b4ae-57c38e060baf",
   "metadata": {},
   "outputs": [],
   "source": [
    "#download_climate_data(2022, 1, 11, [59.7686, -125.092, 49.7686, -115.092], 'D')"
   ]
  },
  {
   "cell_type": "code",
   "execution_count": 4,
   "id": "e2992347-a9e5-419b-afb0-396ad68762ba",
   "metadata": {},
   "outputs": [],
   "source": [
    "def download_satellite_image(year, month, day, area, day_night_ind):\n",
    "    print(\"image\")"
   ]
  },
  {
   "cell_type": "code",
   "execution_count": 5,
   "id": "b603c4b3-ddfc-49cb-b3eb-28fad04e73a3",
   "metadata": {},
   "outputs": [],
   "source": [
    "def get_climate_data_for_fire_data(file_name):\n",
    "    file_path = \"./historical_fire_data/\" + file_name\n",
    "    fire_data = pd.read_csv(file_path)\n",
    "    for modis_data_index, modis_row in fire_data.iterrows():\n",
    "        date_value = modis_row['acq_date']\n",
    "        date_split = date_value.split(\"-\")\n",
    "        #print(type(weather_row['DATE']))\n",
    "        year = date_split[0]\n",
    "        month = date_split[1]\n",
    "        day = date_split[2]\n",
    "        #print(year + month + day)\n",
    "        confidence = modis_row['confidence']\n",
    "        latitude = modis_row['latitude']\n",
    "        longitude = modis_row['longitude']\n",
    "        day_night_ind = modis_row['daynight']\n",
    "        #print(type(confidence))\n",
    "        if confidence > 70:\n",
    "            north_coord = latitude+0.25\n",
    "            south_coord = latitude-0.25\n",
    "            west_coord = longitude-0.25\n",
    "            east_coord = longitude+0.25\n",
    "            area = [north_coord, west_coord, south_coord, east_coord]\n",
    "            #print(area)\n",
    "            download_climate_data(year, month, day, area, day_night_ind)"
   ]
  },
  {
   "cell_type": "code",
   "execution_count": 6,
   "id": "c576a8ae-b526-4c50-9a98-afed0a8344ea",
   "metadata": {},
   "outputs": [
    {
     "name": "stderr",
     "output_type": "stream",
     "text": [
      "2024-01-13 16:30:16,255 INFO Welcome to the CDS\n",
      "2024-01-13 16:30:16,257 INFO Sending request to https://cds.climate.copernicus.eu/api/v2/resources/reanalysis-era5-single-levels\n",
      "2024-01-13 16:30:16,536 INFO Request is completed\n",
      "2024-01-13 16:30:16,538 INFO Downloading https://download-0017.copernicus-climate.eu/cache-compute-0017/cache/data6/adaptor.mars.internal-1704986800.643085-24439-14-40dcc4ad-0b70-4c36-a797-17fdab4b6170.nc to ./historical_climate_data/weather-54.6753_-117.7948_54.1753_-117.2948-2023-01-01.nc (3.2K)\n",
      "2024-01-13 16:30:16,986 INFO Download rate 7.2K/s                                                                                                                                                                                                 \n",
      "2024-01-13 16:30:17,109 INFO Welcome to the CDS\n",
      "2024-01-13 16:30:17,110 INFO Sending request to https://cds.climate.copernicus.eu/api/v2/resources/reanalysis-era5-single-levels\n",
      "2024-01-13 16:30:17,184 INFO Request is queued\n"
     ]
    },
    {
     "name": "stdout",
     "output_type": "stream",
     "text": [
      "[[[271.15446096 270.0746941  268.81005859]\n",
      "  [271.98901367 271.30042522 270.17976509]\n",
      "  [271.91755958 271.77038259 271.1799283 ]]]\n"
     ]
    },
    {
     "name": "stderr",
     "output_type": "stream",
     "text": [
      "2024-01-13 16:30:18,245 INFO Request is running\n",
      "2024-01-13 16:30:22,123 INFO Request is completed\n",
      "2024-01-13 16:30:22,125 INFO Downloading https://download-0003-clone.copernicus-climate.eu/cache-compute-0003/cache/data0/adaptor.mars.internal-1705163421.1520164-19571-2-a0e179ff-4610-4feb-b1c2-3786fa6b5755.nc to ./historical_climate_data/weather-54.6575_-117.7857_54.1575_-117.2857-2023-01-01.nc (3.2K)\n",
      "2024-01-13 16:30:22,412 INFO Download rate 11.2K/s                                                                                                                                                                                                \n",
      "2024-01-13 16:30:22,545 INFO Welcome to the CDS\n",
      "2024-01-13 16:30:22,546 INFO Sending request to https://cds.climate.copernicus.eu/api/v2/resources/reanalysis-era5-single-levels\n",
      "2024-01-13 16:30:22,646 INFO Request is queued\n"
     ]
    },
    {
     "name": "stdout",
     "output_type": "stream",
     "text": [
      "[[[271.23095016 270.11925627 268.8661499 ]\n",
      "  [272.00756836 271.3371773  270.24695894]\n",
      "  [271.88010538 271.7409459  271.15281377]]]\n"
     ]
    },
    {
     "name": "stderr",
     "output_type": "stream",
     "text": [
      "2024-01-13 16:30:23,713 INFO Request is running\n",
      "2024-01-13 16:30:27,598 INFO Request is completed\n",
      "2024-01-13 16:30:27,599 INFO Downloading https://download-0018.copernicus-climate.eu/cache-compute-0018/cache/data2/adaptor.mars.internal-1705163426.24444-26580-17-a70d1a0d-a584-405f-a864-1bb67bba0da0.nc to ./historical_climate_data/weather-54.6549_-117.8015_54.1549_-117.3015-2023-01-01.nc (3.2K)\n",
      "2024-01-13 16:30:27,882 INFO Download rate 11.3K/s                                                                                                                                                                                                \n",
      "2024-01-13 16:30:28,016 INFO Welcome to the CDS\n",
      "2024-01-13 16:30:28,017 INFO Sending request to https://cds.climate.copernicus.eu/api/v2/resources/reanalysis-era5-single-levels\n",
      "2024-01-13 16:30:28,143 INFO Request is queued\n"
     ]
    },
    {
     "name": "stdout",
     "output_type": "stream",
     "text": [
      "[[[271.26759    270.21045187 268.96740723]\n",
      "  [271.99725342 271.42774423 270.31725218]\n",
      "  [271.86151069 271.73866721 271.20965893]]]\n"
     ]
    },
    {
     "name": "stderr",
     "output_type": "stream",
     "text": [
      "2024-01-13 16:30:29,212 INFO Request is running\n",
      "2024-01-13 16:30:33,095 INFO Request is completed\n",
      "2024-01-13 16:30:33,097 INFO Downloading https://download-0010-clone.copernicus-climate.eu/cache-compute-0010/cache/data9/adaptor.mars.internal-1705163432.157218-27905-2-4ffe968f-4ea1-4515-a6bb-ea4a113be13d.nc to ./historical_climate_data/weather-53.3435_-117.5713_52.8435_-117.0713-2023-01-01.nc (3.2K)\n",
      "2024-01-13 16:30:33,394 INFO Download rate 10.8K/s                                                                                                                                                                                                \n",
      "2024-01-13 16:30:33,531 INFO Welcome to the CDS\n",
      "2024-01-13 16:30:33,532 INFO Sending request to https://cds.climate.copernicus.eu/api/v2/resources/reanalysis-era5-single-levels\n",
      "2024-01-13 16:30:33,636 INFO Request is queued\n"
     ]
    },
    {
     "name": "stdout",
     "output_type": "stream",
     "text": [
      "[[[262.80197273 262.7043621  263.46668893]\n",
      "  [261.97548327 262.62732379 263.69384766]\n",
      "  [258.97998047 259.64965992 261.05922367]]]\n"
     ]
    },
    {
     "name": "stderr",
     "output_type": "stream",
     "text": [
      "2024-01-13 16:30:36,269 INFO Request is running\n",
      "2024-01-13 16:30:38,588 INFO Request is completed\n",
      "2024-01-13 16:30:38,590 INFO Downloading https://download-0001-clone.copernicus-climate.eu/cache-compute-0001/cache/data4/adaptor.mars.internal-1705163437.8755693-22064-11-e7c456de-1aaf-4860-93d9-ca562891f3a9.nc to ./historical_climate_data/weather-53.3344_-117.574_52.8344_-117.074-2023-01-01.nc (3.2K)\n",
      "2024-01-13 16:30:38,901 INFO Download rate 10.3K/s                                                                                                                                                                                                \n",
      "2024-01-13 16:30:39,119 INFO Welcome to the CDS\n",
      "2024-01-13 16:30:39,120 INFO Sending request to https://cds.climate.copernicus.eu/api/v2/resources/reanalysis-era5-single-levels\n",
      "2024-01-13 16:30:39,188 INFO Request is queued\n"
     ]
    },
    {
     "name": "stdout",
     "output_type": "stream",
     "text": [
      "[[[262.90049153 262.83266696 263.63964844]\n",
      "  [261.88283178 262.53189552 263.61446893]\n",
      "  [258.87060547 259.52061526 260.92761138]]]\n"
     ]
    },
    {
     "name": "stderr",
     "output_type": "stream",
     "text": [
      "2024-01-13 16:30:40,257 INFO Request is running\n",
      "2024-01-13 16:30:44,136 INFO Request is completed\n",
      "2024-01-13 16:30:44,137 INFO Downloading https://download-0011-clone.copernicus-climate.eu/cache-compute-0011/cache/data9/adaptor.mars.internal-1705163442.2021806-13165-2-f046465f-a23a-41ba-a0c0-a40b45e2dabf.nc to ./historical_climate_data/weather-53.3325_-117.5586_52.8325_-117.0586-2023-01-01.nc (3.2K)\n",
      "2024-01-13 16:30:44,409 INFO Download rate 11.8K/s                                                                                                                                                                                                \n",
      "2024-01-13 16:30:44,562 INFO Welcome to the CDS\n",
      "2024-01-13 16:30:44,563 INFO Sending request to https://cds.climate.copernicus.eu/api/v2/resources/reanalysis-era5-single-levels\n",
      "2024-01-13 16:30:44,647 INFO Request is queued\n"
     ]
    },
    {
     "name": "stdout",
     "output_type": "stream",
     "text": [
      "[[[262.87283981 262.91283225 263.66933737]\n",
      "  [261.82826994 262.56578423 263.69287109]\n",
      "  [258.81237793 259.56642541 260.99572705]]]\n"
     ]
    },
    {
     "name": "stderr",
     "output_type": "stream",
     "text": [
      "2024-01-13 16:30:45,711 INFO Request is running\n",
      "2024-01-13 16:30:49,590 INFO Request is completed\n",
      "2024-01-13 16:30:49,591 INFO Downloading https://download-0016.copernicus-climate.eu/cache-compute-0016/cache/data9/adaptor.mars.internal-1705163448.5857875-20510-10-cbfcdcaf-97ce-4fce-972a-11d338590286.nc to ./historical_climate_data/weather-53.7471_-118.2281_53.2471_-117.7281-2023-01-02.nc (3.2K)\n",
      "2024-01-13 16:30:49,879 INFO Download rate 11.2K/s                                                                                                                                                                                                \n",
      "2024-01-13 16:30:50,013 INFO Welcome to the CDS\n",
      "2024-01-13 16:30:50,014 INFO Sending request to https://cds.climate.copernicus.eu/api/v2/resources/reanalysis-era5-single-levels\n",
      "2024-01-13 16:30:50,104 INFO Request is queued\n"
     ]
    },
    {
     "name": "stdout",
     "output_type": "stream",
     "text": [
      "[[[261.75018311 261.54546722 261.17732772]\n",
      "  [259.95503257 259.74660747 260.85642615]\n",
      "  [258.17553711 258.56380455 259.98028796]]]\n"
     ]
    },
    {
     "name": "stderr",
     "output_type": "stream",
     "text": [
      "2024-01-13 16:30:55,048 INFO Request is running\n",
      "2024-01-13 16:30:58,489 INFO Request is completed\n",
      "2024-01-13 16:30:58,491 INFO Downloading https://download-0005-clone.copernicus-climate.eu/cache-compute-0005/cache/data7/adaptor.mars.internal-1705163457.4380002-12897-13-5284ae3a-ee93-45b0-b02b-bfc32f7ae734.nc to ./historical_climate_data/weather-53.7429_-118.2082_53.2429_-117.7082-2023-01-02.nc (3.2K)\n",
      "2024-01-13 16:30:58,809 INFO Download rate 10.1K/s                                                                                                                                                                                                \n",
      "2024-01-13 16:30:58,944 INFO Welcome to the CDS\n",
      "2024-01-13 16:30:58,945 INFO Sending request to https://cds.climate.copernicus.eu/api/v2/resources/reanalysis-era5-single-levels\n",
      "2024-01-13 16:30:59,045 INFO Request is queued\n"
     ]
    },
    {
     "name": "stdout",
     "output_type": "stream",
     "text": [
      "[[[261.70379639 261.50602871 261.16536625]\n",
      "  [259.90865378 259.81070863 260.97221154]\n",
      "  [258.18865967 258.62935921 260.10132573]]]\n"
     ]
    },
    {
     "name": "stderr",
     "output_type": "stream",
     "text": [
      "2024-01-13 16:31:01,673 INFO Request is running\n",
      "2024-01-13 16:31:07,430 INFO Request is completed\n",
      "2024-01-13 16:31:07,433 INFO Downloading https://download-0006-clone.copernicus-climate.eu/cache-compute-0006/cache/data5/adaptor.mars.internal-1705163464.0225632-27671-19-089b8799-76c0-40c5-b02f-91f128abde4d.nc to ./historical_climate_data/weather-53.7498_-118.2104_53.2498_-117.7104-2023-01-02.nc (3.2K)\n",
      "2024-01-13 16:31:07,745 INFO Download rate 10.3K/s                                                                                                                                                                                                \n",
      "2024-01-13 16:31:07,884 INFO Welcome to the CDS\n",
      "2024-01-13 16:31:07,885 INFO Sending request to https://cds.climate.copernicus.eu/api/v2/resources/reanalysis-era5-single-levels\n",
      "2024-01-13 16:31:07,956 INFO Request is queued\n"
     ]
    },
    {
     "name": "stdout",
     "output_type": "stream",
     "text": [
      "[[[261.75500488 261.52222999 261.17853769]\n",
      "  [259.94447329 259.83436828 260.96948439]\n",
      "  [258.20581055 258.68674146 260.15238926]]]\n"
     ]
    },
    {
     "name": "stderr",
     "output_type": "stream",
     "text": [
      "2024-01-13 16:31:09,022 INFO Request is running\n",
      "2024-01-13 16:31:12,904 INFO Request is completed\n",
      "2024-01-13 16:31:12,906 INFO Downloading https://download-0006-clone.copernicus-climate.eu/cache-compute-0006/cache/data9/adaptor.mars.internal-1705163471.3169851-6819-4-de35e408-80d1-4b07-9550-14fe1beada74.nc to ./historical_climate_data/weather-53.745_-118.2212_53.245_-117.7212-2023-01-02.nc (3.2K)\n",
      "2024-01-13 16:31:13,019 INFO Download rate 28.6K/s                                                                                                                                                                                                \n",
      "2024-01-13 16:31:13,155 INFO Welcome to the CDS\n",
      "2024-01-13 16:31:13,156 INFO Sending request to https://cds.climate.copernicus.eu/api/v2/resources/reanalysis-era5-single-levels\n",
      "2024-01-13 16:31:13,246 INFO Request is queued\n"
     ]
    },
    {
     "name": "stdout",
     "output_type": "stream",
     "text": [
      "[[[261.72949219 261.53061286 261.17197977]\n",
      "  [259.93583906 259.76573492 260.89555376]\n",
      "  [258.17822266 258.5800998  260.01582432]]]\n"
     ]
    },
    {
     "name": "stderr",
     "output_type": "stream",
     "text": [
      "2024-01-13 16:31:14,313 INFO Request is running\n",
      "2024-01-13 16:31:21,632 INFO Request is completed\n",
      "2024-01-13 16:31:21,633 INFO Downloading https://download-0013-clone.copernicus-climate.eu/cache-compute-0013/cache/data4/adaptor.mars.internal-1705163477.979548-12326-1-198db08d-37bd-4d38-89c2-d57975234720.nc to ./historical_climate_data/weather-57.0294_-118.2659_56.5294_-117.7659-2023-01-03.nc (3.2K)\n",
      "2024-01-13 16:31:21,943 INFO Download rate 10.3K/s                                                                                                                                                                                                \n",
      "2024-01-13 16:31:22,074 INFO Welcome to the CDS\n",
      "2024-01-13 16:31:22,075 INFO Sending request to https://cds.climate.copernicus.eu/api/v2/resources/reanalysis-era5-single-levels\n",
      "2024-01-13 16:31:22,151 INFO Request is queued\n"
     ]
    },
    {
     "name": "stdout",
     "output_type": "stream",
     "text": [
      "[[[268.42003367 268.55114746 266.97273483]\n",
      "  [268.52131007 268.42816102 267.41535985]\n",
      "  [266.80283986 267.04966631 266.11914062]]]\n"
     ]
    },
    {
     "name": "stderr",
     "output_type": "stream",
     "text": [
      "2024-01-13 16:31:24,782 INFO Request is running\n",
      "2024-01-13 16:31:30,538 INFO Request is completed\n",
      "2024-01-13 16:31:30,540 INFO Downloading https://download-0006-clone.copernicus-climate.eu/cache-compute-0006/cache/data8/adaptor.mars.internal-1705163487.5314243-6483-7-48a816a1-a593-4463-a2c3-0d2402707900.nc to ./historical_climate_data/weather-57.028_-118.2703_56.528_-117.7703-2023-01-03.nc (3.2K)\n",
      "2024-01-13 16:31:30,605 INFO Download rate 49.9K/s                                                                                                                                                                                                \n",
      "2024-01-13 16:31:30,733 INFO Welcome to the CDS\n",
      "2024-01-13 16:31:30,734 INFO Sending request to https://cds.climate.copernicus.eu/api/v2/resources/reanalysis-era5-single-levels\n",
      "2024-01-13 16:31:30,812 INFO Request is queued\n"
     ]
    },
    {
     "name": "stdout",
     "output_type": "stream",
     "text": [
      "[[[268.41551978 268.54925537 267.00327937]\n",
      "  [268.51153602 268.42560537 267.4361098 ]\n",
      "  [266.78135957 267.03626995 266.12823486]]]\n"
     ]
    },
    {
     "name": "stderr",
     "output_type": "stream",
     "text": [
      "2024-01-13 16:31:33,441 INFO Request is running\n",
      "2024-01-13 16:31:39,199 INFO Request is completed\n",
      "2024-01-13 16:31:39,200 INFO Downloading https://download-0019.copernicus-climate.eu/cache-compute-0019/cache/data1/adaptor.mars.internal-1705163496.2235212-1232-6-bf812a76-c04a-4231-9874-a19dc6387c2a.nc to ./historical_climate_data/weather-54.6142_-117.8502_54.1142_-117.3502-2023-01-03.nc (3.2K)\n",
      "2024-01-13 16:31:39,515 INFO Download rate 10.2K/s                                                                                                                                                                                                \n",
      "2024-01-13 16:31:39,643 INFO Welcome to the CDS\n",
      "2024-01-13 16:31:39,644 INFO Sending request to https://cds.climate.copernicus.eu/api/v2/resources/reanalysis-era5-single-levels\n",
      "2024-01-13 16:31:39,708 INFO Request is queued\n"
     ]
    },
    {
     "name": "stdout",
     "output_type": "stream",
     "text": [
      "[[[266.39268654 266.05652017 265.45861816]\n",
      "  [267.69403076 267.65698594 267.01903733]\n",
      "  [267.47479775 267.45460389 267.07122754]]]\n"
     ]
    },
    {
     "name": "stderr",
     "output_type": "stream",
     "text": [
      "2024-01-13 16:31:42,336 INFO Request is running\n",
      "2024-01-13 16:31:48,161 INFO Request is completed\n",
      "2024-01-13 16:31:48,163 INFO Downloading https://download-0007-clone.copernicus-climate.eu/cache-compute-0007/cache/data9/adaptor.mars.internal-1705163505.2044008-2976-6-39b9ca77-f077-4836-88a2-b35ec5ace865.nc to ./historical_climate_data/weather-54.612_-117.8352_54.112_-117.3352-2023-01-03.nc (3.2K)\n",
      "2024-01-13 16:31:48,449 INFO Download rate 11.2K/s                                                                                                                                                                                                \n",
      "2024-01-13 16:31:48,577 INFO Welcome to the CDS\n",
      "2024-01-13 16:31:48,579 INFO Sending request to https://cds.climate.copernicus.eu/api/v2/resources/reanalysis-era5-single-levels\n",
      "2024-01-13 16:31:48,665 INFO Request is queued\n"
     ]
    },
    {
     "name": "stdout",
     "output_type": "stream",
     "text": [
      "[[[266.38782866 266.06756455 265.45904541]\n",
      "  [267.73168945 267.64807746 266.96745988]\n",
      "  [267.49684067 267.43299592 267.01160673]]]\n"
     ]
    },
    {
     "name": "stderr",
     "output_type": "stream",
     "text": [
      "2024-01-13 16:31:53,607 INFO Request is running\n",
      "2024-01-13 16:31:57,042 INFO Request is completed\n",
      "2024-01-13 16:31:57,044 INFO Downloading https://download-0014-clone.copernicus-climate.eu/cache-compute-0014/cache/data5/adaptor.mars.internal-1705163515.4798687-29971-1-cccc9e52-2510-4373-be34-90d79eb17591.nc to ./historical_climate_data/weather-53.7158_-117.245_53.2158_-116.745-2023-01-03.nc (3.2K)\n",
      "2024-01-13 16:31:57,346 INFO Download rate 10.6K/s                                                                                                                                                                                                \n",
      "2024-01-13 16:31:57,476 INFO Welcome to the CDS\n",
      "2024-01-13 16:31:57,477 INFO Sending request to https://cds.climate.copernicus.eu/api/v2/resources/reanalysis-era5-single-levels\n",
      "2024-01-13 16:31:57,578 INFO Request is queued\n"
     ]
    },
    {
     "name": "stdout",
     "output_type": "stream",
     "text": [
      "[[[255.61430359 255.99148869 256.53925764]\n",
      "  [258.80559939 258.47345982 257.26065148]\n",
      "  [261.84208679 261.74258747 259.82843721]]]\n"
     ]
    },
    {
     "name": "stderr",
     "output_type": "stream",
     "text": [
      "2024-01-13 16:32:00,208 INFO Request is running\n",
      "2024-01-13 16:32:02,530 INFO Request is completed\n",
      "2024-01-13 16:32:02,533 INFO Downloading https://download-0003-clone.copernicus-climate.eu/cache-compute-0003/cache/data1/adaptor.mars.internal-1705163521.5047128-18185-13-fd040b8c-3fcc-4f79-a6e7-082d8be2d02c.nc to ./historical_climate_data/weather-53.7177_-117.2657_53.2177_-116.7657-2023-01-03.nc (3.2K)\n",
      "2024-01-13 16:32:02,787 INFO Download rate 12.6K/s                                                                                                                                                                                                \n"
     ]
    },
    {
     "name": "stdout",
     "output_type": "stream",
     "text": [
      "[[[255.57315063 256.01604856 256.48440259]\n",
      "  [258.76549916 258.48586482 257.39785563]\n",
      "  [261.84463501 261.70328664 259.98155446]]]\n"
     ]
    },
    {
     "name": "stderr",
     "output_type": "stream",
     "text": [
      "2024-01-13 16:32:03,110 INFO Welcome to the CDS\n",
      "2024-01-13 16:32:03,111 INFO Sending request to https://cds.climate.copernicus.eu/api/v2/resources/reanalysis-era5-single-levels\n",
      "2024-01-13 16:32:03,213 INFO Request is queued\n",
      "2024-01-13 16:32:04,277 INFO Request is running\n",
      "2024-01-13 16:32:08,156 INFO Request is completed\n",
      "2024-01-13 16:32:08,156 INFO Downloading https://download-0004-clone.copernicus-climate.eu/cache-compute-0004/cache/data4/adaptor.mars.internal-1705163527.4746084-17989-16-652f12ad-1336-4c96-b708-9a8b74643d61.nc to ./historical_climate_data/weather-53.7347_-117.2194_53.2347_-116.7194-2023-01-03.nc (3.2K)\n",
      "2024-01-13 16:32:08,456 INFO Download rate 10.7K/s                                                                                                                                                                                                \n",
      "2024-01-13 16:32:08,584 INFO Welcome to the CDS\n",
      "2024-01-13 16:32:08,586 INFO Sending request to https://cds.climate.copernicus.eu/api/v2/resources/reanalysis-era5-single-levels\n"
     ]
    },
    {
     "name": "stdout",
     "output_type": "stream",
     "text": [
      "[[[255.43318176 255.82389035 256.52230933]\n",
      "  [258.48779448 258.07111163 256.9647674 ]\n",
      "  [261.95491028 261.6423235  259.62618357]]]\n"
     ]
    },
    {
     "name": "stderr",
     "output_type": "stream",
     "text": [
      "2024-01-13 16:32:08,773 INFO Request is queued\n",
      "2024-01-13 16:32:11,401 INFO Request is running\n",
      "2024-01-13 16:32:17,156 INFO Request is completed\n",
      "2024-01-13 16:32:17,157 INFO Downloading https://download-0009-clone.copernicus-climate.eu/cache-compute-0009/cache/data0/adaptor.mars.internal-1705163534.745624-29320-14-0f8ce5f4-0c88-44bb-aa38-0e60e3e5892f.nc to ./historical_climate_data/weather-53.7121_-117.2039_53.2121_-116.7039-2023-01-03.nc (3.2K)\n",
      "2024-01-13 16:32:17,454 INFO Download rate 10.8K/s                                                                                                                                                                                                \n",
      "2024-01-13 16:32:17,583 INFO Welcome to the CDS\n",
      "2024-01-13 16:32:17,585 INFO Sending request to https://cds.climate.copernicus.eu/api/v2/resources/reanalysis-era5-single-levels\n",
      "2024-01-13 16:32:17,675 INFO Request is queued\n"
     ]
    },
    {
     "name": "stdout",
     "output_type": "stream",
     "text": [
      "[[[255.7472229  255.90953102 256.56924686]\n",
      "  [258.81912249 258.35638342 257.11107091]\n",
      "  [261.77359009 261.58838411 259.6177888 ]]]\n"
     ]
    },
    {
     "name": "stderr",
     "output_type": "stream",
     "text": [
      "2024-01-13 16:32:18,740 INFO Request is running\n",
      "2024-01-13 16:32:22,696 INFO Request is completed\n",
      "2024-01-13 16:32:22,698 INFO Downloading https://download-0007-clone.copernicus-climate.eu/cache-compute-0007/cache/data5/adaptor.mars.internal-1705163541.1946025-761-14-0aef5426-b22e-4d0d-b421-c8293dc337c4.nc to ./historical_climate_data/weather-53.3767_-117.5222_52.8767_-117.0222-2023-01-03.nc (3.2K)\n",
      "2024-01-13 16:32:22,763 INFO Download rate 49.5K/s                                                                                                                                                                                                \n",
      "2024-01-13 16:32:22,899 INFO Welcome to the CDS\n",
      "2024-01-13 16:32:22,901 INFO Sending request to https://cds.climate.copernicus.eu/api/v2/resources/reanalysis-era5-single-levels\n",
      "2024-01-13 16:32:23,000 INFO Request is queued\n"
     ]
    },
    {
     "name": "stdout",
     "output_type": "stream",
     "text": [
      "[[[260.11496851 260.1451413  259.90864568]\n",
      "  [260.47925814 261.17022085 261.43029785]\n",
      "  [257.70654297 258.88845287 260.39067172]]]\n"
     ]
    },
    {
     "name": "stderr",
     "output_type": "stream",
     "text": [
      "2024-01-13 16:32:25,630 INFO Request is running\n",
      "2024-01-13 16:32:31,388 INFO Request is completed\n",
      "2024-01-13 16:32:31,390 INFO Downloading https://download-0000-clone.copernicus-climate.eu/cache-compute-0000/cache/data1/adaptor.mars.internal-1705163547.7317166-23142-12-48520518-55ae-4aed-ae86-a952dbf9cd2e.nc to ./historical_climate_data/weather-53.3785_-117.5423_52.8785_-117.0423-2023-01-03.nc (3.2K)\n",
      "2024-01-13 16:32:31,694 INFO Download rate 10.6K/s                                                                                                                                                                                                \n",
      "2024-01-13 16:32:31,821 INFO Welcome to the CDS\n",
      "2024-01-13 16:32:31,823 INFO Sending request to https://cds.climate.copernicus.eu/api/v2/resources/reanalysis-era5-single-levels\n",
      "2024-01-13 16:32:31,922 INFO Request is queued\n"
     ]
    },
    {
     "name": "stdout",
     "output_type": "stream",
     "text": [
      "[[[260.06409021 260.09719577 259.90719128]\n",
      "  [260.4381774  261.1623263  261.36315918]\n",
      "  [257.66723633 258.79056948 260.32831432]]]\n"
     ]
    },
    {
     "name": "stderr",
     "output_type": "stream",
     "text": [
      "2024-01-13 16:32:32,987 INFO Request is running\n",
      "2024-01-13 16:32:36,867 INFO Request is completed\n",
      "2024-01-13 16:32:36,868 INFO Downloading https://download-0009-clone.copernicus-climate.eu/cache-compute-0009/cache/data2/adaptor.mars.internal-1705163555.0023186-29532-13-f9c59d62-082f-4b0c-9860-b4e21120cd89.nc to ./historical_climate_data/weather-53.5622_-117.6815_53.0622_-117.1815-2023-01-03.nc (3.2K)\n",
      "2024-01-13 16:32:36,932 INFO Download rate 51.3K/s                                                                                                                                                                                                \n",
      "2024-01-13 16:32:37,063 INFO Welcome to the CDS\n",
      "2024-01-13 16:32:37,065 INFO Sending request to https://cds.climate.copernicus.eu/api/v2/resources/reanalysis-era5-single-levels\n"
     ]
    },
    {
     "name": "stdout",
     "output_type": "stream",
     "text": [
      "[[[257.39984131 257.58670777 257.63796257]\n",
      "  [259.80415231 260.96289297 261.08282471]\n",
      "  [259.32785358 260.15512405 260.68155357]]]\n"
     ]
    },
    {
     "name": "stderr",
     "output_type": "stream",
     "text": [
      "2024-01-13 16:32:37,200 INFO Request is queued\n",
      "2024-01-13 16:32:39,831 INFO Request is running\n",
      "2024-01-13 16:32:45,586 INFO Request is completed\n",
      "2024-01-13 16:32:45,588 INFO Downloading https://download-0005-clone.copernicus-climate.eu/cache-compute-0005/cache/data6/adaptor.mars.internal-1705163562.8457496-24063-1-fbbcbb67-c4ea-4b17-8753-f148e93798c5.nc to ./historical_climate_data/weather-53.5603_-117.6602_53.0603_-117.1602-2023-01-03.nc (3.2K)\n",
      "2024-01-13 16:32:45,840 INFO Download rate 12.8K/s                                                                                                                                                                                                \n",
      "2024-01-13 16:32:45,973 INFO Welcome to the CDS\n",
      "2024-01-13 16:32:45,975 INFO Sending request to https://cds.climate.copernicus.eu/api/v2/resources/reanalysis-era5-single-levels\n",
      "2024-01-13 16:32:46,052 INFO Request is queued\n"
     ]
    },
    {
     "name": "stdout",
     "output_type": "stream",
     "text": [
      "[[[257.45458984 257.59535331 257.62742319]\n",
      "  [260.01374399 261.01412447 261.09063721]\n",
      "  [259.37134769 260.22425112 260.75273831]]]\n"
     ]
    },
    {
     "name": "stderr",
     "output_type": "stream",
     "text": [
      "2024-01-13 16:32:48,687 INFO Request is running\n",
      "2024-01-13 16:32:51,006 INFO Request is completed\n",
      "2024-01-13 16:32:51,008 INFO Downloading https://download-0001-clone.copernicus-climate.eu/cache-compute-0001/cache/data4/adaptor.mars.internal-1705163570.2872832-24582-5-20146d74-bf8e-4998-b0b7-afbf24aad1e2.nc to ./historical_climate_data/weather-53.5516_-117.683_53.0516_-117.183-2023-01-03.nc (3.2K)\n",
      "2024-01-13 16:32:51,255 INFO Download rate 13K/s                                                                                                                                                                                                  \n",
      "2024-01-13 16:32:51,388 INFO Welcome to the CDS\n",
      "2024-01-13 16:32:51,390 INFO Sending request to https://cds.climate.copernicus.eu/api/v2/resources/reanalysis-era5-single-levels\n"
     ]
    },
    {
     "name": "stdout",
     "output_type": "stream",
     "text": [
      "[[[257.54327393 257.7334478  257.73576423]\n",
      "  [259.8468298  261.12279139 261.24578857]\n",
      "  [259.21218242 260.03785115 260.64696122]]]\n"
     ]
    },
    {
     "name": "stderr",
     "output_type": "stream",
     "text": [
      "2024-01-13 16:32:51,542 INFO Request is queued\n",
      "2024-01-13 16:32:52,607 INFO Request is running\n",
      "2024-01-13 16:32:56,488 INFO Request is completed\n",
      "2024-01-13 16:32:56,490 INFO Downloading https://download-0015-clone.copernicus-climate.eu/cache-compute-0015/cache/data3/adaptor.mars.internal-1705163575.277868-3101-11-596238ae-86f8-4444-9034-7888ef674eca.nc to ./historical_climate_data/weather-53.5403_-117.6747_53.0403_-117.1747-2023-01-03.nc (3.2K)\n",
      "2024-01-13 16:32:56,809 INFO Download rate 10.1K/s                                                                                                                                                                                                \n",
      "2024-01-13 16:32:56,946 INFO Welcome to the CDS\n",
      "2024-01-13 16:32:56,947 INFO Sending request to https://cds.climate.copernicus.eu/api/v2/resources/reanalysis-era5-single-levels\n",
      "2024-01-13 16:32:57,050 INFO Request is queued\n"
     ]
    },
    {
     "name": "stdout",
     "output_type": "stream",
     "text": [
      "[[[257.70947266 257.88174153 257.82719819]\n",
      "  [259.98504789 261.30357383 261.40966797]\n",
      "  [259.11822661 259.95410612 260.64555305]]]\n"
     ]
    },
    {
     "name": "stderr",
     "output_type": "stream",
     "text": [
      "2024-01-13 16:32:58,120 INFO Request is running\n",
      "2024-01-13 16:33:02,006 INFO Request is completed\n",
      "2024-01-13 16:33:02,008 INFO Downloading https://download-0016.copernicus-climate.eu/cache-compute-0016/cache/data5/adaptor.mars.internal-1705163580.3105357-8725-19-1d903035-be78-4b5d-b5a1-d2748449fc66.nc to ./historical_climate_data/weather-53.5534_-117.686_53.0534_-117.186-2023-01-03.nc (3.2K)\n",
      "2024-01-13 16:33:02,276 INFO Download rate 12K/s                                                                                                                                                                                                  \n",
      "2024-01-13 16:33:02,413 INFO Welcome to the CDS\n",
      "2024-01-13 16:33:02,415 INFO Sending request to https://cds.climate.copernicus.eu/api/v2/resources/reanalysis-era5-single-levels\n",
      "2024-01-13 16:33:02,510 INFO Request is queued\n"
     ]
    },
    {
     "name": "stdout",
     "output_type": "stream",
     "text": [
      "[[[257.51452637 257.71119825 257.72341601]\n",
      "  [259.80908828 261.09223518 261.22131348]\n",
      "  [259.22212706 260.0441669  260.64119646]]]\n"
     ]
    },
    {
     "name": "stderr",
     "output_type": "stream",
     "text": [
      "2024-01-13 16:33:03,580 INFO Request is running\n",
      "2024-01-13 16:33:07,461 INFO Request is completed\n",
      "2024-01-13 16:33:07,463 INFO Downloading https://download-0013-clone.copernicus-climate.eu/cache-compute-0013/cache/data2/adaptor.mars.internal-1705163586.1956475-12554-4-e7872fa8-7443-4732-8abf-1bf17ea04035.nc to ./historical_climate_data/weather-53.7066_-117.2485_53.2066_-116.7485-2023-01-03.nc (3.2K)\n",
      "2024-01-13 16:33:07,719 INFO Download rate 12.6K/s                                                                                                                                                                                                \n",
      "2024-01-13 16:33:07,851 INFO Welcome to the CDS\n",
      "2024-01-13 16:33:07,853 INFO Sending request to https://cds.climate.copernicus.eu/api/v2/resources/reanalysis-era5-single-levels\n",
      "2024-01-13 16:33:07,971 INFO Request is queued\n"
     ]
    },
    {
     "name": "stdout",
     "output_type": "stream",
     "text": [
      "[[[255.72138977 256.08941854 256.55264309]\n",
      "  [258.94917395 258.63133092 257.38408125]\n",
      "  [261.77815247 261.72556372 259.8782109 ]]]\n"
     ]
    },
    {
     "name": "stderr",
     "output_type": "stream",
     "text": [
      "2024-01-13 16:33:10,600 INFO Request is running\n",
      "2024-01-13 16:33:12,918 INFO Request is completed\n",
      "2024-01-13 16:33:12,920 INFO Downloading https://download-0017.copernicus-climate.eu/cache-compute-0017/cache/data0/adaptor.mars.internal-1705163592.4537685-25165-17-9cc65f5b-1199-4814-9f09-44e4c44bb560.nc to ./historical_climate_data/weather-53.7196_-117.2588_53.2196_-116.7588-2023-01-03.nc (3.2K)\n",
      "2024-01-13 16:33:13,183 INFO Download rate 12.2K/s                                                                                                                                                                                                \n",
      "2024-01-13 16:33:13,316 INFO Welcome to the CDS\n",
      "2024-01-13 16:33:13,317 INFO Sending request to https://cds.climate.copernicus.eu/api/v2/resources/reanalysis-era5-single-levels\n",
      "2024-01-13 16:33:13,391 INFO Request is queued\n"
     ]
    },
    {
     "name": "stdout",
     "output_type": "stream",
     "text": [
      "[[[255.55255127 255.98982351 256.50262372]\n",
      "  [258.74360785 258.44737252 257.31830649]\n",
      "  [261.86578369 261.7332244  259.91689242]]]\n"
     ]
    },
    {
     "name": "stderr",
     "output_type": "stream",
     "text": [
      "2024-01-13 16:33:14,454 INFO Request is running\n",
      "2024-01-13 16:33:18,326 INFO Request is completed\n",
      "2024-01-13 16:33:18,327 INFO Downloading https://download-0004-clone.copernicus-climate.eu/cache-compute-0004/cache/data9/adaptor.mars.internal-1705163597.369827-28723-8-7c4128e5-eaa4-4a6c-93d1-faeb5c7a26a1.nc to ./historical_climate_data/weather-53.7092_-117.2548_53.2092_-116.7548-2023-01-03.nc (3.2K)\n",
      "2024-01-13 16:33:18,564 INFO Download rate 13.6K/s                                                                                                                                                                                                \n",
      "2024-01-13 16:33:18,697 INFO Welcome to the CDS\n",
      "2024-01-13 16:33:18,698 INFO Sending request to https://cds.climate.copernicus.eu/api/v2/resources/reanalysis-era5-single-levels\n",
      "2024-01-13 16:33:18,784 INFO Request is queued\n"
     ]
    },
    {
     "name": "stdout",
     "output_type": "stream",
     "text": [
      "[[[255.68374634 256.07850437 256.53246678]\n",
      "  [258.9061429  258.60350129 257.4028178 ]\n",
      "  [261.79373169 261.71886379 259.91811825]]]\n"
     ]
    },
    {
     "name": "stderr",
     "output_type": "stream",
     "text": [
      "2024-01-13 16:33:19,851 INFO Request is running\n",
      "2024-01-13 16:33:23,730 INFO Request is completed\n",
      "2024-01-13 16:33:23,731 INFO Downloading https://download-0001-clone.copernicus-climate.eu/cache-compute-0001/cache/data2/adaptor.mars.internal-1705163601.4375398-19454-17-e583aaf6-09c7-4847-ad9c-15c405d112f7.nc to ./historical_climate_data/weather-53.4875_-117.3904_52.9875_-116.8904-2023-01-03.nc (3.2K)\n",
      "2024-01-13 16:33:23,791 INFO Download rate 54.4K/s                                                                                                                                                                                                \n",
      "2024-01-13 16:33:23,921 INFO Welcome to the CDS\n",
      "2024-01-13 16:33:23,922 INFO Sending request to https://cds.climate.copernicus.eu/api/v2/resources/reanalysis-era5-single-levels\n",
      "2024-01-13 16:33:24,006 INFO Request is queued\n"
     ]
    },
    {
     "name": "stdout",
     "output_type": "stream",
     "text": [
      "[[[258.57359219 258.3416542  257.69165039]\n",
      "  [261.85986158 261.89624023 260.9666918 ]\n",
      "  [259.52906122 260.58725023 260.83676803]]]\n"
     ]
    },
    {
     "name": "stderr",
     "output_type": "stream",
     "text": [
      "2024-01-13 16:33:25,068 INFO Request is running\n",
      "2024-01-13 16:33:28,946 INFO Request is completed\n",
      "2024-01-13 16:33:28,948 INFO Downloading https://download-0001-clone.copernicus-climate.eu/cache-compute-0001/cache/data2/adaptor.mars.internal-1705163607.2579877-22064-17-6d03cb1e-c77a-4805-9092-1640dd627857.nc to ./historical_climate_data/weather-53.5393_-117.6671_53.0393_-117.1671-2023-01-03.nc (3.2K)\n",
      "2024-01-13 16:33:29,009 INFO Download rate 54.2K/s                                                                                                                                                                                                \n",
      "2024-01-13 16:33:29,141 INFO Welcome to the CDS\n",
      "2024-01-13 16:33:29,143 INFO Sending request to https://cds.climate.copernicus.eu/api/v2/resources/reanalysis-era5-single-levels\n",
      "2024-01-13 16:33:29,217 INFO Request is queued\n"
     ]
    },
    {
     "name": "stdout",
     "output_type": "stream",
     "text": [
      "[[[257.73345947 257.8892296  257.82638189]\n",
      "  [260.06157926 261.32674077 261.4173584 ]\n",
      "  [259.13038756 259.97540257 260.67010025]]]\n"
     ]
    },
    {
     "name": "stderr",
     "output_type": "stream",
     "text": [
      "2024-01-13 16:33:30,280 INFO Request is running\n",
      "2024-01-13 16:33:34,164 INFO Request is completed\n",
      "2024-01-13 16:33:34,165 INFO Downloading https://download-0020.copernicus-climate.eu/cache-compute-0020/cache/data7/adaptor.mars.internal-1705163612.203979-8431-10-3fdc7621-081b-4088-a0dc-2920c5366422.nc to ./historical_climate_data/weather-53.7228_-117.2495_53.2228_-116.7495-2023-01-03.nc (3.2K)\n",
      "2024-01-13 16:33:34,465 INFO Download rate 10.7K/s                                                                                                                                                                                                \n",
      "2024-01-13 16:33:34,595 INFO Welcome to the CDS\n",
      "2024-01-13 16:33:34,596 INFO Sending request to https://cds.climate.copernicus.eu/api/v2/resources/reanalysis-era5-single-levels\n"
     ]
    },
    {
     "name": "stdout",
     "output_type": "stream",
     "text": [
      "[[[255.51766968 255.94722726 256.52487122]\n",
      "  [258.70332793 258.38378849 257.20532861]\n",
      "  [261.89804077 261.77234747 259.82931013]]]\n"
     ]
    },
    {
     "name": "stderr",
     "output_type": "stream",
     "text": [
      "2024-01-13 16:33:34,739 INFO Request is queued\n",
      "2024-01-13 16:33:35,807 INFO Request is running\n",
      "2024-01-13 16:33:39,691 INFO Request is completed\n",
      "2024-01-13 16:33:39,693 INFO Downloading https://download-0010-clone.copernicus-climate.eu/cache-compute-0010/cache/data1/adaptor.mars.internal-1705163618.607057-29133-4-a5b58617-dc4a-474a-acc8-c116774af48a.nc to ./historical_climate_data/weather-53.7029_-117.1891_53.2029_-116.6891-2023-01-03.nc (3.2K)\n",
      "2024-01-13 16:33:39,936 INFO Download rate 13.2K/s                                                                                                                                                                                                \n",
      "2024-01-13 16:33:40,077 INFO Welcome to the CDS\n",
      "2024-01-13 16:33:40,078 INFO Sending request to https://cds.climate.copernicus.eu/api/v2/resources/reanalysis-era5-single-levels\n"
     ]
    },
    {
     "name": "stdout",
     "output_type": "stream",
     "text": [
      "[[[255.89299011 255.9708506  256.59329215]\n",
      "  [258.94290946 258.4362854  257.15663051]\n",
      "  [261.69120789 261.4947871  259.56844774]]]\n"
     ]
    },
    {
     "name": "stderr",
     "output_type": "stream",
     "text": [
      "2024-01-13 16:33:40,333 INFO Request is queued\n",
      "2024-01-13 16:33:41,396 INFO Request is running\n",
      "2024-01-13 16:33:45,274 INFO Request is completed\n",
      "2024-01-13 16:33:45,275 INFO Downloading https://download-0015-clone.copernicus-climate.eu/cache-compute-0015/cache/data0/adaptor.mars.internal-1705163623.261004-3101-14-557bd85d-3306-4d28-bb87-d6ace58e5f32.nc to ./historical_climate_data/weather-53.7224_-117.2578_53.2224_-116.7578-2023-01-03.nc (3.2K)\n",
      "2024-01-13 16:33:45,343 INFO Download rate 48.5K/s                                                                                                                                                                                                \n",
      "2024-01-13 16:33:45,464 INFO Welcome to the CDS\n",
      "2024-01-13 16:33:45,464 INFO Sending request to https://cds.climate.copernicus.eu/api/v2/resources/reanalysis-era5-single-levels\n",
      "2024-01-13 16:33:45,524 INFO Request is queued\n"
     ]
    },
    {
     "name": "stdout",
     "output_type": "stream",
     "text": [
      "[[[255.5181427  255.96318343 256.50104221]\n",
      "  [258.70194792 258.40240315 257.27799254]\n",
      "  [261.8874054  261.74443643 259.89915509]]]\n"
     ]
    },
    {
     "name": "stderr",
     "output_type": "stream",
     "text": [
      "2024-01-13 16:33:46,587 INFO Request is running\n",
      "2024-01-13 16:33:50,455 INFO Request is completed\n",
      "2024-01-13 16:33:50,456 INFO Downloading https://download-0017.copernicus-climate.eu/cache-compute-0017/cache/data8/adaptor.mars.internal-1705163629.5753431-27424-14-7a4ade3a-474d-429d-887e-beb8676e4e8b.nc to ./historical_climate_data/weather-53.7027_-117.1973_53.2027_-116.6973-2023-01-03.nc (3.2K)\n",
      "2024-01-13 16:33:50,525 INFO Download rate 47K/s                                                                                                                                                                                                  \n",
      "2024-01-13 16:33:50,643 INFO Welcome to the CDS\n",
      "2024-01-13 16:33:50,644 INFO Sending request to https://cds.climate.copernicus.eu/api/v2/resources/reanalysis-era5-single-levels\n",
      "2024-01-13 16:33:50,712 INFO Request is queued\n"
     ]
    },
    {
     "name": "stdout",
     "output_type": "stream",
     "text": [
      "[[[255.87817383 255.94584517 256.58890053]\n",
      "  [258.95668704 258.47428451 257.17174439]\n",
      "  [261.69799805 261.56469794 259.61368519]]]\n"
     ]
    },
    {
     "name": "stderr",
     "output_type": "stream",
     "text": [
      "2024-01-13 16:33:51,775 INFO Request is running\n",
      "2024-01-13 16:33:55,644 INFO Request is completed\n",
      "2024-01-13 16:33:55,645 INFO Downloading https://download-0002-clone.copernicus-climate.eu/cache-compute-0002/cache/data1/adaptor.mars.internal-1705163634.8265338-11759-3-838989b2-1240-4f8a-a17f-0407a3c70825.nc to ./historical_climate_data/weather-53.5509_-117.6653_53.0509_-117.1653-2023-01-03.nc (3.2K)\n",
      "2024-01-13 16:33:55,958 INFO Download rate 10.3K/s                                                                                                                                                                                                \n",
      "2024-01-13 16:33:56,080 INFO Welcome to the CDS\n",
      "2024-01-13 16:33:56,081 INFO Sending request to https://cds.climate.copernicus.eu/api/v2/resources/reanalysis-era5-single-levels\n",
      "2024-01-13 16:33:56,177 INFO Request is queued\n"
     ]
    },
    {
     "name": "stdout",
     "output_type": "stream",
     "text": [
      "[[[257.57672119 257.728499   257.71911068]\n",
      "  [260.01634263 261.1519379  261.2388916 ]\n",
      "  [259.2574536  260.10446987 260.70856341]]]\n"
     ]
    },
    {
     "name": "stderr",
     "output_type": "stream",
     "text": [
      "2024-01-13 16:33:57,240 INFO Request is running\n",
      "2024-01-13 16:34:01,103 INFO Request is completed\n",
      "2024-01-13 16:34:01,104 INFO Downloading https://download-0012-clone.copernicus-climate.eu/cache-compute-0012/cache/data9/adaptor.mars.internal-1705163640.0057707-16016-16-17566dae-ceb7-4136-bbdf-a22b73cba3b5.nc to ./historical_climate_data/weather-53.5489_-117.6728_53.0489_-117.1728-2023-01-03.nc (3.2K)\n",
      "2024-01-13 16:34:01,388 INFO Download rate 11.4K/s                                                                                                                                                                                                \n",
      "2024-01-13 16:34:01,513 INFO Welcome to the CDS\n",
      "2024-01-13 16:34:01,514 INFO Sending request to https://cds.climate.copernicus.eu/api/v2/resources/reanalysis-era5-single-levels\n",
      "2024-01-13 16:34:01,625 INFO Request is queued\n"
     ]
    },
    {
     "name": "stdout",
     "output_type": "stream",
     "text": [
      "[[[257.59405518 257.76213955 257.74696643]\n",
      "  [259.95678982 261.17457261 261.27679443]\n",
      "  [259.21415024 260.05221184 260.67616395]]]\n"
     ]
    },
    {
     "name": "stderr",
     "output_type": "stream",
     "text": [
      "2024-01-13 16:34:04,243 INFO Request is running\n",
      "2024-01-13 16:34:09,990 INFO Request is completed\n",
      "2024-01-13 16:34:09,992 INFO Downloading https://download-0000-clone.copernicus-climate.eu/cache-compute-0000/cache/data9/adaptor.mars.internal-1705163649.45312-12761-16-b0d31b3d-9a7c-40e3-99e6-353c71379ec1.nc to ./historical_climate_data/weather-53.5455_-117.6803_53.0455_-117.1803-2023-01-03.nc (3.2K)\n",
      "2024-01-13 16:34:10,234 INFO Download rate 13.3K/s                                                                                                                                                                                                \n",
      "2024-01-13 16:34:10,359 INFO Welcome to the CDS\n",
      "2024-01-13 16:34:10,360 INFO Sending request to https://cds.climate.copernicus.eu/api/v2/resources/reanalysis-era5-single-levels\n"
     ]
    },
    {
     "name": "stdout",
     "output_type": "stream",
     "text": [
      "[[[257.63061523 257.81494601 257.78740948]\n",
      "  [259.90472547 261.2185063  261.33605957]\n",
      "  [259.15615028 259.98524296 260.63984337]]]\n"
     ]
    },
    {
     "name": "stderr",
     "output_type": "stream",
     "text": [
      "2024-01-13 16:34:10,540 INFO Request is queued\n",
      "2024-01-13 16:34:18,917 INFO Request is running\n",
      "2024-01-13 16:34:24,046 INFO Request is completed\n",
      "2024-01-13 16:34:24,047 INFO Downloading https://download-0006-clone.copernicus-climate.eu/cache-compute-0006/cache/data7/adaptor.mars.internal-1705163659.4516792-8350-3-b55f3ccc-06af-43d8-90e3-062d51625caa.nc to ./historical_climate_data/weather-53.7125_-117.2558_53.2125_-116.7558-2023-01-03.nc (3.2K)\n",
      "2024-01-13 16:34:24,294 INFO Download rate 13K/s                                                                                                                                                                                                  \n",
      "2024-01-13 16:34:24,414 INFO Welcome to the CDS\n",
      "2024-01-13 16:34:24,416 INFO Sending request to https://cds.climate.copernicus.eu/api/v2/resources/reanalysis-era5-single-levels\n",
      "2024-01-13 16:34:24,512 INFO Request is queued\n"
     ]
    },
    {
     "name": "stdout",
     "output_type": "stream",
     "text": [
      "[[[255.64224243 256.05012354 256.52386487]\n",
      "  [258.85478903 258.5536599  257.37382917]\n",
      "  [261.81680298 261.72437254 259.91552489]]]\n"
     ]
    },
    {
     "name": "stderr",
     "output_type": "stream",
     "text": [
      "2024-01-13 16:34:25,576 INFO Request is running\n",
      "2024-01-13 16:34:29,450 INFO Request is completed\n",
      "2024-01-13 16:34:29,451 INFO Downloading https://download-0016.copernicus-climate.eu/cache-compute-0016/cache/data6/adaptor.mars.internal-1705163667.2988882-21219-16-cb7d78a6-6cd7-4b9c-ada9-22df2bc046f9.nc to ./historical_climate_data/weather-53.709_-117.224_53.209_-116.724-2023-01-03.nc (3.2K)\n",
      "2024-01-13 16:34:29,700 INFO Download rate 12.9K/s                                                                                                                                                                                                \n",
      "2024-01-13 16:34:29,823 INFO Welcome to the CDS\n",
      "2024-01-13 16:34:29,824 INFO Sending request to https://cds.climate.copernicus.eu/api/v2/resources/reanalysis-era5-single-levels\n",
      "2024-01-13 16:34:29,884 INFO Request is queued\n"
     ]
    },
    {
     "name": "stdout",
     "output_type": "stream",
     "text": [
      "[[[255.74334717 255.96419058 256.5627949 ]\n",
      "  [258.88850326 258.48995494 257.22495723]\n",
      "  [261.77105713 261.67521421 259.73738452]]]\n"
     ]
    },
    {
     "name": "stderr",
     "output_type": "stream",
     "text": [
      "2024-01-13 16:34:30,942 INFO Request is running\n",
      "2024-01-13 16:34:34,811 INFO Request is completed\n",
      "2024-01-13 16:34:34,813 INFO Downloading https://download-0005-clone.copernicus-climate.eu/cache-compute-0005/cache/data6/adaptor.mars.internal-1705163673.4882207-24483-2-75f0eb46-b8ae-488c-bcb6-2e97aa6c87ad.nc to ./historical_climate_data/weather-53.7073_-117.2599_53.2073_-116.7599-2023-01-03.nc (3.2K)\n",
      "2024-01-13 16:34:35,077 INFO Download rate 12.2K/s                                                                                                                                                                                                \n",
      "2024-01-13 16:34:35,204 INFO Welcome to the CDS\n",
      "2024-01-13 16:34:35,205 INFO Sending request to https://cds.climate.copernicus.eu/api/v2/resources/reanalysis-era5-single-levels\n",
      "2024-01-13 16:34:35,307 INFO Request is queued\n"
     ]
    },
    {
     "name": "stdout",
     "output_type": "stream",
     "text": [
      "[[[255.70513916 256.10235672 256.51985655]\n",
      "  [258.92983447 258.63986287 257.46738111]\n",
      "  [261.77435303 261.69553928 259.96756418]]]\n"
     ]
    },
    {
     "name": "stderr",
     "output_type": "stream",
     "text": [
      "2024-01-13 16:34:36,369 INFO Request is running\n",
      "2024-01-13 16:34:40,234 INFO Request is completed\n",
      "2024-01-13 16:34:40,235 INFO Downloading https://download-0017.copernicus-climate.eu/cache-compute-0017/cache/data2/adaptor.mars.internal-1705163678.1036704-29855-2-73c351db-744e-4a0a-a9cf-72b5d6f7d6be.nc to ./historical_climate_data/weather-53.7206_-117.2616_53.2206_-116.7616-2023-01-03.nc (3.2K)\n",
      "2024-01-13 16:34:40,299 INFO Download rate 50.2K/s                                                                                                                                                                                                \n",
      "2024-01-13 16:34:40,427 INFO Welcome to the CDS\n",
      "2024-01-13 16:34:40,428 INFO Sending request to https://cds.climate.copernicus.eu/api/v2/resources/reanalysis-era5-single-levels\n",
      "2024-01-13 16:34:40,490 INFO Request is queued\n"
     ]
    },
    {
     "name": "stdout",
     "output_type": "stream",
     "text": [
      "[[[255.53886414 255.98444041 256.49223506]\n",
      "  [258.72552674 258.43549639 257.33034742]\n",
      "  [261.87016296 261.72592069 259.93733577]]]\n"
     ]
    },
    {
     "name": "stderr",
     "output_type": "stream",
     "text": [
      "2024-01-13 16:34:41,551 INFO Request is running\n",
      "2024-01-13 16:34:45,424 INFO Request is completed\n",
      "2024-01-13 16:34:45,426 INFO Downloading https://download-0003-clone.copernicus-climate.eu/cache-compute-0003/cache/data8/adaptor.mars.internal-1705163684.2698407-18185-18-40ac9976-97e4-4452-9ddf-d519d714aff1.nc to ./historical_climate_data/weather-57.378_-116.7543_56.878_-116.2543-2023-01-03.nc (3.2K)\n",
      "2024-01-13 16:34:45,676 INFO Download rate 12.9K/s                                                                                                                                                                                                \n",
      "2024-01-13 16:34:45,802 INFO Welcome to the CDS\n",
      "2024-01-13 16:34:45,803 INFO Sending request to https://cds.climate.copernicus.eu/api/v2/resources/reanalysis-era5-single-levels\n",
      "2024-01-13 16:34:45,876 INFO Request is queued\n"
     ]
    },
    {
     "name": "stdout",
     "output_type": "stream",
     "text": [
      "[[[263.51965879 263.8425293  263.75593356]\n",
      "  [262.758857   263.2831839  263.6813942 ]\n",
      "  [260.56414795 261.1440542  262.3862102 ]]]\n"
     ]
    },
    {
     "name": "stderr",
     "output_type": "stream",
     "text": [
      "2024-01-13 16:34:46,935 INFO Request is running\n",
      "2024-01-13 16:34:50,805 INFO Request is completed\n",
      "2024-01-13 16:34:50,807 INFO Downloading https://download-0015-clone.copernicus-climate.eu/cache-compute-0015/cache/data3/adaptor.mars.internal-1705163688.9418397-16391-16-4bbf2a00-1cc7-48cd-97c3-5ea242be50e3.nc to ./historical_climate_data/weather-57.383_-116.7633_56.883_-116.2633-2023-01-03.nc (3.2K)\n",
      "2024-01-13 16:34:51,058 INFO Download rate 12.8K/s                                                                                                                                                                                                \n",
      "2024-01-13 16:34:51,184 INFO Welcome to the CDS\n",
      "2024-01-13 16:34:51,185 INFO Sending request to https://cds.climate.copernicus.eu/api/v2/resources/reanalysis-era5-single-levels\n",
      "2024-01-13 16:34:51,296 INFO Request is queued\n"
     ]
    },
    {
     "name": "stdout",
     "output_type": "stream",
     "text": [
      "[[[263.49792081 263.83374023 263.74521657]\n",
      "  [262.7613517  263.2880941  263.69135782]\n",
      "  [260.66540527 261.1838803  262.36021525]]]\n"
     ]
    },
    {
     "name": "stderr",
     "output_type": "stream",
     "text": [
      "2024-01-13 16:34:52,353 INFO Request is running\n",
      "2024-01-13 16:34:56,225 INFO Request is completed\n",
      "2024-01-13 16:34:56,226 INFO Downloading https://download-0010-clone.copernicus-climate.eu/cache-compute-0010/cache/data9/adaptor.mars.internal-1705163695.6016154-26863-20-0e926ded-2682-47ff-bf65-0ec2cb8360df.nc to ./historical_climate_data/weather-53.5516_-117.6782_53.0516_-117.1782-2023-01-04.nc (3.2K)\n",
      "2024-01-13 16:34:56,492 INFO Download rate 12.1K/s                                                                                                                                                                                                \n",
      "2024-01-13 16:34:56,613 INFO Welcome to the CDS\n",
      "2024-01-13 16:34:56,614 INFO Sending request to https://cds.climate.copernicus.eu/api/v2/resources/reanalysis-era5-single-levels\n",
      "2024-01-13 16:34:56,691 INFO Request is queued\n"
     ]
    },
    {
     "name": "stdout",
     "output_type": "stream",
     "text": [
      "[[[267.78576038 268.91069398 269.2624046 ]\n",
      "  [266.38792456 268.01160273 270.00500488]\n",
      "  [262.6270752  263.57153756 265.61222475]]]\n"
     ]
    },
    {
     "name": "stderr",
     "output_type": "stream",
     "text": [
      "2024-01-13 16:35:01,620 INFO Request is running\n",
      "2024-01-13 16:35:05,056 INFO Request is completed\n",
      "2024-01-13 16:35:05,057 INFO Downloading https://download-0001-clone.copernicus-climate.eu/cache-compute-0001/cache/data3/adaptor.mars.internal-1705163704.5533967-25313-2-cbe29571-55ad-4a53-9c7d-279fc4d3abd0.nc to ./historical_climate_data/weather-57.9493_-122.2746_57.4493_-121.7746-2023-01-04.nc (3.2K)\n",
      "2024-01-13 16:35:05,308 INFO Download rate 12.8K/s                                                                                                                                                                                                \n",
      "2024-01-13 16:35:05,430 INFO Welcome to the CDS\n",
      "2024-01-13 16:35:05,432 INFO Sending request to https://cds.climate.copernicus.eu/api/v2/resources/reanalysis-era5-single-levels\n"
     ]
    },
    {
     "name": "stdout",
     "output_type": "stream",
     "text": [
      "[[[257.8130532  259.17673807 260.62255859]\n",
      "  [256.80511475 257.97225657 259.73048384]\n",
      "  [258.02095544 258.74858413 259.59318331]]]\n"
     ]
    },
    {
     "name": "stderr",
     "output_type": "stream",
     "text": [
      "2024-01-13 16:35:05,672 INFO Request is queued\n",
      "2024-01-13 16:35:08,291 INFO Request is running\n",
      "2024-01-13 16:35:10,604 INFO Request is completed\n",
      "2024-01-13 16:35:10,606 INFO Downloading https://download-0021.copernicus-climate.eu/cache-compute-0021/cache/data0/adaptor.mars.internal-1705163710.0650258-5169-2-89b23d52-a68f-4ce6-bbaa-bf84e6b0bef0.nc to ./historical_climate_data/weather-55.1305_-115.8593_54.6305_-115.3593-2023-01-04.nc (3.2K)\n",
      "2024-01-13 16:35:10,908 INFO Download rate 10.6K/s                                                                                                                                                                                                \n",
      "2024-01-13 16:35:11,067 INFO Welcome to the CDS\n",
      "2024-01-13 16:35:11,068 INFO Sending request to https://cds.climate.copernicus.eu/api/v2/resources/reanalysis-era5-single-levels\n",
      "2024-01-13 16:35:11,176 INFO Request is queued\n"
     ]
    },
    {
     "name": "stdout",
     "output_type": "stream",
     "text": [
      "[[[260.75958252 260.79283093 261.39842335]\n",
      "  [261.63151324 262.44682639 263.10251709]\n",
      "  [262.17772992 263.06294998 264.04595947]]]\n"
     ]
    },
    {
     "name": "stderr",
     "output_type": "stream",
     "text": [
      "2024-01-13 16:35:13,797 INFO Request is running\n",
      "2024-01-13 16:35:16,108 INFO Request is completed\n",
      "2024-01-13 16:35:16,110 INFO Downloading https://download-0001-clone.copernicus-climate.eu/cache-compute-0001/cache/data3/adaptor.mars.internal-1705163714.9870248-24582-10-10289fe0-6001-442f-aa8c-86fbf8526736.nc to ./historical_climate_data/weather-55.1271_-115.8411_54.6271_-115.3411-2023-01-04.nc (3.2K)\n",
      "2024-01-13 16:35:16,170 INFO Download rate 54.7K/s                                                                                                                                                                                                \n",
      "2024-01-13 16:35:16,296 INFO Welcome to the CDS\n",
      "2024-01-13 16:35:16,298 INFO Sending request to https://cds.climate.copernicus.eu/api/v2/resources/reanalysis-era5-single-levels\n",
      "2024-01-13 16:35:16,384 INFO Request is queued\n"
     ]
    },
    {
     "name": "stdout",
     "output_type": "stream",
     "text": [
      "[[[260.77215576 260.84664278 261.43959195]\n",
      "  [261.67387547 262.51360734 263.19496538]\n",
      "  [262.19757102 263.15187876 264.10186768]]]\n"
     ]
    },
    {
     "name": "stderr",
     "output_type": "stream",
     "text": [
      "2024-01-13 16:35:17,448 INFO Request is running\n",
      "2024-01-13 16:35:21,322 INFO Request is completed\n",
      "2024-01-13 16:35:21,324 INFO Downloading https://download-0009-clone.copernicus-climate.eu/cache-compute-0009/cache/data9/adaptor.mars.internal-1705163720.052203-20171-20-4a8dad1c-33da-4977-82f6-e5c5c1d06425.nc to ./historical_climate_data/weather-54.2251_-116.9511_53.7251_-116.4511-2023-01-04.nc (3.2K)\n",
      "2024-01-13 16:35:21,576 INFO Download rate 12.7K/s                                                                                                                                                                                                \n",
      "2024-01-13 16:35:21,699 INFO Welcome to the CDS\n",
      "2024-01-13 16:35:21,701 INFO Sending request to https://cds.climate.copernicus.eu/api/v2/resources/reanalysis-era5-single-levels\n"
     ]
    },
    {
     "name": "stdout",
     "output_type": "stream",
     "text": [
      "[[[255.76099631 255.38813207 256.24541321]\n",
      "  [254.60099792 255.30196137 255.57708372]\n",
      "  [254.79746818 255.85745843 256.34822083]]]\n"
     ]
    },
    {
     "name": "stderr",
     "output_type": "stream",
     "text": [
      "2024-01-13 16:35:22,013 INFO Request is queued\n",
      "2024-01-13 16:35:23,081 INFO Request is running\n",
      "2024-01-13 16:35:26,963 INFO Request is completed\n",
      "2024-01-13 16:35:26,964 INFO Downloading https://download-0003-clone.copernicus-climate.eu/cache-compute-0003/cache/data1/adaptor.mars.internal-1705163724.889485-6250-12-3a6e531e-10b2-471e-a0fb-d8b999667594.nc to ./historical_climate_data/weather-54.219_-116.9728_53.719_-116.4728-2023-01-04.nc (3.2K)\n",
      "2024-01-13 16:35:27,025 INFO Download rate 52.7K/s                                                                                                                                                                                                \n",
      "2024-01-13 16:35:27,155 INFO Welcome to the CDS\n",
      "2024-01-13 16:35:27,157 INFO Sending request to https://cds.climate.copernicus.eu/api/v2/resources/reanalysis-era5-single-levels\n"
     ]
    },
    {
     "name": "stdout",
     "output_type": "stream",
     "text": [
      "[[[255.79782688 255.30861256 256.11860895]\n",
      "  [254.53465271 255.30216876 255.52063521]\n",
      "  [254.76676486 255.86166923 256.3089447 ]]]\n"
     ]
    },
    {
     "name": "stderr",
     "output_type": "stream",
     "text": [
      "2024-01-13 16:35:27,526 INFO Request is queued\n",
      "2024-01-13 16:35:28,592 INFO Request is running\n",
      "2024-01-13 16:35:32,474 INFO Request is completed\n",
      "2024-01-13 16:35:32,475 INFO Downloading https://download-0005-clone.copernicus-climate.eu/cache-compute-0005/cache/data6/adaptor.mars.internal-1705163730.4528482-24672-2-a188a280-5ecf-4913-a74a-7bc3f24a6f5a.nc to ./historical_climate_data/weather-54.2159_-116.9558_53.7159_-116.4558-2023-01-04.nc (3.2K)\n",
      "2024-01-13 16:35:32,538 INFO Download rate 51.1K/s                                                                                                                                                                                                \n",
      "2024-01-13 16:35:32,682 INFO Welcome to the CDS\n",
      "2024-01-13 16:35:32,683 INFO Sending request to https://cds.climate.copernicus.eu/api/v2/resources/reanalysis-era5-single-levels\n",
      "2024-01-13 16:35:32,804 INFO Request is queued\n"
     ]
    },
    {
     "name": "stdout",
     "output_type": "stream",
     "text": [
      "[[[255.77380583 255.37075432 256.18061238]\n",
      "  [254.58375549 255.32583073 255.58753327]\n",
      "  [254.84458093 255.91827944 256.37995911]]]\n"
     ]
    },
    {
     "name": "stderr",
     "output_type": "stream",
     "text": [
      "2024-01-13 16:35:33,872 INFO Request is running\n",
      "2024-01-13 16:35:37,754 INFO Request is completed\n",
      "2024-01-13 16:35:37,755 INFO Downloading https://download-0010-clone.copernicus-climate.eu/cache-compute-0010/cache/data0/adaptor.mars.internal-1705163735.6352994-18692-18-103b8091-76cb-4151-94ba-308024ab0d83.nc to ./historical_climate_data/weather-54.2066_-116.9054_53.7066_-116.4054-2023-01-04.nc (3.2K)\n",
      "2024-01-13 16:35:37,816 INFO Download rate 53K/s                                                                                                                                                                                                  \n",
      "2024-01-13 16:35:37,945 INFO Welcome to the CDS\n",
      "2024-01-13 16:35:37,947 INFO Sending request to https://cds.climate.copernicus.eu/api/v2/resources/reanalysis-era5-single-levels\n",
      "2024-01-13 16:35:38,020 INFO Request is queued\n"
     ]
    },
    {
     "name": "stdout",
     "output_type": "stream",
     "text": [
      "[[[255.63534809 255.5550457  256.38110672]\n",
      "  [254.72935486 255.37980423 255.78624255]\n",
      "  [255.15726409 256.0869209  256.59547424]]]\n"
     ]
    },
    {
     "name": "stderr",
     "output_type": "stream",
     "text": [
      "2024-01-13 16:35:39,087 INFO Request is running\n",
      "2024-01-13 16:35:42,968 INFO Request is completed\n",
      "2024-01-13 16:35:42,971 INFO Downloading https://download-0016.copernicus-climate.eu/cache-compute-0016/cache/data8/adaptor.mars.internal-1705163740.8304117-10653-15-43913efb-153a-4154-973a-5094481e00f9.nc to ./historical_climate_data/weather-54.1916_-116.9017_53.6916_-116.4017-2023-01-04.nc (3.2K)\n",
      "2024-01-13 16:35:43,218 INFO Download rate 13K/s                                                                                                                                                                                                  \n",
      "2024-01-13 16:35:43,347 INFO Welcome to the CDS\n",
      "2024-01-13 16:35:43,348 INFO Sending request to https://cds.climate.copernicus.eu/api/v2/resources/reanalysis-era5-single-levels\n"
     ]
    },
    {
     "name": "stdout",
     "output_type": "stream",
     "text": [
      "[[[255.62503051 255.5683703  256.33039661]\n",
      "  [254.7348938  255.4249045  255.84208913]\n",
      "  [255.28878905 256.20820814 256.68505859]]]\n"
     ]
    },
    {
     "name": "stderr",
     "output_type": "stream",
     "text": [
      "2024-01-13 16:35:43,523 INFO Request is queued\n",
      "2024-01-13 16:35:46,155 INFO Request is running\n",
      "2024-01-13 16:35:57,039 INFO Request is completed\n",
      "2024-01-13 16:35:57,041 INFO Downloading https://download-0004-clone.copernicus-climate.eu/cache-compute-0004/cache/data8/adaptor.mars.internal-1705163754.1044908-19919-17-a740c3f5-8029-4ded-8bd0-1effd11917a8.nc to ./historical_climate_data/weather-54.2144_-116.9607_53.7144_-116.4607-2023-01-04.nc (3.2K)\n",
      "2024-01-13 16:35:57,291 INFO Download rate 12.9K/s                                                                                                                                                                                                \n",
      "2024-01-13 16:35:57,427 INFO Welcome to the CDS\n",
      "2024-01-13 16:35:57,428 INFO Sending request to https://cds.climate.copernicus.eu/api/v2/resources/reanalysis-era5-single-levels\n",
      "2024-01-13 16:35:57,497 INFO Request is queued\n"
     ]
    },
    {
     "name": "stdout",
     "output_type": "stream",
     "text": [
      "[[[255.78724865 255.35279668 256.15012634]\n",
      "  [254.56872559 255.32748987 255.57513904]\n",
      "  [254.83238407 255.92016443 256.37136841]]]\n"
     ]
    },
    {
     "name": "stderr",
     "output_type": "stream",
     "text": [
      "2024-01-13 16:36:00,130 INFO Request is running\n",
      "2024-01-13 16:36:05,884 INFO Request is completed\n",
      "2024-01-13 16:36:05,886 INFO Downloading https://download-0014-clone.copernicus-climate.eu/cache-compute-0014/cache/data0/adaptor.mars.internal-1705163763.5536788-31554-4-fcbc0653-9914-4b75-9d2a-c4af0a6c076d.nc to ./historical_climate_data/weather-53.6634_-115.843_53.1634_-115.343-2023-01-04.nc (3.2K)\n",
      "2024-01-13 16:36:06,126 INFO Download rate 13.4K/s                                                                                                                                                                                                \n",
      "2024-01-13 16:36:06,269 INFO Welcome to the CDS\n",
      "2024-01-13 16:36:06,270 INFO Sending request to https://cds.climate.copernicus.eu/api/v2/resources/reanalysis-era5-single-levels\n"
     ]
    },
    {
     "name": "stdout",
     "output_type": "stream",
     "text": [
      "[[[258.12786865 258.62452075 259.48182309]\n",
      "  [259.7404306  260.48521579 261.40657738]\n",
      "  [260.54332117 261.17266742 261.74060059]]]\n"
     ]
    },
    {
     "name": "stderr",
     "output_type": "stream",
     "text": [
      "2024-01-13 16:36:06,452 INFO Request is queued\n",
      "2024-01-13 16:36:07,516 INFO Request is running\n",
      "2024-01-13 16:36:11,400 INFO Request is completed\n",
      "2024-01-13 16:36:11,401 INFO Downloading https://download-0014-clone.copernicus-climate.eu/cache-compute-0014/cache/data5/adaptor.mars.internal-1705163770.8418868-32472-1-51b3af38-1c54-4ef4-bd43-454374cde7c6.nc to ./historical_climate_data/weather-53.4707_-117.3953_52.9707_-116.8953-2023-01-04.nc (3.2K)\n",
      "2024-01-13 16:36:11,462 INFO Download rate 53.4K/s                                                                                                                                                                                                \n",
      "2024-01-13 16:36:11,595 INFO Welcome to the CDS\n",
      "2024-01-13 16:36:11,597 INFO Sending request to https://cds.climate.copernicus.eu/api/v2/resources/reanalysis-era5-single-levels\n",
      "2024-01-13 16:36:11,677 INFO Request is queued\n"
     ]
    },
    {
     "name": "stdout",
     "output_type": "stream",
     "text": [
      "[[[257.72136755 258.19297108 258.15926261]\n",
      "  [259.08404028 260.18515734 260.30392456]\n",
      "  [255.14266968 256.27560502 256.81281405]]]\n"
     ]
    },
    {
     "name": "stderr",
     "output_type": "stream",
     "text": [
      "2024-01-13 16:36:14,303 INFO Request is running\n",
      "2024-01-13 16:36:20,062 INFO Request is completed\n",
      "2024-01-13 16:36:20,064 INFO Downloading https://download-0008-clone.copernicus-climate.eu/cache-compute-0008/cache/data3/adaptor.mars.internal-1705163776.5102332-641-4-a9887896-805f-4564-a050-8de20b22caea.nc to ./historical_climate_data/weather-54.1867_-116.8973_53.6867_-116.3973-2023-01-04.nc (3.2K)\n",
      "2024-01-13 16:36:20,373 INFO Download rate 10.4K/s                                                                                                                                                                                                \n",
      "2024-01-13 16:36:20,506 INFO Welcome to the CDS\n",
      "2024-01-13 16:36:20,507 INFO Sending request to https://cds.climate.copernicus.eu/api/v2/resources/reanalysis-era5-single-levels\n",
      "2024-01-13 16:36:20,598 INFO Request is queued\n"
     ]
    },
    {
     "name": "stdout",
     "output_type": "stream",
     "text": [
      "[[[255.61286616 255.58439196 256.32925026]\n",
      "  [254.74613953 255.44135671 255.87121736]\n",
      "  [255.3470869  256.2540337  256.72492981]]]\n"
     ]
    },
    {
     "name": "stderr",
     "output_type": "stream",
     "text": [
      "2024-01-13 16:36:25,539 INFO Request is running\n",
      "2024-01-13 16:36:28,972 INFO Request is completed\n",
      "2024-01-13 16:36:28,973 INFO Downloading https://download-0003-clone.copernicus-climate.eu/cache-compute-0003/cache/data4/adaptor.mars.internal-1705163785.8927011-18895-3-420abe15-4a46-4dcc-a658-174562ea06ca.nc to ./historical_climate_data/weather-54.1841_-116.9128_53.6841_-116.4128-2023-01-04.nc (3.2K)\n",
      "2024-01-13 16:36:29,034 INFO Download rate 52.6K/s                                                                                                                                                                                                \n",
      "2024-01-13 16:36:29,164 INFO Welcome to the CDS\n",
      "2024-01-13 16:36:29,165 INFO Sending request to https://cds.climate.copernicus.eu/api/v2/resources/reanalysis-era5-single-levels\n",
      "2024-01-13 16:36:29,285 INFO Request is queued\n"
     ]
    },
    {
     "name": "stdout",
     "output_type": "stream",
     "text": [
      "[[[255.65540367 255.52760717 256.24252758]\n",
      "  [254.69935608 255.44044838 255.82583943]\n",
      "  [255.29230271 256.24371031 256.68675232]]]\n"
     ]
    },
    {
     "name": "stderr",
     "output_type": "stream",
     "text": [
      "2024-01-13 16:36:42,801 INFO Request is running\n",
      "2024-01-13 16:36:50,462 INFO Request is completed\n",
      "2024-01-13 16:36:50,464 INFO Downloading https://download-0000-clone.copernicus-climate.eu/cache-compute-0000/cache/data0/adaptor.mars.internal-1705163805.316976-26052-3-a8e351ac-a4c6-4ff7-9faa-72c9e1243d70.nc to ./historical_climate_data/weather-54.193_-116.9171_53.693_-116.4171-2023-01-04.nc (3.2K)\n",
      "2024-01-13 16:36:50,698 INFO Download rate 13.7K/s                                                                                                                                                                                                \n",
      "2024-01-13 16:36:50,831 INFO Welcome to the CDS\n",
      "2024-01-13 16:36:50,832 INFO Sending request to https://cds.climate.copernicus.eu/api/v2/resources/reanalysis-era5-single-levels\n",
      "2024-01-13 16:36:50,909 INFO Request is queued\n"
     ]
    },
    {
     "name": "stdout",
     "output_type": "stream",
     "text": [
      "[[[255.66732138 255.51198758 256.26250163]\n",
      "  [254.68986511 255.41253966 255.78550629]\n",
      "  [255.20418668 256.16763453 256.62660217]]]\n"
     ]
    },
    {
     "name": "stderr",
     "output_type": "stream",
     "text": [
      "2024-01-13 16:36:51,971 INFO Request is running\n",
      "2024-01-13 16:36:55,850 INFO Request is completed\n",
      "2024-01-13 16:36:55,851 INFO Downloading https://download-0021.copernicus-climate.eu/cache-compute-0021/cache/data5/adaptor.mars.internal-1705163813.7156758-32576-4-b4c898e4-8936-4733-94fe-8d2cb9e2b40b.nc to ./historical_climate_data/weather-54.2044_-116.906_53.7044_-116.406-2023-01-04.nc (3.2K)\n",
      "2024-01-13 16:36:56,086 INFO Download rate 13.7K/s                                                                                                                                                                                                \n",
      "2024-01-13 16:36:56,225 INFO Welcome to the CDS\n",
      "2024-01-13 16:36:56,227 INFO Sending request to https://cds.climate.copernicus.eu/api/v2/resources/reanalysis-era5-single-levels\n",
      "2024-01-13 16:36:56,319 INFO Request is queued\n"
     ]
    },
    {
     "name": "stdout",
     "output_type": "stream",
     "text": [
      "[[[255.63698674 255.55281925 256.36818647]\n",
      "  [254.72679138 255.38583117 255.79053439]\n",
      "  [255.1710708  256.10250148 256.60481262]]]\n"
     ]
    },
    {
     "name": "stderr",
     "output_type": "stream",
     "text": [
      "2024-01-13 16:36:57,384 INFO Request is running\n",
      "2024-01-13 16:37:01,262 INFO Request is completed\n",
      "2024-01-13 16:37:01,264 INFO Downloading https://download-0009-clone.copernicus-climate.eu/cache-compute-0009/cache/data5/adaptor.mars.internal-1705163819.20638-1237-3-27691503-ec88-4ef7-a022-23a8fbacfd12.nc to ./historical_climate_data/weather-54.2233_-116.9648_53.7233_-116.4648-2023-01-04.nc (3.2K)\n",
      "2024-01-13 16:37:01,510 INFO Download rate 13.1K/s                                                                                                                                                                                                \n",
      "2024-01-13 16:37:01,649 INFO Welcome to the CDS\n",
      "2024-01-13 16:37:01,650 INFO Sending request to https://cds.climate.copernicus.eu/api/v2/resources/reanalysis-era5-single-levels\n",
      "2024-01-13 16:37:01,714 INFO Request is queued\n"
     ]
    },
    {
     "name": "stdout",
     "output_type": "stream",
     "text": [
      "[[[255.79860865 255.33797807 256.17111813]\n",
      "  [254.55986023 255.29969245 255.53552867]\n",
      "  [254.74524606 255.8445407  256.31193542]]]\n"
     ]
    },
    {
     "name": "stderr",
     "output_type": "stream",
     "text": [
      "2024-01-13 16:37:02,781 INFO Request is running\n",
      "2024-01-13 16:37:06,658 INFO Request is completed\n",
      "2024-01-13 16:37:06,660 INFO Downloading https://download-0007-clone.copernicus-climate.eu/cache-compute-0007/cache/data6/adaptor.mars.internal-1705163824.998747-739-19-1846e2e4-a534-45c8-8115-ec209d42b121.nc to ./historical_climate_data/weather-53.8382_-120.9872_53.3382_-120.4872-2023-01-04.nc (3.2K)\n",
      "2024-01-13 16:37:06,911 INFO Download rate 12.8K/s                                                                                                                                                                                                \n",
      "2024-01-13 16:37:07,042 INFO Welcome to the CDS\n",
      "2024-01-13 16:37:07,043 INFO Sending request to https://cds.climate.copernicus.eu/api/v2/resources/reanalysis-era5-single-levels\n",
      "2024-01-13 16:37:07,136 INFO Request is queued\n"
     ]
    },
    {
     "name": "stdout",
     "output_type": "stream",
     "text": [
      "[[[258.12105125 258.29377055 257.8185832 ]\n",
      "  [258.43812185 257.75305776 256.88360163]\n",
      "  [259.13378906 257.43970756 256.08618164]]]\n"
     ]
    },
    {
     "name": "stderr",
     "output_type": "stream",
     "text": [
      "2024-01-13 16:37:08,200 INFO Request is running\n",
      "2024-01-13 16:37:12,081 INFO Request is completed\n",
      "2024-01-13 16:37:12,082 INFO Downloading https://download-0018.copernicus-climate.eu/cache-compute-0018/cache/data5/adaptor.mars.internal-1705163830.6691868-27165-10-230ad393-7d2a-4267-afca-b26856a64e70.nc to ./historical_climate_data/weather-55.1256_-115.8367_54.6256_-115.3367-2023-01-04.nc (3.2K)\n",
      "2024-01-13 16:37:12,331 INFO Download rate 12.9K/s                                                                                                                                                                                                \n",
      "2024-01-13 16:37:12,464 INFO Welcome to the CDS\n",
      "2024-01-13 16:37:12,465 INFO Sending request to https://cds.climate.copernicus.eu/api/v2/resources/reanalysis-era5-single-levels\n",
      "2024-01-13 16:37:12,527 INFO Request is queued\n"
     ]
    },
    {
     "name": "stdout",
     "output_type": "stream",
     "text": [
      "[[[260.77697754 260.86293611 261.4541559 ]\n",
      "  [261.68779212 262.53556362 263.22333403]\n",
      "  [262.20145569 263.17241071 264.11413574]]]\n"
     ]
    },
    {
     "name": "stderr",
     "output_type": "stream",
     "text": [
      "2024-01-13 16:37:17,476 INFO Request is running\n",
      "2024-01-13 16:37:26,048 INFO Request is completed\n",
      "2024-01-13 16:37:26,050 INFO Downloading https://download-0021.copernicus-climate.eu/cache-compute-0021/cache/data1/adaptor.mars.internal-1705163843.2616265-5219-6-a500476d-3d72-42e6-8def-0076c4bedf0d.nc to ./historical_climate_data/weather-55.1233_-115.8519_54.6233_-115.3519-2023-01-04.nc (3.2K)\n",
      "2024-01-13 16:37:26,113 INFO Download rate 51.4K/s                                                                                                                                                                                                \n",
      "2024-01-13 16:37:26,252 INFO Welcome to the CDS\n",
      "2024-01-13 16:37:26,253 INFO Sending request to https://cds.climate.copernicus.eu/api/v2/resources/reanalysis-era5-single-levels\n"
     ]
    },
    {
     "name": "stdout",
     "output_type": "stream",
     "text": [
      "[[[260.78033447 260.84279769 261.4550773 ]\n",
      "  [261.68012494 262.52385354 263.19224503]\n",
      "  [262.17823038 263.09092358 264.05767822]]]\n"
     ]
    },
    {
     "name": "stderr",
     "output_type": "stream",
     "text": [
      "2024-01-13 16:37:26,520 INFO Request is queued\n",
      "2024-01-13 16:37:27,589 INFO Request is running\n",
      "2024-01-13 16:37:31,485 INFO Request is completed\n",
      "2024-01-13 16:37:31,491 INFO Downloading https://download-0015-clone.copernicus-climate.eu/cache-compute-0015/cache/data3/adaptor.mars.internal-1705163849.8826017-9273-16-a1512cd3-79d7-4f07-a929-96e3195e868c.nc to ./historical_climate_data/weather-55.121_-115.8671_54.621_-115.3671-2023-01-04.nc (3.2K)\n",
      "2024-01-13 16:37:31,746 INFO Download rate 12.6K/s                                                                                                                                                                                                \n",
      "2024-01-13 16:37:31,881 INFO Welcome to the CDS\n",
      "2024-01-13 16:37:31,882 INFO Sending request to https://cds.climate.copernicus.eu/api/v2/resources/reanalysis-era5-single-levels\n",
      "2024-01-13 16:37:31,984 INFO Request is queued\n"
     ]
    },
    {
     "name": "stdout",
     "output_type": "stream",
     "text": [
      "[[[260.78369141 260.82262674 261.456001  ]\n",
      "  [261.67237932 262.51216485 263.16120162]\n",
      "  [262.15492213 263.00943729 264.00128174]]]\n"
     ]
    },
    {
     "name": "stderr",
     "output_type": "stream",
     "text": [
      "2024-01-13 16:37:33,054 INFO Request is running\n",
      "2024-01-13 16:37:36,938 INFO Request is completed\n",
      "2024-01-13 16:37:36,939 INFO Downloading https://download-0014-clone.copernicus-climate.eu/cache-compute-0014/cache/data5/adaptor.mars.internal-1705163855.5051174-28385-13-a4350410-1de6-44d3-a684-4b7a8a4d8b1a.nc to ./historical_climate_data/weather-55.2653_-115.3381_54.7653_-114.8381-2023-01-04.nc (3.2K)\n",
      "2024-01-13 16:37:37,170 INFO Download rate 13.9K/s                                                                                                                                                                                                \n",
      "2024-01-13 16:37:37,308 INFO Welcome to the CDS\n",
      "2024-01-13 16:37:37,309 INFO Sending request to https://cds.climate.copernicus.eu/api/v2/resources/reanalysis-era5-single-levels\n",
      "2024-01-13 16:37:37,413 INFO Request is queued\n"
     ]
    },
    {
     "name": "stdout",
     "output_type": "stream",
     "text": [
      "[[[260.60998535 260.8476414  260.89159364]\n",
      "  [262.06179069 262.84608705 263.46192075]\n",
      "  [264.20791587 264.72473145 264.00586114]]]\n"
     ]
    },
    {
     "name": "stderr",
     "output_type": "stream",
     "text": [
      "2024-01-13 16:37:38,481 INFO Request is running\n",
      "2024-01-13 16:37:42,366 INFO Request is completed\n",
      "2024-01-13 16:37:42,367 INFO Downloading https://download-0002-clone.copernicus-climate.eu/cache-compute-0002/cache/data3/adaptor.mars.internal-1705163861.3440247-11880-8-d25e793c-d3ea-4c9c-94c5-c63ccf093db8.nc to ./historical_climate_data/weather-57.2316_-119.6734_56.7316_-119.1734-2023-01-04.nc (3.2K)\n",
      "2024-01-13 16:37:42,617 INFO Download rate 12.8K/s                                                                                                                                                                                                \n",
      "2024-01-13 16:37:42,756 INFO Welcome to the CDS\n",
      "2024-01-13 16:37:42,757 INFO Sending request to https://cds.climate.copernicus.eu/api/v2/resources/reanalysis-era5-single-levels\n",
      "2024-01-13 16:37:42,851 INFO Request is queued\n"
     ]
    },
    {
     "name": "stdout",
     "output_type": "stream",
     "text": [
      "[[[261.66043091 262.15545415 262.44625632]\n",
      "  [262.94296265 262.84628301 262.72222385]\n",
      "  [262.88982799 262.93975304 262.66906962]]]\n"
     ]
    },
    {
     "name": "stderr",
     "output_type": "stream",
     "text": [
      "2024-01-13 16:37:45,486 INFO Request is running\n",
      "2024-01-13 16:37:47,812 INFO Request is completed\n",
      "2024-01-13 16:37:47,813 INFO Downloading https://download-0021.copernicus-climate.eu/cache-compute-0021/cache/data1/adaptor.mars.internal-1705163867.1065485-3038-15-c2cb394f-bce3-4756-b865-0ea3690bcd90.nc to ./historical_climate_data/weather-57.9396_-122.2721_57.4396_-121.7721-2023-01-04.nc (3.2K)\n",
      "2024-01-13 16:37:47,873 INFO Download rate 54.8K/s                                                                                                                                                                                                \n",
      "2024-01-13 16:37:48,017 INFO Welcome to the CDS\n",
      "2024-01-13 16:37:48,017 INFO Sending request to https://cds.climate.copernicus.eu/api/v2/resources/reanalysis-era5-single-levels\n",
      "2024-01-13 16:37:48,100 INFO Request is queued\n"
     ]
    },
    {
     "name": "stdout",
     "output_type": "stream",
     "text": [
      "[[[257.76793929 259.12541219 260.60675049]\n",
      "  [256.84875488 257.9953699  259.72529915]\n",
      "  [258.12428166 258.84493737 259.61439375]]]\n"
     ]
    },
    {
     "name": "stderr",
     "output_type": "stream",
     "text": [
      "2024-01-13 16:37:53,053 INFO Request is running\n",
      "2024-01-13 16:37:56,497 INFO Request is completed\n",
      "2024-01-13 16:37:56,499 INFO Downloading https://download-0017.copernicus-climate.eu/cache-compute-0017/cache/data0/adaptor.mars.internal-1705163875.1981583-31721-3-535d5389-971c-46bb-acc1-2f4fc2d1170d.nc to ./historical_climate_data/weather-54.4824_-115.8294_53.9824_-115.3294-2023-01-06.nc (3.2K)\n",
      "2024-01-13 16:37:56,742 INFO Download rate 13.2K/s                                                                                                                                                                                                \n",
      "2024-01-13 16:37:56,882 INFO Welcome to the CDS\n",
      "2024-01-13 16:37:56,882 INFO Sending request to https://cds.climate.copernicus.eu/api/v2/resources/reanalysis-era5-single-levels\n",
      "2024-01-13 16:37:56,980 INFO Request is queued\n"
     ]
    },
    {
     "name": "stdout",
     "output_type": "stream",
     "text": [
      "[[[258.2518158  257.29948578 257.65447672]\n",
      "  [255.85178913 255.95592585 256.66872632]\n",
      "  [255.18182111 254.95341492 255.58367106]]]\n"
     ]
    },
    {
     "name": "stderr",
     "output_type": "stream",
     "text": [
      "2024-01-13 16:38:01,934 INFO Request is running\n",
      "2024-01-13 16:38:10,506 INFO Request is completed\n",
      "2024-01-13 16:38:10,507 INFO Downloading https://download-0005-clone.copernicus-climate.eu/cache-compute-0005/cache/data9/adaptor.mars.internal-1705163888.0558093-24483-7-eb6a3d5b-48c3-4092-833e-09dc75c35c59.nc to ./historical_climate_data/weather-53.6672_-115.8369_53.1672_-115.3369-2023-01-06.nc (3.2K)\n",
      "2024-01-13 16:38:10,769 INFO Download rate 12.3K/s                                                                                                                                                                                                \n",
      "2024-01-13 16:38:10,900 INFO Welcome to the CDS\n",
      "2024-01-13 16:38:10,901 INFO Sending request to https://cds.climate.copernicus.eu/api/v2/resources/reanalysis-era5-single-levels\n",
      "2024-01-13 16:38:10,993 INFO Request is queued\n"
     ]
    },
    {
     "name": "stdout",
     "output_type": "stream",
     "text": [
      "[[[257.01118221 256.41101074 256.73438639]\n",
      "  [259.52842501 258.99189833 259.12144178]\n",
      "  [263.44445801 262.65796721 262.27427389]]]\n"
     ]
    },
    {
     "name": "stderr",
     "output_type": "stream",
     "text": [
      "2024-01-13 16:38:24,511 INFO Request is running\n",
      "2024-01-13 16:38:32,171 INFO Request is completed\n",
      "2024-01-13 16:38:32,173 INFO Downloading https://download-0006-clone.copernicus-climate.eu/cache-compute-0006/cache/data3/adaptor.mars.internal-1705163907.330497-8203-11-adaeb522-4625-42d8-bc36-5fdf4849b4bb.nc to ./historical_climate_data/weather-53.6627_-115.8636_53.1627_-115.3636-2023-01-06.nc (3.2K)\n",
      "2024-01-13 16:38:32,436 INFO Download rate 12.2K/s                                                                                                                                                                                                \n",
      "2024-01-13 16:38:32,569 INFO Welcome to the CDS\n",
      "2024-01-13 16:38:32,571 INFO Sending request to https://cds.climate.copernicus.eu/api/v2/resources/reanalysis-era5-single-levels\n",
      "2024-01-13 16:38:32,658 INFO Request is queued\n"
     ]
    },
    {
     "name": "stdout",
     "output_type": "stream",
     "text": [
      "[[[257.21498658 256.45788574 256.66319939]\n",
      "  [259.70726317 259.0797659  259.15817606]\n",
      "  [263.53564453 262.80932454 262.54104516]]]\n"
     ]
    },
    {
     "name": "stderr",
     "output_type": "stream",
     "text": [
      "2024-01-13 16:38:41,052 INFO Request is running\n",
      "2024-01-13 16:38:46,190 INFO Request is completed\n",
      "2024-01-13 16:38:46,192 INFO Downloading https://download-0008-clone.copernicus-climate.eu/cache-compute-0008/cache/data5/adaptor.mars.internal-1705163921.1861107-30932-16-7bedea89-48c4-4110-aa61-544e9a5d660f.nc to ./historical_climate_data/weather-55.1108_-116.0213_54.6108_-115.5213-2023-01-06.nc (3.2K)\n",
      "2024-01-13 16:38:46,445 INFO Download rate 12.8K/s                                                                                                                                                                                                \n",
      "2024-01-13 16:38:46,586 INFO Welcome to the CDS\n",
      "2024-01-13 16:38:46,588 INFO Sending request to https://cds.climate.copernicus.eu/api/v2/resources/reanalysis-era5-single-levels\n",
      "2024-01-13 16:38:46,694 INFO Request is queued\n"
     ]
    },
    {
     "name": "stdout",
     "output_type": "stream",
     "text": [
      "[[[264.44717855 264.4909668  263.48255453]\n",
      "  [264.29785878 263.29613384 261.70839751]\n",
      "  [261.49806734 259.68140457 258.4876709 ]]]\n"
     ]
    },
    {
     "name": "stderr",
     "output_type": "stream",
     "text": [
      "2024-01-13 16:38:47,760 INFO Request is running\n",
      "2024-01-13 16:38:51,642 INFO Request is completed\n",
      "2024-01-13 16:38:51,644 INFO Downloading https://download-0016.copernicus-climate.eu/cache-compute-0016/cache/data9/adaptor.mars.internal-1705163930.3278868-23447-10-1b8413af-a3d6-436d-af84-5116da4ccee3.nc to ./historical_climate_data/weather-55.1076_-116.0384_54.6076_-115.5384-2023-01-06.nc (3.2K)\n",
      "2024-01-13 16:38:51,913 INFO Download rate 12K/s                                                                                                                                                                                                  \n",
      "2024-01-13 16:38:52,051 INFO Welcome to the CDS\n",
      "2024-01-13 16:38:52,052 INFO Sending request to https://cds.climate.copernicus.eu/api/v2/resources/reanalysis-era5-single-levels\n"
     ]
    },
    {
     "name": "stdout",
     "output_type": "stream",
     "text": [
      "[[[264.51171875 264.47018102 263.59834717]\n",
      "  [264.31264941 263.37672092 261.77774756]\n",
      "  [261.55868876 259.76101284 258.50268555]]]\n"
     ]
    },
    {
     "name": "stderr",
     "output_type": "stream",
     "text": [
      "2024-01-13 16:38:52,194 INFO Request is queued\n",
      "2024-01-13 16:38:53,264 INFO Request is running\n",
      "2024-01-13 16:38:57,147 INFO Request is completed\n",
      "2024-01-13 16:38:57,149 INFO Downloading https://download-0014-clone.copernicus-climate.eu/cache-compute-0014/cache/data5/adaptor.mars.internal-1705163935.364516-19877-13-8339ea26-bed4-4a36-bb6d-d558a3497996.nc to ./historical_climate_data/weather-55.1024_-116.0408_54.6024_-115.5408-2023-01-07.nc (3.2K)\n",
      "2024-01-13 16:38:57,410 INFO Download rate 12.3K/s                                                                                                                                                                                                \n",
      "2024-01-13 16:38:57,549 INFO Welcome to the CDS\n",
      "2024-01-13 16:38:57,550 INFO Sending request to https://cds.climate.copernicus.eu/api/v2/resources/reanalysis-era5-single-levels\n",
      "2024-01-13 16:38:57,640 INFO Request is queued\n"
     ]
    },
    {
     "name": "stdout",
     "output_type": "stream",
     "text": [
      "[[[271.0442616  270.28870629 269.76528931]\n",
      "  [271.15932019 271.01549695 271.68487549]\n",
      "  [270.1411044  269.87366934 270.8536592 ]]]\n"
     ]
    },
    {
     "name": "stderr",
     "output_type": "stream",
     "text": [
      "2024-01-13 16:38:58,708 INFO Request is running\n",
      "2024-01-13 16:39:02,584 INFO Request is completed\n",
      "2024-01-13 16:39:02,585 INFO Downloading https://download-0005-clone.copernicus-climate.eu/cache-compute-0005/cache/data4/adaptor.mars.internal-1705163942.1346507-24063-11-9bd61725-f09f-4823-8021-48245d323e14.nc to ./historical_climate_data/weather-55.097_-116.0409_54.597_-115.5409-2023-01-07.nc (3.2K)\n",
      "2024-01-13 16:39:02,647 INFO Download rate 52.4K/s                                                                                                                                                                                                \n",
      "2024-01-13 16:39:02,783 INFO Welcome to the CDS\n",
      "2024-01-13 16:39:02,785 INFO Sending request to https://cds.climate.copernicus.eu/api/v2/resources/reanalysis-era5-single-levels\n",
      "2024-01-13 16:39:02,863 INFO Request is queued\n"
     ]
    },
    {
     "name": "stdout",
     "output_type": "stream",
     "text": [
      "[[[271.09565396 270.36319996 269.84078979]\n",
      "  [271.12776293 271.00205488 271.70291138]\n",
      "  [270.11303411 269.84110236 270.81835177]]]\n"
     ]
    },
    {
     "name": "stderr",
     "output_type": "stream",
     "text": [
      "2024-01-13 16:39:03,933 INFO Request is running\n",
      "2024-01-13 16:39:11,260 INFO Request is completed\n",
      "2024-01-13 16:39:11,262 INFO Downloading https://download-0007-clone.copernicus-climate.eu/cache-compute-0007/cache/data5/adaptor.mars.internal-1705163949.3215208-3150-14-afcce70b-885f-47eb-8a0e-a51c74121665.nc to ./historical_climate_data/weather-57.2039_-119.6502_56.7039_-119.1502-2023-01-07.nc (3.2K)\n",
      "2024-01-13 16:39:11,543 INFO Download rate 11.4K/s                                                                                                                                                                                                \n",
      "2024-01-13 16:39:11,682 INFO Welcome to the CDS\n",
      "2024-01-13 16:39:11,683 INFO Sending request to https://cds.climate.copernicus.eu/api/v2/resources/reanalysis-era5-single-levels\n",
      "2024-01-13 16:39:11,795 INFO Request is queued\n"
     ]
    },
    {
     "name": "stdout",
     "output_type": "stream",
     "text": [
      "[[[272.95016795 273.11987068 273.18151855]\n",
      "  [272.354591   272.24423446 271.98377063]\n",
      "  [269.72824221 269.41664362 269.1048584 ]]]\n"
     ]
    },
    {
     "name": "stderr",
     "output_type": "stream",
     "text": [
      "2024-01-13 16:39:12,863 INFO Request is running\n",
      "2024-01-13 16:39:25,329 INFO Request is completed\n",
      "2024-01-13 16:39:25,332 INFO Downloading https://download-0004-clone.copernicus-climate.eu/cache-compute-0004/cache/data1/adaptor.mars.internal-1705163962.1187348-30944-9-c165101b-1b3f-44c8-abc2-0ca4763d5c9c.nc to ./historical_climate_data/weather-57.2177_-119.6165_56.7177_-119.1165-2023-01-07.nc (3.2K)\n",
      "2024-01-13 16:39:25,590 INFO Download rate 12.4K/s                                                                                                                                                                                                \n",
      "2024-01-13 16:39:25,731 INFO Welcome to the CDS\n",
      "2024-01-13 16:39:25,733 INFO Sending request to https://cds.climate.copernicus.eu/api/v2/resources/reanalysis-era5-single-levels\n",
      "2024-01-13 16:39:25,812 INFO Request is queued\n"
     ]
    },
    {
     "name": "stdout",
     "output_type": "stream",
     "text": [
      "[[[273.00799603 273.18371245 273.21783447]\n",
      "  [272.49742722 272.34778291 272.11667828]\n",
      "  [269.89165794 269.5811355  269.28100586]]]\n"
     ]
    },
    {
     "name": "stderr",
     "output_type": "stream",
     "text": [
      "2024-01-13 16:39:26,883 INFO Request is running\n",
      "2024-01-13 16:39:30,774 INFO Request is completed\n",
      "2024-01-13 16:39:30,776 INFO Downloading https://download-0018.copernicus-climate.eu/cache-compute-0018/cache/data7/adaptor.mars.internal-1705163969.2084916-4603-5-944853cb-89ab-4b68-9178-9811fa0c5e40.nc to ./historical_climate_data/weather-55.0961_-116.0329_54.5961_-115.5329-2023-01-07.nc (3.2K)\n",
      "2024-01-13 16:39:31,029 INFO Download rate 12.7K/s                                                                                                                                                                                                \n",
      "2024-01-13 16:39:31,170 INFO Welcome to the CDS\n",
      "2024-01-13 16:39:31,171 INFO Sending request to https://cds.climate.copernicus.eu/api/v2/resources/reanalysis-era5-single-levels\n",
      "2024-01-13 16:39:31,268 INFO Request is queued\n"
     ]
    },
    {
     "name": "stdout",
     "output_type": "stream",
     "text": [
      "[[[271.1089071  270.32202717 269.84487206]\n",
      "  [271.12736264 271.0064958  271.69741821]\n",
      "  [270.0405518  269.84243774 270.8469629 ]]]\n"
     ]
    },
    {
     "name": "stderr",
     "output_type": "stream",
     "text": [
      "2024-01-13 16:39:32,333 INFO Request is running\n",
      "2024-01-13 16:39:36,215 INFO Request is completed\n",
      "2024-01-13 16:39:36,216 INFO Downloading https://download-0020.copernicus-climate.eu/cache-compute-0020/cache/data4/adaptor.mars.internal-1705163974.7801766-10843-9-1f460d49-7d4a-4bbd-acb5-dc69f4d70e34.nc to ./historical_climate_data/weather-55.1096_-116.0335_54.6096_-115.5335-2023-01-07.nc (3.2K)\n",
      "2024-01-13 16:39:36,484 INFO Download rate 12K/s                                                                                                                                                                                                  \n"
     ]
    },
    {
     "name": "stdout",
     "output_type": "stream",
     "text": [
      "[[[270.97988326 270.14146835 269.65701294]\n",
      "  [271.2056619  271.03946543 271.65322876]\n",
      "  [270.11789136 269.92315271 270.93154129]]]\n"
     ]
    },
    {
     "name": "stderr",
     "output_type": "stream",
     "text": [
      "2024-01-13 16:39:36,785 INFO Welcome to the CDS\n",
      "2024-01-13 16:39:36,787 INFO Sending request to https://cds.climate.copernicus.eu/api/v2/resources/reanalysis-era5-single-levels\n",
      "2024-01-13 16:39:36,859 INFO Request is queued\n",
      "2024-01-13 16:39:37,919 INFO Request is running\n",
      "2024-01-13 16:39:41,796 INFO Request is completed\n",
      "2024-01-13 16:39:41,797 INFO Downloading https://download-0014-clone.copernicus-climate.eu/cache-compute-0014/cache/data4/adaptor.mars.internal-1705163980.2752903-32472-7-000993b5-69b7-4131-890d-183dead3dd42.nc to ./historical_climate_data/weather-57.2108_-119.6138_56.7108_-119.1138-2023-01-07.nc (3.2K)\n",
      "2024-01-13 16:39:41,858 INFO Download rate 52.8K/s                                                                                                                                                                                                \n",
      "2024-01-13 16:39:41,998 INFO Welcome to the CDS\n",
      "2024-01-13 16:39:41,999 INFO Sending request to https://cds.climate.copernicus.eu/api/v2/resources/reanalysis-era5-single-levels\n",
      "2024-01-13 16:39:42,109 INFO Request is queued\n"
     ]
    },
    {
     "name": "stdout",
     "output_type": "stream",
     "text": [
      "[[[273.01504494 273.16296792 273.19494629]\n",
      "  [272.42648334 272.27371143 272.03918292]\n",
      "  [269.80259973 269.47182922 269.17260742]]]\n"
     ]
    },
    {
     "name": "stderr",
     "output_type": "stream",
     "text": [
      "2024-01-13 16:39:44,733 INFO Request is running\n",
      "2024-01-13 16:39:47,045 INFO Request is completed\n",
      "2024-01-13 16:39:47,048 INFO Downloading https://download-0015-clone.copernicus-climate.eu/cache-compute-0015/cache/data3/adaptor.mars.internal-1705163986.693637-2174-18-68cb0789-7a24-40a4-a182-4a9441dd4b76.nc to ./historical_climate_data/weather-57.2089_-119.6423_56.7089_-119.1423-2023-01-07.nc (3.2K)\n",
      "2024-01-13 16:39:47,297 INFO Download rate 12.9K/s                                                                                                                                                                                                \n",
      "2024-01-13 16:39:47,428 INFO Welcome to the CDS\n",
      "2024-01-13 16:39:47,430 INFO Sending request to https://cds.climate.copernicus.eu/api/v2/resources/reanalysis-era5-single-levels\n",
      "2024-01-13 16:39:47,540 INFO Request is queued\n"
     ]
    },
    {
     "name": "stdout",
     "output_type": "stream",
     "text": [
      "[[[272.96323003 273.14049747 273.19567871]\n",
      "  [272.40626162 272.28663065 272.03441738]\n",
      "  [269.78905026 269.48220818 269.17321777]]]\n"
     ]
    },
    {
     "name": "stderr",
     "output_type": "stream",
     "text": [
      "2024-01-13 16:39:50,164 INFO Request is running\n",
      "2024-01-13 16:39:55,916 INFO Request is completed\n",
      "2024-01-13 16:39:55,917 INFO Downloading https://download-0007-clone.copernicus-climate.eu/cache-compute-0007/cache/data8/adaptor.mars.internal-1705163992.6977093-6089-3-aeb7b1ee-08c9-4acc-ba94-d202eabaae05.nc to ./historical_climate_data/weather-56.5193_-122.5044_56.0193_-122.0044-2023-01-07.nc (3.2K)\n",
      "2024-01-13 16:39:55,982 INFO Download rate 49.9K/s                                                                                                                                                                                                \n",
      "2024-01-13 16:39:56,107 INFO Welcome to the CDS\n",
      "2024-01-13 16:39:56,109 INFO Sending request to https://cds.climate.copernicus.eu/api/v2/resources/reanalysis-era5-single-levels\n",
      "2024-01-13 16:39:56,241 INFO Request is queued\n"
     ]
    },
    {
     "name": "stdout",
     "output_type": "stream",
     "text": [
      "[[[264.14871608 262.56947079 261.65802002]\n",
      "  [263.5676683  263.04175238 262.99610496]\n",
      "  [264.39009829 264.79027582 265.29278564]]]\n"
     ]
    },
    {
     "name": "stderr",
     "output_type": "stream",
     "text": [
      "2024-01-13 16:39:58,858 INFO Request is running\n",
      "2024-01-13 16:40:01,168 INFO Request is completed\n",
      "2024-01-13 16:40:01,169 INFO Downloading https://download-0003-clone.copernicus-climate.eu/cache-compute-0003/cache/data4/adaptor.mars.internal-1705164000.8319526-21139-8-c76d0bd1-6d63-41a5-a604-caa2c4c7b11a.nc to ./historical_climate_data/weather-56.5573_-122.4689_56.0573_-121.9689-2023-01-07.nc (3.2K)\n",
      "2024-01-13 16:40:01,446 INFO Download rate 11.6K/s                                                                                                                                                                                                \n",
      "2024-01-13 16:40:01,570 INFO Welcome to the CDS\n",
      "2024-01-13 16:40:01,571 INFO Sending request to https://cds.climate.copernicus.eu/api/v2/resources/reanalysis-era5-single-levels\n",
      "2024-01-13 16:40:01,696 INFO Request is queued\n"
     ]
    },
    {
     "name": "stdout",
     "output_type": "stream",
     "text": [
      "[[[264.24114571 262.72429524 261.9934082 ]\n",
      "  [263.42224444 262.92169729 262.84790213]\n",
      "  [264.29968687 264.50586334 264.94219971]]]\n"
     ]
    },
    {
     "name": "stderr",
     "output_type": "stream",
     "text": [
      "2024-01-13 16:40:02,756 INFO Request is running\n",
      "2024-01-13 16:40:06,630 INFO Request is completed\n",
      "2024-01-13 16:40:06,631 INFO Downloading https://download-0004-clone.copernicus-climate.eu/cache-compute-0004/cache/data8/adaptor.mars.internal-1705164005.1922703-30905-13-7509a738-334a-4363-90a4-d79720f49bba.nc to ./historical_climate_data/weather-56.5551_-122.4848_56.0551_-121.9848-2023-01-07.nc (3.2K)\n",
      "2024-01-13 16:40:06,694 INFO Download rate 51.6K/s                                                                                                                                                                                                \n",
      "2024-01-13 16:40:06,822 INFO Welcome to the CDS\n",
      "2024-01-13 16:40:06,823 INFO Sending request to https://cds.climate.copernicus.eu/api/v2/resources/reanalysis-era5-single-levels\n",
      "2024-01-13 16:40:06,915 INFO Request is queued\n"
     ]
    },
    {
     "name": "stdout",
     "output_type": "stream",
     "text": [
      "[[[264.32765634 262.82519241 261.92504883]\n",
      "  [263.52307944 262.92757204 262.80707089]\n",
      "  [264.27806548 264.52110703 264.96228027]]]\n"
     ]
    },
    {
     "name": "stderr",
     "output_type": "stream",
     "text": [
      "2024-01-13 16:40:28,068 INFO Request is completed\n",
      "2024-01-13 16:40:28,071 INFO Downloading https://download-0007-clone.copernicus-climate.eu/cache-compute-0007/cache/data8/adaptor.mars.internal-1705164027.547578-5360-9-41033408-5d0f-4ef8-b5bd-297e6b0f5fd2.nc to ./historical_climate_data/weather-57.1987_-119.647_56.6987_-119.147-2023-01-08.nc (3.2K)\n",
      "2024-01-13 16:40:28,136 INFO Download rate 49.8K/s                                                                                                                                                                                                \n",
      "2024-01-13 16:40:28,264 INFO Welcome to the CDS\n",
      "2024-01-13 16:40:28,265 INFO Sending request to https://cds.climate.copernicus.eu/api/v2/resources/reanalysis-era5-single-levels\n",
      "2024-01-13 16:40:28,371 INFO Request is queued\n"
     ]
    },
    {
     "name": "stdout",
     "output_type": "stream",
     "text": [
      "[[[267.62124634 268.00365872 268.10763868]\n",
      "  [268.54992022 268.86938303 268.99450684]\n",
      "  [268.27075436 268.44315321 268.51461062]]]\n"
     ]
    },
    {
     "name": "stderr",
     "output_type": "stream",
     "text": [
      "2024-01-13 16:40:30,990 INFO Request is running\n",
      "2024-01-13 16:40:36,734 INFO Request is completed\n",
      "2024-01-13 16:40:36,735 INFO Downloading https://download-0017.copernicus-climate.eu/cache-compute-0017/cache/data2/adaptor.mars.internal-1705164033.4153366-32716-2-4fcf59e9-e7e6-4a7e-986e-975f8df5e842.nc to ./historical_climate_data/weather-57.208_-119.6526_56.708_-119.1526-2023-01-08.nc (3.2K)\n",
      "2024-01-13 16:40:36,968 INFO Download rate 13.8K/s                                                                                                                                                                                                \n",
      "2024-01-13 16:40:37,097 INFO Welcome to the CDS\n",
      "2024-01-13 16:40:37,098 INFO Sending request to https://cds.climate.copernicus.eu/api/v2/resources/reanalysis-era5-single-levels\n",
      "2024-01-13 16:40:37,191 INFO Request is queued\n"
     ]
    },
    {
     "name": "stdout",
     "output_type": "stream",
     "text": [
      "[[[267.55905151 267.95658057 268.06428973]\n",
      "  [268.54892578 268.87293556 269.00457764]\n",
      "  [268.28442845 268.47507564 268.54308041]]]\n"
     ]
    },
    {
     "name": "stderr",
     "output_type": "stream",
     "text": [
      "2024-01-13 16:40:42,119 INFO Request is running\n",
      "2024-01-13 16:40:45,558 INFO Request is completed\n",
      "2024-01-13 16:40:45,560 INFO Downloading https://download-0015-clone.copernicus-climate.eu/cache-compute-0015/cache/data2/adaptor.mars.internal-1705164044.0682228-7445-8-66df6de0-b25e-4b0a-892e-98a75c4d0df4.nc to ./historical_climate_data/weather-57.2045_-119.6711_56.7045_-119.1711-2023-01-08.nc (3.2K)\n",
      "2024-01-13 16:40:45,620 INFO Download rate 54.5K/s                                                                                                                                                                                                \n",
      "2024-01-13 16:40:45,744 INFO Welcome to the CDS\n",
      "2024-01-13 16:40:45,745 INFO Sending request to https://cds.climate.copernicus.eu/api/v2/resources/reanalysis-era5-single-levels\n",
      "2024-01-13 16:40:45,828 INFO Request is queued\n"
     ]
    },
    {
     "name": "stdout",
     "output_type": "stream",
     "text": [
      "[[[267.53421021 267.95992057 268.08025619]\n",
      "  [268.51592951 268.85531651 268.99484253]\n",
      "  [268.24786571 268.46243711 268.51900533]]]\n"
     ]
    },
    {
     "name": "stderr",
     "output_type": "stream",
     "text": [
      "2024-01-13 16:40:46,890 INFO Request is running\n",
      "2024-01-13 16:40:50,774 INFO Request is completed\n",
      "2024-01-13 16:40:50,776 INFO Downloading https://download-0003-clone.copernicus-climate.eu/cache-compute-0003/cache/data2/adaptor.mars.internal-1705164049.179832-21400-7-7af0de44-cf92-4cff-8370-5f9dc2b6f544.nc to ./historical_climate_data/weather-56.7647_-122.9514_56.2647_-122.4514-2023-01-08.nc (3.2K)\n",
      "2024-01-13 16:40:50,841 INFO Download rate 49.9K/s                                                                                                                                                                                                \n",
      "2024-01-13 16:40:50,960 INFO Welcome to the CDS\n",
      "2024-01-13 16:40:50,961 INFO Sending request to https://cds.climate.copernicus.eu/api/v2/resources/reanalysis-era5-single-levels\n",
      "2024-01-13 16:40:51,070 INFO Request is queued\n"
     ]
    },
    {
     "name": "stdout",
     "output_type": "stream",
     "text": [
      "[[[266.53469932 267.34754504 267.59716797]\n",
      "  [266.45955221 267.10813485 266.97946905]\n",
      "  [266.10694264 266.17617323 265.98834229]]]\n"
     ]
    },
    {
     "name": "stderr",
     "output_type": "stream",
     "text": [
      "2024-01-13 16:40:52,133 INFO Request is running\n",
      "2024-01-13 16:40:56,002 INFO Request is completed\n",
      "2024-01-13 16:40:56,004 INFO Downloading https://download-0012-clone.copernicus-climate.eu/cache-compute-0012/cache/data9/adaptor.mars.internal-1705164055.4198132-18323-13-f21aff59-0bcd-4d3a-a8be-71e73ce19c90.nc to ./historical_climate_data/weather-54.151_-117.7318_53.651_-117.2318-2023-01-08.nc (3.2K)\n",
      "2024-01-13 16:40:56,267 INFO Download rate 12.2K/s                                                                                                                                                                                                \n",
      "2024-01-13 16:40:56,392 INFO Welcome to the CDS\n",
      "2024-01-13 16:40:56,393 INFO Sending request to https://cds.climate.copernicus.eu/api/v2/resources/reanalysis-era5-single-levels\n",
      "2024-01-13 16:40:56,451 INFO Request is queued\n"
     ]
    },
    {
     "name": "stdout",
     "output_type": "stream",
     "text": [
      "[[[268.74673585 268.09223255 267.84518433]\n",
      "  [268.75937458 268.30233028 268.30288937]\n",
      "  [268.73526612 268.92486403 268.95544434]]]\n"
     ]
    },
    {
     "name": "stderr",
     "output_type": "stream",
     "text": [
      "2024-01-13 16:40:57,513 INFO Request is running\n",
      "2024-01-13 16:41:01,389 INFO Request is completed\n",
      "2024-01-13 16:41:01,393 INFO Downloading https://download-0019.copernicus-climate.eu/cache-compute-0019/cache/data3/adaptor.mars.internal-1705164060.4271798-4045-4-0882b2c5-d1cf-4d8f-bebd-01f1f62e7e21.nc to ./historical_climate_data/weather-54.1491_-117.7137_53.6491_-117.2137-2023-01-08.nc (3.2K)\n",
      "2024-01-13 16:41:01,644 INFO Download rate 12.9K/s                                                                                                                                                                                                \n",
      "2024-01-13 16:41:01,782 INFO Welcome to the CDS\n",
      "2024-01-13 16:41:01,783 INFO Sending request to https://cds.climate.copernicus.eu/api/v2/resources/reanalysis-era5-single-levels\n"
     ]
    },
    {
     "name": "stdout",
     "output_type": "stream",
     "text": [
      "[[[268.69399415 268.0955828  267.85910034]\n",
      "  [268.75328828 268.31268064 268.27648941]\n",
      "  [268.72582261 268.94207764 268.92806386]]]\n"
     ]
    },
    {
     "name": "stderr",
     "output_type": "stream",
     "text": [
      "2024-01-13 16:41:01,933 INFO Request is queued\n",
      "2024-01-13 16:41:02,994 INFO Request is running\n",
      "2024-01-13 16:41:06,864 INFO Request is completed\n",
      "2024-01-13 16:41:06,866 INFO Downloading https://download-0000-clone.copernicus-climate.eu/cache-compute-0000/cache/data6/adaptor.mars.internal-1705164064.5962741-26376-8-242ce929-457d-4c16-98ec-d9cd36f13fb7.nc to ./historical_climate_data/weather-54.1414_-117.7347_53.6414_-117.2347-2023-01-08.nc (3.2K)\n",
      "2024-01-13 16:41:07,110 INFO Download rate 13.2K/s                                                                                                                                                                                                \n",
      "2024-01-13 16:41:07,235 INFO Welcome to the CDS\n",
      "2024-01-13 16:41:07,236 INFO Sending request to https://cds.climate.copernicus.eu/api/v2/resources/reanalysis-era5-single-levels\n",
      "2024-01-13 16:41:07,336 INFO Request is queued\n"
     ]
    },
    {
     "name": "stdout",
     "output_type": "stream",
     "text": [
      "[[[268.749245   268.0857155  267.85772705]\n",
      "  [268.7662119  268.33077389 268.33462063]\n",
      "  [268.72537456 268.93752952 268.98312378]]]\n"
     ]
    },
    {
     "name": "stderr",
     "output_type": "stream",
     "text": [
      "2024-01-13 16:41:08,397 INFO Request is running\n",
      "2024-01-13 16:41:12,268 INFO Request is completed\n",
      "2024-01-13 16:41:12,270 INFO Downloading https://download-0013-clone.copernicus-climate.eu/cache-compute-0013/cache/data1/adaptor.mars.internal-1705164071.0750542-15468-2-981bce7b-cea5-46b9-9001-19304d9a4264.nc to ./historical_climate_data/weather-54.1472_-117.8816_53.6472_-117.3816-2023-01-08.nc (3.2K)\n",
      "2024-01-13 16:41:12,531 INFO Download rate 12.3K/s                                                                                                                                                                                                \n",
      "2024-01-13 16:41:12,657 INFO Welcome to the CDS\n",
      "2024-01-13 16:41:12,658 INFO Sending request to https://cds.climate.copernicus.eu/api/v2/resources/reanalysis-era5-single-levels\n",
      "2024-01-13 16:41:12,716 INFO Request is queued\n"
     ]
    },
    {
     "name": "stdout",
     "output_type": "stream",
     "text": [
      "[[[268.99419791 268.45876431 268.08303833]\n",
      "  [268.76602423 268.68463531 268.33913711]\n",
      "  [268.73500099 268.69081763 268.99758911]]]\n"
     ]
    },
    {
     "name": "stderr",
     "output_type": "stream",
     "text": [
      "2024-01-13 16:41:15,341 INFO Request is running\n",
      "2024-01-13 16:41:17,651 INFO Request is completed\n",
      "2024-01-13 16:41:17,652 INFO Downloading https://download-0009-clone.copernicus-climate.eu/cache-compute-0009/cache/data2/adaptor.mars.internal-1705164077.2266874-1667-8-de389247-6193-4beb-a0be-50bdda6c38ef.nc to ./historical_climate_data/weather-54.1453_-117.8636_53.6453_-117.3636-2023-01-08.nc (3.2K)\n",
      "2024-01-13 16:41:17,902 INFO Download rate 12.8K/s                                                                                                                                                                                                \n",
      "2024-01-13 16:41:18,016 INFO Welcome to the CDS\n",
      "2024-01-13 16:41:18,017 INFO Sending request to https://cds.climate.copernicus.eu/api/v2/resources/reanalysis-era5-single-levels\n",
      "2024-01-13 16:41:18,110 INFO Request is queued\n"
     ]
    },
    {
     "name": "stdout",
     "output_type": "stream",
     "text": [
      "[[[268.96598287 268.40630221 268.0526123 ]\n",
      "  [268.76740894 268.63909205 268.34943021]\n",
      "  [268.73325097 268.68142011 269.00192261]]]\n"
     ]
    },
    {
     "name": "stderr",
     "output_type": "stream",
     "text": [
      "2024-01-13 16:41:19,168 INFO Request is running\n",
      "2024-01-13 16:41:23,032 INFO Request is completed\n",
      "2024-01-13 16:41:23,033 INFO Downloading https://download-0002-clone.copernicus-climate.eu/cache-compute-0002/cache/data4/adaptor.mars.internal-1705164082.0992718-12225-15-0d678ed6-52a2-4b69-b580-cacfc7fa1a9c.nc to ./historical_climate_data/weather-54.1376_-117.7915_53.6376_-117.2915-2023-01-08.nc (3.2K)\n",
      "2024-01-13 16:41:23,266 INFO Download rate 13.8K/s                                                                                                                                                                                                \n",
      "2024-01-13 16:41:23,380 INFO Welcome to the CDS\n",
      "2024-01-13 16:41:23,381 INFO Sending request to https://cds.climate.copernicus.eu/api/v2/resources/reanalysis-era5-single-levels\n",
      "2024-01-13 16:41:23,465 INFO Request is queued\n"
     ]
    },
    {
     "name": "stdout",
     "output_type": "stream",
     "text": [
      "[[[268.85296331 268.19722971 267.93081665]\n",
      "  [268.77359421 268.45688194 268.37241316]\n",
      "  [268.72613554 268.83608616 269.01940918]]]\n"
     ]
    },
    {
     "name": "stderr",
     "output_type": "stream",
     "text": [
      "2024-01-13 16:41:24,523 INFO Request is running\n",
      "2024-01-13 16:41:28,571 INFO Request is completed\n",
      "2024-01-13 16:41:28,572 INFO Downloading https://download-0016.copernicus-climate.eu/cache-compute-0016/cache/data4/adaptor.mars.internal-1705164086.8527415-22861-7-c6883e5e-beeb-45d8-bb5c-6abcb3688bdb.nc to ./historical_climate_data/weather-54.1375_-117.8845_53.6375_-117.3845-2023-01-08.nc (3.2K)\n",
      "2024-01-13 16:41:28,800 INFO Download rate 14.1K/s                                                                                                                                                                                                \n",
      "2024-01-13 16:41:28,925 INFO Welcome to the CDS\n",
      "2024-01-13 16:41:28,926 INFO Sending request to https://cds.climate.copernicus.eu/api/v2/resources/reanalysis-era5-single-levels\n",
      "2024-01-13 16:41:29,003 INFO Request is queued\n"
     ]
    },
    {
     "name": "stdout",
     "output_type": "stream",
     "text": [
      "[[[268.9927665  268.46112496 268.10293579]\n",
      "  [268.77165637 268.72245856 268.36790953]\n",
      "  [268.72380261 268.68082103 269.02043152]]]\n"
     ]
    },
    {
     "name": "stderr",
     "output_type": "stream",
     "text": [
      "2024-01-13 16:41:30,066 INFO Request is running\n",
      "2024-01-13 16:41:33,941 INFO Request is completed\n",
      "2024-01-13 16:41:33,942 INFO Downloading https://download-0016.copernicus-climate.eu/cache-compute-0016/cache/data4/adaptor.mars.internal-1705164092.1160488-24818-7-02ad57c9-9828-4c5d-b632-cbaccd5b118e.nc to ./historical_climate_data/weather-54.0395_-117.7336_53.5395_-117.2336-2023-01-08.nc (3.2K)\n",
      "2024-01-13 16:41:33,998 INFO Download rate 57.1K/s                                                                                                                                                                                                \n",
      "2024-01-13 16:41:34,120 INFO Welcome to the CDS\n",
      "2024-01-13 16:41:34,121 INFO Sending request to https://cds.climate.copernicus.eu/api/v2/resources/reanalysis-era5-single-levels\n",
      "2024-01-13 16:41:34,198 INFO Request is queued\n"
     ]
    },
    {
     "name": "stdout",
     "output_type": "stream",
     "text": [
      "[[[268.68465687 268.02471808 268.01049805]\n",
      "  [268.82626624 268.64074098 268.61604983]\n",
      "  [268.60790563 269.09683468 269.22073364]]]\n"
     ]
    },
    {
     "name": "stderr",
     "output_type": "stream",
     "text": [
      "2024-01-13 16:41:35,258 INFO Request is running\n",
      "2024-01-13 16:41:39,135 INFO Request is completed\n",
      "2024-01-13 16:41:39,136 INFO Downloading https://download-0017.copernicus-climate.eu/cache-compute-0017/cache/data8/adaptor.mars.internal-1705164097.8398807-26642-18-4de9061c-bfcd-4654-9593-a386ff50ccb8.nc to ./historical_climate_data/weather-54.0724_-117.6853_53.5724_-117.1853-2023-01-08.nc (3.2K)\n",
      "2024-01-13 16:41:39,374 INFO Download rate 13.5K/s                                                                                                                                                                                                \n",
      "2024-01-13 16:41:39,501 INFO Welcome to the CDS\n",
      "2024-01-13 16:41:39,502 INFO Sending request to https://cds.climate.copernicus.eu/api/v2/resources/reanalysis-era5-single-levels\n",
      "2024-01-13 16:41:39,593 INFO Request is queued\n"
     ]
    },
    {
     "name": "stdout",
     "output_type": "stream",
     "text": [
      "[[[268.56652388 268.05651403 267.99099731]\n",
      "  [268.78753649 268.55298365 268.43990937]\n",
      "  [268.62630434 269.08377075 269.0582244 ]]]\n"
     ]
    },
    {
     "name": "stderr",
     "output_type": "stream",
     "text": [
      "2024-01-13 16:41:42,224 INFO Request is running\n",
      "2024-01-13 16:41:47,978 INFO Request is completed\n",
      "2024-01-13 16:41:47,979 INFO Downloading https://download-0017.copernicus-climate.eu/cache-compute-0017/cache/data5/adaptor.mars.internal-1705164104.3137228-29800-9-d9477ef4-cec6-4f3b-874f-af6ca11f4b20.nc to ./historical_climate_data/weather-54.0835_-117.6931_53.5835_-117.1931-2023-01-08.nc (3.2K)\n",
      "2024-01-13 16:41:48,041 INFO Download rate 52.2K/s                                                                                                                                                                                                \n",
      "2024-01-13 16:41:48,170 INFO Welcome to the CDS\n",
      "2024-01-13 16:41:48,171 INFO Sending request to https://cds.climate.copernicus.eu/api/v2/resources/reanalysis-era5-single-levels\n",
      "2024-01-13 16:41:48,253 INFO Request is queued\n"
     ]
    },
    {
     "name": "stdout",
     "output_type": "stream",
     "text": [
      "[[[268.59554784 268.06124338 267.96963501]\n",
      "  [268.78405736 268.51727129 268.42273359]\n",
      "  [268.64221751 269.06036377 269.04590017]]]\n"
     ]
    },
    {
     "name": "stderr",
     "output_type": "stream",
     "text": [
      "2024-01-13 16:41:49,315 INFO Request is running\n",
      "2024-01-13 16:41:53,197 INFO Request is completed\n",
      "2024-01-13 16:41:53,198 INFO Downloading https://download-0021.copernicus-climate.eu/cache-compute-0021/cache/data2/adaptor.mars.internal-1705164111.8728325-3176-20-a9388fab-5ef2-4d66-b11e-121ac0e982fa.nc to ./historical_climate_data/weather-54.0774_-117.7195_53.5774_-117.2195-2023-01-08.nc (3.2K)\n",
      "2024-01-13 16:41:53,445 INFO Download rate 13K/s                                                                                                                                                                                                  \n",
      "2024-01-13 16:41:53,569 INFO Welcome to the CDS\n",
      "2024-01-13 16:41:53,570 INFO Sending request to https://cds.climate.copernicus.eu/api/v2/resources/reanalysis-era5-single-levels\n",
      "2024-01-13 16:41:53,664 INFO Request is queued\n"
     ]
    },
    {
     "name": "stdout",
     "output_type": "stream",
     "text": [
      "[[[268.66723532 268.05102629 267.96255493]\n",
      "  [268.79815268 268.52914178 268.48596245]\n",
      "  [268.64577661 269.04903978 269.10678101]]]\n"
     ]
    },
    {
     "name": "stderr",
     "output_type": "stream",
     "text": [
      "2024-01-13 16:41:54,725 INFO Request is running\n",
      "2024-01-13 16:41:58,598 INFO Request is completed\n",
      "2024-01-13 16:41:58,599 INFO Downloading https://download-0007-clone.copernicus-climate.eu/cache-compute-0007/cache/data8/adaptor.mars.internal-1705164116.7488034-6396-9-541a1f55-3b7c-4566-b2f2-c06da492f4ae.nc to ./historical_climate_data/weather-54.1326_-117.7312_53.6326_-117.2312-2023-01-08.nc (3.2K)\n",
      "2024-01-13 16:41:58,819 INFO Download rate 14.6K/s                                                                                                                                                                                                \n",
      "2024-01-13 16:41:58,935 INFO Welcome to the CDS\n",
      "2024-01-13 16:41:58,936 INFO Sending request to https://cds.climate.copernicus.eu/api/v2/resources/reanalysis-era5-single-levels\n",
      "2024-01-13 16:41:59,075 INFO Request is queued\n"
     ]
    },
    {
     "name": "stdout",
     "output_type": "stream",
     "text": [
      "[[[268.73394907 268.08130348 267.87301636]\n",
      "  [268.77005652 268.3583904  268.35300175]\n",
      "  [268.71387031 268.95395739 268.99765015]]]\n"
     ]
    },
    {
     "name": "stderr",
     "output_type": "stream",
     "text": [
      "2024-01-13 16:42:00,137 INFO Request is running\n",
      "2024-01-13 16:42:04,016 INFO Request is completed\n",
      "2024-01-13 16:42:04,018 INFO Downloading https://download-0006-clone.copernicus-climate.eu/cache-compute-0006/cache/data6/adaptor.mars.internal-1705164123.7019122-8350-16-f52c1f9f-49d6-499d-8ddb-da567db068b6.nc to ./historical_climate_data/weather-54.1437_-117.7392_53.6437_-117.2392-2023-01-08.nc (3.2K)\n",
      "2024-01-13 16:42:04,255 INFO Download rate 13.5K/s                                                                                                                                                                                                \n",
      "2024-01-13 16:42:04,377 INFO Welcome to the CDS\n",
      "2024-01-13 16:42:04,378 INFO Sending request to https://cds.climate.copernicus.eu/api/v2/resources/reanalysis-era5-single-levels\n",
      "2024-01-13 16:42:04,451 INFO Request is queued\n"
     ]
    },
    {
     "name": "stdout",
     "output_type": "stream",
     "text": [
      "[[[268.76342107 268.08600687 267.85153198]\n",
      "  [268.76663993 268.32266228 268.33612611]\n",
      "  [268.72983071 268.93038644 268.98562622]]]\n"
     ]
    },
    {
     "name": "stderr",
     "output_type": "stream",
     "text": [
      "2024-01-13 16:42:05,515 INFO Request is running\n",
      "2024-01-13 16:42:09,387 INFO Request is completed\n",
      "2024-01-13 16:42:09,388 INFO Downloading https://download-0015-clone.copernicus-climate.eu/cache-compute-0015/cache/data2/adaptor.mars.internal-1705164127.2805517-7415-15-40484d27-85b8-45b2-a294-9a198049ce6a.nc to ./historical_climate_data/weather-54.1311_-117.7924_53.6311_-117.2924-2023-01-08.nc (3.2K)\n",
      "2024-01-13 16:42:09,618 INFO Download rate 14K/s                                                                                                                                                                                                  \n",
      "2024-01-13 16:42:09,741 INFO Welcome to the CDS\n",
      "2024-01-13 16:42:09,741 INFO Sending request to https://cds.climate.copernicus.eu/api/v2/resources/reanalysis-era5-single-levels\n",
      "2024-01-13 16:42:09,859 INFO Request is queued\n"
     ]
    },
    {
     "name": "stdout",
     "output_type": "stream",
     "text": [
      "[[[268.85043424 268.19589855 267.94219971]\n",
      "  [268.77743205 268.47922171 268.39046546]\n",
      "  [268.71865021 268.84411594 269.03469849]]]\n"
     ]
    },
    {
     "name": "stderr",
     "output_type": "stream",
     "text": [
      "2024-01-13 16:42:10,924 INFO Request is running\n",
      "2024-01-13 16:42:14,797 INFO Request is completed\n",
      "2024-01-13 16:42:14,798 INFO Downloading https://download-0010-clone.copernicus-climate.eu/cache-compute-0010/cache/data3/adaptor.mars.internal-1705164133.274454-29934-14-c1b76731-cd12-49ec-a7fe-3b2a558c1e1e.nc to ./historical_climate_data/weather-54.1349_-117.8867_53.6349_-117.3867-2023-01-08.nc (3.2K)\n",
      "2024-01-13 16:42:15,045 INFO Download rate 13K/s                                                                                                                                                                                                  \n",
      "2024-01-13 16:42:15,172 INFO Welcome to the CDS\n",
      "2024-01-13 16:42:15,173 INFO Sending request to https://cds.climate.copernicus.eu/api/v2/resources/reanalysis-era5-single-levels\n",
      "2024-01-13 16:42:15,253 INFO Request is queued\n"
     ]
    },
    {
     "name": "stdout",
     "output_type": "stream",
     "text": [
      "[[[268.99112535 268.4658085  268.10620117]\n",
      "  [268.77314626 268.7311652  268.37524436]\n",
      "  [268.71532594 268.67871341 269.02478027]]]\n"
     ]
    },
    {
     "name": "stderr",
     "output_type": "stream",
     "text": [
      "2024-01-13 16:42:16,315 INFO Request is running\n",
      "2024-01-13 16:42:20,190 INFO Request is completed\n",
      "2024-01-13 16:42:20,191 INFO Downloading https://download-0004-clone.copernicus-climate.eu/cache-compute-0004/cache/data8/adaptor.mars.internal-1705164138.995552-30905-17-7b02dc29-2028-4ffe-b279-ba51510951e4.nc to ./historical_climate_data/weather-54.1454_-117.8705_53.6454_-117.3705-2023-01-08.nc (3.2K)\n",
      "2024-01-13 16:42:20,422 INFO Download rate 13.9K/s                                                                                                                                                                                                \n",
      "2024-01-13 16:42:20,540 INFO Welcome to the CDS\n",
      "2024-01-13 16:42:20,541 INFO Sending request to https://cds.climate.copernicus.eu/api/v2/resources/reanalysis-era5-single-levels\n",
      "2024-01-13 16:42:20,645 INFO Request is queued\n"
     ]
    },
    {
     "name": "stdout",
     "output_type": "stream",
     "text": [
      "[[[268.97643079 268.42602698 268.06523132]\n",
      "  [268.76724447 268.65847845 268.34739991]\n",
      "  [268.73320418 268.68431592 269.0017395 ]]]\n"
     ]
    },
    {
     "name": "stderr",
     "output_type": "stream",
     "text": [
      "2024-01-13 16:42:21,706 INFO Request is running\n",
      "2024-01-13 16:42:25,581 INFO Request is completed\n",
      "2024-01-13 16:42:25,582 INFO Downloading https://download-0020.copernicus-climate.eu/cache-compute-0020/cache/data7/adaptor.mars.internal-1705164143.767656-11466-7-bbd02147-7f3e-4085-9ad0-ba0de21ac8c9.nc to ./historical_climate_data/weather-54.1391_-117.8967_53.6391_-117.3967-2023-01-08.nc (3.2K)\n",
      "2024-01-13 16:42:25,827 INFO Download rate 13.2K/s                                                                                                                                                                                                \n",
      "2024-01-13 16:42:25,951 INFO Welcome to the CDS\n",
      "2024-01-13 16:42:25,952 INFO Sending request to https://cds.climate.copernicus.eu/api/v2/resources/reanalysis-era5-single-levels\n",
      "2024-01-13 16:42:26,037 INFO Request is queued\n"
     ]
    },
    {
     "name": "stdout",
     "output_type": "stream",
     "text": [
      "[[[268.99986283 268.49688747 268.10623169]\n",
      "  [268.77051898 268.73264682 268.35996824]\n",
      "  [268.70583968 268.68753136 269.01037598]]]\n"
     ]
    },
    {
     "name": "stderr",
     "output_type": "stream",
     "text": [
      "2024-01-13 16:42:27,101 INFO Request is running\n",
      "2024-01-13 16:42:30,972 INFO Request is completed\n",
      "2024-01-13 16:42:30,973 INFO Downloading https://download-0020.copernicus-climate.eu/cache-compute-0020/cache/data5/adaptor.mars.internal-1705164149.1322246-13456-3-fe3f7188-842c-4c7a-859e-8aa041d8879f.nc to ./historical_climate_data/weather-55.1551_-116.0414_54.6551_-115.5414-2023-01-09.nc (3.2K)\n",
      "2024-01-13 16:42:31,043 INFO Download rate 46.2K/s                                                                                                                                                                                                \n",
      "2024-01-13 16:42:31,167 INFO Welcome to the CDS\n",
      "2024-01-13 16:42:31,168 INFO Sending request to https://cds.climate.copernicus.eu/api/v2/resources/reanalysis-era5-single-levels\n",
      "2024-01-13 16:42:31,242 INFO Request is queued\n"
     ]
    },
    {
     "name": "stdout",
     "output_type": "stream",
     "text": [
      "[[[268.12893165 267.75073416 267.73284912]\n",
      "  [270.70153766 270.26928762 270.47896835]\n",
      "  [271.07928094 270.77489469 271.45367432]]]\n"
     ]
    },
    {
     "name": "stderr",
     "output_type": "stream",
     "text": [
      "2024-01-13 16:42:32,304 INFO Request is running\n",
      "2024-01-13 16:42:36,182 INFO Request is completed\n",
      "2024-01-13 16:42:36,183 INFO Downloading https://download-0005-clone.copernicus-climate.eu/cache-compute-0005/cache/data3/adaptor.mars.internal-1705164154.9518816-24562-15-dae057cb-6f4b-4033-875e-e25a9ead4a6f.nc to ./historical_climate_data/weather-55.1619_-116.0284_54.6619_-115.5284-2023-01-09.nc (3.2K)\n",
      "2024-01-13 16:42:36,435 INFO Download rate 12.7K/s                                                                                                                                                                                                \n",
      "2024-01-13 16:42:36,559 INFO Welcome to the CDS\n",
      "2024-01-13 16:42:36,560 INFO Sending request to https://cds.climate.copernicus.eu/api/v2/resources/reanalysis-era5-single-levels\n",
      "2024-01-13 16:42:36,652 INFO Request is queued\n"
     ]
    },
    {
     "name": "stdout",
     "output_type": "stream",
     "text": [
      "[[[267.99106482 267.64089401 267.63311768]\n",
      "  [270.64815668 270.2333598  270.41557351]\n",
      "  [271.05735696 270.75749669 271.49377441]]]\n"
     ]
    },
    {
     "name": "stderr",
     "output_type": "stream",
     "text": [
      "2024-01-13 16:42:37,716 INFO Request is running\n",
      "2024-01-13 16:42:41,587 INFO Request is completed\n",
      "2024-01-13 16:42:41,588 INFO Downloading https://download-0017.copernicus-climate.eu/cache-compute-0017/cache/data4/adaptor.mars.internal-1705164160.285698-31721-11-43b46e4f-b000-4591-a5e5-fdafcb90b574.nc to ./historical_climate_data/weather-53.4587_-117.0484_52.9587_-116.5484-2023-01-09.nc (3.2K)\n",
      "2024-01-13 16:42:41,646 INFO Download rate 55.6K/s                                                                                                                                                                                                \n",
      "2024-01-13 16:42:41,770 INFO Welcome to the CDS\n",
      "2024-01-13 16:42:41,772 INFO Sending request to https://cds.climate.copernicus.eu/api/v2/resources/reanalysis-era5-single-levels\n",
      "2024-01-13 16:42:41,886 INFO Request is queued\n"
     ]
    },
    {
     "name": "stdout",
     "output_type": "stream",
     "text": [
      "[[[268.58573263 267.76182695 267.07263184]\n",
      "  [270.89758301 270.56559268 269.85591082]\n",
      "  [269.12358264 269.64374752 270.39831344]]]\n"
     ]
    },
    {
     "name": "stderr",
     "output_type": "stream",
     "text": [
      "2024-01-13 16:42:42,951 INFO Request is running\n",
      "2024-01-13 16:42:46,829 INFO Request is completed\n",
      "2024-01-13 16:42:46,830 INFO Downloading https://download-0002-clone.copernicus-climate.eu/cache-compute-0002/cache/data4/adaptor.mars.internal-1705164165.4331841-14515-4-54b91c7d-9c35-4194-81ba-086cfea22c6e.nc to ./historical_climate_data/weather-53.4311_-117.1324_52.9311_-116.6324-2023-01-09.nc (3.2K)\n",
      "2024-01-13 16:42:47,059 INFO Download rate 14K/s                                                                                                                                                                                                  \n",
      "2024-01-13 16:42:47,182 INFO Welcome to the CDS\n",
      "2024-01-13 16:42:47,183 INFO Sending request to https://cds.climate.copernicus.eu/api/v2/resources/reanalysis-era5-single-levels\n",
      "2024-01-13 16:42:47,292 INFO Request is queued\n"
     ]
    },
    {
     "name": "stdout",
     "output_type": "stream",
     "text": [
      "[[[269.13832186 268.4414016  267.65991211]\n",
      "  [270.52343392 270.83770752 270.04603481]\n",
      "  [268.48848688 269.22647947 270.0540844 ]]]\n"
     ]
    },
    {
     "name": "stderr",
     "output_type": "stream",
     "text": [
      "2024-01-13 16:42:49,916 INFO Request is running\n",
      "2024-01-13 16:42:52,237 INFO Request is completed\n",
      "2024-01-13 16:42:52,238 INFO Downloading https://download-0011-clone.copernicus-climate.eu/cache-compute-0011/cache/data9/adaptor.mars.internal-1705164171.4799268-11050-9-bbfcff5a-f5f1-4d9f-96c7-51fcf2526a88.nc to ./historical_climate_data/weather-53.4268_-117.1119_52.9268_-116.6119-2023-01-09.nc (3.2K)\n",
      "2024-01-13 16:42:52,488 INFO Download rate 12.8K/s                                                                                                                                                                                                \n",
      "2024-01-13 16:42:52,613 INFO Welcome to the CDS\n",
      "2024-01-13 16:42:52,614 INFO Sending request to https://cds.climate.copernicus.eu/api/v2/resources/reanalysis-era5-single-levels\n",
      "2024-01-13 16:42:52,712 INFO Request is queued\n"
     ]
    },
    {
     "name": "stdout",
     "output_type": "stream",
     "text": [
      "[[[269.15472058 268.42659718 267.66619873]\n",
      "  [270.51484998 270.75842285 269.98655826]\n",
      "  [268.52960369 269.21464649 270.07927827]]]\n"
     ]
    },
    {
     "name": "stderr",
     "output_type": "stream",
     "text": [
      "2024-01-13 16:42:55,339 INFO Request is running\n",
      "2024-01-13 16:42:57,650 INFO Request is completed\n",
      "2024-01-13 16:42:57,651 INFO Downloading https://download-0018.copernicus-climate.eu/cache-compute-0018/cache/data7/adaptor.mars.internal-1705164176.9630256-5766-5-77f9baa9-65c2-40f9-9245-1d5c19b4b637.nc to ./historical_climate_data/weather-53.1328_-116.8658_52.6328_-116.3658-2023-01-09.nc (3.2K)\n",
      "2024-01-13 16:42:57,894 INFO Download rate 13.2K/s                                                                                                                                                                                                \n",
      "2024-01-13 16:42:58,017 INFO Welcome to the CDS\n",
      "2024-01-13 16:42:58,018 INFO Sending request to https://cds.climate.copernicus.eu/api/v2/resources/reanalysis-era5-single-levels\n"
     ]
    },
    {
     "name": "stdout",
     "output_type": "stream",
     "text": [
      "[[[270.72143555 269.95408282 270.37274408]\n",
      "  [268.76216567 269.83573028 270.28558568]\n",
      "  [266.92877197 268.03306773 269.50214395]]]\n"
     ]
    },
    {
     "name": "stderr",
     "output_type": "stream",
     "text": [
      "2024-01-13 16:42:58,322 INFO Request is queued\n",
      "2024-01-13 16:42:59,382 INFO Request is running\n",
      "2024-01-13 16:43:03,266 INFO Request is completed\n",
      "2024-01-13 16:43:03,268 INFO Downloading https://download-0017.copernicus-climate.eu/cache-compute-0017/cache/data6/adaptor.mars.internal-1705164181.9635808-27969-15-78981f44-13b6-48be-9fae-d583d17e9942.nc to ./historical_climate_data/weather-53.1283_-116.844_52.6283_-116.344-2023-01-09.nc (3.2K)\n",
      "2024-01-13 16:43:03,328 INFO Download rate 54.2K/s                                                                                                                                                                                                \n",
      "2024-01-13 16:43:03,455 INFO Welcome to the CDS\n",
      "2024-01-13 16:43:03,456 INFO Sending request to https://cds.climate.copernicus.eu/api/v2/resources/reanalysis-era5-single-levels\n",
      "2024-01-13 16:43:03,555 INFO Request is queued\n"
     ]
    },
    {
     "name": "stdout",
     "output_type": "stream",
     "text": [
      "[[[270.63708496 270.02219087 270.39430533]\n",
      "  [268.84898668 269.86301381 270.38112824]\n",
      "  [267.00878906 268.14035807 269.5857412 ]]]\n"
     ]
    },
    {
     "name": "stderr",
     "output_type": "stream",
     "text": [
      "2024-01-13 16:43:06,186 INFO Request is running\n",
      "2024-01-13 16:43:11,946 INFO Request is completed\n",
      "2024-01-13 16:43:11,947 INFO Downloading https://download-0016.copernicus-climate.eu/cache-compute-0016/cache/data4/adaptor.mars.internal-1705164188.879787-25584-7-d1d79ca3-2e73-45c8-b0a4-aa50392012e0.nc to ./historical_climate_data/weather-52.9882_-122.3463_52.4882_-121.8463-2023-01-09.nc (3.2K)\n",
      "2024-01-13 16:43:12,176 INFO Download rate 14.1K/s                                                                                                                                                                                                \n",
      "2024-01-13 16:43:12,310 INFO Welcome to the CDS\n",
      "2024-01-13 16:43:12,311 INFO Sending request to https://cds.climate.copernicus.eu/api/v2/resources/reanalysis-era5-single-levels\n",
      "2024-01-13 16:43:12,409 INFO Request is queued\n"
     ]
    },
    {
     "name": "stdout",
     "output_type": "stream",
     "text": [
      "[[[273.75689697 273.71966092 272.96829909]\n",
      "  [273.10500861 273.52834996 273.03691982]\n",
      "  [272.63238525 273.15084156 273.10880085]]]\n"
     ]
    },
    {
     "name": "stderr",
     "output_type": "stream",
     "text": [
      "2024-01-13 16:43:13,471 INFO Request is running\n",
      "2024-01-13 16:43:17,350 INFO Request is completed\n",
      "2024-01-13 16:43:17,351 INFO Downloading https://download-0020.copernicus-climate.eu/cache-compute-0020/cache/data1/adaptor.mars.internal-1705164196.2214913-11116-13-279426d2-0555-4e20-a39d-4f59ce1b0892.nc to ./historical_climate_data/weather-51.9877_-121.8631_51.4877_-121.3631-2023-01-09.nc (3.2K)\n",
      "2024-01-13 16:43:17,412 INFO Download rate 53.6K/s                                                                                                                                                                                                \n",
      "2024-01-13 16:43:17,542 INFO Welcome to the CDS\n",
      "2024-01-13 16:43:17,543 INFO Sending request to https://cds.climate.copernicus.eu/api/v2/resources/reanalysis-era5-single-levels\n",
      "2024-01-13 16:43:17,648 INFO Request is queued\n"
     ]
    },
    {
     "name": "stdout",
     "output_type": "stream",
     "text": [
      "[[[272.7807611  273.09295654 272.92436688]\n",
      "  [271.98630917 272.57017851 272.78852993]\n",
      "  [271.16448975 272.02844923 272.46229761]]]\n"
     ]
    },
    {
     "name": "stderr",
     "output_type": "stream",
     "text": [
      "2024-01-13 16:43:22,595 INFO Request is running\n",
      "2024-01-13 16:43:26,033 INFO Request is completed\n",
      "2024-01-13 16:43:26,034 INFO Downloading https://download-0002-clone.copernicus-climate.eu/cache-compute-0002/cache/data3/adaptor.mars.internal-1705164204.541764-11880-11-c00601f1-ac81-4234-b322-0c409c0ec540.nc to ./historical_climate_data/weather-51.9852_-121.8482_51.4852_-121.3482-2023-01-09.nc (3.2K)\n",
      "2024-01-13 16:43:26,092 INFO Download rate 55.8K/s                                                                                                                                                                                                \n",
      "2024-01-13 16:43:26,221 INFO Welcome to the CDS\n",
      "2024-01-13 16:43:26,221 INFO Sending request to https://cds.climate.copernicus.eu/api/v2/resources/reanalysis-era5-single-levels\n",
      "2024-01-13 16:43:26,299 INFO Request is queued\n"
     ]
    },
    {
     "name": "stdout",
     "output_type": "stream",
     "text": [
      "[[[272.81905869 273.08349609 272.90934311]\n",
      "  [272.02441708 272.59216273 272.78611239]\n",
      "  [271.1895752  272.05123652 272.47919161]]]\n"
     ]
    },
    {
     "name": "stderr",
     "output_type": "stream",
     "text": [
      "2024-01-13 16:43:27,365 INFO Request is running\n",
      "2024-01-13 16:43:31,242 INFO Request is completed\n",
      "2024-01-13 16:43:31,243 INFO Downloading https://download-0010-clone.copernicus-climate.eu/cache-compute-0010/cache/data3/adaptor.mars.internal-1705164210.1222997-30600-14-0d56df31-4484-405d-9d77-dac34e80c876.nc to ./historical_climate_data/weather-53.5954_-116.8989_53.0954_-116.3989-2023-01-09.nc (3.2K)\n",
      "2024-01-13 16:43:31,498 INFO Download rate 12.6K/s                                                                                                                                                                                                \n",
      "2024-01-13 16:43:31,635 INFO Welcome to the CDS\n",
      "2024-01-13 16:43:31,637 INFO Sending request to https://cds.climate.copernicus.eu/api/v2/resources/reanalysis-era5-single-levels\n",
      "2024-01-13 16:43:31,739 INFO Request is queued\n"
     ]
    },
    {
     "name": "stdout",
     "output_type": "stream",
     "text": [
      "[[[266.56920687 266.29746808 266.09875488]\n",
      "  [269.67343474 268.86900703 268.65235772]\n",
      "  [270.51757812 270.01941283 270.49600085]]]\n"
     ]
    },
    {
     "name": "stderr",
     "output_type": "stream",
     "text": [
      "2024-01-13 16:43:40,128 INFO Request is running\n",
      "2024-01-13 16:43:45,261 INFO Request is completed\n",
      "2024-01-13 16:43:45,262 INFO Downloading https://download-0018.copernicus-climate.eu/cache-compute-0018/cache/data1/adaptor.mars.internal-1705164222.4259996-4603-15-8196029e-e6cc-4548-a638-7ad4c780d5f1.nc to ./historical_climate_data/weather-52.7167_-115.6768_52.2167_-115.1768-2023-01-09.nc (3.2K)\n",
      "2024-01-13 16:43:45,334 INFO Download rate 44.4K/s                                                                                                                                                                                                \n",
      "2024-01-13 16:43:45,465 INFO Welcome to the CDS\n",
      "2024-01-13 16:43:45,466 INFO Sending request to https://cds.climate.copernicus.eu/api/v2/resources/reanalysis-era5-single-levels\n",
      "2024-01-13 16:43:45,531 INFO Request is queued\n"
     ]
    },
    {
     "name": "stdout",
     "output_type": "stream",
     "text": [
      "[[[272.1055337  271.64876081 270.75177002]\n",
      "  [272.15724143 272.4582102  272.23920775]\n",
      "  [271.38843474 273.08287362 273.54071045]]]\n"
     ]
    },
    {
     "name": "stderr",
     "output_type": "stream",
     "text": [
      "2024-01-13 16:43:50,481 INFO Request is running\n",
      "2024-01-13 16:43:53,922 INFO Request is completed\n",
      "2024-01-13 16:43:53,923 INFO Downloading https://download-0007-clone.copernicus-climate.eu/cache-compute-0007/cache/data0/adaptor.mars.internal-1705164231.2231467-11303-5-80bbf01f-d95f-42ca-9a08-018938f13d1f.nc to ./historical_climate_data/weather-52.7258_-115.6799_52.2258_-115.1799-2023-01-09.nc (3.2K)\n",
      "2024-01-13 16:43:54,145 INFO Download rate 14.5K/s                                                                                                                                                                                                \n",
      "2024-01-13 16:43:54,274 INFO Welcome to the CDS\n",
      "2024-01-13 16:43:54,275 INFO Sending request to https://cds.climate.copernicus.eu/api/v2/resources/reanalysis-era5-single-levels\n",
      "2024-01-13 16:43:54,384 INFO Request is queued\n"
     ]
    },
    {
     "name": "stdout",
     "output_type": "stream",
     "text": [
      "[[[272.12730503 271.60981729 270.71270752]\n",
      "  [272.13551497 272.44670633 272.19193641]\n",
      "  [271.41063909 273.0965574  273.57452393]]]\n"
     ]
    },
    {
     "name": "stderr",
     "output_type": "stream",
     "text": [
      "2024-01-13 16:43:55,453 INFO Request is running\n",
      "2024-01-13 16:43:59,332 INFO Request is completed\n",
      "2024-01-13 16:43:59,333 INFO Downloading https://download-0004-clone.copernicus-climate.eu/cache-compute-0004/cache/data5/adaptor.mars.internal-1705164238.086952-30883-14-7aafb434-1b0c-4cc6-85b0-e6f5ca6cf455.nc to ./historical_climate_data/weather-52.9733_-116.6268_52.4733_-116.1268-2023-01-09.nc (3.2K)\n",
      "2024-01-13 16:43:59,579 INFO Download rate 13.1K/s                                                                                                                                                                                                \n",
      "2024-01-13 16:43:59,711 INFO Welcome to the CDS\n",
      "2024-01-13 16:43:59,711 INFO Sending request to https://cds.climate.copernicus.eu/api/v2/resources/reanalysis-era5-single-levels\n",
      "2024-01-13 16:43:59,794 INFO Request is queued\n"
     ]
    },
    {
     "name": "stdout",
     "output_type": "stream",
     "text": [
      "[[[270.29196806 270.7463581  271.13061523]\n",
      "  [268.7314186  269.86644182 271.00465849]\n",
      "  [267.1060791  268.60061027 270.02212215]]]\n"
     ]
    },
    {
     "name": "stderr",
     "output_type": "stream",
     "text": [
      "2024-01-13 16:44:00,859 INFO Request is running\n",
      "2024-01-13 16:44:04,737 INFO Request is completed\n",
      "2024-01-13 16:44:04,737 INFO Downloading https://download-0015-clone.copernicus-climate.eu/cache-compute-0015/cache/data3/adaptor.mars.internal-1705164243.2020466-7415-17-6eece394-8093-4d28-9b47-97f79ed4f8d4.nc to ./historical_climate_data/weather-53.1265_-116.8669_52.6265_-116.3669-2023-01-09.nc (3.2K)\n",
      "2024-01-13 16:44:04,987 INFO Download rate 12.9K/s                                                                                                                                                                                                \n",
      "2024-01-13 16:44:05,117 INFO Welcome to the CDS\n",
      "2024-01-13 16:44:05,118 INFO Sending request to https://cds.climate.copernicus.eu/api/v2/resources/reanalysis-era5-single-levels\n",
      "2024-01-13 16:44:05,182 INFO Request is queued\n"
     ]
    },
    {
     "name": "stdout",
     "output_type": "stream",
     "text": [
      "[[[270.71807861 269.97560284 270.40536764]\n",
      "  [268.71501424 269.7996112  270.26882442]\n",
      "  [266.87109375 267.9906777  269.46782174]]]\n"
     ]
    },
    {
     "name": "stderr",
     "output_type": "stream",
     "text": [
      "2024-01-13 16:44:06,250 INFO Request is running\n",
      "2024-01-13 16:44:10,131 INFO Request is completed\n",
      "2024-01-13 16:44:10,132 INFO Downloading https://download-0021.copernicus-climate.eu/cache-compute-0021/cache/data3/adaptor.mars.internal-1705164248.716082-3029-12-e1e57267-382b-4aeb-8341-be2eeb4e94f9.nc to ./historical_climate_data/weather-53.1373_-116.8553_52.6373_-116.3553-2023-01-09.nc (3.2K)\n",
      "2024-01-13 16:44:10,384 INFO Download rate 12.8K/s                                                                                                                                                                                                \n",
      "2024-01-13 16:44:10,515 INFO Welcome to the CDS\n",
      "2024-01-13 16:44:10,516 INFO Sending request to https://cds.climate.copernicus.eu/api/v2/resources/reanalysis-era5-single-levels\n",
      "2024-01-13 16:44:10,598 INFO Request is queued\n"
     ]
    },
    {
     "name": "stdout",
     "output_type": "stream",
     "text": [
      "[[[270.6885376  269.96150493 270.34865892]\n",
      "  [268.84759801 269.88440981 270.34379152]\n",
      "  [267.02215576 268.12257943 269.5731201 ]]]\n"
     ]
    },
    {
     "name": "stderr",
     "output_type": "stream",
     "text": [
      "2024-01-13 16:44:13,229 INFO Request is running\n",
      "2024-01-13 16:44:15,547 INFO Request is completed\n",
      "2024-01-13 16:44:15,547 INFO Downloading https://download-0014-clone.copernicus-climate.eu/cache-compute-0014/cache/data2/adaptor.mars.internal-1705164255.19981-2243-3-427ed1e8-511d-4f76-be24-0c3807cf067a.nc to ./historical_climate_data/weather-53.3878_-117.2018_52.8878_-116.7018-2023-01-09.nc (3.2K)\n",
      "2024-01-13 16:44:15,795 INFO Download rate 12.9K/s                                                                                                                                                                                                \n",
      "2024-01-13 16:44:15,917 INFO Welcome to the CDS\n",
      "2024-01-13 16:44:15,918 INFO Sending request to https://cds.climate.copernicus.eu/api/v2/resources/reanalysis-era5-single-levels\n",
      "2024-01-13 16:44:16,032 INFO Request is queued\n"
     ]
    },
    {
     "name": "stdout",
     "output_type": "stream",
     "text": [
      "[[[269.64686925 269.28314994 268.42917684]\n",
      "  [270.02898542 270.70428467 270.1793012 ]\n",
      "  [267.76379395 268.67093845 269.58355714]]]\n"
     ]
    },
    {
     "name": "stderr",
     "output_type": "stream",
     "text": [
      "2024-01-13 16:44:18,664 INFO Request is running\n",
      "2024-01-13 16:44:24,425 INFO Request is completed\n",
      "2024-01-13 16:44:24,426 INFO Downloading https://download-0014-clone.copernicus-climate.eu/cache-compute-0014/cache/data1/adaptor.mars.internal-1705164260.765088-1691-6-3e8f26e8-cbe1-48b4-85c0-165a00dc78f1.nc to ./historical_climate_data/weather-53.3967_-117.2051_52.8967_-116.7051-2023-01-09.nc (3.2K)\n",
      "2024-01-13 16:44:24,489 INFO Download rate 51.8K/s                                                                                                                                                                                                \n",
      "2024-01-13 16:44:24,618 INFO Welcome to the CDS\n",
      "2024-01-13 16:44:24,619 INFO Sending request to https://cds.climate.copernicus.eu/api/v2/resources/reanalysis-era5-single-levels\n",
      "2024-01-13 16:44:24,710 INFO Request is queued\n"
     ]
    },
    {
     "name": "stdout",
     "output_type": "stream",
     "text": [
      "[[[269.55162139 269.17315573 268.31628173]\n",
      "  [270.10475324 270.7557373  270.19846897]\n",
      "  [267.84094238 268.75746176 269.62999212]]]\n"
     ]
    },
    {
     "name": "stderr",
     "output_type": "stream",
     "text": [
      "2024-01-13 16:44:27,343 INFO Request is running\n",
      "2024-01-13 16:44:33,094 INFO Request is completed\n",
      "2024-01-13 16:44:33,095 INFO Downloading https://download-0006-clone.copernicus-climate.eu/cache-compute-0006/cache/data3/adaptor.mars.internal-1705164269.577724-6231-9-8b20ae0e-d200-4489-8097-bdde6ed8221c.nc to ./historical_climate_data/weather-53.3565_-117.5628_52.8565_-117.0628-2023-01-09.nc (3.2K)\n",
      "2024-01-13 16:44:33,335 INFO Download rate 13.4K/s                                                                                                                                                                                                \n",
      "2024-01-13 16:44:33,464 INFO Welcome to the CDS\n",
      "2024-01-13 16:44:33,465 INFO Sending request to https://cds.climate.copernicus.eu/api/v2/resources/reanalysis-era5-single-levels\n",
      "2024-01-13 16:44:33,573 INFO Request is queued\n"
     ]
    },
    {
     "name": "stdout",
     "output_type": "stream",
     "text": [
      "[[[269.7844884  269.7810896  270.01566234]\n",
      "  [269.07269104 269.56094781 270.16827393]\n",
      "  [266.51690674 267.05480824 268.00970319]]]\n"
     ]
    },
    {
     "name": "stderr",
     "output_type": "stream",
     "text": [
      "2024-01-13 16:44:36,206 INFO Request is running\n",
      "2024-01-13 16:44:41,961 INFO Request is completed\n",
      "2024-01-13 16:44:41,962 INFO Downloading https://download-0005-clone.copernicus-climate.eu/cache-compute-0005/cache/data9/adaptor.mars.internal-1705164279.4406307-4580-20-89f0d8da-e203-4e15-a286-537ba97b6994.nc to ./historical_climate_data/weather-53.3483_-117.6216_52.8483_-117.1216-2023-01-09.nc (3.2K)\n",
      "2024-01-13 16:44:42,200 INFO Download rate 13.5K/s                                                                                                                                                                                                \n",
      "2024-01-13 16:44:42,331 INFO Welcome to the CDS\n",
      "2024-01-13 16:44:42,332 INFO Sending request to https://cds.climate.copernicus.eu/api/v2/resources/reanalysis-era5-single-levels\n"
     ]
    },
    {
     "name": "stdout",
     "output_type": "stream",
     "text": [
      "[[[269.70434902 269.75901516 270.16619873]\n",
      "  [269.06577639 269.34134618 269.87156952]\n",
      "  [266.58734131 266.78525349 267.68355856]]]\n"
     ]
    },
    {
     "name": "stderr",
     "output_type": "stream",
     "text": [
      "2024-01-13 16:44:42,480 INFO Request is queued\n",
      "2024-01-13 16:44:43,547 INFO Request is running\n",
      "2024-01-13 16:44:47,427 INFO Request is completed\n",
      "2024-01-13 16:44:47,427 INFO Downloading https://download-0014-clone.copernicus-climate.eu/cache-compute-0014/cache/data4/adaptor.mars.internal-1705164286.2272315-682-7-b0f70107-68e0-4cb5-bd99-53432f33065d.nc to ./historical_climate_data/weather-53.4249_-117.1273_52.9249_-116.6273-2023-01-09.nc (3.2K)\n",
      "2024-01-13 16:44:47,488 INFO Download rate 53.2K/s                                                                                                                                                                                                \n",
      "2024-01-13 16:44:47,626 INFO Welcome to the CDS\n",
      "2024-01-13 16:44:47,627 INFO Sending request to https://cds.climate.copernicus.eu/api/v2/resources/reanalysis-era5-single-levels\n"
     ]
    },
    {
     "name": "stdout",
     "output_type": "stream",
     "text": [
      "[[[269.2127234  268.50793077 267.73101807]\n",
      "  [270.47487157 270.81201172 270.025226  ]\n",
      "  [268.44573074 269.17069255 270.03303038]]]\n"
     ]
    },
    {
     "name": "stderr",
     "output_type": "stream",
     "text": [
      "2024-01-13 16:44:47,762 INFO Request is queued\n",
      "2024-01-13 16:44:50,555 INFO Request is running\n",
      "2024-01-13 16:44:52,905 INFO Request is completed\n",
      "2024-01-13 16:44:52,914 INFO Downloading https://download-0000-clone.copernicus-climate.eu/cache-compute-0000/cache/data1/adaptor.mars.internal-1705164292.1347308-27038-12-c119fb28-41ec-4153-8d06-7c9a27159b2c.nc to ./historical_climate_data/weather-53.4636_-117.0479_52.9636_-116.5479-2023-01-09.nc (3.2K)\n",
      "2024-01-13 16:44:53,165 INFO Download rate 12.8K/s                                                                                                                                                                                                \n",
      "2024-01-13 16:44:53,311 INFO Welcome to the CDS\n",
      "2024-01-13 16:44:53,311 INFO Sending request to https://cds.climate.copernicus.eu/api/v2/resources/reanalysis-era5-single-levels\n",
      "2024-01-13 16:44:53,425 INFO Request is queued\n"
     ]
    },
    {
     "name": "stdout",
     "output_type": "stream",
     "text": [
      "[[[268.5175756  267.69300134 267.00500488]\n",
      "  [270.94268799 270.56954755 269.86040047]\n",
      "  [269.17612941 269.69498088 270.42551895]]]\n"
     ]
    },
    {
     "name": "stderr",
     "output_type": "stream",
     "text": [
      "2024-01-13 16:44:56,057 INFO Request is running\n",
      "2024-01-13 16:44:58,369 INFO Request is completed\n",
      "2024-01-13 16:44:58,371 INFO Downloading https://download-0009-clone.copernicus-climate.eu/cache-compute-0009/cache/data0/adaptor.mars.internal-1705164297.9313643-2999-9-cf994748-b1a3-4bd3-b2b6-bce04ec4fa08.nc to ./historical_climate_data/weather-53.5747_-116.8438_53.0747_-116.3438-2023-01-09.nc (3.2K)\n",
      "2024-01-13 16:44:58,619 INFO Download rate 13K/s                                                                                                                                                                                                  \n",
      "2024-01-13 16:44:58,752 INFO Welcome to the CDS\n",
      "2024-01-13 16:44:58,754 INFO Sending request to https://cds.climate.copernicus.eu/api/v2/resources/reanalysis-era5-single-levels\n",
      "2024-01-13 16:44:58,816 INFO Request is queued\n"
     ]
    },
    {
     "name": "stdout",
     "output_type": "stream",
     "text": [
      "[[[266.58632097 266.26025391 266.2972568 ]\n",
      "  [269.7576627  269.00596203 268.89040328]\n",
      "  [270.47262813 270.22719123 270.64526367]]]\n"
     ]
    },
    {
     "name": "stderr",
     "output_type": "stream",
     "text": [
      "2024-01-13 16:44:59,883 INFO Request is running\n",
      "2024-01-13 16:45:07,192 INFO Request is completed\n",
      "2024-01-13 16:45:07,194 INFO Downloading https://download-0007-clone.copernicus-climate.eu/cache-compute-0007/cache/data3/adaptor.mars.internal-1705164303.4875607-5360-17-f5bc11b8-b408-4ee2-b0ed-0a9062b5495e.nc to ./historical_climate_data/weather-53.6103_-116.857_53.1103_-116.357-2023-01-09.nc (3.2K)\n",
      "2024-01-13 16:45:07,453 INFO Download rate 12.4K/s                                                                                                                                                                                                \n",
      "2024-01-13 16:45:07,585 INFO Welcome to the CDS\n",
      "2024-01-13 16:45:07,587 INFO Sending request to https://cds.climate.copernicus.eu/api/v2/resources/reanalysis-era5-single-levels\n",
      "2024-01-13 16:45:07,697 INFO Request is queued\n"
     ]
    },
    {
     "name": "stdout",
     "output_type": "stream",
     "text": [
      "[[[266.27635245 266.11838558 266.09692383]\n",
      "  [269.31862576 268.55506115 268.47450989]\n",
      "  [270.66333008 270.06051958 270.48843072]]]\n"
     ]
    },
    {
     "name": "stderr",
     "output_type": "stream",
     "text": [
      "2024-01-13 16:45:08,763 INFO Request is running\n",
      "2024-01-13 16:45:12,644 INFO Request is completed\n",
      "2024-01-13 16:45:12,645 INFO Downloading https://download-0010-clone.copernicus-climate.eu/cache-compute-0010/cache/data2/adaptor.mars.internal-1705164311.888-1126-9-08db0cd1-d6d7-4121-80ac-eaa2caaf7d89.nc to ./historical_climate_data/weather-53.6083_-116.8721_53.1083_-116.3721-2023-01-09.nc (3.2K)\n",
      "2024-01-13 16:45:12,911 INFO Download rate 12.1K/s                                                                                                                                                                                                \n",
      "2024-01-13 16:45:13,054 INFO Welcome to the CDS\n",
      "2024-01-13 16:45:13,056 INFO Sending request to https://cds.climate.copernicus.eu/api/v2/resources/reanalysis-era5-single-levels\n",
      "2024-01-13 16:45:13,146 INFO Request is queued\n"
     ]
    },
    {
     "name": "stdout",
     "output_type": "stream",
     "text": [
      "[[[266.33975481 266.1663743  266.08239746]\n",
      "  [269.40042176 268.62194884 268.49914924]\n",
      "  [270.6418457  270.03285709 270.48071036]]]\n"
     ]
    },
    {
     "name": "stderr",
     "output_type": "stream",
     "text": [
      "2024-01-13 16:45:15,778 INFO Request is running\n",
      "2024-01-13 16:45:21,530 INFO Request is completed\n",
      "2024-01-13 16:45:21,532 INFO Downloading https://download-0005-clone.copernicus-climate.eu/cache-compute-0005/cache/data7/adaptor.mars.internal-1705164318.4586477-25587-13-e26fe2ac-2ff6-4bea-b76f-9891d8d58760.nc to ./historical_climate_data/weather-53.5822_-117.8704_53.0822_-117.3704-2023-01-09.nc (3.2K)\n",
      "2024-01-13 16:45:21,594 INFO Download rate 52.2K/s                                                                                                                                                                                                \n",
      "2024-01-13 16:45:21,725 INFO Welcome to the CDS\n",
      "2024-01-13 16:45:21,727 INFO Sending request to https://cds.climate.copernicus.eu/api/v2/resources/reanalysis-era5-single-levels\n",
      "2024-01-13 16:45:21,806 INFO Request is queued\n"
     ]
    },
    {
     "name": "stdout",
     "output_type": "stream",
     "text": [
      "[[[268.02800477 267.81170137 267.69256592]\n",
      "  [268.92601635 269.77495012 269.92449951]\n",
      "  [268.36497623 268.8916176  269.17310832]]]\n"
     ]
    },
    {
     "name": "stderr",
     "output_type": "stream",
     "text": [
      "2024-01-13 16:45:24,433 INFO Request is running\n",
      "2024-01-13 16:45:30,186 INFO Request is completed\n",
      "2024-01-13 16:45:30,188 INFO Downloading https://download-0020.copernicus-climate.eu/cache-compute-0020/cache/data4/adaptor.mars.internal-1705164327.9637885-13230-9-380abe51-8dd4-446b-8994-68107a02015f.nc to ./historical_climate_data/weather-53.5801_-117.8851_53.0801_-117.3851-2023-01-09.nc (3.2K)\n",
      "2024-01-13 16:45:30,445 INFO Download rate 12.5K/s                                                                                                                                                                                                \n",
      "2024-01-13 16:45:30,577 INFO Welcome to the CDS\n",
      "2024-01-13 16:45:30,578 INFO Sending request to https://cds.climate.copernicus.eu/api/v2/resources/reanalysis-era5-single-levels\n",
      "2024-01-13 16:45:30,669 INFO Request is queued\n"
     ]
    },
    {
     "name": "stdout",
     "output_type": "stream",
     "text": [
      "[[[268.00471197 267.8168229  267.75128174]\n",
      "  [268.88476994 269.73369504 269.91943359]\n",
      "  [268.34495694 268.88940183 269.09985479]]]\n"
     ]
    },
    {
     "name": "stderr",
     "output_type": "stream",
     "text": [
      "2024-01-13 16:45:39,049 INFO Request is running\n",
      "2024-01-13 16:45:44,178 INFO Request is completed\n",
      "2024-01-13 16:45:44,180 INFO Downloading https://download-0012-clone.copernicus-climate.eu/cache-compute-0012/cache/data1/adaptor.mars.internal-1705164338.9543273-17682-11-0c40eaac-cc01-4e8d-9d00-48f77bdc2320.nc to ./historical_climate_data/weather-52.9866_-122.3376_52.4866_-121.8376-2023-01-09.nc (3.2K)\n",
      "2024-01-13 16:45:44,445 INFO Download rate 12.1K/s                                                                                                                                                                                                \n",
      "2024-01-13 16:45:44,575 INFO Welcome to the CDS\n",
      "2024-01-13 16:45:44,577 INFO Sending request to https://cds.climate.copernicus.eu/api/v2/resources/reanalysis-era5-single-levels\n",
      "2024-01-13 16:45:44,675 INFO Request is queued\n"
     ]
    },
    {
     "name": "stdout",
     "output_type": "stream",
     "text": [
      "[[[273.75613403 273.71182952 272.93105525]\n",
      "  [273.12334492 273.53707284 273.00280563]\n",
      "  [272.65133667 273.15775341 273.09583162]]]\n"
     ]
    },
    {
     "name": "stderr",
     "output_type": "stream",
     "text": [
      "2024-01-13 16:45:45,737 INFO Request is running\n",
      "2024-01-13 16:45:49,632 INFO Request is completed\n",
      "2024-01-13 16:45:49,634 INFO Downloading https://download-0016.copernicus-climate.eu/cache-compute-0016/cache/data8/adaptor.mars.internal-1705164348.6934247-23500-11-031c1db4-b8c0-4875-b0f4-67ce1749f3d5.nc to ./historical_climate_data/weather-52.9833_-122.3551_52.4833_-121.8551-2023-01-09.nc (3.2K)\n",
      "2024-01-13 16:45:50,075 INFO Download rate 7.3K/s                                                                                                                                                                                                 \n",
      "2024-01-13 16:45:50,208 INFO Welcome to the CDS\n",
      "2024-01-13 16:45:50,209 INFO Sending request to https://cds.climate.copernicus.eu/api/v2/resources/reanalysis-era5-single-levels\n",
      "2024-01-13 16:45:50,332 INFO Request is queued\n"
     ]
    },
    {
     "name": "stdout",
     "output_type": "stream",
     "text": [
      "[[[273.73287964 273.7286423  273.00688838]\n",
      "  [273.07698906 273.51016449 273.0826154 ]\n",
      "  [272.58065796 273.12820633 273.10622844]]]\n"
     ]
    },
    {
     "name": "stderr",
     "output_type": "stream",
     "text": [
      "2024-01-13 16:45:51,396 INFO Request is running\n",
      "2024-01-13 16:45:55,278 INFO Request is completed\n",
      "2024-01-13 16:45:55,280 INFO Downloading https://download-0001-clone.copernicus-climate.eu/cache-compute-0001/cache/data4/adaptor.mars.internal-1705164354.8018382-5552-5-339da4dc-e54a-46d3-a9cb-46b417877889.nc to ./historical_climate_data/weather-53.7149_-118.3145_53.2149_-117.8145-2023-01-11.nc (3.2K)\n",
      "2024-01-13 16:45:55,539 INFO Download rate 12.4K/s                                                                                                                                                                                                \n",
      "2024-01-13 16:45:55,673 INFO Welcome to the CDS\n",
      "2024-01-13 16:45:55,674 INFO Sending request to https://cds.climate.copernicus.eu/api/v2/resources/reanalysis-era5-single-levels\n",
      "2024-01-13 16:45:55,770 INFO Request is queued\n"
     ]
    },
    {
     "name": "stdout",
     "output_type": "stream",
     "text": [
      "[[[259.51448609 258.16405514 257.18933105]\n",
      "  [261.71085412 259.36924913 257.65981697]\n",
      "  [262.77490234 260.76843333 259.62435137]]]\n"
     ]
    },
    {
     "name": "stderr",
     "output_type": "stream",
     "text": [
      "2024-01-13 16:45:58,400 INFO Request is running\n",
      "2024-01-13 16:46:04,152 INFO Request is completed\n",
      "2024-01-13 16:46:04,154 INFO Downloading https://download-0011-clone.copernicus-climate.eu/cache-compute-0011/cache/data9/adaptor.mars.internal-1705164360.6052873-16623-9-cad95c85-bc97-4bb1-ac31-51327d47872c.nc to ./historical_climate_data/weather-53.7032_-118.2405_53.2032_-117.7405-2023-01-11.nc (3.2K)\n",
      "2024-01-13 16:46:04,418 INFO Download rate 12.1K/s                                                                                                                                                                                                \n",
      "2024-01-13 16:46:04,553 INFO Welcome to the CDS\n",
      "2024-01-13 16:46:04,554 INFO Sending request to https://cds.climate.copernicus.eu/api/v2/resources/reanalysis-era5-single-levels\n",
      "2024-01-13 16:46:04,635 INFO Request is queued\n"
     ]
    },
    {
     "name": "stdout",
     "output_type": "stream",
     "text": [
      "[[[259.17698425 257.61229161 257.07897949]\n",
      "  [261.35205955 258.68710459 257.45212938]\n",
      "  [262.34008789 260.34693119 259.37560147]]]\n"
     ]
    },
    {
     "name": "stderr",
     "output_type": "stream",
     "text": [
      "2024-01-13 16:46:05,704 INFO Request is running\n",
      "2024-01-13 16:46:09,586 INFO Request is completed\n",
      "2024-01-13 16:46:09,588 INFO Downloading https://download-0005-clone.copernicus-climate.eu/cache-compute-0005/cache/data8/adaptor.mars.internal-1705164367.8611572-23595-12-eccdf8a0-32eb-4da0-b20a-6df05971d7c8.nc to ./historical_climate_data/weather-53.6944_-118.2442_53.1944_-117.7442-2023-01-11.nc (3.2K)\n",
      "2024-01-13 16:46:09,649 INFO Download rate 53.7K/s                                                                                                                                                                                                \n",
      "2024-01-13 16:46:09,783 INFO Welcome to the CDS\n",
      "2024-01-13 16:46:09,785 INFO Sending request to https://cds.climate.copernicus.eu/api/v2/resources/reanalysis-era5-single-levels\n",
      "2024-01-13 16:46:09,870 INFO Request is queued\n"
     ]
    },
    {
     "name": "stdout",
     "output_type": "stream",
     "text": [
      "[[[259.28016883 257.66275725 257.07849121]\n",
      "  [261.43615549 258.77499873 257.53331293]\n",
      "  [262.34082031 260.36984588 259.4017437 ]]]\n"
     ]
    },
    {
     "name": "stderr",
     "output_type": "stream",
     "text": [
      "2024-01-13 16:46:14,816 INFO Request is running\n",
      "2024-01-13 16:46:18,256 INFO Request is completed\n",
      "2024-01-13 16:46:18,258 INFO Downloading https://download-0017.copernicus-climate.eu/cache-compute-0017/cache/data7/adaptor.mars.internal-1705164376.5887-31924-19-bfccfae6-f475-42ab-bacb-79a987b578af.nc to ./historical_climate_data/weather-53.6038_-117.7421_53.1038_-117.2421-2023-01-11.nc (3.2K)\n",
      "2024-01-13 16:46:18,504 INFO Download rate 13K/s                                                                                                                                                                                                  \n",
      "2024-01-13 16:46:18,639 INFO Welcome to the CDS\n",
      "2024-01-13 16:46:18,641 INFO Sending request to https://cds.climate.copernicus.eu/api/v2/resources/reanalysis-era5-single-levels\n",
      "2024-01-13 16:46:18,708 INFO Request is queued\n"
     ]
    },
    {
     "name": "stdout",
     "output_type": "stream",
     "text": [
      "[[[257.06158283 256.63781738 258.39319912]\n",
      "  [258.33491357 257.95086978 258.91685359]\n",
      "  [259.63560699 259.44813706 259.9708252 ]]]\n"
     ]
    },
    {
     "name": "stderr",
     "output_type": "stream",
     "text": [
      "2024-01-13 16:46:21,339 INFO Request is running\n",
      "2024-01-13 16:46:27,095 INFO Request is completed\n",
      "2024-01-13 16:46:27,097 INFO Downloading https://download-0011-clone.copernicus-climate.eu/cache-compute-0011/cache/data8/adaptor.mars.internal-1705164384.1399367-16623-10-b8dc6ce5-2e1d-4f66-b23b-c75eb3fd8c11.nc to ./historical_climate_data/weather-53.6013_-117.727_53.1013_-117.227-2023-01-11.nc (3.2K)\n",
      "2024-01-13 16:46:27,163 INFO Download rate 49.1K/s                                                                                                                                                                                                \n",
      "2024-01-13 16:46:27,296 INFO Welcome to the CDS\n",
      "2024-01-13 16:46:27,297 INFO Sending request to https://cds.climate.copernicus.eu/api/v2/resources/reanalysis-era5-single-levels\n",
      "2024-01-13 16:46:27,414 INFO Request is queued\n"
     ]
    },
    {
     "name": "stdout",
     "output_type": "stream",
     "text": [
      "[[[257.05662688 256.73706055 258.5213184 ]\n",
      "  [258.3441985  258.08607376 258.96867123]\n",
      "  [259.62896822 259.48882335 260.01593018]]]\n"
     ]
    },
    {
     "name": "stderr",
     "output_type": "stream",
     "text": [
      "2024-01-13 16:46:28,482 INFO Request is running\n",
      "2024-01-13 16:46:32,360 INFO Request is completed\n",
      "2024-01-13 16:46:32,361 INFO Downloading https://download-0005-clone.copernicus-climate.eu/cache-compute-0005/cache/data3/adaptor.mars.internal-1705164390.3016253-25358-15-76b9acd4-45dd-416c-bc2b-a7eb8cf4b2d6.nc to ./historical_climate_data/weather-53.595_-117.7459_53.095_-117.2459-2023-01-11.nc (3.2K)\n",
      "2024-01-13 16:46:32,421 INFO Download rate 53.6K/s                                                                                                                                                                                                \n",
      "2024-01-13 16:46:32,555 INFO Welcome to the CDS\n",
      "2024-01-13 16:46:32,556 INFO Sending request to https://cds.climate.copernicus.eu/api/v2/resources/reanalysis-era5-single-levels\n",
      "2024-01-13 16:46:32,660 INFO Request is queued\n"
     ]
    },
    {
     "name": "stdout",
     "output_type": "stream",
     "text": [
      "[[[257.06114988 256.58483887 258.33577913]\n",
      "  [258.41617707 258.02135466 258.95881118]\n",
      "  [259.66182567 259.46264862 259.98840332]]]\n"
     ]
    },
    {
     "name": "stderr",
     "output_type": "stream",
     "text": [
      "2024-01-13 16:46:35,290 INFO Request is running\n",
      "2024-01-13 16:46:41,043 INFO Request is completed\n",
      "2024-01-13 16:46:41,045 INFO Downloading https://download-0015-clone.copernicus-climate.eu/cache-compute-0015/cache/data3/adaptor.mars.internal-1705164397.5023904-26769-18-1d37f4d5-30a2-4b9c-bda3-f5c336943494.nc to ./historical_climate_data/weather-53.4935_-117.8153_52.9935_-117.3153-2023-01-11.nc (3.2K)\n",
      "2024-01-13 16:46:41,324 INFO Download rate 11.5K/s                                                                                                                                                                                                \n",
      "2024-01-13 16:46:41,456 INFO Welcome to the CDS\n",
      "2024-01-13 16:46:41,457 INFO Sending request to https://cds.climate.copernicus.eu/api/v2/resources/reanalysis-era5-single-levels\n",
      "2024-01-13 16:46:41,528 INFO Request is queued\n"
     ]
    },
    {
     "name": "stdout",
     "output_type": "stream",
     "text": [
      "[[[257.44331595 256.54797363 257.65540047]\n",
      "  [259.5531773  259.11893977 259.40306518]\n",
      "  [260.07641602 259.69898203 260.06290162]]]\n"
     ]
    },
    {
     "name": "stderr",
     "output_type": "stream",
     "text": [
      "2024-01-13 16:46:42,593 INFO Request is running\n",
      "2024-01-13 16:46:46,748 INFO Request is completed\n",
      "2024-01-13 16:46:46,750 INFO Downloading https://download-0004-clone.copernicus-climate.eu/cache-compute-0004/cache/data1/adaptor.mars.internal-1705164404.9981174-733-9-8777ec7f-9140-41d6-b971-ef8960c789d0.nc to ./historical_climate_data/weather-53.491_-117.8001_52.991_-117.3001-2023-01-11.nc (3.2K)\n",
      "2024-01-13 16:46:47,000 INFO Download rate 12.8K/s                                                                                                                                                                                                \n",
      "2024-01-13 16:46:47,134 INFO Welcome to the CDS\n",
      "2024-01-13 16:46:47,135 INFO Sending request to https://cds.climate.copernicus.eu/api/v2/resources/reanalysis-era5-single-levels\n",
      "2024-01-13 16:46:47,255 INFO Request is queued\n"
     ]
    },
    {
     "name": "stdout",
     "output_type": "stream",
     "text": [
      "[[[257.38167368 256.52868652 257.79082397]\n",
      "  [259.49582425 259.11226953 259.4384642 ]\n",
      "  [260.02018164 259.66379178 260.07489014]]]\n"
     ]
    },
    {
     "name": "stderr",
     "output_type": "stream",
     "text": [
      "2024-01-13 16:46:48,321 INFO Request is running\n",
      "2024-01-13 16:46:52,207 INFO Request is completed\n",
      "2024-01-13 16:46:52,209 INFO Downloading https://download-0004-clone.copernicus-climate.eu/cache-compute-0004/cache/data9/adaptor.mars.internal-1705164410.0613296-29243-8-4194aa73-de4b-4933-aebd-a47c4e2ecd8f.nc to ./historical_climate_data/weather-53.7237_-118.3106_53.2237_-117.8106-2023-01-11.nc (3.2K)\n",
      "2024-01-13 16:46:52,268 INFO Download rate 55.2K/s                                                                                                                                                                                                \n",
      "2024-01-13 16:46:52,402 INFO Welcome to the CDS\n",
      "2024-01-13 16:46:52,403 INFO Sending request to https://cds.climate.copernicus.eu/api/v2/resources/reanalysis-era5-single-levels\n",
      "2024-01-13 16:46:52,466 INFO Request is queued\n"
     ]
    },
    {
     "name": "stdout",
     "output_type": "stream",
     "text": [
      "[[[259.40599309 258.06004808 257.18444824]\n",
      "  [261.64815136 259.25733699 257.57105675]\n",
      "  [262.78967285 260.76622209 259.58509889]]]\n"
     ]
    },
    {
     "name": "stderr",
     "output_type": "stream",
     "text": [
      "2024-01-13 16:46:57,412 INFO Request is running\n",
      "2024-01-13 16:47:00,849 INFO Request is completed\n",
      "2024-01-13 16:47:00,851 INFO Downloading https://download-0006-clone.copernicus-climate.eu/cache-compute-0006/cache/data5/adaptor.mars.internal-1705164418.635628-8894-16-6f8a240a-ac51-408e-8e8c-44015500e6bc.nc to ./historical_climate_data/weather-53.5805_-117.8758_53.0805_-117.3758-2023-01-11.nc (3.2K)\n",
      "2024-01-13 16:47:01,137 INFO Download rate 11.3K/s                                                                                                                                                                                                \n",
      "2024-01-13 16:47:01,272 INFO Welcome to the CDS\n",
      "2024-01-13 16:47:01,273 INFO Sending request to https://cds.climate.copernicus.eu/api/v2/resources/reanalysis-era5-single-levels\n",
      "2024-01-13 16:47:01,363 INFO Request is queued\n"
     ]
    },
    {
     "name": "stdout",
     "output_type": "stream",
     "text": [
      "[[[257.43372006 256.90008545 257.3909833 ]\n",
      "  [259.07561118 258.44135775 258.80399536]\n",
      "  [260.17572021 259.59669967 259.77259516]]]\n"
     ]
    },
    {
     "name": "stderr",
     "output_type": "stream",
     "text": [
      "2024-01-13 16:47:03,995 INFO Request is running\n",
      "2024-01-13 16:47:06,313 INFO Request is completed\n",
      "2024-01-13 16:47:06,315 INFO Downloading https://download-0014-clone.copernicus-climate.eu/cache-compute-0014/cache/data1/adaptor.mars.internal-1705164425.398515-1983-8-d5ab1de4-4f5e-47f0-bc63-1db854cb95e3.nc to ./historical_climate_data/weather-53.4888_-117.8078_52.9888_-117.3078-2023-01-11.nc (3.2K)\n",
      "2024-01-13 16:47:06,576 INFO Download rate 12.3K/s                                                                                                                                                                                                \n",
      "2024-01-13 16:47:06,706 INFO Welcome to the CDS\n",
      "2024-01-13 16:47:06,708 INFO Sending request to https://cds.climate.copernicus.eu/api/v2/resources/reanalysis-era5-single-levels\n",
      "2024-01-13 16:47:06,786 INFO Request is queued\n"
     ]
    },
    {
     "name": "stdout",
     "output_type": "stream",
     "text": [
      "[[[257.43963525 256.5769043  257.76081598]\n",
      "  [259.53391107 259.12464591 259.43114591]\n",
      "  [260.03316175 259.65035361 260.03759766]]]\n"
     ]
    },
    {
     "name": "stderr",
     "output_type": "stream",
     "text": [
      "2024-01-13 16:47:11,729 INFO Request is running\n",
      "2024-01-13 16:47:15,170 INFO Request is completed\n",
      "2024-01-13 16:47:15,172 INFO Downloading https://download-0008-clone.copernicus-climate.eu/cache-compute-0008/cache/data4/adaptor.mars.internal-1705164432.6029727-4285-3-9cd08a8a-1592-4260-8943-5741e7823609.nc to ./historical_climate_data/weather-53.5955_-117.7312_53.0955_-117.2312-2023-01-11.nc (3.2K)\n",
      "2024-01-13 16:47:15,435 INFO Download rate 12.2K/s                                                                                                                                                                                                \n",
      "2024-01-13 16:47:15,569 INFO Welcome to the CDS\n",
      "2024-01-13 16:47:15,570 INFO Sending request to https://cds.climate.copernicus.eu/api/v2/resources/reanalysis-era5-single-levels\n",
      "2024-01-13 16:47:15,665 INFO Request is queued\n"
     ]
    },
    {
     "name": "stdout",
     "output_type": "stream",
     "text": [
      "[[[257.05689951 256.69018555 258.46831597]\n",
      "  [258.39919471 258.12047175 258.99219306]\n",
      "  [259.64770064 259.49460646 260.02331543]]]\n"
     ]
    },
    {
     "name": "stderr",
     "output_type": "stream",
     "text": [
      "2024-01-13 16:47:16,737 INFO Request is running\n",
      "2024-01-13 16:47:20,617 INFO Request is completed\n",
      "2024-01-13 16:47:20,619 INFO Downloading https://download-0000-clone.copernicus-climate.eu/cache-compute-0000/cache/data9/adaptor.mars.internal-1705164438.7978964-29553-9-94e2c5e5-d4f6-4c47-b6c9-ddf8d00c2f13.nc to ./historical_climate_data/weather-53.5928_-117.7467_53.0928_-117.2467-2023-01-11.nc (3.2K)\n",
      "2024-01-13 16:47:20,884 INFO Download rate 12.1K/s                                                                                                                                                                                                \n",
      "2024-01-13 16:47:21,357 INFO Welcome to the CDS\n",
      "2024-01-13 16:47:21,358 INFO Sending request to https://cds.climate.copernicus.eu/api/v2/resources/reanalysis-era5-single-levels\n",
      "2024-01-13 16:47:21,460 INFO Request is queued\n"
     ]
    },
    {
     "name": "stdout",
     "output_type": "stream",
     "text": [
      "[[[257.06097358 256.57263184 258.32269707]\n",
      "  [258.43637902 258.04005806 258.96960895]\n",
      "  [259.66819445 259.46666736 259.99316406]]]\n"
     ]
    },
    {
     "name": "stderr",
     "output_type": "stream",
     "text": [
      "2024-01-13 16:47:26,406 INFO Request is running\n",
      "2024-01-13 16:47:29,849 INFO Request is completed\n",
      "2024-01-13 16:47:29,851 INFO Downloading https://download-0020.copernicus-climate.eu/cache-compute-0020/cache/data0/adaptor.mars.internal-1705164446.9430985-13665-15-1f90071d-0cb9-4754-8ac5-3cb3259d2e33.nc to ./historical_climate_data/weather-53.6044_-117.7354_53.1044_-117.2354-2023-01-11.nc (3.2K)\n",
      "2024-01-13 16:47:30,138 INFO Download rate 11.2K/s                                                                                                                                                                                                \n",
      "2024-01-13 16:47:30,271 INFO Welcome to the CDS\n",
      "2024-01-13 16:47:30,272 INFO Sending request to https://cds.climate.copernicus.eu/api/v2/resources/reanalysis-era5-single-levels\n",
      "2024-01-13 16:47:30,335 INFO Request is queued\n"
     ]
    },
    {
     "name": "stdout",
     "output_type": "stream",
     "text": [
      "[[[257.05968224 256.68688965 258.45460911]\n",
      "  [258.32383471 257.99186507 258.92993728]\n",
      "  [259.62825643 259.46169274 259.9855957 ]]]\n"
     ]
    },
    {
     "name": "stderr",
     "output_type": "stream",
     "text": [
      "2024-01-13 16:47:35,283 INFO Request is running\n",
      "2024-01-13 16:47:38,727 INFO Request is completed\n",
      "2024-01-13 16:47:38,729 INFO Downloading https://download-0004-clone.copernicus-climate.eu/cache-compute-0004/cache/data6/adaptor.mars.internal-1705164457.8106925-29243-11-18f141d8-6d0a-4bf6-86af-49d183344026.nc to ./historical_climate_data/weather-53.7142_-118.308_53.2142_-117.808-2023-01-11.nc (3.2K)\n",
      "2024-01-13 16:47:38,790 INFO Download rate 53.6K/s                                                                                                                                                                                                \n",
      "2024-01-13 16:47:38,923 INFO Welcome to the CDS\n",
      "2024-01-13 16:47:38,925 INFO Sending request to https://cds.climate.copernicus.eu/api/v2/resources/reanalysis-era5-single-levels\n",
      "2024-01-13 16:47:39,035 INFO Request is queued\n"
     ]
    },
    {
     "name": "stdout",
     "output_type": "stream",
     "text": [
      "[[[259.48081145 258.13742383 257.17858887]\n",
      "  [261.67513858 259.30186288 257.63045947]\n",
      "  [262.74169922 260.70620168 259.59889374]]]\n"
     ]
    },
    {
     "name": "stderr",
     "output_type": "stream",
     "text": [
      "2024-01-13 16:47:41,665 INFO Request is running\n",
      "2024-01-13 16:47:47,423 INFO Request is completed\n",
      "2024-01-13 16:47:47,425 INFO Downloading https://download-0020.copernicus-climate.eu/cache-compute-0020/cache/data2/adaptor.mars.internal-1705164464.0732408-11466-18-344dd6f4-e9a5-4ec2-af15-064c4d827dc8.nc to ./historical_climate_data/weather-55.0761_-116.0941_54.5761_-115.5941-2023-01-11.nc (3.2K)\n",
      "2024-01-13 16:47:47,492 INFO Download rate 48K/s                                                                                                                                                                                                  \n",
      "2024-01-13 16:47:47,627 INFO Welcome to the CDS\n",
      "2024-01-13 16:47:47,630 INFO Sending request to https://cds.climate.copernicus.eu/api/v2/resources/reanalysis-era5-single-levels\n",
      "2024-01-13 16:47:47,693 INFO Request is queued\n"
     ]
    },
    {
     "name": "stdout",
     "output_type": "stream",
     "text": [
      "[[[266.13740156 265.67284015 265.33966064]\n",
      "  [267.14598141 266.69177986 266.24382562]\n",
      "  [267.39697266 267.07383908 266.65843993]]]\n"
     ]
    },
    {
     "name": "stderr",
     "output_type": "stream",
     "text": [
      "2024-01-13 16:47:48,757 INFO Request is running\n",
      "2024-01-13 16:47:52,636 INFO Request is completed\n",
      "2024-01-13 16:47:52,638 INFO Downloading https://download-0011-clone.copernicus-climate.eu/cache-compute-0011/cache/data3/adaptor.mars.internal-1705164471.4150414-14192-14-4bbb2897-31a5-42ce-9826-c10754024f0d.nc to ./historical_climate_data/weather-55.0739_-116.1093_54.5739_-115.6093-2023-01-11.nc (3.2K)\n",
      "2024-01-13 16:47:52,895 INFO Download rate 12.5K/s                                                                                                                                                                                                \n",
      "2024-01-13 16:47:53,028 INFO Welcome to the CDS\n",
      "2024-01-13 16:47:53,030 INFO Sending request to https://cds.climate.copernicus.eu/api/v2/resources/reanalysis-era5-single-levels\n",
      "2024-01-13 16:47:53,140 INFO Request is queued\n"
     ]
    },
    {
     "name": "stdout",
     "output_type": "stream",
     "text": [
      "[[[266.17585585 265.71972165 265.37963867]\n",
      "  [267.1777988  266.72673585 266.27666241]\n",
      "  [267.40606689 267.10284325 266.68171304]]]\n"
     ]
    },
    {
     "name": "stderr",
     "output_type": "stream",
     "text": [
      "2024-01-13 16:47:54,205 INFO Request is running\n",
      "2024-01-13 16:47:58,092 INFO Request is completed\n",
      "2024-01-13 16:47:58,094 INFO Downloading https://download-0001-clone.copernicus-climate.eu/cache-compute-0001/cache/data3/adaptor.mars.internal-1705164476.6829739-5552-10-c1a55848-fa32-4054-b81f-c94cddaff8b0.nc to ./historical_climate_data/weather-55.0781_-116.1436_54.5781_-115.6436-2023-01-11.nc (3.2K)\n",
      "2024-01-13 16:47:58,341 INFO Download rate 13K/s                                                                                                                                                                                                  \n",
      "2024-01-13 16:47:58,479 INFO Welcome to the CDS\n",
      "2024-01-13 16:47:58,481 INFO Sending request to https://cds.climate.copernicus.eu/api/v2/resources/reanalysis-era5-single-levels\n",
      "2024-01-13 16:47:58,587 INFO Request is queued\n"
     ]
    },
    {
     "name": "stdout",
     "output_type": "stream",
     "text": [
      "[[[266.19819741 265.76112722 265.42480469]\n",
      "  [267.2232615  266.77901026 266.32417002]\n",
      "  [267.41885376 267.16054905 266.72177488]]]\n"
     ]
    },
    {
     "name": "stderr",
     "output_type": "stream",
     "text": [
      "2024-01-13 16:47:59,650 INFO Request is running\n",
      "2024-01-13 16:48:03,531 INFO Request is completed\n",
      "2024-01-13 16:48:03,533 INFO Downloading https://download-0006-clone.copernicus-climate.eu/cache-compute-0006/cache/data1/adaptor.mars.internal-1705164481.9930117-7861-14-db04a90c-aa45-4f50-bf05-9394d17576a6.nc to ./historical_climate_data/weather-55.9005_-115.9042_55.4005_-115.4042-2023-01-12.nc (3.2K)\n",
      "2024-01-13 16:48:03,608 INFO Download rate 43.5K/s                                                                                                                                                                                                \n",
      "2024-01-13 16:48:03,737 INFO Welcome to the CDS\n",
      "2024-01-13 16:48:03,739 INFO Sending request to https://cds.climate.copernicus.eu/api/v2/resources/reanalysis-era5-single-levels\n",
      "2024-01-13 16:48:03,854 INFO Request is queued\n"
     ]
    },
    {
     "name": "stdout",
     "output_type": "stream",
     "text": [
      "[[[264.13678998 264.22973942 264.22407571]\n",
      "  [263.93548584 264.04613839 265.00022939]\n",
      "  [264.65160428 264.9067945  266.05639648]]]\n"
     ]
    },
    {
     "name": "stderr",
     "output_type": "stream",
     "text": [
      "2024-01-13 16:48:04,918 INFO Request is running\n",
      "2024-01-13 16:48:08,793 INFO Request is completed\n",
      "2024-01-13 16:48:08,795 INFO Downloading https://download-0002-clone.copernicus-climate.eu/cache-compute-0002/cache/data4/adaptor.mars.internal-1705164487.0093842-16446-4-4147a056-d723-47ea-9193-c8dcc59b0ef1.nc to ./historical_climate_data/weather-55.8942_-115.9309_55.3942_-115.4309-2023-01-12.nc (3.2K)\n",
      "2024-01-13 16:48:09,073 INFO Download rate 11.6K/s                                                                                                                                                                                                \n",
      "2024-01-13 16:48:09,204 INFO Welcome to the CDS\n",
      "2024-01-13 16:48:09,206 INFO Sending request to https://cds.climate.copernicus.eu/api/v2/resources/reanalysis-era5-single-levels\n",
      "2024-01-13 16:48:09,317 INFO Request is queued\n"
     ]
    },
    {
     "name": "stdout",
     "output_type": "stream",
     "text": [
      "[[[264.12573664 264.21466768 264.23163563]\n",
      "  [263.87359619 264.02960611 264.87702002]\n",
      "  [264.67004285 264.98035003 265.95202637]]]\n"
     ]
    },
    {
     "name": "stderr",
     "output_type": "stream",
     "text": [
      "2024-01-13 16:48:10,383 INFO Request is running\n",
      "2024-01-13 16:48:14,266 INFO Request is completed\n",
      "2024-01-13 16:48:14,268 INFO Downloading https://download-0001-clone.copernicus-climate.eu/cache-compute-0001/cache/data7/adaptor.mars.internal-1705164493.1240857-5546-12-46e4d38d-9eeb-47e3-92f3-90241d87fba1.nc to ./historical_climate_data/weather-54.4229_-117.1721_53.9229_-116.6721-2023-01-14.nc (3.2K)\n",
      "2024-01-13 16:48:14,332 INFO Download rate 51K/s                                                                                                                                                                                                  \n",
      "2024-01-13 16:48:14,462 INFO Welcome to the CDS\n",
      "2024-01-13 16:48:14,464 INFO Sending request to https://cds.climate.copernicus.eu/api/v2/resources/reanalysis-era5-single-levels\n",
      "2024-01-13 16:48:14,544 INFO Request is queued\n"
     ]
    },
    {
     "name": "stdout",
     "output_type": "stream",
     "text": [
      "[[[264.76481531 263.83452554 262.75524902]\n",
      "  [265.68154982 264.47053318 263.1022393 ]\n",
      "  [266.72094727 265.62055118 263.89219588]]]\n"
     ]
    },
    {
     "name": "stderr",
     "output_type": "stream",
     "text": [
      "2024-01-13 16:48:17,178 INFO Request is running\n",
      "2024-01-13 16:48:22,934 INFO Request is completed\n",
      "2024-01-13 16:48:22,936 INFO Downloading https://download-0020.copernicus-climate.eu/cache-compute-0020/cache/data0/adaptor.mars.internal-1705164499.3194742-13230-15-81c967f5-c4f3-4525-a363-20ca9147e257.nc to ./historical_climate_data/weather-54.4168_-117.1849_53.9168_-116.6849-2023-01-14.nc (3.2K)\n",
      "2024-01-13 16:48:23,006 INFO Download rate 46.5K/s                                                                                                                                                                                                \n",
      "2024-01-13 16:48:23,139 INFO Welcome to the CDS\n",
      "2024-01-13 16:48:23,140 INFO Sending request to https://cds.climate.copernicus.eu/api/v2/resources/reanalysis-era5-single-levels\n",
      "2024-01-13 16:48:23,244 INFO Request is queued\n"
     ]
    },
    {
     "name": "stdout",
     "output_type": "stream",
     "text": [
      "[[[264.84071042 263.89057633 262.82019043]\n",
      "  [265.75960557 264.59562347 263.1864338 ]\n",
      "  [266.77227783 265.73735235 263.98157934]]]\n"
     ]
    },
    {
     "name": "stderr",
     "output_type": "stream",
     "text": [
      "2024-01-13 16:48:24,308 INFO Request is running\n",
      "2024-01-13 16:48:28,184 INFO Request is completed\n",
      "2024-01-13 16:48:28,186 INFO Downloading https://download-0015-clone.copernicus-climate.eu/cache-compute-0015/cache/data8/adaptor.mars.internal-1705164506.621883-11984-1-30814b18-b9f0-4c16-a11c-18b3c4071249.nc to ./historical_climate_data/weather-54.4173_-117.1873_53.9173_-116.6873-2023-01-14.nc (3.2K)\n",
      "2024-01-13 16:48:28,430 INFO Download rate 13.1K/s                                                                                                                                                                                                \n",
      "2024-01-13 16:48:28,560 INFO Welcome to the CDS\n",
      "2024-01-13 16:48:28,562 INFO Sending request to https://cds.climate.copernicus.eu/api/v2/resources/reanalysis-era5-single-levels\n",
      "2024-01-13 16:48:28,678 INFO Request is queued\n"
     ]
    },
    {
     "name": "stdout",
     "output_type": "stream",
     "text": [
      "[[[264.8490784  263.89530352 262.83184814]\n",
      "  [265.76781812 264.61081527 263.19676757]\n",
      "  [266.77679443 265.75349103 263.99306484]]]\n"
     ]
    },
    {
     "name": "stderr",
     "output_type": "stream",
     "text": [
      "2024-01-13 16:48:29,922 INFO Request is running\n",
      "2024-01-13 16:48:33,812 INFO Request is completed\n",
      "2024-01-13 16:48:33,813 INFO Downloading https://download-0018.copernicus-climate.eu/cache-compute-0018/cache/data3/adaptor.mars.internal-1705164512.1679223-4465-11-8f4970e9-8542-41b8-97b6-52b721f3b024.nc to ./historical_climate_data/weather-52.7944_-116.0803_52.2944_-115.5803-2023-01-14.nc (3.2K)\n",
      "2024-01-13 16:48:34,046 INFO Download rate 13.8K/s                                                                                                                                                                                                \n",
      "2024-01-13 16:48:34,175 INFO Welcome to the CDS\n",
      "2024-01-13 16:48:34,176 INFO Sending request to https://cds.climate.copernicus.eu/api/v2/resources/reanalysis-era5-single-levels\n",
      "2024-01-13 16:48:34,310 INFO Request is queued\n"
     ]
    },
    {
     "name": "stdout",
     "output_type": "stream",
     "text": [
      "[[[269.82351272 270.00897406 269.63218161]\n",
      "  [269.98241183 270.75737104 270.83299634]\n",
      "  [269.58273315 270.4985078  271.52548218]]]\n"
     ]
    },
    {
     "name": "stderr",
     "output_type": "stream",
     "text": [
      "2024-01-13 16:48:35,382 INFO Request is running\n",
      "2024-01-13 16:48:39,265 INFO Request is completed\n",
      "2024-01-13 16:48:39,266 INFO Downloading https://download-0017.copernicus-climate.eu/cache-compute-0017/cache/data1/adaptor.mars.internal-1705164518.2717412-32508-16-47f6dd83-fe44-4d7e-9e49-2d4b22127238.nc to ./historical_climate_data/weather-54.3003_-118.7705_53.8003_-118.2705-2023-01-15.nc (3.2K)\n",
      "2024-01-13 16:48:39,512 INFO Download rate 13.1K/s                                                                                                                                                                                                \n",
      "2024-01-13 16:48:39,651 INFO Welcome to the CDS\n",
      "2024-01-13 16:48:39,653 INFO Sending request to https://cds.climate.copernicus.eu/api/v2/resources/reanalysis-era5-single-levels\n",
      "2024-01-13 16:48:39,759 INFO Request is queued\n"
     ]
    },
    {
     "name": "stdout",
     "output_type": "stream",
     "text": [
      "[[[267.74230957 267.92775571 268.19858514]\n",
      "  [268.57021989 268.61538288 268.82861836]\n",
      "  [268.79745611 268.51905355 269.13247681]]]\n"
     ]
    },
    {
     "name": "stderr",
     "output_type": "stream",
     "text": [
      "2024-01-13 16:48:40,829 INFO Request is running\n",
      "2024-01-13 16:48:44,717 INFO Request is completed\n",
      "2024-01-13 16:48:44,719 INFO Downloading https://download-0006-clone.copernicus-climate.eu/cache-compute-0006/cache/data0/adaptor.mars.internal-1705164523.3827295-11939-10-d0950bd4-a254-4461-a0b5-ec2a6fab77cc.nc to ./historical_climate_data/weather-54.296_-118.7913_53.796_-118.2913-2023-01-15.nc (3.2K)\n",
      "2024-01-13 16:48:44,784 INFO Download rate 49.7K/s                                                                                                                                                                                                \n",
      "2024-01-13 16:48:44,923 INFO Welcome to the CDS\n",
      "2024-01-13 16:48:44,925 INFO Sending request to https://cds.climate.copernicus.eu/api/v2/resources/reanalysis-era5-single-levels\n"
     ]
    },
    {
     "name": "stdout",
     "output_type": "stream",
     "text": [
      "[[[267.74691772 267.95001916 268.19501052]\n",
      "  [268.57123136 268.62622199 268.81088539]\n",
      "  [268.76339532 268.51587682 269.07180786]]]\n"
     ]
    },
    {
     "name": "stderr",
     "output_type": "stream",
     "text": [
      "2024-01-13 16:48:45,078 INFO Request is queued\n",
      "2024-01-13 16:48:46,148 INFO Request is running\n",
      "2024-01-13 16:48:53,471 INFO Request is completed\n",
      "2024-01-13 16:48:53,473 INFO Downloading https://download-0020.copernicus-climate.eu/cache-compute-0020/cache/data4/adaptor.mars.internal-1705164530.0422761-13665-16-4c4a4ca7-edb9-44dd-b727-f01349c3d379.nc to ./historical_climate_data/weather-54.3881_-117.1342_53.8881_-116.6342-2023-01-15.nc (3.2K)\n",
      "2024-01-13 16:48:53,534 INFO Download rate 52.9K/s                                                                                                                                                                                                \n",
      "2024-01-13 16:48:53,664 INFO Welcome to the CDS\n",
      "2024-01-13 16:48:53,666 INFO Sending request to https://cds.climate.copernicus.eu/api/v2/resources/reanalysis-era5-single-levels\n",
      "2024-01-13 16:48:53,732 INFO Request is queued\n"
     ]
    },
    {
     "name": "stdout",
     "output_type": "stream",
     "text": [
      "[[[258.83455968 258.14141193 258.0440979 ]\n",
      "  [258.62478905 258.70712983 258.56881474]\n",
      "  [258.7887933  258.94442801 259.62930298]]]\n"
     ]
    },
    {
     "name": "stderr",
     "output_type": "stream",
     "text": [
      "2024-01-13 16:48:54,807 INFO Request is running\n",
      "2024-01-13 16:48:58,702 INFO Request is completed\n",
      "2024-01-13 16:48:58,704 INFO Downloading https://download-0016.copernicus-climate.eu/cache-compute-0016/cache/data5/adaptor.mars.internal-1705164537.5579622-28925-1-c8768e24-1fa2-4c1a-be1a-f500e6321bd5.nc to ./historical_climate_data/weather-53.6743_-115.8683_53.1743_-115.3683-2023-01-16.nc (3.2K)\n",
      "2024-01-13 16:48:58,957 INFO Download rate 12.7K/s                                                                                                                                                                                                \n",
      "2024-01-13 16:48:59,095 INFO Welcome to the CDS\n",
      "2024-01-13 16:48:59,097 INFO Sending request to https://cds.climate.copernicus.eu/api/v2/resources/reanalysis-era5-single-levels\n",
      "2024-01-13 16:48:59,185 INFO Request is queued\n"
     ]
    },
    {
     "name": "stdout",
     "output_type": "stream",
     "text": [
      "[[[264.18556129 264.75152669 265.53985596]\n",
      "  [264.00727808 264.66814023 265.47809875]\n",
      "  [263.46759033 264.23274089 265.21288746]]]\n"
     ]
    },
    {
     "name": "stderr",
     "output_type": "stream",
     "text": [
      "2024-01-13 16:49:02,469 INFO Request is running\n",
      "2024-01-13 16:49:04,796 INFO Request is completed\n",
      "2024-01-13 16:49:04,797 INFO Downloading https://download-0015-clone.copernicus-climate.eu/cache-compute-0015/cache/data7/adaptor.mars.internal-1705164543.6417859-9252-20-5c4b9a67-1e8e-469e-99ac-a5fb1997fd3e.nc to ./historical_climate_data/weather-52.8685_-116.4162_52.3685_-115.9162-2023-01-16.nc (3.2K)\n",
      "2024-01-13 16:49:04,858 INFO Download rate 53.9K/s                                                                                                                                                                                                \n",
      "2024-01-13 16:49:04,997 INFO Welcome to the CDS\n",
      "2024-01-13 16:49:05,001 INFO Sending request to https://cds.climate.copernicus.eu/api/v2/resources/reanalysis-era5-single-levels\n",
      "2024-01-13 16:49:05,083 INFO Request is queued\n"
     ]
    },
    {
     "name": "stdout",
     "output_type": "stream",
     "text": [
      "[[[262.62151676 261.95604742 262.22259354]\n",
      "  [262.62198649 262.0029857  261.49435425]\n",
      "  [262.61568862 262.63446045 262.18026558]]]\n"
     ]
    },
    {
     "name": "stderr",
     "output_type": "stream",
     "text": [
      "2024-01-13 16:49:06,157 INFO Request is running\n",
      "2024-01-13 16:49:10,053 INFO Request is completed\n",
      "2024-01-13 16:49:10,055 INFO Downloading https://download-0007-clone.copernicus-climate.eu/cache-compute-0007/cache/data5/adaptor.mars.internal-1705164549.0093117-12807-8-4fe9ef85-333e-4d07-b013-7e96fb84015b.nc to ./historical_climate_data/weather-52.8648_-116.3975_52.3648_-115.8975-2023-01-16.nc (3.2K)\n",
      "2024-01-13 16:49:10,329 INFO Download rate 11.7K/s                                                                                                                                                                                                \n",
      "2024-01-13 16:49:10,467 INFO Welcome to the CDS\n",
      "2024-01-13 16:49:10,468 INFO Sending request to https://cds.climate.copernicus.eu/api/v2/resources/reanalysis-era5-single-levels\n",
      "2024-01-13 16:49:10,557 INFO Request is queued\n"
     ]
    },
    {
     "name": "stdout",
     "output_type": "stream",
     "text": [
      "[[[262.56337614 261.91531117 262.28806019]\n",
      "  [262.58374524 261.96491019 261.45132446]\n",
      "  [262.57971104 262.63156128 262.14943869]]]\n"
     ]
    },
    {
     "name": "stderr",
     "output_type": "stream",
     "text": [
      "2024-01-13 16:49:11,623 INFO Request is running\n",
      "2024-01-13 16:49:15,513 INFO Request is completed\n",
      "2024-01-13 16:49:15,515 INFO Downloading https://download-0021.copernicus-climate.eu/cache-compute-0021/cache/data1/adaptor.mars.internal-1705164555.0581074-7572-19-0c5390d7-df1d-40e8-ac13-2e908a3b61e2.nc to ./historical_climate_data/weather-52.8441_-115.8373_52.3441_-115.3373-2023-01-16.nc (3.2K)\n",
      "2024-01-13 16:49:15,764 INFO Download rate 12.9K/s                                                                                                                                                                                                \n",
      "2024-01-13 16:49:15,900 INFO Welcome to the CDS\n",
      "2024-01-13 16:49:15,901 INFO Sending request to https://cds.climate.copernicus.eu/api/v2/resources/reanalysis-era5-single-levels\n",
      "2024-01-13 16:49:15,970 INFO Request is queued\n"
     ]
    },
    {
     "name": "stdout",
     "output_type": "stream",
     "text": [
      "[[[262.12702885 262.69634347 263.78552246]\n",
      "  [261.33050537 261.55730215 261.95417779]\n",
      "  [262.04779608 261.46705546 261.50197033]]]\n"
     ]
    },
    {
     "name": "stderr",
     "output_type": "stream",
     "text": [
      "2024-01-13 16:49:18,609 INFO Request is running\n",
      "2024-01-13 16:49:20,923 INFO Request is completed\n",
      "2024-01-13 16:49:20,925 INFO Downloading https://download-0007-clone.copernicus-climate.eu/cache-compute-0007/cache/data9/adaptor.mars.internal-1705164559.9327729-12874-6-de9c5f27-5e09-44e0-8214-5b6f086a9150.nc to ./historical_climate_data/weather-53.6701_-115.8636_53.1701_-115.3636-2023-01-16.nc (3.2K)\n",
      "2024-01-13 16:49:20,991 INFO Download rate 49.8K/s                                                                                                                                                                                                \n",
      "2024-01-13 16:49:21,133 INFO Welcome to the CDS\n",
      "2024-01-13 16:49:21,135 INFO Sending request to https://cds.climate.copernicus.eu/api/v2/resources/reanalysis-era5-single-levels\n",
      "2024-01-13 16:49:21,221 INFO Request is queued\n"
     ]
    },
    {
     "name": "stdout",
     "output_type": "stream",
     "text": [
      "[[[264.19335586 264.76317503 265.55657959]\n",
      "  [264.00018547 264.6777962  265.49256141]\n",
      "  [263.46728516 264.23394109 265.22383172]]]\n"
     ]
    },
    {
     "name": "stderr",
     "output_type": "stream",
     "text": [
      "2024-01-13 16:49:22,292 INFO Request is running\n",
      "2024-01-13 16:49:26,184 INFO Request is completed\n",
      "2024-01-13 16:49:26,185 INFO Downloading https://download-0020.copernicus-climate.eu/cache-compute-0020/cache/data9/adaptor.mars.internal-1705164565.1884444-16764-2-afa4b7e2-3c0d-48b3-8a6c-6aae3af953df.nc to ./historical_climate_data/weather-53.6681_-115.8801_53.1681_-115.3801-2023-01-16.nc (3.2K)\n",
      "2024-01-13 16:49:26,254 INFO Download rate 47.3K/s                                                                                                                                                                                                \n",
      "2024-01-13 16:49:26,391 INFO Welcome to the CDS\n",
      "2024-01-13 16:49:26,393 INFO Sending request to https://cds.climate.copernicus.eu/api/v2/resources/reanalysis-era5-single-levels\n",
      "2024-01-13 16:49:26,471 INFO Request is queued\n"
     ]
    },
    {
     "name": "stdout",
     "output_type": "stream",
     "text": [
      "[[[264.16261234 264.71912696 265.50030518]\n",
      "  [263.97528119 264.63165692 265.42981311]\n",
      "  [263.4128418  264.17436633 265.16743483]]]\n"
     ]
    },
    {
     "name": "stderr",
     "output_type": "stream",
     "text": [
      "2024-01-13 16:49:27,544 INFO Request is running\n",
      "2024-01-13 16:49:31,439 INFO Request is completed\n",
      "2024-01-13 16:49:31,441 INFO Downloading https://download-0020.copernicus-climate.eu/cache-compute-0020/cache/data5/adaptor.mars.internal-1705164569.8379304-16227-3-20052bf0-d292-49af-b9c1-6b5d2e7fb672.nc to ./historical_climate_data/weather-53.8649_-115.854_53.3649_-115.354-2023-01-16.nc (3.2K)\n",
      "2024-01-13 16:49:31,507 INFO Download rate 49.8K/s                                                                                                                                                                                                \n",
      "2024-01-13 16:49:31,648 INFO Welcome to the CDS\n",
      "2024-01-13 16:49:31,649 INFO Sending request to https://cds.climate.copernicus.eu/api/v2/resources/reanalysis-era5-single-levels\n",
      "2024-01-13 16:49:31,737 INFO Request is queued\n"
     ]
    },
    {
     "name": "stdout",
     "output_type": "stream",
     "text": [
      "[[[264.31785112 264.88480522 265.47340906]\n",
      "  [264.19956647 264.77932418 265.597229  ]\n",
      "  [263.90216064 264.6633416  265.47467649]]]\n"
     ]
    },
    {
     "name": "stderr",
     "output_type": "stream",
     "text": [
      "2024-01-13 16:49:34,383 INFO Request is running\n",
      "2024-01-13 16:49:40,146 INFO Request is completed\n",
      "2024-01-13 16:49:40,148 INFO Downloading https://download-0003-clone.copernicus-climate.eu/cache-compute-0003/cache/data1/adaptor.mars.internal-1705164577.4305098-22129-16-626222e9-bbe6-4661-96b4-960175eaca85.nc to ./historical_climate_data/weather-53.8629_-115.8706_53.3629_-115.3706-2023-01-16.nc (3.2K)\n",
      "2024-01-13 16:49:40,421 INFO Download rate 11.7K/s                                                                                                                                                                                                \n",
      "2024-01-13 16:49:40,564 INFO Welcome to the CDS\n",
      "2024-01-13 16:49:40,566 INFO Sending request to https://cds.climate.copernicus.eu/api/v2/resources/reanalysis-era5-single-levels\n",
      "2024-01-13 16:49:40,631 INFO Request is queued\n"
     ]
    },
    {
     "name": "stdout",
     "output_type": "stream",
     "text": [
      "[[[264.28588397 264.84747353 265.41858504]\n",
      "  [264.17421973 264.73429092 265.53833008]\n",
      "  [263.85183716 264.61292457 265.41799314]]]\n"
     ]
    },
    {
     "name": "stderr",
     "output_type": "stream",
     "text": [
      "2024-01-13 16:49:41,699 INFO Request is running\n",
      "2024-01-13 16:49:45,589 INFO Request is completed\n",
      "2024-01-13 16:49:45,592 INFO Downloading https://download-0010-clone.copernicus-climate.eu/cache-compute-0010/cache/data2/adaptor.mars.internal-1705164584.7274718-1971-12-4d964b3d-2153-4948-85f9-7285b59f8a4b.nc to ./historical_climate_data/weather-53.6731_-115.882_53.1731_-115.382-2023-01-17.nc (3.2K)\n",
      "2024-01-13 16:49:45,885 INFO Download rate 11K/s                                                                                                                                                                                                  \n",
      "2024-01-13 16:49:46,023 INFO Welcome to the CDS\n",
      "2024-01-13 16:49:46,025 INFO Sending request to https://cds.climate.copernicus.eu/api/v2/resources/reanalysis-era5-single-levels\n",
      "2024-01-13 16:49:46,101 INFO Request is queued\n"
     ]
    },
    {
     "name": "stdout",
     "output_type": "stream",
     "text": [
      "[[[260.33428885 261.26860524 262.39654541]\n",
      "  [259.98581627 259.83302676 260.90461261]\n",
      "  [260.32158151 259.69932338 259.1050415 ]]]\n"
     ]
    },
    {
     "name": "stderr",
     "output_type": "stream",
     "text": [
      "2024-01-13 16:49:47,164 INFO Request is running\n",
      "2024-01-13 16:49:51,055 INFO Request is completed\n",
      "2024-01-13 16:49:51,056 INFO Downloading https://download-0001-clone.copernicus-climate.eu/cache-compute-0001/cache/data0/adaptor.mars.internal-1705164590.1262236-5184-9-52cdcb86-824b-4363-8b8f-9290af3fbcb9.nc to ./historical_climate_data/weather-52.8733_-116.3912_52.3733_-115.8912-2023-01-18.nc (3.2K)\n",
      "2024-01-13 16:49:51,314 INFO Download rate 12.5K/s                                                                                                                                                                                                \n",
      "2024-01-13 16:49:51,440 INFO Welcome to the CDS\n",
      "2024-01-13 16:49:51,442 INFO Sending request to https://cds.climate.copernicus.eu/api/v2/resources/reanalysis-era5-single-levels\n",
      "2024-01-13 16:49:51,554 INFO Request is queued\n"
     ]
    },
    {
     "name": "stdout",
     "output_type": "stream",
     "text": [
      "[[[261.95059372 261.88897162 260.96072388]\n",
      "  [261.65142432 261.71150855 262.11341126]\n",
      "  [261.69037177 261.72366845 262.13259888]]]\n"
     ]
    },
    {
     "name": "stderr",
     "output_type": "stream",
     "text": [
      "2024-01-13 16:49:52,626 INFO Request is running\n",
      "2024-01-13 16:49:56,516 INFO Request is completed\n",
      "2024-01-13 16:49:56,518 INFO Downloading https://download-0004-clone.copernicus-climate.eu/cache-compute-0004/cache/data4/adaptor.mars.internal-1705164595.7652838-28673-15-56be03de-a6f5-491b-8427-d17d77523e05.nc to ./historical_climate_data/weather-52.0199_-121.5835_51.5199_-121.0835-2023-01-19.nc (3.2K)\n",
      "2024-01-13 16:49:56,763 INFO Download rate 13.2K/s                                                                                                                                                                                                \n",
      "2024-01-13 16:49:56,897 INFO Welcome to the CDS\n",
      "2024-01-13 16:49:56,898 INFO Sending request to https://cds.climate.copernicus.eu/api/v2/resources/reanalysis-era5-single-levels\n"
     ]
    },
    {
     "name": "stdout",
     "output_type": "stream",
     "text": [
      "[[[271.25558556 270.75556219 270.16342163]\n",
      "  [271.55735335 271.37189491 271.29818336]\n",
      "  [271.1594178  271.49312281 271.62191772]]]\n"
     ]
    },
    {
     "name": "stderr",
     "output_type": "stream",
     "text": [
      "2024-01-13 16:49:57,244 INFO Request is queued\n",
      "2024-01-13 16:49:58,314 INFO Request is running\n",
      "2024-01-13 16:50:02,200 INFO Request is completed\n",
      "2024-01-13 16:50:02,201 INFO Downloading https://download-0020.copernicus-climate.eu/cache-compute-0020/cache/data1/adaptor.mars.internal-1705164601.1297503-17058-1-2df808a5-e5cb-405e-a511-2ef4439e007e.nc to ./historical_climate_data/weather-53.2994_-123.4253_52.7994_-122.9253-2023-01-19.nc (3.2K)\n",
      "2024-01-13 16:50:02,267 INFO Download rate 49.3K/s                                                                                                                                                                                                \n",
      "2024-01-13 16:50:02,404 INFO Welcome to the CDS\n",
      "2024-01-13 16:50:02,406 INFO Sending request to https://cds.climate.copernicus.eu/api/v2/resources/reanalysis-era5-single-levels\n",
      "2024-01-13 16:50:02,501 INFO Request is queued\n"
     ]
    },
    {
     "name": "stdout",
     "output_type": "stream",
     "text": [
      "[[[269.39539191 269.47546387 269.38832073]\n",
      "  [268.51039037 268.54051443 268.99315192]\n",
      "  [266.796875   267.36158871 268.12151614]]]\n"
     ]
    },
    {
     "name": "stderr",
     "output_type": "stream",
     "text": [
      "2024-01-13 16:50:03,574 INFO Request is running\n",
      "2024-01-13 16:50:07,653 INFO Request is completed\n",
      "2024-01-13 16:50:07,654 INFO Downloading https://download-0021.copernicus-climate.eu/cache-compute-0021/cache/data7/adaptor.mars.internal-1705164606.2378168-11353-3-a24ac3a0-ef69-49c3-b23f-2660ec95cf2c.nc to ./historical_climate_data/weather-58.6977_-120.2331_58.1977_-119.7331-2023-01-19.nc (3.2K)\n",
      "2024-01-13 16:50:07,713 INFO Download rate 55.1K/s                                                                                                                                                                                                \n",
      "2024-01-13 16:50:07,844 INFO Welcome to the CDS\n",
      "2024-01-13 16:50:07,845 INFO Sending request to https://cds.climate.copernicus.eu/api/v2/resources/reanalysis-era5-single-levels\n",
      "2024-01-13 16:50:07,942 INFO Request is queued\n"
     ]
    },
    {
     "name": "stdout",
     "output_type": "stream",
     "text": [
      "[[[263.00439453 263.18040702 263.60985748]\n",
      "  [265.0619466  265.32743719 265.51489132]\n",
      "  [266.54014043 266.5752985  266.64422607]]]\n"
     ]
    },
    {
     "name": "stderr",
     "output_type": "stream",
     "text": [
      "2024-01-13 16:50:09,010 INFO Request is running\n",
      "2024-01-13 16:50:12,893 INFO Request is completed\n",
      "2024-01-13 16:50:12,894 INFO Downloading https://download-0008-clone.copernicus-climate.eu/cache-compute-0008/cache/data4/adaptor.mars.internal-1705164611.0605724-4234-10-874c6f5d-14d0-4341-8cde-aaa078cfd307.nc to ./historical_climate_data/weather-54.5313_-116.9753_54.0313_-116.4753-2023-01-19.nc (3.2K)\n",
      "2024-01-13 16:50:13,128 INFO Download rate 13.7K/s                                                                                                                                                                                                \n",
      "2024-01-13 16:50:13,264 INFO Welcome to the CDS\n",
      "2024-01-13 16:50:13,266 INFO Sending request to https://cds.climate.copernicus.eu/api/v2/resources/reanalysis-era5-single-levels\n",
      "2024-01-13 16:50:13,350 INFO Request is queued\n"
     ]
    },
    {
     "name": "stdout",
     "output_type": "stream",
     "text": [
      "[[[266.80551195 266.07169866 265.26049805]\n",
      "  [266.98722353 266.49025692 265.94359065]\n",
      "  [266.99097728 267.22845459 267.09620243]]]\n"
     ]
    },
    {
     "name": "stderr",
     "output_type": "stream",
     "text": [
      "2024-01-13 16:50:14,422 INFO Request is running\n",
      "2024-01-13 16:50:18,302 INFO Request is completed\n",
      "2024-01-13 16:50:18,303 INFO Downloading https://download-0005-clone.copernicus-climate.eu/cache-compute-0005/cache/data9/adaptor.mars.internal-1705164617.4782026-29052-7-589283f7-c41d-4acd-b7e9-36a9c097565e.nc to ./historical_climate_data/weather-54.5416_-117.0081_54.0416_-116.5081-2023-01-19.nc (3.2K)\n",
      "2024-01-13 16:50:18,564 INFO Download rate 12.3K/s                                                                                                                                                                                                \n",
      "2024-01-13 16:50:18,703 INFO Welcome to the CDS\n",
      "2024-01-13 16:50:18,705 INFO Sending request to https://cds.climate.copernicus.eu/api/v2/resources/reanalysis-era5-single-levels\n"
     ]
    },
    {
     "name": "stdout",
     "output_type": "stream",
     "text": [
      "[[[266.88179406 266.16726246 265.34228516]\n",
      "  [267.06742127 266.5375804  266.00730056]\n",
      "  [266.94924964 267.26010132 267.03985374]]]\n"
     ]
    },
    {
     "name": "stderr",
     "output_type": "stream",
     "text": [
      "2024-01-13 16:50:18,944 INFO Request is queued\n",
      "2024-01-13 16:50:20,018 INFO Request is running\n",
      "2024-01-13 16:50:23,914 INFO Request is completed\n",
      "2024-01-13 16:50:23,916 INFO Downloading https://download-0000-clone.copernicus-climate.eu/cache-compute-0000/cache/data7/adaptor.mars.internal-1705164622.304905-579-2-44f522c1-9ba5-4722-abc4-61ab5d4d1a58.nc to ./historical_climate_data/weather-54.5431_-117.0133_54.0431_-116.5133-2023-01-19.nc (3.2K)\n",
      "2024-01-13 16:50:24,183 INFO Download rate 12K/s                                                                                                                                                                                                  \n",
      "2024-01-13 16:50:24,318 INFO Welcome to the CDS\n",
      "2024-01-13 16:50:24,320 INFO Sending request to https://cds.climate.copernicus.eu/api/v2/resources/reanalysis-era5-single-levels\n",
      "2024-01-13 16:50:24,427 INFO Request is queued\n"
     ]
    },
    {
     "name": "stdout",
     "output_type": "stream",
     "text": [
      "[[[266.89040043 266.18114267 265.35772705]\n",
      "  [267.07658751 266.545423   266.02013962]\n",
      "  [266.94769772 267.26568604 267.03638042]]]\n"
     ]
    },
    {
     "name": "stderr",
     "output_type": "stream",
     "text": [
      "2024-01-13 16:50:25,497 INFO Request is running\n",
      "2024-01-13 16:50:32,835 INFO Request is completed\n",
      "2024-01-13 16:50:32,837 INFO Downloading https://download-0009-clone.copernicus-climate.eu/cache-compute-0009/cache/data6/adaptor.mars.internal-1705164629.6878097-2944-7-91ee8057-b347-4053-8f29-a7bf107af468.nc to ./historical_climate_data/weather-57.0606_-118.093_56.5606_-117.593-2023-01-20.nc (3.2K)\n",
      "2024-01-13 16:50:33,092 INFO Download rate 12.6K/s                                                                                                                                                                                                \n",
      "2024-01-13 16:50:33,229 INFO Welcome to the CDS\n",
      "2024-01-13 16:50:33,230 INFO Sending request to https://cds.climate.copernicus.eu/api/v2/resources/reanalysis-era5-single-levels\n",
      "2024-01-13 16:50:33,320 INFO Request is queued\n"
     ]
    },
    {
     "name": "stdout",
     "output_type": "stream",
     "text": [
      "[[[273.9751719  274.18619151 274.28993084]\n",
      "  [273.93706286 274.2364543  274.31558228]\n",
      "  [273.54974365 273.79487559 273.99232739]]]\n"
     ]
    },
    {
     "name": "stderr",
     "output_type": "stream",
     "text": [
      "2024-01-13 16:50:34,390 INFO Request is running\n",
      "2024-01-13 16:50:38,284 INFO Request is completed\n",
      "2024-01-13 16:50:38,285 INFO Downloading https://download-0016.copernicus-climate.eu/cache-compute-0016/cache/data1/adaptor.mars.internal-1705164636.7780664-28982-2-8f073255-3be2-4fc5-8f14-c2d2f9ee7c8c.nc to ./historical_climate_data/weather-58.7596_-119.8433_58.2596_-119.3433-2023-01-20.nc (3.2K)\n",
      "2024-01-13 16:50:38,535 INFO Download rate 12.9K/s                                                                                                                                                                                                \n",
      "2024-01-13 16:50:38,672 INFO Welcome to the CDS\n",
      "2024-01-13 16:50:38,673 INFO Sending request to https://cds.climate.copernicus.eu/api/v2/resources/reanalysis-era5-single-levels\n",
      "2024-01-13 16:50:38,787 INFO Request is queued\n"
     ]
    },
    {
     "name": "stdout",
     "output_type": "stream",
     "text": [
      "[[[272.74374618 272.70028687 272.71288344]\n",
      "  [273.63460494 273.69022646 273.7744246 ]\n",
      "  [274.19342633 274.17797209 274.19845581]]]\n"
     ]
    },
    {
     "name": "stderr",
     "output_type": "stream",
     "text": [
      "2024-01-13 16:50:41,429 INFO Request is running\n",
      "2024-01-13 16:50:43,752 INFO Request is completed\n",
      "2024-01-13 16:50:43,754 INFO Downloading https://download-0014-clone.copernicus-climate.eu/cache-compute-0014/cache/data7/adaptor.mars.internal-1705164643.3403697-3047-14-bd5315a6-d9ff-49c9-925b-4764c7a7c596.nc to ./historical_climate_data/weather-58.7565_-119.861_58.2565_-119.361-2023-01-20.nc (3.2K)\n",
      "2024-01-13 16:50:44,009 INFO Download rate 12.6K/s                                                                                                                                                                                                \n",
      "2024-01-13 16:50:44,141 INFO Welcome to the CDS\n",
      "2024-01-13 16:50:44,143 INFO Sending request to https://cds.climate.copernicus.eu/api/v2/resources/reanalysis-era5-single-levels\n",
      "2024-01-13 16:50:44,265 INFO Request is queued\n"
     ]
    },
    {
     "name": "stdout",
     "output_type": "stream",
     "text": [
      "[[[272.76432303 272.70150757 272.72774549]\n",
      "  [273.64188667 273.69671867 273.78131138]\n",
      "  [274.20022604 274.18634075 274.20059204]]]\n"
     ]
    },
    {
     "name": "stderr",
     "output_type": "stream",
     "text": [
      "2024-01-13 16:50:45,335 INFO Request is running\n",
      "2024-01-13 16:50:49,227 INFO Request is completed\n",
      "2024-01-13 16:50:49,229 INFO Downloading https://download-0005-clone.copernicus-climate.eu/cache-compute-0005/cache/data6/adaptor.mars.internal-1705164647.8672097-29974-4-51d134d4-5df9-47cf-b072-75473893fe43.nc to ./historical_climate_data/weather-58.7653_-119.8668_58.2653_-119.3668-2023-01-20.nc (3.2K)\n",
      "2024-01-13 16:50:49,295 INFO Download rate 49.3K/s                                                                                                                                                                                                \n",
      "2024-01-13 16:50:49,431 INFO Welcome to the CDS\n",
      "2024-01-13 16:50:49,432 INFO Sending request to https://cds.climate.copernicus.eu/api/v2/resources/reanalysis-era5-single-levels\n",
      "2024-01-13 16:50:49,539 INFO Request is queued\n"
     ]
    },
    {
     "name": "stdout",
     "output_type": "stream",
     "text": [
      "[[[272.75406899 272.68493962 272.6746521 ]\n",
      "  [273.6147839  273.6586558  273.74337792]\n",
      "  [274.18131261 274.16791116 274.18624878]]]\n"
     ]
    },
    {
     "name": "stderr",
     "output_type": "stream",
     "text": [
      "2024-01-13 16:50:52,170 INFO Request is running\n",
      "2024-01-13 16:50:57,941 INFO Request is completed\n",
      "2024-01-13 16:50:57,944 INFO Downloading https://download-0019.copernicus-climate.eu/cache-compute-0019/cache/data7/adaptor.mars.internal-1705164654.4526892-783-5-c1632e67-7ce9-4d8d-a631-fe22f5266951.nc to ./historical_climate_data/weather-58.7382_-120.1728_58.2382_-119.6728-2023-01-20.nc (3.2K)\n",
      "2024-01-13 16:50:58,202 INFO Download rate 12.4K/s                                                                                                                                                                                                \n",
      "2024-01-13 16:50:58,341 INFO Welcome to the CDS\n",
      "2024-01-13 16:50:58,343 INFO Sending request to https://cds.climate.copernicus.eu/api/v2/resources/reanalysis-era5-single-levels\n"
     ]
    },
    {
     "name": "stdout",
     "output_type": "stream",
     "text": [
      "[[[272.89413104 272.87574072 272.74526978]\n",
      "  [273.65573542 273.68099146 273.72158391]\n",
      "  [274.20608521 274.18062855 274.17202411]]]\n"
     ]
    },
    {
     "name": "stderr",
     "output_type": "stream",
     "text": [
      "2024-01-13 16:50:58,473 INFO Request is queued\n",
      "2024-01-13 16:50:59,542 INFO Request is running\n",
      "2024-01-13 16:51:03,438 INFO Request is completed\n",
      "2024-01-13 16:51:03,439 INFO Downloading https://download-0014-clone.copernicus-climate.eu/cache-compute-0014/cache/data8/adaptor.mars.internal-1705164662.268842-3047-15-221a2b49-7c97-43d1-9455-e4cb35e13ebd.nc to ./historical_climate_data/weather-58.7351_-120.1907_58.2351_-119.6907-2023-01-20.nc (3.2K)\n",
      "2024-01-13 16:51:03,504 INFO Download rate 50.5K/s                                                                                                                                                                                                \n",
      "2024-01-13 16:51:03,640 INFO Welcome to the CDS\n",
      "2024-01-13 16:51:03,642 INFO Sending request to https://cds.climate.copernicus.eu/api/v2/resources/reanalysis-era5-single-levels\n",
      "2024-01-13 16:51:03,764 INFO Request is queued\n"
     ]
    },
    {
     "name": "stdout",
     "output_type": "stream",
     "text": [
      "[[[272.89987264 272.90343628 272.75338745]\n",
      "  [273.66109542 273.6859523  273.72057044]\n",
      "  [274.20391846 274.17191217 274.16485131]]]\n"
     ]
    },
    {
     "name": "stderr",
     "output_type": "stream",
     "text": [
      "2024-01-13 16:51:12,165 INFO Request is running\n",
      "2024-01-13 16:51:17,298 INFO Request is completed\n",
      "2024-01-13 16:51:17,299 INFO Downloading https://download-0009-clone.copernicus-climate.eu/cache-compute-0009/cache/data9/adaptor.mars.internal-1705164674.1818407-1202-15-e92fccac-bcf1-48a2-a51b-181015a8bcb6.nc to ./historical_climate_data/weather-56.5458_-111.3384_56.0458_-110.8384-2023-01-20.nc (3.2K)\n",
      "2024-01-13 16:51:17,360 INFO Download rate 53.5K/s                                                                                                                                                                                                \n",
      "2024-01-13 16:51:17,495 INFO Welcome to the CDS\n",
      "2024-01-13 16:51:17,497 INFO Sending request to https://cds.climate.copernicus.eu/api/v2/resources/reanalysis-era5-single-levels\n",
      "2024-01-13 16:51:17,592 INFO Request is queued\n"
     ]
    },
    {
     "name": "stdout",
     "output_type": "stream",
     "text": [
      "[[[266.74951132 266.67464808 266.31478882]\n",
      "  [266.76505461 267.07584866 266.94867308]\n",
      "  [266.69071664 267.06057995 267.09712219]]]\n"
     ]
    },
    {
     "name": "stderr",
     "output_type": "stream",
     "text": [
      "2024-01-13 16:51:31,121 INFO Request is completed\n",
      "2024-01-13 16:51:31,123 INFO Downloading https://download-0020.copernicus-climate.eu/cache-compute-0020/cache/data8/adaptor.mars.internal-1705164688.8853574-13456-6-b4df8274-05b1-43c4-8ad7-c2dc001b9cb3.nc to ./historical_climate_data/weather-56.5433_-111.3227_56.0433_-110.8227-2023-01-20.nc (3.2K)\n",
      "2024-01-13 16:51:31,360 INFO Download rate 13.6K/s                                                                                                                                                                                                \n",
      "2024-01-13 16:51:31,495 INFO Welcome to the CDS\n",
      "2024-01-13 16:51:31,496 INFO Sending request to https://cds.climate.copernicus.eu/api/v2/resources/reanalysis-era5-single-levels\n"
     ]
    },
    {
     "name": "stdout",
     "output_type": "stream",
     "text": [
      "[[[266.74622087 266.69971013 266.2862854 ]\n",
      "  [266.78831261 267.09519958 266.94326202]\n",
      "  [266.71172047 267.08662077 267.08653437]]]\n"
     ]
    },
    {
     "name": "stderr",
     "output_type": "stream",
     "text": [
      "2024-01-13 16:51:32,170 INFO Request is queued\n",
      "2024-01-13 16:51:33,244 INFO Request is running\n",
      "2024-01-13 16:51:37,133 INFO Request is completed\n",
      "2024-01-13 16:51:37,134 INFO Downloading https://download-0018.copernicus-climate.eu/cache-compute-0018/cache/data7/adaptor.mars.internal-1705164695.4222164-9086-5-2db01cf9-d776-4ed2-992b-898bc77a6ab7.nc to ./historical_climate_data/weather-56.5408_-111.3069_56.0408_-110.8069-2023-01-20.nc (3.2K)\n",
      "2024-01-13 16:51:37,378 INFO Download rate 13.2K/s                                                                                                                                                                                                \n",
      "2024-01-13 16:51:37,513 INFO Welcome to the CDS\n",
      "2024-01-13 16:51:37,515 INFO Sending request to https://cds.climate.copernicus.eu/api/v2/resources/reanalysis-era5-single-levels\n",
      "2024-01-13 16:51:37,600 INFO Request is queued\n"
     ]
    },
    {
     "name": "stdout",
     "output_type": "stream",
     "text": [
      "[[[266.74285508 266.72484379 266.25749207]\n",
      "  [266.81170869 267.1146698  266.93777462]\n",
      "  [266.73286189 267.11283859 267.07586116]]]\n"
     ]
    },
    {
     "name": "stderr",
     "output_type": "stream",
     "text": [
      "2024-01-13 16:51:42,551 INFO Request is running\n",
      "2024-01-13 16:51:51,137 INFO Request is completed\n",
      "2024-01-13 16:51:51,139 INFO Downloading https://download-0004-clone.copernicus-climate.eu/cache-compute-0004/cache/data4/adaptor.mars.internal-1705164705.9577224-501-16-ba6c43fd-c818-4aeb-a77c-3a4b2cfaf4c5.nc to ./historical_climate_data/weather-56.5321_-111.3113_56.0321_-110.8113-2023-01-20.nc (3.2K)\n",
      "2024-01-13 16:51:51,373 INFO Download rate 13.7K/s                                                                                                                                                                                                \n",
      "2024-01-13 16:51:51,508 INFO Welcome to the CDS\n",
      "2024-01-13 16:51:51,509 INFO Sending request to https://cds.climate.copernicus.eu/api/v2/resources/reanalysis-era5-single-levels\n",
      "2024-01-13 16:51:51,618 INFO Request is queued\n"
     ]
    },
    {
     "name": "stdout",
     "output_type": "stream",
     "text": [
      "[[[266.76139252 266.76701508 266.3145752 ]\n",
      "  [266.80972709 267.11384583 266.9650856 ]\n",
      "  [266.72255899 267.10580836 267.07909811]]]\n"
     ]
    },
    {
     "name": "stderr",
     "output_type": "stream",
     "text": [
      "2024-01-13 16:51:56,581 INFO Request is running\n",
      "2024-01-13 16:52:00,024 INFO Request is completed\n",
      "2024-01-13 16:52:00,026 INFO Downloading https://download-0007-clone.copernicus-climate.eu/cache-compute-0007/cache/data0/adaptor.mars.internal-1705164718.9634035-12794-13-3b0e8142-8409-4af8-b088-120b3da9b77e.nc to ./historical_climate_data/weather-55.9723_-113.9156_55.4723_-113.4156-2023-01-20.nc (3.2K)\n",
      "2024-01-13 16:52:00,264 INFO Download rate 13.5K/s                                                                                                                                                                                                \n",
      "2024-01-13 16:52:00,390 INFO Welcome to the CDS\n",
      "2024-01-13 16:52:00,391 INFO Sending request to https://cds.climate.copernicus.eu/api/v2/resources/reanalysis-era5-single-levels\n",
      "2024-01-13 16:52:00,456 INFO Request is queued\n"
     ]
    },
    {
     "name": "stdout",
     "output_type": "stream",
     "text": [
      "[[[268.38314706 268.29017413 268.06295401]\n",
      "  [268.57951736 268.59169006 268.58070097]\n",
      "  [268.02470936 267.88008118 267.93717668]]]\n"
     ]
    },
    {
     "name": "stderr",
     "output_type": "stream",
     "text": [
      "2024-01-13 16:52:05,413 INFO Request is running\n",
      "2024-01-13 16:52:09,038 INFO Request is completed\n",
      "2024-01-13 16:52:09,040 INFO Downloading https://download-0015-clone.copernicus-climate.eu/cache-compute-0015/cache/data8/adaptor.mars.internal-1705164727.1826825-11573-12-89045472-eac7-4711-bc52-c9539e75a3ed.nc to ./historical_climate_data/weather-55.2796_-108.5504_54.7796_-108.0504-2023-01-20.nc (3.2K)\n",
      "2024-01-13 16:52:09,289 INFO Download rate 12.9K/s                                                                                                                                                                                                \n",
      "2024-01-13 16:52:09,416 INFO Welcome to the CDS\n",
      "2024-01-13 16:52:09,418 INFO Sending request to https://cds.climate.copernicus.eu/api/v2/resources/reanalysis-era5-single-levels\n",
      "2024-01-13 16:52:09,521 INFO Request is queued\n"
     ]
    },
    {
     "name": "stdout",
     "output_type": "stream",
     "text": [
      "[[[266.76138735 266.51443103 265.95770264]\n",
      "  [266.75331216 266.81817627 266.24263203]\n",
      "  [265.9792496  266.22017907 266.04735692]]]\n"
     ]
    },
    {
     "name": "stderr",
     "output_type": "stream",
     "text": [
      "2024-01-13 16:52:23,041 INFO Request is running\n",
      "2024-01-13 16:52:30,704 INFO Request is completed\n",
      "2024-01-13 16:52:30,706 INFO Downloading https://download-0011-clone.copernicus-climate.eu/cache-compute-0011/cache/data9/adaptor.mars.internal-1705164745.3764508-20260-2-3a261503-a0f2-400c-a9ad-800a9e0c543b.nc to ./historical_climate_data/weather-56.5331_-111.3291_56.0331_-110.8291-2023-01-20.nc (3.2K)\n",
      "2024-01-13 16:52:30,952 INFO Download rate 13K/s                                                                                                                                                                                                  \n",
      "2024-01-13 16:52:31,082 INFO Welcome to the CDS\n",
      "2024-01-13 16:52:31,084 INFO Sending request to https://cds.climate.copernicus.eu/api/v2/resources/reanalysis-era5-single-levels\n",
      "2024-01-13 16:52:31,202 INFO Request is queued\n"
     ]
    },
    {
     "name": "stdout",
     "output_type": "stream",
     "text": [
      "[[[266.76857371 266.74821452 266.35649109]\n",
      "  [266.78422512 267.09280396 266.97625545]\n",
      "  [266.69787833 267.0763211  267.0911523 ]]]\n"
     ]
    },
    {
     "name": "stderr",
     "output_type": "stream",
     "text": [
      "2024-01-13 16:52:33,839 INFO Request is running\n",
      "2024-01-13 16:52:40,068 INFO Request is completed\n",
      "2024-01-13 16:52:40,069 INFO Downloading https://download-0019.copernicus-climate.eu/cache-compute-0019/cache/data1/adaptor.mars.internal-1705164756.782354-10543-3-1395da2d-5d0d-4a83-b913-386323cc0adf.nc to ./historical_climate_data/weather-52.5778_-122.2646_52.0778_-121.7646-2023-01-21.nc (3.2K)\n",
      "2024-01-13 16:52:40,327 INFO Download rate 12.5K/s                                                                                                                                                                                                \n",
      "2024-01-13 16:52:40,457 INFO Welcome to the CDS\n",
      "2024-01-13 16:52:40,459 INFO Sending request to https://cds.climate.copernicus.eu/api/v2/resources/reanalysis-era5-single-levels\n",
      "2024-01-13 16:52:40,557 INFO Request is queued\n"
     ]
    },
    {
     "name": "stdout",
     "output_type": "stream",
     "text": [
      "[[[272.05258477 271.8602332  271.27243042]\n",
      "  [271.96905328 272.0306045  271.9479122 ]\n",
      "  [272.12396416 272.33001709 272.16769877]]]\n"
     ]
    },
    {
     "name": "stderr",
     "output_type": "stream",
     "text": [
      "2024-01-13 16:52:41,629 INFO Request is running\n",
      "2024-01-13 16:52:45,518 INFO Request is completed\n",
      "2024-01-13 16:52:45,519 INFO Downloading https://download-0008-clone.copernicus-climate.eu/cache-compute-0008/cache/data2/adaptor.mars.internal-1705164764.2064688-5746-1-82f7dbcf-cbcf-4d19-aa38-5c657fdb1843.nc to ./historical_climate_data/weather-55.1841_-120.7667_54.6841_-120.2667-2023-01-21.nc (3.2K)\n",
      "2024-01-13 16:52:45,777 INFO Download rate 12.4K/s                                                                                                                                                                                                \n",
      "2024-01-13 16:52:45,908 INFO Welcome to the CDS\n",
      "2024-01-13 16:52:45,909 INFO Sending request to https://cds.climate.copernicus.eu/api/v2/resources/reanalysis-era5-single-levels\n"
     ]
    },
    {
     "name": "stdout",
     "output_type": "stream",
     "text": [
      "[[[275.41698885 276.20640551 276.75183105]\n",
      "  [274.25376207 275.38412328 276.25048824]\n",
      "  [272.06970215 273.31702192 274.69387489]]]\n"
     ]
    },
    {
     "name": "stderr",
     "output_type": "stream",
     "text": [
      "2024-01-13 16:52:46,061 INFO Request is queued\n",
      "2024-01-13 16:52:47,130 INFO Request is running\n",
      "2024-01-13 16:52:51,016 INFO Request is completed\n",
      "2024-01-13 16:52:51,017 INFO Downloading https://download-0015-clone.copernicus-climate.eu/cache-compute-0015/cache/data6/adaptor.mars.internal-1705164768.9625704-10464-10-3f1e14dc-3337-4369-bf74-ba2aa34ea8b9.nc to ./historical_climate_data/weather-56.3714_-121.8936_55.8714_-121.3936-2023-01-21.nc (3.2K)\n",
      "2024-01-13 16:52:51,082 INFO Download rate 50K/s                                                                                                                                                                                                  \n",
      "2024-01-13 16:52:51,216 INFO Welcome to the CDS\n",
      "2024-01-13 16:52:51,218 INFO Sending request to https://cds.climate.copernicus.eu/api/v2/resources/reanalysis-era5-single-levels\n",
      "2024-01-13 16:52:51,336 INFO Request is queued\n"
     ]
    },
    {
     "name": "stdout",
     "output_type": "stream",
     "text": [
      "[[[274.30172729 274.81632173 275.25118126]\n",
      "  [274.6408428  275.14043326 275.49935913]\n",
      "  [274.49743693 275.07294277 275.44042146]]]\n"
     ]
    },
    {
     "name": "stderr",
     "output_type": "stream",
     "text": [
      "2024-01-13 16:52:52,405 INFO Request is running\n",
      "2024-01-13 16:52:56,295 INFO Request is completed\n",
      "2024-01-13 16:52:56,296 INFO Downloading https://download-0005-clone.copernicus-climate.eu/cache-compute-0005/cache/data0/adaptor.mars.internal-1705164774.666645-21118-18-f439333c-d3f8-4191-bfcf-6622e9bd7c63.nc to ./historical_climate_data/weather-55.5915_-120.652_55.0915_-120.152-2023-01-21.nc (3.2K)\n",
      "2024-01-13 16:52:56,571 INFO Download rate 11.6K/s                                                                                                                                                                                                \n",
      "2024-01-13 16:52:56,706 INFO Welcome to the CDS\n",
      "2024-01-13 16:52:56,708 INFO Sending request to https://cds.climate.copernicus.eu/api/v2/resources/reanalysis-era5-single-levels\n"
     ]
    },
    {
     "name": "stdout",
     "output_type": "stream",
     "text": [
      "[[[276.32913546 276.78648993 276.98858838]\n",
      "  [276.09083957 276.58953883 277.02288818]\n",
      "  [275.46841431 276.37963635 276.89363532]]]\n"
     ]
    },
    {
     "name": "stderr",
     "output_type": "stream",
     "text": [
      "2024-01-13 16:52:56,863 INFO Request is queued\n",
      "2024-01-13 16:52:57,928 INFO Request is running\n",
      "2024-01-13 16:53:01,807 INFO Request is completed\n",
      "2024-01-13 16:53:01,809 INFO Downloading https://download-0020.copernicus-climate.eu/cache-compute-0020/cache/data1/adaptor.mars.internal-1705164779.5961363-16992-8-7e18f9c4-6cb7-4a6b-8cf4-d4636cb1f229.nc to ./historical_climate_data/weather-55.5888_-120.6358_55.0888_-120.1358-2023-01-21.nc (3.2K)\n",
      "2024-01-13 16:53:02,078 INFO Download rate 12K/s                                                                                                                                                                                                  \n",
      "2024-01-13 16:53:02,212 INFO Welcome to the CDS\n",
      "2024-01-13 16:53:02,214 INFO Sending request to https://cds.climate.copernicus.eu/api/v2/resources/reanalysis-era5-single-levels\n",
      "2024-01-13 16:53:02,286 INFO Request is queued\n"
     ]
    },
    {
     "name": "stdout",
     "output_type": "stream",
     "text": [
      "[[[276.3651538  276.80183024 277.00366211]\n",
      "  [276.13385624 276.6169452  277.05044556]\n",
      "  [275.53118896 276.42014406 276.95551086]]]\n"
     ]
    },
    {
     "name": "stderr",
     "output_type": "stream",
     "text": [
      "2024-01-13 16:53:03,354 INFO Request is running\n",
      "2024-01-13 16:53:07,243 INFO Request is completed\n",
      "2024-01-13 16:53:07,245 INFO Downloading https://download-0014-clone.copernicus-climate.eu/cache-compute-0014/cache/data5/adaptor.mars.internal-1705164786.0499947-2467-9-c44dc352-13f3-4d9b-b770-b864551c6a4c.nc to ./historical_climate_data/weather-55.5555_-120.7234_55.0555_-120.2234-2023-01-21.nc (3.2K)\n",
      "2024-01-13 16:53:07,501 INFO Download rate 12.6K/s                                                                                                                                                                                                \n",
      "2024-01-13 16:53:07,632 INFO Welcome to the CDS\n",
      "2024-01-13 16:53:07,634 INFO Sending request to https://cds.climate.copernicus.eu/api/v2/resources/reanalysis-era5-single-levels\n",
      "2024-01-13 16:53:07,748 INFO Request is queued\n"
     ]
    },
    {
     "name": "stdout",
     "output_type": "stream",
     "text": [
      "[[[276.16327823 276.68836386 276.92459106]\n",
      "  [275.83078305 276.4767215  276.89068468]\n",
      "  [275.13842773 276.11277298 276.72793948]]]\n"
     ]
    },
    {
     "name": "stderr",
     "output_type": "stream",
     "text": [
      "2024-01-13 16:53:08,819 INFO Request is running\n",
      "2024-01-13 16:53:12,711 INFO Request is completed\n",
      "2024-01-13 16:53:12,712 INFO Downloading https://download-0013-clone.copernicus-climate.eu/cache-compute-0013/cache/data5/adaptor.mars.internal-1705164791.8308215-19307-6-555a68d6-9d88-412f-bab5-fc284533d530.nc to ./historical_climate_data/weather-55.5527_-120.7073_55.0527_-120.2073-2023-01-21.nc (3.2K)\n",
      "2024-01-13 16:53:12,979 INFO Download rate 12.1K/s                                                                                                                                                                                                \n",
      "2024-01-13 16:53:13,111 INFO Welcome to the CDS\n",
      "2024-01-13 16:53:13,112 INFO Sending request to https://cds.climate.copernicus.eu/api/v2/resources/reanalysis-era5-single-levels\n"
     ]
    },
    {
     "name": "stdout",
     "output_type": "stream",
     "text": [
      "[[[276.18311457 276.70351643 276.93536377]\n",
      "  [275.87338543 276.49123348 276.91805372]\n",
      "  [275.17663574 276.15278844 276.75397054]]]\n"
     ]
    },
    {
     "name": "stderr",
     "output_type": "stream",
     "text": [
      "2024-01-13 16:53:13,286 INFO Request is queued\n",
      "2024-01-13 16:53:14,354 INFO Request is running\n",
      "2024-01-13 16:53:18,232 INFO Request is completed\n",
      "2024-01-13 16:53:18,233 INFO Downloading https://download-0002-clone.copernicus-climate.eu/cache-compute-0002/cache/data2/adaptor.mars.internal-1705164797.1714633-14515-19-85e0c694-2d3d-4cb7-bac3-1233750a211e.nc to ./historical_climate_data/weather-56.4331_-122.7513_55.9331_-122.2513-2023-01-21.nc (3.2K)\n",
      "2024-01-13 16:53:18,487 INFO Download rate 12.7K/s                                                                                                                                                                                                \n",
      "2024-01-13 16:53:18,621 INFO Welcome to the CDS\n",
      "2024-01-13 16:53:18,622 INFO Sending request to https://cds.climate.copernicus.eu/api/v2/resources/reanalysis-era5-single-levels\n",
      "2024-01-13 16:53:18,700 INFO Request is queued\n"
     ]
    },
    {
     "name": "stdout",
     "output_type": "stream",
     "text": [
      "[[[269.89172363 270.85252713 272.17572381]\n",
      "  [270.53801757 271.66352561 273.00464491]\n",
      "  [271.14533521 272.40483102 273.42944336]]]\n"
     ]
    },
    {
     "name": "stderr",
     "output_type": "stream",
     "text": [
      "2024-01-13 16:53:21,332 INFO Request is running\n",
      "2024-01-13 16:53:27,089 INFO Request is completed\n",
      "2024-01-13 16:53:27,091 INFO Downloading https://download-0000-clone.copernicus-climate.eu/cache-compute-0000/cache/data7/adaptor.mars.internal-1705164803.9196131-6889-2-c00e4c32-791a-44e7-9273-d2a4012d7c9a.nc to ./historical_climate_data/weather-55.1812_-120.7797_54.6812_-120.2797-2023-01-21.nc (3.2K)\n",
      "2024-01-13 16:53:27,346 INFO Download rate 12.6K/s                                                                                                                                                                                                \n",
      "2024-01-13 16:53:27,477 INFO Welcome to the CDS\n",
      "2024-01-13 16:53:27,478 INFO Sending request to https://cds.climate.copernicus.eu/api/v2/resources/reanalysis-era5-single-levels\n",
      "2024-01-13 16:53:27,589 INFO Request is queued\n"
     ]
    },
    {
     "name": "stdout",
     "output_type": "stream",
     "text": [
      "[[[275.37074058 276.14675769 276.72705078]\n",
      "  [274.16953242 275.30832323 276.16442571]\n",
      "  [271.98181152 273.23537205 274.58791694]]]\n"
     ]
    },
    {
     "name": "stderr",
     "output_type": "stream",
     "text": [
      "2024-01-13 16:53:30,227 INFO Request is running\n",
      "2024-01-13 16:53:35,997 INFO Request is completed\n",
      "2024-01-13 16:53:36,000 INFO Downloading https://download-0000-clone.copernicus-climate.eu/cache-compute-0000/cache/data1/adaptor.mars.internal-1705164813.16816-32457-12-ef7b5dd2-f488-4ad4-8b07-d699c1a03df9.nc to ./historical_climate_data/weather-55.2017_-120.7695_54.7017_-120.2695-2023-01-21.nc (3.2K)\n",
      "2024-01-13 16:53:36,062 INFO Download rate 53.1K/s                                                                                                                                                                                                \n",
      "2024-01-13 16:53:36,194 INFO Welcome to the CDS\n",
      "2024-01-13 16:53:36,196 INFO Sending request to https://cds.climate.copernicus.eu/api/v2/resources/reanalysis-era5-single-levels\n",
      "2024-01-13 16:53:36,318 INFO Request is queued\n"
     ]
    },
    {
     "name": "stdout",
     "output_type": "stream",
     "text": [
      "[[[275.46425231 276.22742821 276.76062012]\n",
      "  [274.38942492 275.50086427 276.31338672]\n",
      "  [272.22509766 273.50146384 274.87423921]]]\n"
     ]
    },
    {
     "name": "stderr",
     "output_type": "stream",
     "text": [
      "2024-01-13 16:53:37,390 INFO Request is running\n",
      "2024-01-13 16:53:41,274 INFO Request is completed\n",
      "2024-01-13 16:53:41,275 INFO Downloading https://download-0008-clone.copernicus-climate.eu/cache-compute-0008/cache/data5/adaptor.mars.internal-1705164820.2250204-2407-16-8a2141cb-57d9-422d-a52c-95fd730b7cbb.nc to ./historical_climate_data/weather-55.2088_-120.7902_54.7088_-120.2902-2023-01-21.nc (3.2K)\n",
      "2024-01-13 16:53:41,358 INFO Download rate 39.9K/s                                                                                                                                                                                                \n",
      "2024-01-13 16:53:41,494 INFO Welcome to the CDS\n",
      "2024-01-13 16:53:41,495 INFO Sending request to https://cds.climate.copernicus.eu/api/v2/resources/reanalysis-era5-single-levels\n"
     ]
    },
    {
     "name": "stdout",
     "output_type": "stream",
     "text": [
      "[[[275.42734387 276.15414971 276.73010254]\n",
      "  [274.35421932 275.4657315  276.22864247]\n",
      "  [272.1973877  273.50146054 274.83617432]]]\n"
     ]
    },
    {
     "name": "stderr",
     "output_type": "stream",
     "text": [
      "2024-01-13 16:53:41,719 INFO Request is queued\n",
      "2024-01-13 16:53:42,791 INFO Request is running\n",
      "2024-01-13 16:53:46,685 INFO Request is completed\n",
      "2024-01-13 16:53:46,686 INFO Downloading https://download-0003-clone.copernicus-climate.eu/cache-compute-0003/cache/data1/adaptor.mars.internal-1705164825.2230284-24052-16-c61ef4b4-97bb-4d52-86c4-013f290c3767.nc to ./historical_climate_data/weather-55.2067_-120.8072_54.7067_-120.3072-2023-01-21.nc (3.2K)\n",
      "2024-01-13 16:53:46,938 INFO Download rate 12.8K/s                                                                                                                                                                                                \n",
      "2024-01-13 16:53:47,072 INFO Welcome to the CDS\n",
      "2024-01-13 16:53:47,073 INFO Sending request to https://cds.climate.copernicus.eu/api/v2/resources/reanalysis-era5-single-levels\n",
      "2024-01-13 16:53:47,175 INFO Request is queued\n"
     ]
    },
    {
     "name": "stdout",
     "output_type": "stream",
     "text": [
      "[[[275.37232159 276.0964036  276.69897461]\n",
      "  [274.25990979 275.37877971 276.16189739]\n",
      "  [272.09875488 273.39255571 274.71654125]]]\n"
     ]
    },
    {
     "name": "stderr",
     "output_type": "stream",
     "text": [
      "2024-01-13 16:53:48,245 INFO Request is running\n",
      "2024-01-13 16:53:52,136 INFO Request is completed\n",
      "2024-01-13 16:53:52,139 INFO Downloading https://download-0010-clone.copernicus-climate.eu/cache-compute-0010/cache/data6/adaptor.mars.internal-1705164831.0170975-6116-5-6434c68c-8897-4181-bbec-f5933cdbb496.nc to ./historical_climate_data/weather-55.5418_-120.6878_55.0418_-120.1878-2023-01-21.nc (3.2K)\n",
      "2024-01-13 16:53:52,394 INFO Download rate 12.6K/s                                                                                                                                                                                                \n",
      "2024-01-13 16:53:52,527 INFO Welcome to the CDS\n",
      "2024-01-13 16:53:52,529 INFO Sending request to https://cds.climate.copernicus.eu/api/v2/resources/reanalysis-era5-single-levels\n",
      "2024-01-13 16:53:52,605 INFO Request is queued\n"
     ]
    },
    {
     "name": "stdout",
     "output_type": "stream",
     "text": [
      "[[[276.2133102  276.71708354 276.95071411]\n",
      "  [275.91392084 276.51593748 276.94955583]\n",
      "  [275.22558594 276.18740682 276.81867006]]]\n"
     ]
    },
    {
     "name": "stderr",
     "output_type": "stream",
     "text": [
      "2024-01-13 16:53:55,241 INFO Request is running\n",
      "2024-01-13 16:54:00,990 INFO Request is completed\n",
      "2024-01-13 16:54:00,991 INFO Downloading https://download-0006-clone.copernicus-climate.eu/cache-compute-0006/cache/data5/adaptor.mars.internal-1705164838.317317-21416-1-b4ea4c6d-8884-496f-b64f-df0ac2d2cca3.nc to ./historical_climate_data/weather-55.547_-120.7255_55.047_-120.2255-2023-01-21.nc (3.2K)\n",
      "2024-01-13 16:54:01,584 INFO Download rate 5.4K/s                                                                                                                                                                                                 \n",
      "2024-01-13 16:54:01,725 INFO Welcome to the CDS\n",
      "2024-01-13 16:54:01,727 INFO Sending request to https://cds.climate.copernicus.eu/api/v2/resources/reanalysis-era5-single-levels\n"
     ]
    },
    {
     "name": "stdout",
     "output_type": "stream",
     "text": [
      "[[[276.14744736 276.68069811 276.92050171]\n",
      "  [275.81215435 276.46678854 276.88510859]\n",
      "  [275.10562134 276.09114516 276.71772518]]]\n"
     ]
    },
    {
     "name": "stderr",
     "output_type": "stream",
     "text": [
      "2024-01-13 16:54:02,621 INFO Request is queued\n",
      "2024-01-13 16:54:03,735 INFO Request is running\n",
      "2024-01-13 16:54:07,619 INFO Request is completed\n",
      "2024-01-13 16:54:07,620 INFO Downloading https://download-0002-clone.copernicus-climate.eu/cache-compute-0002/cache/data8/adaptor.mars.internal-1705164845.7142668-17822-9-05670c2d-c640-4451-8b66-f7b0d859d40a.nc to ./historical_climate_data/weather-55.5562_-120.7288_55.0562_-120.2288-2023-01-21.nc (3.2K)\n",
      "2024-01-13 16:54:07,686 INFO Download rate 50.2K/s                                                                                                                                                                                                \n",
      "2024-01-13 16:54:07,813 INFO Welcome to the CDS\n",
      "2024-01-13 16:54:07,814 INFO Sending request to https://cds.climate.copernicus.eu/api/v2/resources/reanalysis-era5-single-levels\n",
      "2024-01-13 16:54:07,889 INFO Request is queued\n"
     ]
    },
    {
     "name": "stdout",
     "output_type": "stream",
     "text": [
      "[[[276.15628861 276.68309352 276.92089844]\n",
      "  [275.81617577 276.4716261  276.88143329]\n",
      "  [275.12487793 276.0988997  276.71902324]]]\n"
     ]
    },
    {
     "name": "stderr",
     "output_type": "stream",
     "text": [
      "2024-01-13 16:54:48,229 INFO Request is completed\n",
      "2024-01-13 16:54:48,231 INFO Downloading https://download-0002-clone.copernicus-climate.eu/cache-compute-0002/cache/data1/adaptor.mars.internal-1705164852.9840903-20294-16-396e014c-358c-4bd1-b0b1-81cf8b5d4d21.nc to ./historical_climate_data/weather-56.431_-122.7673_55.931_-122.2673-2023-01-21.nc (3.2K)\n",
      "2024-01-13 16:54:48,300 INFO Download rate 46.9K/s                                                                                                                                                                                                \n",
      "2024-01-13 16:54:48,443 INFO Welcome to the CDS\n",
      "2024-01-13 16:54:48,444 INFO Sending request to https://cds.climate.copernicus.eu/api/v2/resources/reanalysis-era5-single-levels\n"
     ]
    },
    {
     "name": "stdout",
     "output_type": "stream",
     "text": [
      "[[[269.82556152 270.79897708 272.0900335 ]\n",
      "  [270.47486475 271.59011316 272.91751762]\n",
      "  [271.13117873 272.31631891 273.35968018]]]\n"
     ]
    },
    {
     "name": "stderr",
     "output_type": "stream",
     "text": [
      "2024-01-13 16:54:48,624 INFO Request is queued\n",
      "2024-01-13 16:54:49,681 INFO Request is running\n",
      "2024-01-13 16:54:53,895 INFO Request is completed\n",
      "2024-01-13 16:54:53,896 INFO Downloading https://download-0005-clone.copernicus-climate.eu/cache-compute-0005/cache/data6/adaptor.mars.internal-1705164892.1811569-4183-4-bfb1131d-d564-4021-911a-804cb9c6210b.nc to ./historical_climate_data/weather-54.4711_-124.3144_53.9711_-123.8144-2023-01-22.nc (3.2K)\n",
      "2024-01-13 16:54:54,143 INFO Download rate 13K/s                                                                                                                                                                                                  \n",
      "2024-01-13 16:54:54,267 INFO Welcome to the CDS\n",
      "2024-01-13 16:54:54,268 INFO Sending request to https://cds.climate.copernicus.eu/api/v2/resources/reanalysis-era5-single-levels\n",
      "2024-01-13 16:54:54,365 INFO Request is queued\n"
     ]
    },
    {
     "name": "stdout",
     "output_type": "stream",
     "text": [
      "[[[270.77891541 271.05149823 271.14294041]\n",
      "  [271.146164   271.41500699 271.53070068]\n",
      "  [271.06929108 271.11488024 271.21116355]]]\n"
     ]
    },
    {
     "name": "stderr",
     "output_type": "stream",
     "text": [
      "2024-01-13 16:54:55,427 INFO Request is running\n",
      "2024-01-13 16:54:59,303 INFO Request is completed\n",
      "2024-01-13 16:54:59,305 INFO Downloading https://download-0009-clone.copernicus-climate.eu/cache-compute-0009/cache/data1/adaptor.mars.internal-1705164898.6448536-11571-1-a764ae1d-83f6-466e-a6fd-b53700c40e23.nc to ./historical_climate_data/weather-54.4689_-124.3187_53.9689_-123.8187-2023-01-22.nc (3.2K)\n",
      "2024-01-13 16:54:59,555 INFO Download rate 12.9K/s                                                                                                                                                                                                \n",
      "2024-01-13 16:54:59,682 INFO Welcome to the CDS\n",
      "2024-01-13 16:54:59,684 INFO Sending request to https://cds.climate.copernicus.eu/api/v2/resources/reanalysis-era5-single-levels\n",
      "2024-01-13 16:54:59,815 INFO Request is queued\n"
     ]
    },
    {
     "name": "stdout",
     "output_type": "stream",
     "text": [
      "[[[270.7677002  271.05462699 271.14513612]\n",
      "  [271.13574596 271.41145319 271.526474  ]\n",
      "  [271.05845947 271.10668392 271.20077081]]]\n"
     ]
    },
    {
     "name": "stderr",
     "output_type": "stream",
     "text": [
      "2024-01-13 16:55:02,453 INFO Request is running\n",
      "2024-01-13 16:55:08,203 INFO Request is completed\n",
      "2024-01-13 16:55:08,205 INFO Downloading https://download-0021.copernicus-climate.eu/cache-compute-0021/cache/data3/adaptor.mars.internal-1705164905.6330068-12036-12-818b7fe8-2325-4ec9-b652-d575d2b27c33.nc to ./historical_climate_data/weather-54.4658_-124.3133_53.9658_-123.8133-2023-01-22.nc (3.2K)\n",
      "2024-01-13 16:55:08,488 INFO Download rate 11.4K/s                                                                                                                                                                                                \n",
      "2024-01-13 16:55:08,621 INFO Welcome to the CDS\n",
      "2024-01-13 16:55:08,623 INFO Sending request to https://cds.climate.copernicus.eu/api/v2/resources/reanalysis-era5-single-levels\n",
      "2024-01-13 16:55:08,719 INFO Request is queued\n"
     ]
    },
    {
     "name": "stdout",
     "output_type": "stream",
     "text": [
      "[[[270.80256653 271.06135866 271.15306274]\n",
      "  [271.14694546 271.41406328 271.52618408]\n",
      "  [271.05674309 271.09523562 271.19207425]]]\n"
     ]
    },
    {
     "name": "stderr",
     "output_type": "stream",
     "text": [
      "2024-01-13 16:55:09,907 INFO Request is running\n",
      "2024-01-13 16:55:17,419 INFO Request is completed\n",
      "2024-01-13 16:55:17,421 INFO Downloading https://download-0015-clone.copernicus-climate.eu/cache-compute-0015/cache/data3/adaptor.mars.internal-1705164913.829661-16672-9-c92927f3-3dd1-493a-8d9d-c9656d87508d.nc to ./historical_climate_data/weather-55.3918_-120.9634_54.8918_-120.4634-2023-01-22.nc (3.2K)\n",
      "2024-01-13 16:55:17,703 INFO Download rate 11.4K/s                                                                                                                                                                                                \n",
      "2024-01-13 16:55:17,831 INFO Welcome to the CDS\n",
      "2024-01-13 16:55:17,832 INFO Sending request to https://cds.climate.copernicus.eu/api/v2/resources/reanalysis-era5-single-levels\n",
      "2024-01-13 16:55:17,892 INFO Request is queued\n"
     ]
    },
    {
     "name": "stdout",
     "output_type": "stream",
     "text": [
      "[[[267.11175547 267.92540413 268.73071289]\n",
      "  [266.60664498 267.47278588 268.33088879]\n",
      "  [266.25769043 267.0701315  267.85694911]]]\n"
     ]
    },
    {
     "name": "stderr",
     "output_type": "stream",
     "text": [
      "2024-01-13 16:55:18,955 INFO Request is running\n",
      "2024-01-13 16:55:26,267 INFO Request is completed\n",
      "2024-01-13 16:55:26,268 INFO Downloading https://download-0013-clone.copernicus-climate.eu/cache-compute-0013/cache/data8/adaptor.mars.internal-1705164923.305632-12525-14-aed04bfa-1957-4d91-a93c-a7d6add7d7d6.nc to ./historical_climate_data/weather-52.8897_-116.362_52.3897_-115.862-2023-01-22.nc (3.2K)\n",
      "2024-01-13 16:55:26,529 INFO Download rate 12.3K/s                                                                                                                                                                                                \n",
      "2024-01-13 16:55:26,658 INFO Welcome to the CDS\n",
      "2024-01-13 16:55:26,659 INFO Sending request to https://cds.climate.copernicus.eu/api/v2/resources/reanalysis-era5-single-levels\n",
      "2024-01-13 16:55:26,754 INFO Request is queued\n"
     ]
    },
    {
     "name": "stdout",
     "output_type": "stream",
     "text": [
      "[[[270.65928212 271.97856611 272.76611328]\n",
      "  [267.66354075 269.08083509 270.64665365]\n",
      "  [265.44238281 266.90527375 268.50137829]]]\n"
     ]
    },
    {
     "name": "stderr",
     "output_type": "stream",
     "text": [
      "2024-01-13 16:55:27,822 INFO Request is running\n",
      "2024-01-13 16:55:31,701 INFO Request is completed\n",
      "2024-01-13 16:55:31,703 INFO Downloading https://download-0002-clone.copernicus-climate.eu/cache-compute-0002/cache/data8/adaptor.mars.internal-1705164929.9950237-17755-9-62bd483b-a6fc-4044-8e72-21d8d23de17f.nc to ./historical_climate_data/weather-55.9668_-113.9685_55.4668_-113.4685-2023-01-22.nc (3.2K)\n",
      "2024-01-13 16:55:31,769 INFO Download rate 49.2K/s                                                                                                                                                                                                \n",
      "2024-01-13 16:55:31,895 INFO Welcome to the CDS\n",
      "2024-01-13 16:55:31,897 INFO Sending request to https://cds.climate.copernicus.eu/api/v2/resources/reanalysis-era5-single-levels\n",
      "2024-01-13 16:55:32,019 INFO Request is queued\n"
     ]
    },
    {
     "name": "stdout",
     "output_type": "stream",
     "text": [
      "[[[274.52604885 274.62774821 274.68797302]\n",
      "  [274.20556931 274.32102627 274.59321299]\n",
      "  [274.0269928  274.15041787 274.45976222]]]\n"
     ]
    },
    {
     "name": "stderr",
     "output_type": "stream",
     "text": [
      "2024-01-13 16:55:34,644 INFO Request is running\n",
      "2024-01-13 16:55:40,397 INFO Request is completed\n",
      "2024-01-13 16:55:40,399 INFO Downloading https://download-0021.copernicus-climate.eu/cache-compute-0021/cache/data5/adaptor.mars.internal-1705164936.7497275-18747-1-85e107a5-c27a-4d23-8e18-89bd212a9df3.nc to ./historical_climate_data/weather-54.8968_-119.5246_54.3968_-119.0246-2023-01-23.nc (3.2K)\n",
      "2024-01-13 16:55:40,464 INFO Download rate 49.7K/s                                                                                                                                                                                                \n",
      "2024-01-13 16:55:40,591 INFO Welcome to the CDS\n",
      "2024-01-13 16:55:40,592 INFO Sending request to https://cds.climate.copernicus.eu/api/v2/resources/reanalysis-era5-single-levels\n",
      "2024-01-13 16:55:40,675 INFO Request is queued\n"
     ]
    },
    {
     "name": "stdout",
     "output_type": "stream",
     "text": [
      "[[[272.97546387 272.2499221  271.46887357]\n",
      "  [272.3175567  272.13328187 271.751882  ]\n",
      "  [270.48400879 270.57434034 270.90612628]]]\n"
     ]
    },
    {
     "name": "stderr",
     "output_type": "stream",
     "text": [
      "2024-01-13 16:55:41,739 INFO Request is running\n",
      "2024-01-13 16:55:45,618 INFO Request is completed\n",
      "2024-01-13 16:55:45,619 INFO Downloading https://download-0006-clone.copernicus-climate.eu/cache-compute-0006/cache/data9/adaptor.mars.internal-1705164945.0032082-21201-4-4dd737b4-eda3-456c-a6a1-da219fb320a9.nc to ./historical_climate_data/weather-52.8955_-116.3682_52.3955_-115.8682-2023-01-23.nc (3.2K)\n",
      "2024-01-13 16:55:45,864 INFO Download rate 13.2K/s                                                                                                                                                                                                \n",
      "2024-01-13 16:55:45,989 INFO Welcome to the CDS\n",
      "2024-01-13 16:55:45,991 INFO Sending request to https://cds.climate.copernicus.eu/api/v2/resources/reanalysis-era5-single-levels\n",
      "2024-01-13 16:55:46,080 INFO Request is queued\n"
     ]
    },
    {
     "name": "stdout",
     "output_type": "stream",
     "text": [
      "[[[267.37189376 267.7277832  267.18456997]\n",
      "  [265.84867046 266.41187864 267.19358831]\n",
      "  [264.35064697 265.23691784 266.08850675]]]\n"
     ]
    },
    {
     "name": "stderr",
     "output_type": "stream",
     "text": [
      "2024-01-13 16:55:47,147 INFO Request is running\n",
      "2024-01-13 16:55:51,026 INFO Request is completed\n",
      "2024-01-13 16:55:51,028 INFO Downloading https://download-0004-clone.copernicus-climate.eu/cache-compute-0004/cache/data9/adaptor.mars.internal-1705164950.5444078-11934-1-bdc542da-d3ed-4feb-b456-d0e1d189f6fa.nc to ./historical_climate_data/weather-52.8924_-116.3517_52.3924_-115.8517-2023-01-23.nc (3.2K)\n",
      "2024-01-13 16:55:51,304 INFO Download rate 11.6K/s                                                                                                                                                                                                \n",
      "2024-01-13 16:55:51,433 INFO Welcome to the CDS\n",
      "2024-01-13 16:55:51,434 INFO Sending request to https://cds.climate.copernicus.eu/api/v2/resources/reanalysis-era5-single-levels\n",
      "2024-01-13 16:55:51,547 INFO Request is queued\n"
     ]
    },
    {
     "name": "stdout",
     "output_type": "stream",
     "text": [
      "[[[267.32063944 267.6807251  267.17197379]\n",
      "  [265.86621219 266.44488547 267.20470429]\n",
      "  [264.39599609 265.29074679 266.12349499]]]\n"
     ]
    },
    {
     "name": "stderr",
     "output_type": "stream",
     "text": [
      "2024-01-13 16:55:52,612 INFO Request is running\n",
      "2024-01-13 16:55:56,490 INFO Request is completed\n",
      "2024-01-13 16:55:56,492 INFO Downloading https://download-0016.copernicus-climate.eu/cache-compute-0016/cache/data9/adaptor.mars.internal-1705164955.2252975-27570-10-f714a7bc-4ff1-4289-9769-46145b9f11d1.nc to ./historical_climate_data/weather-52.1204_-124.812_51.6204_-124.312-2023-01-23.nc (3.2K)\n",
      "2024-01-13 16:55:56,765 INFO Download rate 11.8K/s                                                                                                                                                                                                \n",
      "2024-01-13 16:55:56,891 INFO Welcome to the CDS\n",
      "2024-01-13 16:55:56,893 INFO Sending request to https://cds.climate.copernicus.eu/api/v2/resources/reanalysis-era5-single-levels\n",
      "2024-01-13 16:55:56,955 INFO Request is queued\n"
     ]
    },
    {
     "name": "stdout",
     "output_type": "stream",
     "text": [
      "[[[267.70776709 267.78588867 266.94212843]\n",
      "  [267.25867839 267.17493252 266.3887402 ]\n",
      "  [266.37116064 266.12796192 265.85617065]]]\n"
     ]
    },
    {
     "name": "stderr",
     "output_type": "stream",
     "text": [
      "2024-01-13 16:55:58,019 INFO Request is running\n",
      "2024-01-13 16:56:01,898 INFO Request is completed\n",
      "2024-01-13 16:56:01,899 INFO Downloading https://download-0021.copernicus-climate.eu/cache-compute-0021/cache/data0/adaptor.mars.internal-1705164961.1085005-18747-2-df010f97-3d3c-47db-80f5-e221d3763965.nc to ./historical_climate_data/weather-57.5918_-119.2752_57.0918_-118.7752-2023-01-24.nc (3.2K)\n",
      "2024-01-13 16:56:01,967 INFO Download rate 47.9K/s                                                                                                                                                                                                \n",
      "2024-01-13 16:56:02,098 INFO Welcome to the CDS\n",
      "2024-01-13 16:56:02,100 INFO Sending request to https://cds.climate.copernicus.eu/api/v2/resources/reanalysis-era5-single-levels\n",
      "2024-01-13 16:56:02,217 INFO Request is queued\n"
     ]
    },
    {
     "name": "stdout",
     "output_type": "stream",
     "text": [
      "[[[269.83243176 269.86312859 269.86434937]\n",
      "  [268.61858621 268.55563884 268.76319204]\n",
      "  [268.43333981 268.40979004 268.75766528]]]\n"
     ]
    },
    {
     "name": "stderr",
     "output_type": "stream",
     "text": [
      "2024-01-13 16:56:03,279 INFO Request is running\n",
      "2024-01-13 16:56:07,157 INFO Request is completed\n",
      "2024-01-13 16:56:07,158 INFO Downloading https://download-0008-clone.copernicus-climate.eu/cache-compute-0008/cache/data6/adaptor.mars.internal-1705164965.2999902-10689-2-4f2275b7-880e-4112-a67c-1e0916d4d2cb.nc to ./historical_climate_data/weather-57.5775_-119.2623_57.0775_-118.7623-2023-01-24.nc (3.2K)\n",
      "2024-01-13 16:56:07,403 INFO Download rate 13.1K/s                                                                                                                                                                                                \n",
      "2024-01-13 16:56:07,533 INFO Welcome to the CDS\n",
      "2024-01-13 16:56:07,535 INFO Sending request to https://cds.climate.copernicus.eu/api/v2/resources/reanalysis-era5-single-levels\n",
      "2024-01-13 16:56:07,611 INFO Request is queued\n"
     ]
    },
    {
     "name": "stdout",
     "output_type": "stream",
     "text": [
      "[[[269.76103985 269.76034739 269.76812744]\n",
      "  [268.54794235 268.48853289 268.74350272]\n",
      "  [268.44930677 268.43344116 268.80099771]]]\n"
     ]
    },
    {
     "name": "stderr",
     "output_type": "stream",
     "text": [
      "2024-01-13 16:56:12,549 INFO Request is running\n",
      "2024-01-13 16:56:15,992 INFO Request is completed\n",
      "2024-01-13 16:56:15,994 INFO Downloading https://download-0017.copernicus-climate.eu/cache-compute-0017/cache/data2/adaptor.mars.internal-1705164973.2343683-11278-2-8b4baee1-b9d4-4b78-848c-20660855c84c.nc to ./historical_climate_data/weather-55.104_-116.7244_54.604_-116.2244-2023-01-24.nc (3.2K)\n",
      "2024-01-13 16:56:16,264 INFO Download rate 11.9K/s                                                                                                                                                                                                \n",
      "2024-01-13 16:56:16,390 INFO Welcome to the CDS\n",
      "2024-01-13 16:56:16,392 INFO Sending request to https://cds.climate.copernicus.eu/api/v2/resources/reanalysis-era5-single-levels\n",
      "2024-01-13 16:56:16,480 INFO Request is queued\n"
     ]
    },
    {
     "name": "stdout",
     "output_type": "stream",
     "text": [
      "[[[274.02997259 273.65044495 273.23225872]\n",
      "  [274.15954123 273.54067948 272.90286255]\n",
      "  [274.537323   273.77524986 273.19095637]]]\n"
     ]
    },
    {
     "name": "stderr",
     "output_type": "stream",
     "text": [
      "2024-01-13 16:56:17,546 INFO Request is running\n",
      "2024-01-13 16:56:21,420 INFO Request is completed\n",
      "2024-01-13 16:56:21,422 INFO Downloading https://download-0000-clone.copernicus-climate.eu/cache-compute-0000/cache/data9/adaptor.mars.internal-1705164980.309608-32491-10-7119d340-56cd-4a38-b3a1-4e0c2b805e55.nc to ./historical_climate_data/weather-54.281_-118.7841_53.781_-118.2841-2023-01-24.nc (3.2K)\n",
      "2024-01-13 16:56:21,676 INFO Download rate 12.6K/s                                                                                                                                                                                                \n",
      "2024-01-13 16:56:21,803 INFO Welcome to the CDS\n",
      "2024-01-13 16:56:21,804 INFO Sending request to https://cds.climate.copernicus.eu/api/v2/resources/reanalysis-era5-single-levels\n",
      "2024-01-13 16:56:21,903 INFO Request is queued\n"
     ]
    },
    {
     "name": "stdout",
     "output_type": "stream",
     "text": [
      "[[[273.8180046  274.11529541 273.89026596]\n",
      "  [272.3974561  272.81579329 273.05576744]\n",
      "  [270.36291504 271.1230336  272.03208386]]]\n"
     ]
    },
    {
     "name": "stderr",
     "output_type": "stream",
     "text": [
      "2024-01-13 16:56:24,728 INFO Request is running\n",
      "2024-01-13 16:56:35,625 INFO Request is completed\n",
      "2024-01-13 16:56:35,627 INFO Downloading https://download-0011-clone.copernicus-climate.eu/cache-compute-0011/cache/data3/adaptor.mars.internal-1705164993.475904-19859-13-ed3f753a-de97-4b57-9dbc-1325644fcdfd.nc to ./historical_climate_data/weather-54.2834_-118.7875_53.7834_-118.2875-2023-01-24.nc (3.2K)\n",
      "2024-01-13 16:56:35,892 INFO Download rate 12.1K/s                                                                                                                                                                                                \n",
      "2024-01-13 16:56:36,030 INFO Welcome to the CDS\n",
      "2024-01-13 16:56:36,032 INFO Sending request to https://cds.climate.copernicus.eu/api/v2/resources/reanalysis-era5-single-levels\n",
      "2024-01-13 16:56:36,127 INFO Request is queued\n"
     ]
    },
    {
     "name": "stdout",
     "output_type": "stream",
     "text": [
      "[[[273.81938296 274.12298584 273.90562858]\n",
      "  [272.40270286 272.82272876 273.06523385]\n",
      "  [270.37750244 271.13262317 272.02514249]]]\n"
     ]
    },
    {
     "name": "stderr",
     "output_type": "stream",
     "text": [
      "2024-01-13 16:56:37,191 INFO Request is running\n",
      "2024-01-13 16:56:41,082 INFO Request is completed\n",
      "2024-01-13 16:56:41,084 INFO Downloading https://download-0020.copernicus-climate.eu/cache-compute-0020/cache/data1/adaptor.mars.internal-1705164999.9664507-24949-1-ef1fce87-ba11-4d66-a009-66820a4f4591.nc to ./historical_climate_data/weather-55.1027_-116.7222_54.6027_-116.2222-2023-01-24.nc (3.2K)\n",
      "2024-01-13 16:56:41,346 INFO Download rate 12.3K/s                                                                                                                                                                                                \n",
      "2024-01-13 16:56:41,485 INFO Welcome to the CDS\n",
      "2024-01-13 16:56:41,487 INFO Sending request to https://cds.climate.copernicus.eu/api/v2/resources/reanalysis-era5-single-levels\n",
      "2024-01-13 16:56:41,580 INFO Request is queued\n"
     ]
    },
    {
     "name": "stdout",
     "output_type": "stream",
     "text": [
      "[[[274.02747694 273.64409506 273.22775715]\n",
      "  [274.15436515 273.53518061 272.89862061]\n",
      "  [274.5322876  273.77282801 273.19048841]]]\n"
     ]
    },
    {
     "name": "stderr",
     "output_type": "stream",
     "text": [
      "2024-01-13 16:56:44,215 INFO Request is running\n",
      "2024-01-13 16:56:49,981 INFO Request is completed\n",
      "2024-01-13 16:56:49,983 INFO Downloading https://download-0007-clone.copernicus-climate.eu/cache-compute-0007/cache/data9/adaptor.mars.internal-1705165007.1319838-14382-6-f66e33de-d13d-446a-a6ae-b9e752785231.nc to ./historical_climate_data/weather-55.096_-116.75_54.596_-116.25-2023-01-24.nc (3.2K)\n",
      "2024-01-13 16:56:50,264 INFO Download rate 11.4K/s                                                                                                                                                                                                \n",
      "2024-01-13 16:56:50,405 INFO Welcome to the CDS\n",
      "2024-01-13 16:56:50,407 INFO Sending request to https://cds.climate.copernicus.eu/api/v2/resources/reanalysis-era5-single-levels\n",
      "2024-01-13 16:56:50,486 INFO Request is queued\n"
     ]
    },
    {
     "name": "stdout",
     "output_type": "stream",
     "text": [
      "[[[274.0541637  273.70476863 273.23462883]\n",
      "  [274.2528991  273.60089303 272.93948364]\n",
      "  [274.63241577 273.84171084 273.25121379]]]\n"
     ]
    },
    {
     "name": "stderr",
     "output_type": "stream",
     "text": [
      "2024-01-13 16:56:58,890 INFO Request is running\n",
      "2024-01-13 16:57:04,022 INFO Request is completed\n",
      "2024-01-13 16:57:04,024 INFO Downloading https://download-0016.copernicus-climate.eu/cache-compute-0016/cache/data0/adaptor.mars.internal-1705165020.7875686-23688-17-94e10ab2-4efc-40db-9162-843746b87d0e.nc to ./historical_climate_data/weather-55.2586_-116.1746_54.7586_-115.6746-2023-01-24.nc (3.2K)\n",
      "2024-01-13 16:57:04,271 INFO Download rate 13K/s                                                                                                                                                                                                  \n",
      "2024-01-13 16:57:04,409 INFO Welcome to the CDS\n",
      "2024-01-13 16:57:04,410 INFO Sending request to https://cds.climate.copernicus.eu/api/v2/resources/reanalysis-era5-single-levels\n",
      "2024-01-13 16:57:04,493 INFO Request is queued\n"
     ]
    },
    {
     "name": "stdout",
     "output_type": "stream",
     "text": [
      "[[[273.47476196 273.27291416 273.07394781]\n",
      "  [272.9477291  272.63344981 272.45217341]\n",
      "  [272.76898766 272.38250784 272.27963257]]]\n"
     ]
    },
    {
     "name": "stderr",
     "output_type": "stream",
     "text": [
      "2024-01-13 16:57:05,566 INFO Request is running\n",
      "2024-01-13 16:57:09,454 INFO Request is completed\n",
      "2024-01-13 16:57:09,456 INFO Downloading https://download-0004-clone.copernicus-climate.eu/cache-compute-0004/cache/data1/adaptor.mars.internal-1705165028.4272745-9151-9-17f1b43a-3f25-4b2f-a966-ec54d76ad0fe.nc to ./historical_climate_data/weather-57.5841_-119.2655_57.0841_-118.7655-2023-01-24.nc (3.2K)\n",
      "2024-01-13 16:57:09,731 INFO Download rate 11.7K/s                                                                                                                                                                                                \n",
      "2024-01-13 16:57:09,867 INFO Welcome to the CDS\n",
      "2024-01-13 16:57:09,868 INFO Sending request to https://cds.climate.copernicus.eu/api/v2/resources/reanalysis-era5-single-levels\n",
      "2024-01-13 16:57:09,949 INFO Request is queued\n"
     ]
    },
    {
     "name": "stdout",
     "output_type": "stream",
     "text": [
      "[[[269.79596516 269.80663401 269.81253052]\n",
      "  [268.57946126 268.51833276 268.75695027]\n",
      "  [268.44082979 268.42254639 268.78537227]]]\n"
     ]
    },
    {
     "name": "stderr",
     "output_type": "stream",
     "text": [
      "2024-01-13 16:57:12,582 INFO Request is running\n",
      "2024-01-13 16:57:14,905 INFO Request is completed\n",
      "2024-01-13 16:57:14,906 INFO Downloading https://download-0006-clone.copernicus-climate.eu/cache-compute-0006/cache/data9/adaptor.mars.internal-1705165034.258562-20963-4-20641836-4527-4adb-8b0b-174f9390067b.nc to ./historical_climate_data/weather-57.5764_-119.2964_57.0764_-118.7964-2023-01-24.nc (3.2K)\n",
      "2024-01-13 16:57:15,155 INFO Download rate 12.9K/s                                                                                                                                                                                                \n",
      "2024-01-13 16:57:15,289 INFO Welcome to the CDS\n",
      "2024-01-13 16:57:15,291 INFO Sending request to https://cds.climate.copernicus.eu/api/v2/resources/reanalysis-era5-single-levels\n",
      "2024-01-13 16:57:15,393 INFO Request is queued\n"
     ]
    },
    {
     "name": "stdout",
     "output_type": "stream",
     "text": [
      "[[[269.73034101 269.76702881 269.76082949]\n",
      "  [268.55663643 268.49813922 268.68637505]\n",
      "  [268.46490678 268.43502808 268.74844958]]]\n"
     ]
    },
    {
     "name": "stderr",
     "output_type": "stream",
     "text": [
      "2024-01-13 16:57:36,593 INFO Request is completed\n",
      "2024-01-13 16:57:36,594 INFO Downloading https://download-0007-clone.copernicus-climate.eu/cache-compute-0007/cache/data8/adaptor.mars.internal-1705165053.6541793-15375-3-ee4a96a4-3572-490c-8afb-921f7a5983c1.nc to ./historical_climate_data/weather-57.5751_-119.265_57.0751_-118.765-2023-01-24.nc (3.2K)\n",
      "2024-01-13 16:57:36,663 INFO Download rate 47.3K/s                                                                                                                                                                                                \n",
      "2024-01-13 16:57:36,802 INFO Welcome to the CDS\n",
      "2024-01-13 16:57:36,804 INFO Sending request to https://cds.climate.copernicus.eu/api/v2/resources/reanalysis-era5-single-levels\n",
      "2024-01-13 16:57:36,909 INFO Request is queued\n"
     ]
    },
    {
     "name": "stdout",
     "output_type": "stream",
     "text": [
      "[[[269.74557468 269.74511329 269.75201416]\n",
      "  [268.53806246 268.47930474 268.73249052]\n",
      "  [268.45398817 268.43737793 268.80051627]]]\n"
     ]
    },
    {
     "name": "stderr",
     "output_type": "stream",
     "text": [
      "2024-01-13 16:57:37,977 INFO Request is running\n",
      "2024-01-13 16:57:41,866 INFO Request is completed\n",
      "2024-01-13 16:57:41,868 INFO Downloading https://download-0013-clone.copernicus-climate.eu/cache-compute-0013/cache/data8/adaptor.mars.internal-1705165061.4543583-16629-11-46aac94e-fcbd-4a65-b347-6d59b3d385fb.nc to ./historical_climate_data/weather-57.5862_-119.2755_57.0862_-118.7755-2023-01-24.nc (3.2K)\n",
      "2024-01-13 16:57:42,120 INFO Download rate 12.8K/s                                                                                                                                                                                                \n",
      "2024-01-13 16:57:42,261 INFO Welcome to the CDS\n",
      "2024-01-13 16:57:42,262 INFO Sending request to https://cds.climate.copernicus.eu/api/v2/resources/reanalysis-era5-single-levels\n",
      "2024-01-13 16:57:42,344 INFO Request is queued\n"
     ]
    },
    {
     "name": "stdout",
     "output_type": "stream",
     "text": [
      "[[[269.80063478 269.82510111 269.82669067]\n",
      "  [268.59308466 268.53158587 268.74697126]\n",
      "  [268.4417972  268.41900635 268.76611042]]]\n"
     ]
    },
    {
     "name": "stderr",
     "output_type": "stream",
     "text": [
      "2024-01-13 16:57:44,983 INFO Request is running\n",
      "2024-01-13 16:57:47,305 INFO Request is completed\n",
      "2024-01-13 16:57:47,307 INFO Downloading https://download-0006-clone.copernicus-climate.eu/cache-compute-0006/cache/data7/adaptor.mars.internal-1705165066.7613587-15016-6-e3fd66ea-b0a1-45a4-8e67-83999d39a767.nc to ./historical_climate_data/weather-52.1249_-124.8127_51.6249_-124.3127-2023-01-24.nc (3.2K)\n",
      "2024-01-13 16:57:47,369 INFO Download rate 52.2K/s                                                                                                                                                                                                \n",
      "2024-01-13 16:57:47,506 INFO Welcome to the CDS\n",
      "2024-01-13 16:57:47,508 INFO Sending request to https://cds.climate.copernicus.eu/api/v2/resources/reanalysis-era5-single-levels\n",
      "2024-01-13 16:57:47,578 INFO Request is queued\n"
     ]
    },
    {
     "name": "stdout",
     "output_type": "stream",
     "text": [
      "[[[269.9366014  270.62945557 270.52234603]\n",
      "  [269.21488717 269.29628192 269.09111616]\n",
      "  [268.29548785 268.04679822 267.84405518]]]\n"
     ]
    },
    {
     "name": "stderr",
     "output_type": "stream",
     "text": [
      "2024-01-13 16:57:52,538 INFO Request is running\n",
      "2024-01-13 16:57:55,983 INFO Request is completed\n",
      "2024-01-13 16:57:55,985 INFO Downloading https://download-0008-clone.copernicus-climate.eu/cache-compute-0008/cache/data4/adaptor.mars.internal-1705165075.5185616-5030-10-aa76fc97-0e1f-4853-88f9-038ec5c35f22.nc to ./historical_climate_data/weather-57.5862_-119.2945_57.0862_-118.7945-2023-01-24.nc (3.2K)\n",
      "2024-01-13 16:57:56,245 INFO Download rate 12.4K/s                                                                                                                                                                                                \n",
      "2024-01-13 16:57:56,382 INFO Welcome to the CDS\n",
      "2024-01-13 16:57:56,384 INFO Sending request to https://cds.climate.copernicus.eu/api/v2/resources/reanalysis-era5-single-levels\n",
      "2024-01-13 16:57:56,468 INFO Request is queued\n"
     ]
    },
    {
     "name": "stdout",
     "output_type": "stream",
     "text": [
      "[[[269.78698023 269.83300781 269.82674996]\n",
      "  [268.60070725 268.53957451 268.71688751]\n",
      "  [268.44959091 268.41888428 268.73587686]]]\n"
     ]
    },
    {
     "name": "stderr",
     "output_type": "stream",
     "text": [
      "2024-01-13 16:58:01,427 INFO Request is running\n",
      "2024-01-13 16:58:09,999 INFO Request is completed\n",
      "2024-01-13 16:58:10,001 INFO Downloading https://download-0004-clone.copernicus-climate.eu/cache-compute-0004/cache/data2/adaptor.mars.internal-1705165085.6531086-11554-6-695ece48-6fcb-4d59-a9d9-096a32076126.nc to ./historical_climate_data/weather-50.5048_-121.0111_50.0048_-120.5111-2023-01-25.nc (3.2K)\n",
      "2024-01-13 16:58:10,066 INFO Download rate 49.9K/s                                                                                                                                                                                                \n",
      "2024-01-13 16:58:10,199 INFO Welcome to the CDS\n",
      "2024-01-13 16:58:10,201 INFO Sending request to https://cds.climate.copernicus.eu/api/v2/resources/reanalysis-era5-single-levels\n",
      "2024-01-13 16:58:10,292 INFO Request is queued\n"
     ]
    },
    {
     "name": "stdout",
     "output_type": "stream",
     "text": [
      "[[[277.0078125  275.78979293 276.09127661]\n",
      "  [276.86431539 276.03305156 275.98804173]\n",
      "  [275.66094971 276.21317311 276.16329235]]]\n"
     ]
    },
    {
     "name": "stderr",
     "output_type": "stream",
     "text": [
      "2024-01-13 16:58:11,367 INFO Request is running\n",
      "2024-01-13 16:58:18,702 INFO Request is completed\n",
      "2024-01-13 16:58:18,703 INFO Downloading https://download-0016.copernicus-climate.eu/cache-compute-0016/cache/data1/adaptor.mars.internal-1705165097.0372329-2944-9-46d53ef5-ac78-4eda-8189-ebde970b74c9.nc to ./historical_climate_data/weather-50.7679_-121.6964_50.2679_-121.1964-2023-01-25.nc (3.2K)\n",
      "2024-01-13 16:58:18,956 INFO Download rate 12.7K/s                                                                                                                                                                                                \n",
      "2024-01-13 16:58:19,090 INFO Welcome to the CDS\n",
      "2024-01-13 16:58:19,092 INFO Sending request to https://cds.climate.copernicus.eu/api/v2/resources/reanalysis-era5-single-levels\n"
     ]
    },
    {
     "name": "stdout",
     "output_type": "stream",
     "text": [
      "[[[276.69626236 276.47605468 276.04535357]\n",
      "  [275.37791444 277.234679   277.92315674]\n",
      "  [274.40600586 276.0386985  276.7024344 ]]]\n"
     ]
    },
    {
     "name": "stderr",
     "output_type": "stream",
     "text": [
      "2024-01-13 16:58:19,233 INFO Request is queued\n",
      "2024-01-13 16:58:32,768 INFO Request is running\n",
      "2024-01-13 16:58:40,436 INFO Request is completed\n",
      "2024-01-13 16:58:40,437 INFO Downloading https://download-0009-clone.copernicus-climate.eu/cache-compute-0009/cache/data7/adaptor.mars.internal-1705165114.8061917-12342-2-41d30ff2-c503-4762-aac4-eb018529ad7f.nc to ./historical_climate_data/weather-55.1511_-116.7204_54.6511_-116.2204-2023-01-25.nc (3.2K)\n",
      "2024-01-13 16:58:40,680 INFO Download rate 13.3K/s                                                                                                                                                                                                \n",
      "2024-01-13 16:58:40,815 INFO Welcome to the CDS\n",
      "2024-01-13 16:58:40,816 INFO Sending request to https://cds.climate.copernicus.eu/api/v2/resources/reanalysis-era5-single-levels\n",
      "2024-01-13 16:58:40,914 INFO Request is queued\n"
     ]
    },
    {
     "name": "stdout",
     "output_type": "stream",
     "text": [
      "[[[278.52566174 278.19633985 277.85868235]\n",
      "  [278.7301882  278.24578915 277.68606567]\n",
      "  [279.10861206 278.46646586 277.92376093]]]\n"
     ]
    },
    {
     "name": "stderr",
     "output_type": "stream",
     "text": [
      "2024-01-13 16:58:43,549 INFO Request is running\n",
      "2024-01-13 16:58:49,312 INFO Request is completed\n",
      "2024-01-13 16:58:49,314 INFO Downloading https://download-0015-clone.copernicus-climate.eu/cache-compute-0015/cache/data3/adaptor.mars.internal-1705165125.6541626-4506-9-b2aba13b-18a7-4d60-8dcd-f7d36a10ff80.nc to ./historical_climate_data/weather-55.125_-116.9656_54.625_-116.4656-2023-01-25.nc (3.2K)\n",
      "2024-01-13 16:58:49,548 INFO Download rate 13.8K/s                                                                                                                                                                                                \n",
      "2024-01-13 16:58:49,683 INFO Welcome to the CDS\n",
      "2024-01-13 16:58:49,685 INFO Sending request to https://cds.climate.copernicus.eu/api/v2/resources/reanalysis-era5-single-levels\n",
      "2024-01-13 16:58:49,797 INFO Request is queued\n"
     ]
    },
    {
     "name": "stdout",
     "output_type": "stream",
     "text": [
      "[[[278.84739198 278.54440055 278.19329834]\n",
      "  [279.32259484 278.74942798 278.23676261]\n",
      "  [279.77923584 279.14634192 278.51027771]]]\n"
     ]
    },
    {
     "name": "stderr",
     "output_type": "stream",
     "text": [
      "2024-01-13 16:58:54,914 INFO Request is running\n",
      "2024-01-13 16:58:58,354 INFO Request is completed\n",
      "2024-01-13 16:58:58,356 INFO Downloading https://download-0006-clone.copernicus-climate.eu/cache-compute-0006/cache/data5/adaptor.mars.internal-1705165136.2247088-23980-1-53764005-1771-42dd-9963-1e8c433f8d93.nc to ./historical_climate_data/weather-55.2822_-116.1874_54.7822_-115.6874-2023-01-25.nc (3.2K)\n",
      "2024-01-13 16:58:58,589 INFO Download rate 13.7K/s                                                                                                                                                                                                \n",
      "2024-01-13 16:58:58,722 INFO Welcome to the CDS\n",
      "2024-01-13 16:58:58,724 INFO Sending request to https://cds.climate.copernicus.eu/api/v2/resources/reanalysis-era5-single-levels\n",
      "2024-01-13 16:58:58,815 INFO Request is queued\n"
     ]
    },
    {
     "name": "stdout",
     "output_type": "stream",
     "text": [
      "[[[277.71844482 277.33527797 276.97522414]\n",
      "  [277.70485169 277.36578623 277.06865055]\n",
      "  [277.60849066 277.18399268 276.94918823]]]\n"
     ]
    },
    {
     "name": "stderr",
     "output_type": "stream",
     "text": [
      "2024-01-13 16:59:01,442 INFO Request is running\n",
      "2024-01-13 16:59:07,211 INFO Request is completed\n",
      "2024-01-13 16:59:07,213 INFO Downloading https://download-0005-clone.copernicus-climate.eu/cache-compute-0005/cache/data2/adaptor.mars.internal-1705165145.1296108-29974-14-73aa71c5-d48e-49b5-8a2c-99dd42f03391.nc to ./historical_climate_data/weather-53.7212_-115.8933_53.2212_-115.3933-2023-01-25.nc (3.2K)\n",
      "2024-01-13 16:59:07,474 INFO Download rate 12.3K/s                                                                                                                                                                                                \n",
      "2024-01-13 16:59:07,615 INFO Welcome to the CDS\n",
      "2024-01-13 16:59:07,616 INFO Sending request to https://cds.climate.copernicus.eu/api/v2/resources/reanalysis-era5-single-levels\n",
      "2024-01-13 16:59:07,697 INFO Request is queued\n"
     ]
    },
    {
     "name": "stdout",
     "output_type": "stream",
     "text": [
      "[[[271.18872583 270.7876629  270.60614014]\n",
      "  [271.86333698 271.6580178  271.48565965]\n",
      "  [272.67712402 272.62567572 272.41722792]]]\n"
     ]
    },
    {
     "name": "stderr",
     "output_type": "stream",
     "text": [
      "2024-01-13 16:59:21,206 INFO Request is running\n",
      "2024-01-13 16:59:28,863 INFO Request is completed\n",
      "2024-01-13 16:59:28,864 INFO Downloading https://download-0007-clone.copernicus-climate.eu/cache-compute-0007/cache/data8/adaptor.mars.internal-1705165167.8915343-14382-9-43e327dc-e2e0-4c3d-b9fb-d331ec9e4baf.nc to ./historical_climate_data/weather-55.3183_-112.2804_54.8183_-111.7804-2023-01-25.nc (3.2K)\n",
      "2024-01-13 16:59:29,102 INFO Download rate 13.5K/s                                                                                                                                                                                                \n",
      "2024-01-13 16:59:29,242 INFO Welcome to the CDS\n",
      "2024-01-13 16:59:29,256 INFO Sending request to https://cds.climate.copernicus.eu/api/v2/resources/reanalysis-era5-single-levels\n"
     ]
    },
    {
     "name": "stdout",
     "output_type": "stream",
     "text": [
      "[[[265.0872756  264.69124942 263.96536255]\n",
      "  [265.27217645 264.51220981 264.44519836]\n",
      "  [265.94528198 265.58224791 265.64518066]]]\n"
     ]
    },
    {
     "name": "stderr",
     "output_type": "stream",
     "text": [
      "2024-01-13 16:59:29,444 INFO Request is queued\n",
      "2024-01-13 16:59:32,114 INFO Request is running\n",
      "2024-01-13 16:59:34,427 INFO Request is completed\n",
      "2024-01-13 16:59:34,428 INFO Downloading https://download-0017.copernicus-climate.eu/cache-compute-0017/cache/data5/adaptor.mars.internal-1705165174.110014-11278-9-f7546f39-fb2e-4b00-aa35-bf665a063a11.nc to ./historical_climate_data/weather-55.3163_-112.2993_54.8163_-111.7993-2023-01-25.nc (3.2K)\n",
      "2024-01-13 16:59:34,664 INFO Download rate 13.7K/s                                                                                                                                                                                                \n",
      "2024-01-13 16:59:34,787 INFO Welcome to the CDS\n",
      "2024-01-13 16:59:34,788 INFO Sending request to https://cds.climate.copernicus.eu/api/v2/resources/reanalysis-era5-single-levels\n"
     ]
    },
    {
     "name": "stdout",
     "output_type": "stream",
     "text": [
      "[[[265.12659099 264.71642894 264.03256226]\n",
      "  [265.30591157 264.58142967 264.5141123 ]\n",
      "  [266.02331543 265.67017265 265.6440173 ]]]\n"
     ]
    },
    {
     "name": "stderr",
     "output_type": "stream",
     "text": [
      "2024-01-13 16:59:34,926 INFO Request is queued\n",
      "2024-01-13 16:59:36,020 INFO Request is running\n",
      "2024-01-13 16:59:39,896 INFO Request is completed\n",
      "2024-01-13 16:59:39,897 INFO Downloading https://download-0018.copernicus-climate.eu/cache-compute-0018/cache/data9/adaptor.mars.internal-1705165178.5864587-8988-19-af5357a0-b3d6-4cb2-8709-4cef25396ce2.nc to ./historical_climate_data/weather-55.3232_-116.9536_54.8232_-116.4536-2023-01-25.nc (3.2K)\n",
      "2024-01-13 16:59:40,177 INFO Download rate 11.5K/s                                                                                                                                                                                                \n",
      "2024-01-13 16:59:40,309 INFO Welcome to the CDS\n",
      "2024-01-13 16:59:40,311 INFO Sending request to https://cds.climate.copernicus.eu/api/v2/resources/reanalysis-era5-single-levels\n",
      "2024-01-13 16:59:40,414 INFO Request is queued\n"
     ]
    },
    {
     "name": "stdout",
     "output_type": "stream",
     "text": [
      "[[[271.28396606 270.76489326 270.22118544]\n",
      "  [271.13394194 270.48177282 269.87539848]\n",
      "  [271.21415286 270.18054748 269.44732666]]]\n"
     ]
    },
    {
     "name": "stderr",
     "output_type": "stream",
     "text": [
      "2024-01-13 16:59:41,483 INFO Request is running\n",
      "2024-01-13 16:59:45,364 INFO Request is completed\n",
      "2024-01-13 16:59:45,366 INFO Downloading https://download-0003-clone.copernicus-climate.eu/cache-compute-0003/cache/data3/adaptor.mars.internal-1705165183.6517742-31657-7-8c535211-3059-4873-bbbf-20f9fecdcd04.nc to ./historical_climate_data/weather-57.7644_-123.2394_57.2644_-122.7394-2023-01-26.nc (3.2K)\n",
      "2024-01-13 16:59:45,640 INFO Download rate 11.7K/s                                                                                                                                                                                                \n",
      "2024-01-13 16:59:45,772 INFO Welcome to the CDS\n",
      "2024-01-13 16:59:45,774 INFO Sending request to https://cds.climate.copernicus.eu/api/v2/resources/reanalysis-era5-single-levels\n",
      "2024-01-13 16:59:45,884 INFO Request is queued\n"
     ]
    },
    {
     "name": "stdout",
     "output_type": "stream",
     "text": [
      "[[[276.13851799 276.76339722 276.4701578 ]\n",
      "  [275.1496417  276.35510328 276.49262893]\n",
      "  [274.84094238 275.77572369 276.32042851]]]\n"
     ]
    },
    {
     "name": "stderr",
     "output_type": "stream",
     "text": [
      "2024-01-13 16:59:48,515 INFO Request is running\n",
      "2024-01-13 16:59:50,836 INFO Request is completed\n",
      "2024-01-13 16:59:50,837 INFO Downloading https://download-0006-clone.copernicus-climate.eu/cache-compute-0006/cache/data7/adaptor.mars.internal-1705165190.551727-23803-3-a729b7c9-e837-4dde-94ac-effb82017bfe.nc to ./historical_climate_data/weather-50.5199_-119.3357_50.0199_-118.8357-2023-01-28.nc (3.2K)\n",
      "2024-01-13 16:59:50,898 INFO Download rate 53.9K/s                                                                                                                                                                                                \n"
     ]
    },
    {
     "name": "stdout",
     "output_type": "stream",
     "text": [
      "[[[269.81240845 269.79659269 269.34224181]\n",
      "  [269.41793536 269.14858006 268.77257673]\n",
      "  [268.75394448 268.20819261 268.03765869]]]\n"
     ]
    }
   ],
   "source": [
    "get_climate_data_for_fire_data('canada_2023.csv')"
   ]
  },
  {
   "cell_type": "code",
   "execution_count": 28,
   "id": "5bd029ce-9e5c-4142-8a18-85d592b4a1ce",
   "metadata": {},
   "outputs": [
    {
     "name": "stdout",
     "output_type": "stream",
     "text": [
      "2023-01-01\n",
      "D\n",
      "2023-01-01\n",
      "N\n",
      "2023-01-02\n",
      "D\n",
      "2023-01-03\n",
      "D\n",
      "2023-01-03\n",
      "N\n",
      "2023-01-04\n",
      "D\n",
      "2023-01-04\n",
      "N\n",
      "2023-01-06\n",
      "D\n",
      "2023-01-07\n",
      "D\n",
      "2023-01-07\n",
      "N\n",
      "2023-01-08\n",
      "D\n",
      "2023-01-08\n",
      "N\n",
      "2023-01-09\n",
      "D\n",
      "2023-01-09\n",
      "N\n",
      "2023-01-11\n",
      "D\n",
      "2023-01-12\n",
      "N\n",
      "2023-01-14\n",
      "D\n",
      "2023-01-15\n",
      "D\n",
      "2023-01-15\n",
      "N\n",
      "2023-01-16\n",
      "D\n",
      "2023-01-17\n",
      "D\n",
      "2023-01-18\n",
      "D\n",
      "2023-01-19\n",
      "D\n",
      "2023-01-19\n",
      "N\n",
      "2023-01-20\n",
      "D\n",
      "2023-01-20\n",
      "N\n",
      "2023-01-21\n",
      "D\n",
      "2023-01-21\n",
      "N\n",
      "2023-01-22\n",
      "D\n",
      "2023-01-22\n",
      "N\n",
      "2023-01-23\n",
      "D\n",
      "2023-01-24\n",
      "D\n",
      "2023-01-25\n",
      "D\n",
      "2023-01-25\n",
      "N\n",
      "2023-01-26\n",
      "D\n",
      "2023-01-28\n",
      "D\n"
     ]
    },
    {
     "data": {
      "text/html": [
       "<div>\n",
       "<style scoped>\n",
       "    .dataframe tbody tr th:only-of-type {\n",
       "        vertical-align: middle;\n",
       "    }\n",
       "\n",
       "    .dataframe tbody tr th {\n",
       "        vertical-align: top;\n",
       "    }\n",
       "\n",
       "    .dataframe thead th {\n",
       "        text-align: right;\n",
       "    }\n",
       "</style>\n",
       "<table border=\"1\" class=\"dataframe\">\n",
       "  <thead>\n",
       "    <tr style=\"text-align: right;\">\n",
       "      <th></th>\n",
       "      <th>acq_date</th>\n",
       "      <th>daynight</th>\n",
       "      <th>latitude</th>\n",
       "      <th>longitude</th>\n",
       "      <th>brightness</th>\n",
       "      <th>confidence</th>\n",
       "      <th>frp</th>\n",
       "      <th>bright_t31</th>\n",
       "    </tr>\n",
       "  </thead>\n",
       "  <tbody>\n",
       "    <tr>\n",
       "      <th>0</th>\n",
       "      <td>2023-01-01</td>\n",
       "      <td>D</td>\n",
       "      <td>53.086800</td>\n",
       "      <td>-117.317967</td>\n",
       "      <td>367.333333</td>\n",
       "      <td>86.000000</td>\n",
       "      <td>130.000000</td>\n",
       "      <td>271.766667</td>\n",
       "    </tr>\n",
       "    <tr>\n",
       "      <th>1</th>\n",
       "      <td>2023-01-01</td>\n",
       "      <td>N</td>\n",
       "      <td>54.412567</td>\n",
       "      <td>-117.544000</td>\n",
       "      <td>337.533333</td>\n",
       "      <td>97.000000</td>\n",
       "      <td>50.366667</td>\n",
       "      <td>268.233333</td>\n",
       "    </tr>\n",
       "    <tr>\n",
       "      <th>2</th>\n",
       "      <td>2023-01-02</td>\n",
       "      <td>D</td>\n",
       "      <td>53.496200</td>\n",
       "      <td>-117.966975</td>\n",
       "      <td>372.175000</td>\n",
       "      <td>97.750000</td>\n",
       "      <td>0.000000</td>\n",
       "      <td>266.675000</td>\n",
       "    </tr>\n",
       "    <tr>\n",
       "      <th>3</th>\n",
       "      <td>2023-01-03</td>\n",
       "      <td>D</td>\n",
       "      <td>53.635241</td>\n",
       "      <td>-117.116707</td>\n",
       "      <td>353.896552</td>\n",
       "      <td>91.103448</td>\n",
       "      <td>312.986207</td>\n",
       "      <td>272.068966</td>\n",
       "    </tr>\n",
       "    <tr>\n",
       "      <th>4</th>\n",
       "      <td>2023-01-03</td>\n",
       "      <td>N</td>\n",
       "      <td>55.570900</td>\n",
       "      <td>-117.805400</td>\n",
       "      <td>341.975000</td>\n",
       "      <td>96.750000</td>\n",
       "      <td>15.650000</td>\n",
       "      <td>267.675000</td>\n",
       "    </tr>\n",
       "    <tr>\n",
       "      <th>5</th>\n",
       "      <td>2023-01-04</td>\n",
       "      <td>D</td>\n",
       "      <td>54.614836</td>\n",
       "      <td>-117.128205</td>\n",
       "      <td>354.959091</td>\n",
       "      <td>89.090909</td>\n",
       "      <td>86.481818</td>\n",
       "      <td>270.650000</td>\n",
       "    </tr>\n",
       "    <tr>\n",
       "      <th>6</th>\n",
       "      <td>2023-01-04</td>\n",
       "      <td>N</td>\n",
       "      <td>53.301600</td>\n",
       "      <td>-117.428200</td>\n",
       "      <td>321.700000</td>\n",
       "      <td>100.000000</td>\n",
       "      <td>28.700000</td>\n",
       "      <td>268.500000</td>\n",
       "    </tr>\n",
       "    <tr>\n",
       "      <th>7</th>\n",
       "      <td>2023-01-06</td>\n",
       "      <td>D</td>\n",
       "      <td>54.156140</td>\n",
       "      <td>-115.667920</td>\n",
       "      <td>349.740000</td>\n",
       "      <td>92.600000</td>\n",
       "      <td>53.420000</td>\n",
       "      <td>272.760000</td>\n",
       "    </tr>\n",
       "    <tr>\n",
       "      <th>8</th>\n",
       "      <td>2023-01-07</td>\n",
       "      <td>D</td>\n",
       "      <td>56.287200</td>\n",
       "      <td>-122.244600</td>\n",
       "      <td>333.900000</td>\n",
       "      <td>86.500000</td>\n",
       "      <td>42.700000</td>\n",
       "      <td>273.550000</td>\n",
       "    </tr>\n",
       "    <tr>\n",
       "      <th>9</th>\n",
       "      <td>2023-01-07</td>\n",
       "      <td>N</td>\n",
       "      <td>55.905800</td>\n",
       "      <td>-117.583862</td>\n",
       "      <td>319.012500</td>\n",
       "      <td>92.750000</td>\n",
       "      <td>80.500000</td>\n",
       "      <td>269.487500</td>\n",
       "    </tr>\n",
       "    <tr>\n",
       "      <th>10</th>\n",
       "      <td>2023-01-08</td>\n",
       "      <td>D</td>\n",
       "      <td>53.872706</td>\n",
       "      <td>-117.529944</td>\n",
       "      <td>339.400000</td>\n",
       "      <td>88.875000</td>\n",
       "      <td>102.387500</td>\n",
       "      <td>270.750000</td>\n",
       "    </tr>\n",
       "    <tr>\n",
       "      <th>11</th>\n",
       "      <td>2023-01-08</td>\n",
       "      <td>N</td>\n",
       "      <td>56.843975</td>\n",
       "      <td>-120.230525</td>\n",
       "      <td>335.100000</td>\n",
       "      <td>100.000000</td>\n",
       "      <td>60.875000</td>\n",
       "      <td>269.800000</td>\n",
       "    </tr>\n",
       "    <tr>\n",
       "      <th>12</th>\n",
       "      <td>2023-01-09</td>\n",
       "      <td>D</td>\n",
       "      <td>52.911542</td>\n",
       "      <td>-117.779742</td>\n",
       "      <td>338.550000</td>\n",
       "      <td>86.666667</td>\n",
       "      <td>71.004167</td>\n",
       "      <td>272.420833</td>\n",
       "    </tr>\n",
       "    <tr>\n",
       "      <th>13</th>\n",
       "      <td>2023-01-09</td>\n",
       "      <td>N</td>\n",
       "      <td>54.908500</td>\n",
       "      <td>-115.784900</td>\n",
       "      <td>323.900000</td>\n",
       "      <td>96.500000</td>\n",
       "      <td>103.250000</td>\n",
       "      <td>265.800000</td>\n",
       "    </tr>\n",
       "    <tr>\n",
       "      <th>14</th>\n",
       "      <td>2023-01-11</td>\n",
       "      <td>D</td>\n",
       "      <td>53.606950</td>\n",
       "      <td>-117.388450</td>\n",
       "      <td>352.544444</td>\n",
       "      <td>89.388889</td>\n",
       "      <td>87.911111</td>\n",
       "      <td>271.061111</td>\n",
       "    </tr>\n",
       "    <tr>\n",
       "      <th>15</th>\n",
       "      <td>2023-01-12</td>\n",
       "      <td>N</td>\n",
       "      <td>55.647350</td>\n",
       "      <td>-115.667550</td>\n",
       "      <td>323.900000</td>\n",
       "      <td>100.000000</td>\n",
       "      <td>69.400000</td>\n",
       "      <td>265.700000</td>\n",
       "    </tr>\n",
       "    <tr>\n",
       "      <th>16</th>\n",
       "      <td>2023-01-14</td>\n",
       "      <td>D</td>\n",
       "      <td>54.169000</td>\n",
       "      <td>-116.931433</td>\n",
       "      <td>333.500000</td>\n",
       "      <td>80.666667</td>\n",
       "      <td>230.200000</td>\n",
       "      <td>270.200000</td>\n",
       "    </tr>\n",
       "    <tr>\n",
       "      <th>17</th>\n",
       "      <td>2023-01-15</td>\n",
       "      <td>D</td>\n",
       "      <td>54.138100</td>\n",
       "      <td>-116.884200</td>\n",
       "      <td>368.900000</td>\n",
       "      <td>98.000000</td>\n",
       "      <td>0.000000</td>\n",
       "      <td>271.000000</td>\n",
       "    </tr>\n",
       "    <tr>\n",
       "      <th>18</th>\n",
       "      <td>2023-01-15</td>\n",
       "      <td>N</td>\n",
       "      <td>54.048150</td>\n",
       "      <td>-118.530900</td>\n",
       "      <td>321.250000</td>\n",
       "      <td>94.000000</td>\n",
       "      <td>45.300000</td>\n",
       "      <td>267.700000</td>\n",
       "    </tr>\n",
       "    <tr>\n",
       "      <th>19</th>\n",
       "      <td>2023-01-16</td>\n",
       "      <td>D</td>\n",
       "      <td>53.242743</td>\n",
       "      <td>-115.688771</td>\n",
       "      <td>345.642857</td>\n",
       "      <td>85.571429</td>\n",
       "      <td>99.314286</td>\n",
       "      <td>271.057143</td>\n",
       "    </tr>\n",
       "    <tr>\n",
       "      <th>20</th>\n",
       "      <td>2023-01-17</td>\n",
       "      <td>D</td>\n",
       "      <td>53.423100</td>\n",
       "      <td>-115.632000</td>\n",
       "      <td>330.000000</td>\n",
       "      <td>87.000000</td>\n",
       "      <td>102.300000</td>\n",
       "      <td>272.400000</td>\n",
       "    </tr>\n",
       "    <tr>\n",
       "      <th>21</th>\n",
       "      <td>2023-01-18</td>\n",
       "      <td>D</td>\n",
       "      <td>52.623300</td>\n",
       "      <td>-116.141200</td>\n",
       "      <td>325.700000</td>\n",
       "      <td>79.000000</td>\n",
       "      <td>31.200000</td>\n",
       "      <td>268.600000</td>\n",
       "    </tr>\n",
       "    <tr>\n",
       "      <th>22</th>\n",
       "      <td>2023-01-19</td>\n",
       "      <td>D</td>\n",
       "      <td>55.677467</td>\n",
       "      <td>-117.834833</td>\n",
       "      <td>344.066667</td>\n",
       "      <td>90.333333</td>\n",
       "      <td>148.733333</td>\n",
       "      <td>272.100000</td>\n",
       "    </tr>\n",
       "    <tr>\n",
       "      <th>23</th>\n",
       "      <td>2023-01-19</td>\n",
       "      <td>N</td>\n",
       "      <td>51.769900</td>\n",
       "      <td>-121.333500</td>\n",
       "      <td>324.200000</td>\n",
       "      <td>100.000000</td>\n",
       "      <td>44.000000</td>\n",
       "      <td>268.100000</td>\n",
       "    </tr>\n",
       "    <tr>\n",
       "      <th>24</th>\n",
       "      <td>2023-01-20</td>\n",
       "      <td>D</td>\n",
       "      <td>56.028143</td>\n",
       "      <td>-111.046343</td>\n",
       "      <td>334.642857</td>\n",
       "      <td>83.714286</td>\n",
       "      <td>43.700000</td>\n",
       "      <td>270.014286</td>\n",
       "    </tr>\n",
       "    <tr>\n",
       "      <th>25</th>\n",
       "      <td>2023-01-20</td>\n",
       "      <td>N</td>\n",
       "      <td>58.219217</td>\n",
       "      <td>-119.421267</td>\n",
       "      <td>316.666667</td>\n",
       "      <td>90.000000</td>\n",
       "      <td>23.716667</td>\n",
       "      <td>267.466667</td>\n",
       "    </tr>\n",
       "    <tr>\n",
       "      <th>26</th>\n",
       "      <td>2023-01-21</td>\n",
       "      <td>D</td>\n",
       "      <td>55.360100</td>\n",
       "      <td>-120.829073</td>\n",
       "      <td>343.413333</td>\n",
       "      <td>86.133333</td>\n",
       "      <td>67.066667</td>\n",
       "      <td>273.060000</td>\n",
       "    </tr>\n",
       "    <tr>\n",
       "      <th>27</th>\n",
       "      <td>2023-01-21</td>\n",
       "      <td>N</td>\n",
       "      <td>52.327800</td>\n",
       "      <td>-122.014600</td>\n",
       "      <td>337.200000</td>\n",
       "      <td>100.000000</td>\n",
       "      <td>46.400000</td>\n",
       "      <td>268.000000</td>\n",
       "    </tr>\n",
       "    <tr>\n",
       "      <th>28</th>\n",
       "      <td>2023-01-22</td>\n",
       "      <td>D</td>\n",
       "      <td>54.499433</td>\n",
       "      <td>-116.847967</td>\n",
       "      <td>333.400000</td>\n",
       "      <td>86.333333</td>\n",
       "      <td>103.033333</td>\n",
       "      <td>269.300000</td>\n",
       "    </tr>\n",
       "    <tr>\n",
       "      <th>29</th>\n",
       "      <td>2023-01-22</td>\n",
       "      <td>N</td>\n",
       "      <td>54.218600</td>\n",
       "      <td>-124.065467</td>\n",
       "      <td>323.633333</td>\n",
       "      <td>95.000000</td>\n",
       "      <td>64.266667</td>\n",
       "      <td>266.533333</td>\n",
       "    </tr>\n",
       "    <tr>\n",
       "      <th>30</th>\n",
       "      <td>2023-01-23</td>\n",
       "      <td>D</td>\n",
       "      <td>53.054233</td>\n",
       "      <td>-119.984933</td>\n",
       "      <td>330.366667</td>\n",
       "      <td>85.333333</td>\n",
       "      <td>47.866667</td>\n",
       "      <td>273.366667</td>\n",
       "    </tr>\n",
       "    <tr>\n",
       "      <th>31</th>\n",
       "      <td>2023-01-24</td>\n",
       "      <td>D</td>\n",
       "      <td>55.800136</td>\n",
       "      <td>-118.924464</td>\n",
       "      <td>327.963636</td>\n",
       "      <td>82.636364</td>\n",
       "      <td>89.609091</td>\n",
       "      <td>270.763636</td>\n",
       "    </tr>\n",
       "    <tr>\n",
       "      <th>32</th>\n",
       "      <td>2023-01-25</td>\n",
       "      <td>D</td>\n",
       "      <td>54.268750</td>\n",
       "      <td>-113.846300</td>\n",
       "      <td>333.950000</td>\n",
       "      <td>88.500000</td>\n",
       "      <td>49.850000</td>\n",
       "      <td>270.750000</td>\n",
       "    </tr>\n",
       "    <tr>\n",
       "      <th>33</th>\n",
       "      <td>2023-01-25</td>\n",
       "      <td>N</td>\n",
       "      <td>54.936100</td>\n",
       "      <td>-116.374467</td>\n",
       "      <td>329.300000</td>\n",
       "      <td>96.666667</td>\n",
       "      <td>38.300000</td>\n",
       "      <td>267.600000</td>\n",
       "    </tr>\n",
       "    <tr>\n",
       "      <th>34</th>\n",
       "      <td>2023-01-26</td>\n",
       "      <td>D</td>\n",
       "      <td>57.514400</td>\n",
       "      <td>-122.989400</td>\n",
       "      <td>360.700000</td>\n",
       "      <td>100.000000</td>\n",
       "      <td>133.900000</td>\n",
       "      <td>274.300000</td>\n",
       "    </tr>\n",
       "    <tr>\n",
       "      <th>35</th>\n",
       "      <td>2023-01-28</td>\n",
       "      <td>D</td>\n",
       "      <td>50.269900</td>\n",
       "      <td>-119.085700</td>\n",
       "      <td>315.400000</td>\n",
       "      <td>76.000000</td>\n",
       "      <td>27.800000</td>\n",
       "      <td>268.800000</td>\n",
       "    </tr>\n",
       "  </tbody>\n",
       "</table>\n",
       "</div>"
      ],
      "text/plain": [
       "      acq_date daynight   latitude   longitude  brightness  confidence  \\\n",
       "0   2023-01-01        D  53.086800 -117.317967  367.333333   86.000000   \n",
       "1   2023-01-01        N  54.412567 -117.544000  337.533333   97.000000   \n",
       "2   2023-01-02        D  53.496200 -117.966975  372.175000   97.750000   \n",
       "3   2023-01-03        D  53.635241 -117.116707  353.896552   91.103448   \n",
       "4   2023-01-03        N  55.570900 -117.805400  341.975000   96.750000   \n",
       "5   2023-01-04        D  54.614836 -117.128205  354.959091   89.090909   \n",
       "6   2023-01-04        N  53.301600 -117.428200  321.700000  100.000000   \n",
       "7   2023-01-06        D  54.156140 -115.667920  349.740000   92.600000   \n",
       "8   2023-01-07        D  56.287200 -122.244600  333.900000   86.500000   \n",
       "9   2023-01-07        N  55.905800 -117.583862  319.012500   92.750000   \n",
       "10  2023-01-08        D  53.872706 -117.529944  339.400000   88.875000   \n",
       "11  2023-01-08        N  56.843975 -120.230525  335.100000  100.000000   \n",
       "12  2023-01-09        D  52.911542 -117.779742  338.550000   86.666667   \n",
       "13  2023-01-09        N  54.908500 -115.784900  323.900000   96.500000   \n",
       "14  2023-01-11        D  53.606950 -117.388450  352.544444   89.388889   \n",
       "15  2023-01-12        N  55.647350 -115.667550  323.900000  100.000000   \n",
       "16  2023-01-14        D  54.169000 -116.931433  333.500000   80.666667   \n",
       "17  2023-01-15        D  54.138100 -116.884200  368.900000   98.000000   \n",
       "18  2023-01-15        N  54.048150 -118.530900  321.250000   94.000000   \n",
       "19  2023-01-16        D  53.242743 -115.688771  345.642857   85.571429   \n",
       "20  2023-01-17        D  53.423100 -115.632000  330.000000   87.000000   \n",
       "21  2023-01-18        D  52.623300 -116.141200  325.700000   79.000000   \n",
       "22  2023-01-19        D  55.677467 -117.834833  344.066667   90.333333   \n",
       "23  2023-01-19        N  51.769900 -121.333500  324.200000  100.000000   \n",
       "24  2023-01-20        D  56.028143 -111.046343  334.642857   83.714286   \n",
       "25  2023-01-20        N  58.219217 -119.421267  316.666667   90.000000   \n",
       "26  2023-01-21        D  55.360100 -120.829073  343.413333   86.133333   \n",
       "27  2023-01-21        N  52.327800 -122.014600  337.200000  100.000000   \n",
       "28  2023-01-22        D  54.499433 -116.847967  333.400000   86.333333   \n",
       "29  2023-01-22        N  54.218600 -124.065467  323.633333   95.000000   \n",
       "30  2023-01-23        D  53.054233 -119.984933  330.366667   85.333333   \n",
       "31  2023-01-24        D  55.800136 -118.924464  327.963636   82.636364   \n",
       "32  2023-01-25        D  54.268750 -113.846300  333.950000   88.500000   \n",
       "33  2023-01-25        N  54.936100 -116.374467  329.300000   96.666667   \n",
       "34  2023-01-26        D  57.514400 -122.989400  360.700000  100.000000   \n",
       "35  2023-01-28        D  50.269900 -119.085700  315.400000   76.000000   \n",
       "\n",
       "           frp  bright_t31  \n",
       "0   130.000000  271.766667  \n",
       "1    50.366667  268.233333  \n",
       "2     0.000000  266.675000  \n",
       "3   312.986207  272.068966  \n",
       "4    15.650000  267.675000  \n",
       "5    86.481818  270.650000  \n",
       "6    28.700000  268.500000  \n",
       "7    53.420000  272.760000  \n",
       "8    42.700000  273.550000  \n",
       "9    80.500000  269.487500  \n",
       "10  102.387500  270.750000  \n",
       "11   60.875000  269.800000  \n",
       "12   71.004167  272.420833  \n",
       "13  103.250000  265.800000  \n",
       "14   87.911111  271.061111  \n",
       "15   69.400000  265.700000  \n",
       "16  230.200000  270.200000  \n",
       "17    0.000000  271.000000  \n",
       "18   45.300000  267.700000  \n",
       "19   99.314286  271.057143  \n",
       "20  102.300000  272.400000  \n",
       "21   31.200000  268.600000  \n",
       "22  148.733333  272.100000  \n",
       "23   44.000000  268.100000  \n",
       "24   43.700000  270.014286  \n",
       "25   23.716667  267.466667  \n",
       "26   67.066667  273.060000  \n",
       "27   46.400000  268.000000  \n",
       "28  103.033333  269.300000  \n",
       "29   64.266667  266.533333  \n",
       "30   47.866667  273.366667  \n",
       "31   89.609091  270.763636  \n",
       "32   49.850000  270.750000  \n",
       "33   38.300000  267.600000  \n",
       "34  133.900000  274.300000  \n",
       "35   27.800000  268.800000  "
      ]
     },
     "execution_count": 28,
     "metadata": {},
     "output_type": "execute_result"
    }
   ],
   "source": [
    "def apply_on_each_group(group):\n",
    "    \n",
    "    print(group['acq_date'])\n",
    "    \n",
    "def group_fire_data(file_name):\n",
    "    file_path = \"./historical_fire_data/\" + file_name\n",
    "    fire_data = pd.read_csv(file_path)\n",
    "    \n",
    "    filtered_fire_data = fire_data.query(\"`confidence` >= 75 and `type` == 0\")\n",
    "    grouped_fire_data = filtered_fire_data.groupby(['acq_date', 'daynight']).agg({'latitude':'mean','longitude':'mean','brightness':'mean','confidence':'mean', 'frp':'mean', 'bright_t31':'mean'}).reset_index()\n",
    "\n",
    "    #grouped_fire_data.apply(apply_on_each_group)\n",
    "    \n",
    "    #print(grouped_fire_data)\n",
    "    for modis_data_index, modis_row in grouped_fire_data.iterrows():\n",
    "        #print(modis_row['acq_date'])\n",
    "        date_value = modis_row['acq_date']\n",
    "        date_split = date_value.split(\"-\")\n",
    "        daynight = modis_row['daynight']\n",
    "        #print(daynight)\n",
    "    #return grouped_fire_data\n",
    "\n",
    "group_fire_data(\"canada_2023.csv\")"
   ]
  },
  {
   "cell_type": "code",
   "execution_count": 16,
   "id": "316e25f9-0e2d-4973-9306-db7956b4b07e",
   "metadata": {},
   "outputs": [
    {
     "data": {
      "text/plain": [
       "latitude      float64\n",
       "longitude     float64\n",
       "brightness    float64\n",
       "scan          float64\n",
       "track         float64\n",
       "acq_date       object\n",
       "acq_time        int64\n",
       "satellite      object\n",
       "instrument     object\n",
       "confidence      int64\n",
       "version       float64\n",
       "bright_t31    float64\n",
       "frp           float64\n",
       "daynight       object\n",
       "type            int64\n",
       "dtype: object"
      ]
     },
     "execution_count": 16,
     "metadata": {},
     "output_type": "execute_result"
    }
   ],
   "source": [
    "file_path = \"./historical_fire_data/canada_2023.csv\" \n",
    "fire_data = pd.read_csv(file_path)\n",
    "fire_data.dtypes"
   ]
  },
  {
   "cell_type": "code",
   "execution_count": null,
   "id": "182438fb-0792-43ca-8767-8b729a344488",
   "metadata": {},
   "outputs": [],
   "source": []
  }
 ],
 "metadata": {
  "kernelspec": {
   "display_name": "Python 3 (ipykernel)",
   "language": "python",
   "name": "python3"
  },
  "language_info": {
   "codemirror_mode": {
    "name": "ipython",
    "version": 3
   },
   "file_extension": ".py",
   "mimetype": "text/x-python",
   "name": "python",
   "nbconvert_exporter": "python",
   "pygments_lexer": "ipython3",
   "version": "3.11.5"
  }
 },
 "nbformat": 4,
 "nbformat_minor": 5
}
