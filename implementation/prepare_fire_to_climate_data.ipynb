{
 "cells": [
  {
   "cell_type": "code",
   "execution_count": 1,
   "id": "initial_id",
   "metadata": {
    "collapsed": true,
    "ExecuteTime": {
     "end_time": "2024-03-16T23:25:20.048157Z",
     "start_time": "2024-03-16T23:25:20.042164Z"
    }
   },
   "outputs": [],
   "source": [
    "from map_climate_to_fire_data import map_climate_to_fire"
   ]
  },
  {
   "cell_type": "code",
   "outputs": [],
   "source": [
    "map_climate_to_fire(2010)\n",
    "map_climate_to_fire(2011)\n",
    "map_climate_to_fire(2012)\n",
    "map_climate_to_fire(2013)\n",
    "map_climate_to_fire(2014)\n",
    "map_climate_to_fire(2015)\n",
    "map_climate_to_fire(2016)\n",
    "map_climate_to_fire(2017)\n",
    "map_climate_to_fire(2018)\n",
    "map_climate_to_fire(2019)\n",
    "map_climate_to_fire(2020)\n",
    "map_climate_to_fire(2021)\n",
    "map_climate_to_fire(2022)\n",
    "map_climate_to_fire(2023)"
   ],
   "metadata": {
    "collapsed": false,
    "ExecuteTime": {
     "end_time": "2024-03-16T23:39:19.192847Z",
     "start_time": "2024-03-16T23:25:20.049407Z"
    }
   },
   "id": "fd549b54641f9dae",
   "execution_count": 2
  }
 ],
 "metadata": {
  "kernelspec": {
   "display_name": "Python 3",
   "language": "python",
   "name": "python3"
  },
  "language_info": {
   "codemirror_mode": {
    "name": "ipython",
    "version": 2
   },
   "file_extension": ".py",
   "mimetype": "text/x-python",
   "name": "python",
   "nbconvert_exporter": "python",
   "pygments_lexer": "ipython2",
   "version": "2.7.6"
  }
 },
 "nbformat": 4,
 "nbformat_minor": 5
}
