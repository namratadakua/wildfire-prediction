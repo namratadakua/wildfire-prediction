{
 "cells": [
  {
   "cell_type": "code",
   "outputs": [],
   "source": [
    "import pandas as pd\n",
    "from sklearn.linear_model import LogisticRegression\n",
    "from sklearn import metrics\n",
    "from sklearn.model_selection import train_test_split\n",
    "import matplotlib.pyplot as plt \n",
    "from sklearn.metrics import confusion_matrix\n",
    "from sklearn.metrics import classification_report\n",
    "from sklearn.metrics import roc_auc_score\n",
    "from sklearn.metrics import roc_curve\n",
    "import seaborn as sns\n",
    "import numpy as np"
   ],
   "metadata": {
    "collapsed": false
   },
   "id": "8c23cfd09beb9c5c"
  },
  {
   "cell_type": "code",
   "execution_count": null,
   "id": "initial_id",
   "metadata": {
    "collapsed": true
   },
   "outputs": [],
   "source": [
    "def get_climate_data(year):\n",
    "    climate_data_directory = './historical_climate_data'\n",
    "    data = pd.read_csv(f'{climate_data_directory}/canada_{year}.csv')\n",
    "    return data\n",
    "\n",
    "def get_fire_data(year):\n",
    "    fire_data_directory = './historical_fire_data/grouped'\n",
    "    data = pd.read_csv(f'{fire_data_directory}/grouped_canada_{year}.csv')\n",
    "    data['fire_occurrence'] = (data['confidence'] >= 90).astype(int)\n",
    "    return data\n"
   ]
  },
  {
   "cell_type": "code",
   "outputs": [],
   "source": [
    "climate_data_2010 = get_climate_data(2010)\n",
    "climate_data_2020 = get_climate_data(2020)"
   ],
   "metadata": {
    "collapsed": false
   },
   "id": "13ea082730deef47"
  },
  {
   "cell_type": "code",
   "outputs": [],
   "source": [
    "climate_data_2010 = climate_data_2010[['daynight', 'month', '10m_u_component_of_wind', '10m_v_component_of_wind', '2m_temperature', \n",
    "                          'soil_temperature_level_1', 'soil_temperature_level_2', 'soil_temperature_level_3', 'soil_temperature_level_4','soil_type', 'total_precipitation', 'volumetric_soil_water_layer_1', 'volumetric_soil_water_layer_2', 'volumetric_soil_water_layer_3', 'volumetric_soil_water_layer_4']]\n",
    "\n",
    "group_by_aggregate2010 = climate_data_2010.groupby(['daynight', 'month']).agg({\n",
    "    '10m_u_component_of_wind': 'mean', \n",
    "    '10m_v_component_of_wind': 'mean', \n",
    "    '2m_temperature': 'mean', \n",
    "    'soil_temperature_level_1': 'mean', \n",
    "    'soil_temperature_level_2': 'mean', \n",
    "    'soil_temperature_level_3': 'mean', \n",
    "    'soil_temperature_level_4': 'mean',\n",
    "    'soil_type': 'mean', \n",
    "    'total_precipitation': 'mean', \n",
    "    'volumetric_soil_water_layer_1': 'mean', \n",
    "    'volumetric_soil_water_layer_2': 'mean', \n",
    "    'volumetric_soil_water_layer_3': 'mean', \n",
    "    'volumetric_soil_water_layer_4': 'mean'\n",
    "})\n",
    "\n",
    "#group_by_aggregate2010\n",
    "\n",
    "sns.boxplot(x='daynight', y='2m_temperature', data=climate_data_2010)\n",
    "\n",
    "# Calculate statistics\n",
    "means = climate_data_2010.groupby('daynight')['2m_temperature'].mean()\n",
    "mins = climate_data_2010.groupby('daynight')['2m_temperature'].min()\n",
    "maxs = climate_data_2010.groupby('daynight')['2m_temperature'].max()\n",
    "\n",
    "# Overlay mean, minimum, and maximum values\n",
    "for i, species in enumerate(means.index):\n",
    "    plt.text(i, means[species], f'Mean: {means[species]:.2f}', ha='center', va='bottom')\n",
    "    plt.text(i, mins[species], f'Min: {mins[species]:.2f}', ha='center', va='bottom')\n",
    "    plt.text(i, maxs[species], f'Max: {maxs[species]:.2f}', ha='center', va='top')\n",
    "\n",
    "# Show plot\n",
    "plt.show()"
   ],
   "metadata": {
    "collapsed": false
   },
   "id": "69cfe982b8631c1e"
  },
  {
   "cell_type": "code",
   "outputs": [],
   "source": [
    "climate_data_2020 = climate_data_2020[['daynight', 'month', '10m_u_component_of_wind', '10m_v_component_of_wind', '2m_temperature', \n",
    "                          'soil_temperature_level_1', 'soil_temperature_level_2', 'soil_temperature_level_3', 'soil_temperature_level_4','soil_type', 'total_precipitation', 'volumetric_soil_water_layer_1', 'volumetric_soil_water_layer_2', 'volumetric_soil_water_layer_3', 'volumetric_soil_water_layer_4']]\n",
    "\n",
    "group_by_aggregate2020 = climate_data_2020.groupby(['daynight', 'month']).agg({\n",
    "    '10m_u_component_of_wind': 'mean', \n",
    "    '10m_v_component_of_wind': 'mean', \n",
    "    '2m_temperature': 'mean', \n",
    "    'soil_temperature_level_1': 'mean', \n",
    "    'soil_temperature_level_2': 'mean', \n",
    "    'soil_temperature_level_3': 'mean', \n",
    "    'soil_temperature_level_4': 'mean',\n",
    "    'soil_type': 'mean', \n",
    "    'total_precipitation': 'mean', \n",
    "    'volumetric_soil_water_layer_1': 'mean', \n",
    "    'volumetric_soil_water_layer_2': 'mean', \n",
    "    'volumetric_soil_water_layer_3': 'mean', \n",
    "    'volumetric_soil_water_layer_4': 'mean'\n",
    "})\n",
    "\n",
    "#group_by_aggregate2020\n",
    "sns.boxplot(x='daynight', y='2m_temperature', data=climate_data_2020)\n",
    "\n",
    "# Calculate statistics\n",
    "means = climate_data_2020.groupby('daynight')['2m_temperature'].mean()\n",
    "mins = climate_data_2020.groupby('daynight')['2m_temperature'].min()\n",
    "maxs = climate_data_2020.groupby('daynight')['2m_temperature'].max()\n",
    "\n",
    "# Overlay mean, minimum, and maximum values\n",
    "for i, species in enumerate(means.index):\n",
    "    plt.text(i, means[species], f'Mean: {means[species]:.2f}', ha='center', va='bottom')\n",
    "    plt.text(i, mins[species], f'Min: {mins[species]:.2f}', ha='center', va='bottom')\n",
    "    plt.text(i, maxs[species], f'Max: {maxs[species]:.2f}', ha='center', va='top')\n",
    "\n",
    "# Show plot\n",
    "plt.show()\n",
    "#sns.boxplot(x='daynight', y='2m_temperature', data=climate_data_2020)"
   ],
   "metadata": {
    "collapsed": false
   },
   "id": "2698da0a748ad09c"
  }
 ],
 "metadata": {
  "kernelspec": {
   "display_name": "Python 3",
   "language": "python",
   "name": "python3"
  },
  "language_info": {
   "codemirror_mode": {
    "name": "ipython",
    "version": 2
   },
   "file_extension": ".py",
   "mimetype": "text/x-python",
   "name": "python",
   "nbconvert_exporter": "python",
   "pygments_lexer": "ipython2",
   "version": "2.7.6"
  }
 },
 "nbformat": 4,
 "nbformat_minor": 5
}
