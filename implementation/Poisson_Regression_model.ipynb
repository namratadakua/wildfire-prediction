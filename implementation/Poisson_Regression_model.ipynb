{
 "cells": [
  {
   "cell_type": "code",
   "execution_count": 13,
   "id": "initial_id",
   "metadata": {
    "collapsed": true,
    "ExecuteTime": {
     "end_time": "2024-03-17T18:41:44.860816Z",
     "start_time": "2024-03-17T18:41:44.853714Z"
    }
   },
   "outputs": [],
   "source": [
    "import statsmodels.api as sm\n",
    "import statsmodels.formula.api as smf\n",
    "import statsmodels.discrete.discrete_model as dm\n",
    "import numpy as np\n",
    "from patsy import dmatrices\n",
    "import statsmodels.graphics.tsaplots as tsa\n",
    "from matplotlib import pyplot as plt\n",
    "import pandas as pd\n",
    "from sklearn.model_selection import train_test_split\n",
    "\n",
    "from scipy import stats"
   ]
  },
  {
   "cell_type": "code",
   "outputs": [
    {
     "name": "stdout",
     "output_type": "stream",
     "text": [
      "         Current function value: 0.747288\n",
      "         Iterations: 27\n",
      "         Function evaluations: 70\n",
      "         Gradient evaluations: 60\n"
     ]
    },
    {
     "name": "stderr",
     "output_type": "stream",
     "text": [
      "/Users/namratadakua/PycharmProjects/pythonProject/.venv/lib/python3.12/site-packages/scipy/optimize/_optimize.py:1397: OptimizeWarning: Desired error not necessarily achieved due to precision loss.\n",
      "  res = _minimize_bfgs(f, x0, args, fprime, callback=callback, **opts)\n",
      "/Users/namratadakua/PycharmProjects/pythonProject/.venv/lib/python3.12/site-packages/statsmodels/base/model.py:595: HessianInversionWarning: Inverting hessian failed, no bse or cov_params available\n",
      "  warnings.warn('Inverting hessian failed, no bse or cov_params '\n",
      "/Users/namratadakua/PycharmProjects/pythonProject/.venv/lib/python3.12/site-packages/statsmodels/base/model.py:607: ConvergenceWarning: Maximum Likelihood optimization failed to converge. Check mle_retvals\n",
      "  warnings.warn(\"Maximum Likelihood optimization failed to \"\n"
     ]
    }
   ],
   "source": [
    "data = pd.read_csv('poisson_regression_model_data_4.csv')\n",
    "data.rename(columns={'10m_u_component_of_wind': 'u_wind'}, inplace=True)\n",
    "data.rename(columns={'10m_v_component_of_wind': 'v_wind'}, inplace=True)\n",
    "data.rename(columns={'2m_temperature': 'm_temperature'}, inplace=True)\n",
    "value_mapping = {'D': 1, 'N': 2}\n",
    "data['daynight'] = data['daynight'].map(value_mapping)\n",
    "model_data = data[\n",
    "        ['daynight', 'month', 'u_wind', 'v_wind', 'm_temperature',\n",
    "         'soil_temperature_level_1', 'soil_temperature_level_2', 'soil_temperature_level_3', 'soil_temperature_level_4',\n",
    "         'soil_type', 'total_precipitation', 'volumetric_soil_water_layer_1', 'volumetric_soil_water_layer_2',\n",
    "         'volumetric_soil_water_layer_3', 'volumetric_soil_water_layer_4', 'number_of_fire']]\n",
    "\n",
    "# Split the DataFrame into train and test sets (70% train, 30% test)\n",
    "train_df, test_df = train_test_split(model_data, test_size=0.3,\n",
    "                                     random_state=42)  # Set random state for reproducibility\n",
    "\n",
    "expression = 'number_of_fire ~ daynight + month + u_wind + v_wind + m_temperature + soil_temperature_level_1 + soil_temperature_level_2 + soil_temperature_level_3 + soil_temperature_level_4 + soil_type +  total_precipitation + volumetric_soil_water_layer_1 + volumetric_soil_water_layer_2 + volumetric_soil_water_layer_3 + volumetric_soil_water_layer_4'\n",
    "\n",
    "y_train, X_train = dmatrices(expression, train_df, return_type='dataframe')\n",
    "# print(y_train)\n",
    "# print(X_train)\n",
    "\n",
    "y_test, X_test = dmatrices(expression, test_df, return_type='dataframe')\n",
    "# print(y_test)\n",
    "# print(X_test)\n",
    "\n",
    "#nb2_model = dm.NegativeBinomial(endog=y_train, exog=X_train, loglike_method='nb2')\n",
    "nb2_model = dm.NegativeBinomial(endog=y_train, exog=X_train)\n",
    "nb2_model_results = nb2_model.fit(maxiter=100)"
   ],
   "metadata": {
    "collapsed": false,
    "ExecuteTime": {
     "end_time": "2024-03-17T18:24:08.745993Z",
     "start_time": "2024-03-17T18:24:03.243334Z"
    }
   },
   "id": "24b9e19a086080d4",
   "execution_count": 3
  },
  {
   "cell_type": "code",
   "outputs": [
    {
     "name": "stdout",
     "output_type": "stream",
     "text": [
      "<statsmodels.discrete.discrete_model.NegativeBinomialResultsWrapper object at 0x280783110>\n"
     ]
    }
   ],
   "source": [
    "print(nb2_model_results)"
   ],
   "metadata": {
    "collapsed": false,
    "ExecuteTime": {
     "end_time": "2024-03-17T18:24:47.225874Z",
     "start_time": "2024-03-17T18:24:47.210294Z"
    }
   },
   "id": "6329eb888f37abe0",
   "execution_count": 6
  },
  {
   "cell_type": "code",
   "outputs": [],
   "source": [
    "model_data = pd.read_csv('poisson_regression_model_data_4.csv')\n",
    "model_data.rename(columns={'10m_u_component_of_wind': 'u_wind'}, inplace=True)\n",
    "model_data.rename(columns={'10m_v_component_of_wind': 'v_wind'}, inplace=True)\n",
    "model_data.rename(columns={'2m_temperature': 'm_temperature'}, inplace=True)\n",
    "\n",
    "value_mapping = {'D': 1, 'N': 2}\n",
    "model_data['daynight'] = model_data['daynight'].map(value_mapping)\n",
    "#model_data = pd.get_dummies(model_data, columns=['daynight'])\n",
    "print(model_data.columns.tolist())\n",
    "model_data"
   ],
   "metadata": {
    "collapsed": false
   },
   "id": "952a528e93c9fc92",
   "execution_count": null
  },
  {
   "cell_type": "code",
   "outputs": [
    {
     "name": "stdout",
     "output_type": "stream",
     "text": [
      "                 Generalized Linear Model Regression Results                  \n",
      "==============================================================================\n",
      "Dep. Variable:                      y   No. Observations:               132548\n",
      "Model:                            GLM   Df Residuals:                   132532\n",
      "Model Family:                 Poisson   Df Model:                           15\n",
      "Link Function:                    Log   Scale:                          1.0000\n",
      "Method:                          IRLS   Log-Likelihood:                -99052.\n",
      "Date:                Sun, 17 Mar 2024   Deviance:                       93167.\n",
      "Time:                        18:53:47   Pearson chi2:                 8.00e+04\n",
      "No. Iterations:                     5   Pseudo R-squ. (CS):            0.03032\n",
      "Covariance Type:            nonrobust                                         \n",
      "=================================================================================================\n",
      "                                    coef    std err          z      P>|z|      [0.025      0.975]\n",
      "-------------------------------------------------------------------------------------------------\n",
      "const                            -6.7305      0.413    -16.307      0.000      -7.539      -5.922\n",
      "daynight                          0.6764      0.020     33.793      0.000       0.637       0.716\n",
      "month                             0.0266      0.005      5.665      0.000       0.017       0.036\n",
      "u_wind                            0.0138      0.002      7.000      0.000       0.010       0.018\n",
      "v_wind                            0.0077      0.002      3.428      0.001       0.003       0.012\n",
      "m_temperature                     0.0140      0.002      6.119      0.000       0.009       0.018\n",
      "soil_temperature_level_1         -0.0489      0.003    -14.048      0.000      -0.056      -0.042\n",
      "soil_temperature_level_2          0.0591      0.004     16.789      0.000       0.052       0.066\n",
      "soil_temperature_level_3         -0.0136      0.003     -5.142      0.000      -0.019      -0.008\n",
      "soil_temperature_level_4          0.0053      0.002      3.120      0.002       0.002       0.009\n",
      "soil_type                        -0.0325      0.005     -6.204      0.000      -0.043      -0.022\n",
      "total_precipitation             -94.2293     20.037     -4.703      0.000    -133.501     -54.958\n",
      "volumetric_soil_water_layer_1    -0.0101      0.165     -0.061      0.951      -0.334       0.314\n",
      "volumetric_soil_water_layer_2    -1.8900      0.268     -7.048      0.000      -2.416      -1.364\n",
      "volumetric_soil_water_layer_3     2.5698      0.220     11.686      0.000       2.139       3.001\n",
      "volumetric_soil_water_layer_4    -0.1576      0.142     -1.110      0.267      -0.436       0.121\n",
      "=================================================================================================\n",
      "[0.32349436 0.21911741 0.47465117 ... 0.39998196 0.40548497 0.5295691 ]\n",
      "132548\n",
      "BB_LAMBDA   -0.998268\n",
      "dtype: float64\n",
      "BB_LAMBDA   -319.638876\n",
      "dtype: float64\n"
     ]
    },
    {
     "name": "stderr",
     "output_type": "stream",
     "text": [
      "/Users/namratadakua/PycharmProjects/pythonProject/.venv/lib/python3.12/site-packages/statsmodels/genmod/families/family.py:1367: ValueWarning: Negative binomial dispersion parameter alpha not set. Using default value alpha=1.0.\n",
      "  warnings.warn(\"Negative binomial dispersion parameter alpha not \"\n"
     ]
    },
    {
     "name": "stdout",
     "output_type": "stream",
     "text": [
      "                 Generalized Linear Model Regression Results                  \n",
      "==============================================================================\n",
      "Dep. Variable:                      y   No. Observations:               132548\n",
      "Model:                            GLM   Df Residuals:                   132532\n",
      "Model Family:        NegativeBinomial   Df Model:                           15\n",
      "Link Function:                    Log   Scale:                          1.0000\n",
      "Method:                          IRLS   Log-Likelihood:            -1.0886e+05\n",
      "Date:                Sun, 17 Mar 2024   Deviance:                       72251.\n",
      "Time:                        18:53:49   Pearson chi2:                 5.85e+04\n",
      "No. Iterations:                     5   Pseudo R-squ. (CS):            0.02186\n",
      "Covariance Type:            nonrobust                                         \n",
      "=================================================================================================\n",
      "                                    coef    std err          z      P>|z|      [0.025      0.975]\n",
      "-------------------------------------------------------------------------------------------------\n",
      "const                            -6.5573      0.489    -13.419      0.000      -7.515      -5.600\n",
      "daynight                          0.6894      0.024     28.887      0.000       0.643       0.736\n",
      "month                             0.0296      0.005      5.449      0.000       0.019       0.040\n",
      "u_wind                            0.0139      0.002      5.890      0.000       0.009       0.019\n",
      "v_wind                            0.0088      0.003      3.274      0.001       0.004       0.014\n",
      "m_temperature                     0.0133      0.003      4.914      0.000       0.008       0.019\n",
      "soil_temperature_level_1         -0.0494      0.004    -12.023      0.000      -0.057      -0.041\n",
      "soil_temperature_level_2          0.0604      0.004     14.555      0.000       0.052       0.069\n",
      "soil_temperature_level_3         -0.0133      0.003     -4.259      0.000      -0.019      -0.007\n",
      "soil_temperature_level_4          0.0041      0.002      2.032      0.042       0.000       0.008\n",
      "soil_type                        -0.0328      0.006     -5.258      0.000      -0.045      -0.021\n",
      "total_precipitation             -93.9581     23.576     -3.985      0.000    -140.166     -47.750\n",
      "volumetric_soil_water_layer_1    -0.0095      0.196     -0.048      0.962      -0.394       0.375\n",
      "volumetric_soil_water_layer_2    -1.9046      0.317     -6.008      0.000      -2.526      -1.283\n",
      "volumetric_soil_water_layer_3     2.6183      0.260     10.087      0.000       2.110       3.127\n",
      "volumetric_soil_water_layer_4    -0.1860      0.169     -1.101      0.271      -0.517       0.145\n",
      "=================================================================================================\n"
     ]
    }
   ],
   "source": [
    "model_data = pd.read_csv('poisson_regression_model_data_4.csv')\n",
    "model_data.rename(columns={'10m_u_component_of_wind': 'u_wind'}, inplace=True)\n",
    "model_data.rename(columns={'10m_v_component_of_wind': 'v_wind'}, inplace=True)\n",
    "model_data.rename(columns={'2m_temperature': 'm_temperature'}, inplace=True)\n",
    "\n",
    "value_mapping = {'D': 1, 'N': 2}\n",
    "model_data['daynight'] = model_data['daynight'].map(value_mapping)\n",
    "\n",
    "# Split the DataFrame into train and test sets (70% train, 30% test)\n",
    "train_df, test_df = train_test_split(model_data, test_size=0.3,\n",
    "                                     random_state=42)  # Set random state for reproducibility\n",
    "\n",
    "train_df = train_df[['daynight','month', 'u_wind', 'v_wind', 'm_temperature',\n",
    "         'soil_temperature_level_1', 'soil_temperature_level_2', 'soil_temperature_level_3', 'soil_temperature_level_4',\n",
    "         'soil_type', 'total_precipitation', 'volumetric_soil_water_layer_1', 'volumetric_soil_water_layer_2',\n",
    "         'volumetric_soil_water_layer_3', 'volumetric_soil_water_layer_4', 'number_of_fire']]\n",
    "test_df = test_df[['daynight','month', 'u_wind', 'v_wind', 'm_temperature',\n",
    "         'soil_temperature_level_1', 'soil_temperature_level_2', 'soil_temperature_level_3', 'soil_temperature_level_4',\n",
    "         'soil_type', 'total_precipitation', 'volumetric_soil_water_layer_1', 'volumetric_soil_water_layer_2',\n",
    "         'volumetric_soil_water_layer_3', 'volumetric_soil_water_layer_4', 'number_of_fire']]\n",
    "\n",
    "X = sm.add_constant(train_df[['daynight','month', 'u_wind', 'v_wind', 'm_temperature',\n",
    "         'soil_temperature_level_1', 'soil_temperature_level_2', 'soil_temperature_level_3', 'soil_temperature_level_4',\n",
    "         'soil_type', 'total_precipitation', 'volumetric_soil_water_layer_1', 'volumetric_soil_water_layer_2',\n",
    "         'volumetric_soil_water_layer_3', 'volumetric_soil_water_layer_4']])\n",
    "y = train_df['number_of_fire']\n",
    "\n",
    "GLM_poisson_model = sm.GLM(np.asarray(y), X, family=sm.families.Poisson()).fit()\n",
    "\n",
    "print(GLM_poisson_model.summary())\n",
    "\n",
    "print(GLM_poisson_model.mu)\n",
    "print(len(GLM_poisson_model.mu))\n",
    "\n",
    "train_df['BB_LAMBDA'] = GLM_poisson_model.mu\n",
    "\n",
    "train_df['AUX_OLS_DEP'] = train_df.apply(lambda x: ((x['number_of_fire'] - x['BB_LAMBDA'])**2 - x['BB_LAMBDA']) / x['BB_LAMBDA'], axis=1)\n",
    "\n",
    "ols_expr = \"\"\"AUX_OLS_DEP ~ BB_LAMBDA - 1\"\"\"\n",
    "\n",
    "aux_olsr_results = smf.ols(ols_expr, train_df).fit()\n",
    "\n",
    "print(aux_olsr_results.params)\n",
    "print(aux_olsr_results.tvalues)\n",
    "\n",
    "nb2_training_results = sm.GLM(np.asarray(y), X, family=sm.families.NegativeBinomial()).fit()\n",
    "\n",
    "print(nb2_training_results.summary())"
   ],
   "metadata": {
    "collapsed": false,
    "ExecuteTime": {
     "end_time": "2024-03-17T18:53:49.414980Z",
     "start_time": "2024-03-17T18:53:46.060383Z"
    }
   },
   "id": "5f75d03d08307b32",
   "execution_count": 21
  },
  {
   "cell_type": "code",
   "outputs": [
    {
     "name": "stderr",
     "output_type": "stream",
     "text": [
      "/var/folders/h1/29v5rkys6vqbs6z4vjkpkrz40000gn/T/ipykernel_78932/2331813196.py:1: FutureWarning: Series.__getitem__ treating keys as positions is deprecated. In a future version, integer keys will always be treated as labels (consistent with DataFrame behavior). To access a value by position, use `ser.iloc[pos]`\n",
      "  aux_olsr_results.params[0]\n"
     ]
    },
    {
     "data": {
      "text/plain": "-0.9982676358111294"
     },
     "execution_count": 19,
     "metadata": {},
     "output_type": "execute_result"
    }
   ],
   "source": [
    "aux_olsr_results.params[0]"
   ],
   "metadata": {
    "collapsed": false,
    "ExecuteTime": {
     "end_time": "2024-03-17T18:51:45.810463Z",
     "start_time": "2024-03-17T18:51:45.773604Z"
    }
   },
   "id": "50719c31fa8554db",
   "execution_count": 19
  },
  {
   "cell_type": "code",
   "outputs": [],
   "source": [
    "deviance = GLM_poisson_model.deviance\n",
    "print(\"Deviance:\", deviance)\n",
    "\n",
    "# 2. Residual Analysis\n",
    "residuals = GLM_poisson_model.resid_response\n",
    "# Plot residuals\n",
    "import matplotlib.pyplot as plt\n",
    "plt.scatter(GLM_poisson_model.fittedvalues, residuals)\n",
    "plt.xlabel(\"Fitted Values\")\n",
    "plt.ylabel(\"Residuals\")\n",
    "plt.title(\"Residuals vs Fitted Values\")\n",
    "plt.show()\n"
   ],
   "metadata": {
    "collapsed": false
   },
   "id": "353b7ff0c4827c09",
   "execution_count": null
  },
  {
   "cell_type": "code",
   "outputs": [],
   "source": [
    "model_data = pd.read_csv('poisson_regression_model_data_4.csv')\n",
    "model_data.rename(columns={'10m_u_component_of_wind': 'u_wind'}, inplace=True)\n",
    "model_data.rename(columns={'10m_v_component_of_wind': 'v_wind'}, inplace=True)\n",
    "model_data.rename(columns={'2m_temperature': 'm_temperature'}, inplace=True)\n",
    "\n",
    "# Split the DataFrame into train and test sets (70% train, 30% test)\n",
    "train_df, test_df = train_test_split(model_data, test_size=0.3,\n",
    "                                     random_state=42)  # Set random state for reproducibility\n",
    "\n",
    "model = sm.Poisson.from_formula('number_of_fire ~ daynight + month + u_wind + v_wind + m_temperature + soil_temperature_level_1 + soil_temperature_level_2 + soil_temperature_level_3 + soil_temperature_level_4 + soil_type +  total_precipitation + volumetric_soil_water_layer_1 + volumetric_soil_water_layer_2 + volumetric_soil_water_layer_3 + volumetric_soil_water_layer_4', data=train_df)\n",
    " \n",
    "model_fit = model.fit()\n",
    " \n",
    "print(model_fit.summary())\n",
    "\n",
    "\n"
   ],
   "metadata": {
    "collapsed": false
   },
   "id": "f5db7fe53ea5fde8",
   "execution_count": null
  },
  {
   "cell_type": "code",
   "outputs": [],
   "source": [
    "test_X = test_df[['daynight', 'month', 'u_wind', 'v_wind', 'm_temperature',\n",
    "         'soil_temperature_level_1', 'soil_temperature_level_2', 'soil_temperature_level_3', 'soil_temperature_level_4',\n",
    "         'soil_type', 'total_precipitation', 'volumetric_soil_water_layer_1', 'volumetric_soil_water_layer_2',\n",
    "         'volumetric_soil_water_layer_3', 'volumetric_soil_water_layer_4']]\n",
    "predicted_y = model_fit.predict(test_X)\n",
    "\n",
    "\n",
    "test_y = test_df['number_of_fire']\n",
    "\n",
    "# fig = plt.figure()\n",
    "# fig.suptitle('Predicted versus actual strike counts')\n",
    "# predicted, = plt.plot(test_X.index, predicted_y, 'go-', label='Predicted counts')\n",
    "# actual, = plt.plot(test_X.index, test_y, 'ro-', label='Actual counts')\n",
    "# plt.legend(handles=[predicted, actual])\n",
    "# plt.show()"
   ],
   "metadata": {
    "collapsed": false
   },
   "id": "ece2d62a8ee121fc",
   "execution_count": null
  },
  {
   "cell_type": "code",
   "outputs": [
    {
     "name": "stderr",
     "output_type": "stream",
     "text": [
      "/Users/namratadakua/PycharmProjects/pythonProject/.venv/lib/python3.12/site-packages/scipy/optimize/_optimize.py:1397: OptimizeWarning: Desired error not necessarily achieved due to precision loss.\n",
      "  res = _minimize_bfgs(f, x0, args, fprime, callback=callback, **opts)\n",
      "/Users/namratadakua/PycharmProjects/pythonProject/.venv/lib/python3.12/site-packages/statsmodels/base/model.py:607: ConvergenceWarning: Maximum Likelihood optimization failed to converge. Check mle_retvals\n",
      "  warnings.warn(\"Maximum Likelihood optimization failed to \"\n",
      "/Users/namratadakua/PycharmProjects/pythonProject/.venv/lib/python3.12/site-packages/statsmodels/discrete/discrete_model.py:3739: RuntimeWarning: invalid value encountered in log\n",
      "  start_params[-1] = np.log(start_params[-1])\n"
     ]
    },
    {
     "name": "stdout",
     "output_type": "stream",
     "text": [
      "         Current function value: 0.747288\n",
      "         Iterations: 27\n",
      "         Function evaluations: 70\n",
      "         Gradient evaluations: 60\n"
     ]
    },
    {
     "ename": "KeyboardInterrupt",
     "evalue": "",
     "output_type": "error",
     "traceback": [
      "\u001B[0;31m---------------------------------------------------------------------------\u001B[0m",
      "\u001B[0;31mKeyboardInterrupt\u001B[0m                         Traceback (most recent call last)",
      "Cell \u001B[0;32mIn[9], line 15\u001B[0m\n\u001B[1;32m     11\u001B[0m model \u001B[38;5;241m=\u001B[39m sm\u001B[38;5;241m.\u001B[39mNegativeBinomial\u001B[38;5;241m.\u001B[39mfrom_formula(\u001B[38;5;124m'\u001B[39m\u001B[38;5;124mnumber_of_fire ~ daynight + month + u_wind + v_wind + m_temperature + soil_temperature_level_1 + soil_temperature_level_2 + soil_temperature_level_3 + soil_temperature_level_4 + soil_type +  total_precipitation + volumetric_soil_water_layer_1 + volumetric_soil_water_layer_2 + volumetric_soil_water_layer_3 + volumetric_soil_water_layer_4\u001B[39m\u001B[38;5;124m'\u001B[39m, data\u001B[38;5;241m=\u001B[39mtrain_df)\n\u001B[1;32m     13\u001B[0m model_fit \u001B[38;5;241m=\u001B[39m model\u001B[38;5;241m.\u001B[39mfit(skip_hessian\u001B[38;5;241m=\u001B[39m\u001B[38;5;28;01mTrue\u001B[39;00m)\n\u001B[0;32m---> 15\u001B[0m \u001B[38;5;28mprint\u001B[39m(\u001B[43mmodel_fit\u001B[49m\u001B[38;5;241;43m.\u001B[39;49m\u001B[43msummary\u001B[49m\u001B[43m(\u001B[49m\u001B[43m)\u001B[49m)\n",
      "File \u001B[0;32m~/PycharmProjects/pythonProject/.venv/lib/python3.12/site-packages/statsmodels/discrete/discrete_model.py:4916\u001B[0m, in \u001B[0;36mDiscreteResults.summary\u001B[0;34m(self, yname, xname, title, alpha, yname_list)\u001B[0m\n\u001B[1;32m   4878\u001B[0m \u001B[38;5;250m\u001B[39m\u001B[38;5;124;03m\"\"\"\u001B[39;00m\n\u001B[1;32m   4879\u001B[0m \u001B[38;5;124;03mSummarize the Regression Results.\u001B[39;00m\n\u001B[1;32m   4880\u001B[0m \n\u001B[0;32m   (...)\u001B[0m\n\u001B[1;32m   4902\u001B[0m \u001B[38;5;124;03mstatsmodels.iolib.summary.Summary : Class that hold summary results.\u001B[39;00m\n\u001B[1;32m   4903\u001B[0m \u001B[38;5;124;03m\"\"\"\u001B[39;00m\n\u001B[1;32m   4905\u001B[0m top_left \u001B[38;5;241m=\u001B[39m [(\u001B[38;5;124m'\u001B[39m\u001B[38;5;124mDep. Variable:\u001B[39m\u001B[38;5;124m'\u001B[39m, \u001B[38;5;28;01mNone\u001B[39;00m),\n\u001B[1;32m   4906\u001B[0m              (\u001B[38;5;124m'\u001B[39m\u001B[38;5;124mModel:\u001B[39m\u001B[38;5;124m'\u001B[39m, [\u001B[38;5;28mself\u001B[39m\u001B[38;5;241m.\u001B[39mmodel\u001B[38;5;241m.\u001B[39m\u001B[38;5;18m__class__\u001B[39m\u001B[38;5;241m.\u001B[39m\u001B[38;5;18m__name__\u001B[39m]),\n\u001B[1;32m   4907\u001B[0m              (\u001B[38;5;124m'\u001B[39m\u001B[38;5;124mMethod:\u001B[39m\u001B[38;5;124m'\u001B[39m, [\u001B[38;5;28mself\u001B[39m\u001B[38;5;241m.\u001B[39mmethod]),\n\u001B[0;32m   (...)\u001B[0m\n\u001B[1;32m   4910\u001B[0m              (\u001B[38;5;124m'\u001B[39m\u001B[38;5;124mconverged:\u001B[39m\u001B[38;5;124m'\u001B[39m, [\u001B[38;5;124m\"\u001B[39m\u001B[38;5;132;01m%s\u001B[39;00m\u001B[38;5;124m\"\u001B[39m \u001B[38;5;241m%\u001B[39m \u001B[38;5;28mself\u001B[39m\u001B[38;5;241m.\u001B[39mmle_retvals[\u001B[38;5;124m'\u001B[39m\u001B[38;5;124mconverged\u001B[39m\u001B[38;5;124m'\u001B[39m]]),\n\u001B[1;32m   4911\u001B[0m             ]\n\u001B[1;32m   4913\u001B[0m top_right \u001B[38;5;241m=\u001B[39m [(\u001B[38;5;124m'\u001B[39m\u001B[38;5;124mNo. Observations:\u001B[39m\u001B[38;5;124m'\u001B[39m, \u001B[38;5;28;01mNone\u001B[39;00m),\n\u001B[1;32m   4914\u001B[0m              (\u001B[38;5;124m'\u001B[39m\u001B[38;5;124mDf Residuals:\u001B[39m\u001B[38;5;124m'\u001B[39m, \u001B[38;5;28;01mNone\u001B[39;00m),\n\u001B[1;32m   4915\u001B[0m              (\u001B[38;5;124m'\u001B[39m\u001B[38;5;124mDf Model:\u001B[39m\u001B[38;5;124m'\u001B[39m, \u001B[38;5;28;01mNone\u001B[39;00m),\n\u001B[0;32m-> 4916\u001B[0m              (\u001B[38;5;124m'\u001B[39m\u001B[38;5;124mPseudo R-squ.:\u001B[39m\u001B[38;5;124m'\u001B[39m, [\u001B[38;5;124m\"\u001B[39m\u001B[38;5;132;01m%#6.4g\u001B[39;00m\u001B[38;5;124m\"\u001B[39m \u001B[38;5;241m%\u001B[39m \u001B[38;5;28;43mself\u001B[39;49m\u001B[38;5;241;43m.\u001B[39;49m\u001B[43mprsquared\u001B[49m]),\n\u001B[1;32m   4917\u001B[0m              (\u001B[38;5;124m'\u001B[39m\u001B[38;5;124mLog-Likelihood:\u001B[39m\u001B[38;5;124m'\u001B[39m, \u001B[38;5;28;01mNone\u001B[39;00m),\n\u001B[1;32m   4918\u001B[0m              (\u001B[38;5;124m'\u001B[39m\u001B[38;5;124mLL-Null:\u001B[39m\u001B[38;5;124m'\u001B[39m, [\u001B[38;5;124m\"\u001B[39m\u001B[38;5;132;01m%#8.5g\u001B[39;00m\u001B[38;5;124m\"\u001B[39m \u001B[38;5;241m%\u001B[39m \u001B[38;5;28mself\u001B[39m\u001B[38;5;241m.\u001B[39mllnull]),\n\u001B[1;32m   4919\u001B[0m              (\u001B[38;5;124m'\u001B[39m\u001B[38;5;124mLLR p-value:\u001B[39m\u001B[38;5;124m'\u001B[39m, [\u001B[38;5;124m\"\u001B[39m\u001B[38;5;132;01m%#6.4g\u001B[39;00m\u001B[38;5;124m\"\u001B[39m \u001B[38;5;241m%\u001B[39m \u001B[38;5;28mself\u001B[39m\u001B[38;5;241m.\u001B[39mllr_pvalue])\n\u001B[1;32m   4920\u001B[0m              ]\n\u001B[1;32m   4922\u001B[0m \u001B[38;5;28;01mif\u001B[39;00m \u001B[38;5;28mhasattr\u001B[39m(\u001B[38;5;28mself\u001B[39m, \u001B[38;5;124m'\u001B[39m\u001B[38;5;124mcov_type\u001B[39m\u001B[38;5;124m'\u001B[39m):\n\u001B[1;32m   4923\u001B[0m     top_left\u001B[38;5;241m.\u001B[39mappend((\u001B[38;5;124m'\u001B[39m\u001B[38;5;124mCovariance Type:\u001B[39m\u001B[38;5;124m'\u001B[39m, [\u001B[38;5;28mself\u001B[39m\u001B[38;5;241m.\u001B[39mcov_type]))\n",
      "File \u001B[0;32mproperties.pyx:36\u001B[0m, in \u001B[0;36mpandas._libs.properties.CachedProperty.__get__\u001B[0;34m()\u001B[0m\n",
      "File \u001B[0;32m~/PycharmProjects/pythonProject/.venv/lib/python3.12/site-packages/statsmodels/discrete/discrete_model.py:4469\u001B[0m, in \u001B[0;36mDiscreteResults.prsquared\u001B[0;34m(self)\u001B[0m\n\u001B[1;32m   4464\u001B[0m \u001B[38;5;129m@cache_readonly\u001B[39m\n\u001B[1;32m   4465\u001B[0m \u001B[38;5;28;01mdef\u001B[39;00m \u001B[38;5;21mprsquared\u001B[39m(\u001B[38;5;28mself\u001B[39m):\n\u001B[1;32m   4466\u001B[0m \u001B[38;5;250m    \u001B[39m\u001B[38;5;124;03m\"\"\"\u001B[39;00m\n\u001B[1;32m   4467\u001B[0m \u001B[38;5;124;03m    McFadden's pseudo-R-squared. `1 - (llf / llnull)`\u001B[39;00m\n\u001B[1;32m   4468\u001B[0m \u001B[38;5;124;03m    \"\"\"\u001B[39;00m\n\u001B[0;32m-> 4469\u001B[0m     \u001B[38;5;28;01mreturn\u001B[39;00m \u001B[38;5;241m1\u001B[39m \u001B[38;5;241m-\u001B[39m \u001B[38;5;28mself\u001B[39m\u001B[38;5;241m.\u001B[39mllf\u001B[38;5;241m/\u001B[39m\u001B[38;5;28;43mself\u001B[39;49m\u001B[38;5;241;43m.\u001B[39;49m\u001B[43mllnull\u001B[49m\n",
      "File \u001B[0;32mproperties.pyx:36\u001B[0m, in \u001B[0;36mpandas._libs.properties.CachedProperty.__get__\u001B[0;34m()\u001B[0m\n",
      "File \u001B[0;32m~/PycharmProjects/pythonProject/.venv/lib/python3.12/site-packages/statsmodels/discrete/discrete_model.py:4562\u001B[0m, in \u001B[0;36mDiscreteResults.llnull\u001B[0;34m(self)\u001B[0m\n\u001B[1;32m   4559\u001B[0m     res_null \u001B[38;5;241m=\u001B[39m mod_null\u001B[38;5;241m.\u001B[39mfit(start_params\u001B[38;5;241m=\u001B[39msp_null, \u001B[38;5;241m*\u001B[39m\u001B[38;5;241m*\u001B[39mopt_kwds)\n\u001B[1;32m   4560\u001B[0m \u001B[38;5;28;01melse\u001B[39;00m:\n\u001B[1;32m   4561\u001B[0m     \u001B[38;5;66;03m# this should be a reasonably method case across versions\u001B[39;00m\n\u001B[0;32m-> 4562\u001B[0m     res_null \u001B[38;5;241m=\u001B[39m \u001B[43mmod_null\u001B[49m\u001B[38;5;241;43m.\u001B[39;49m\u001B[43mfit\u001B[49m\u001B[43m(\u001B[49m\u001B[43mstart_params\u001B[49m\u001B[38;5;241;43m=\u001B[39;49m\u001B[43msp_null\u001B[49m\u001B[43m,\u001B[49m\u001B[43m \u001B[49m\u001B[43mmethod\u001B[49m\u001B[38;5;241;43m=\u001B[39;49m\u001B[38;5;124;43m'\u001B[39;49m\u001B[38;5;124;43mnm\u001B[39;49m\u001B[38;5;124;43m'\u001B[39;49m\u001B[43m,\u001B[49m\n\u001B[1;32m   4563\u001B[0m \u001B[43m                            \u001B[49m\u001B[43mwarn_convergence\u001B[49m\u001B[38;5;241;43m=\u001B[39;49m\u001B[38;5;28;43;01mFalse\u001B[39;49;00m\u001B[43m,\u001B[49m\n\u001B[1;32m   4564\u001B[0m \u001B[43m                            \u001B[49m\u001B[43mmaxiter\u001B[49m\u001B[38;5;241;43m=\u001B[39;49m\u001B[38;5;241;43m10000\u001B[39;49m\u001B[43m,\u001B[49m\u001B[43m \u001B[49m\u001B[43mdisp\u001B[49m\u001B[38;5;241;43m=\u001B[39;49m\u001B[38;5;241;43m0\u001B[39;49m\u001B[43m)\u001B[49m\n\u001B[1;32m   4565\u001B[0m     res_null \u001B[38;5;241m=\u001B[39m mod_null\u001B[38;5;241m.\u001B[39mfit(start_params\u001B[38;5;241m=\u001B[39mres_null\u001B[38;5;241m.\u001B[39mparams, method\u001B[38;5;241m=\u001B[39m\u001B[38;5;124m'\u001B[39m\u001B[38;5;124mbfgs\u001B[39m\u001B[38;5;124m'\u001B[39m,\n\u001B[1;32m   4566\u001B[0m                             warn_convergence\u001B[38;5;241m=\u001B[39m\u001B[38;5;28;01mFalse\u001B[39;00m,\n\u001B[1;32m   4567\u001B[0m                             maxiter\u001B[38;5;241m=\u001B[39m\u001B[38;5;241m10000\u001B[39m, disp\u001B[38;5;241m=\u001B[39m\u001B[38;5;241m0\u001B[39m)\n\u001B[1;32m   4569\u001B[0m \u001B[38;5;28;01mif\u001B[39;00m \u001B[38;5;28mgetattr\u001B[39m(\u001B[38;5;28mself\u001B[39m, \u001B[38;5;124m'\u001B[39m\u001B[38;5;124m_attach_nullmodel\u001B[39m\u001B[38;5;124m'\u001B[39m, \u001B[38;5;28;01mFalse\u001B[39;00m) \u001B[38;5;129;01mis\u001B[39;00m \u001B[38;5;129;01mnot\u001B[39;00m \u001B[38;5;28;01mFalse\u001B[39;00m:\n",
      "File \u001B[0;32m~/PycharmProjects/pythonProject/.venv/lib/python3.12/site-packages/statsmodels/discrete/discrete_model.py:3745\u001B[0m, in \u001B[0;36mNegativeBinomial.fit\u001B[0;34m(self, start_params, method, maxiter, full_output, disp, callback, cov_type, cov_kwds, use_t, optim_kwds_prelim, **kwargs)\u001B[0m\n\u001B[1;32m   3741\u001B[0m \u001B[38;5;28;01mif\u001B[39;00m callback \u001B[38;5;129;01mis\u001B[39;00m \u001B[38;5;28;01mNone\u001B[39;00m:\n\u001B[1;32m   3742\u001B[0m     \u001B[38;5;66;03m# work around perfect separation callback #3895\u001B[39;00m\n\u001B[1;32m   3743\u001B[0m     callback \u001B[38;5;241m=\u001B[39m \u001B[38;5;28;01mlambda\u001B[39;00m \u001B[38;5;241m*\u001B[39mx: x\n\u001B[0;32m-> 3745\u001B[0m mlefit \u001B[38;5;241m=\u001B[39m \u001B[38;5;28;43msuper\u001B[39;49m\u001B[43m(\u001B[49m\u001B[43m)\u001B[49m\u001B[38;5;241;43m.\u001B[39;49m\u001B[43mfit\u001B[49m\u001B[43m(\u001B[49m\u001B[43mstart_params\u001B[49m\u001B[38;5;241;43m=\u001B[39;49m\u001B[43mstart_params\u001B[49m\u001B[43m,\u001B[49m\n\u001B[1;32m   3746\u001B[0m \u001B[43m                     \u001B[49m\u001B[43mmaxiter\u001B[49m\u001B[38;5;241;43m=\u001B[39;49m\u001B[43mmaxiter\u001B[49m\u001B[43m,\u001B[49m\u001B[43m \u001B[49m\u001B[43mmethod\u001B[49m\u001B[38;5;241;43m=\u001B[39;49m\u001B[43mmethod\u001B[49m\u001B[43m,\u001B[49m\u001B[43m \u001B[49m\u001B[43mdisp\u001B[49m\u001B[38;5;241;43m=\u001B[39;49m\u001B[43mdisp\u001B[49m\u001B[43m,\u001B[49m\n\u001B[1;32m   3747\u001B[0m \u001B[43m                     \u001B[49m\u001B[43mfull_output\u001B[49m\u001B[38;5;241;43m=\u001B[39;49m\u001B[43mfull_output\u001B[49m\u001B[43m,\u001B[49m\u001B[43m \u001B[49m\u001B[43mcallback\u001B[49m\u001B[38;5;241;43m=\u001B[39;49m\u001B[43mcallback\u001B[49m\u001B[43m,\u001B[49m\n\u001B[1;32m   3748\u001B[0m \u001B[43m                     \u001B[49m\u001B[38;5;241;43m*\u001B[39;49m\u001B[38;5;241;43m*\u001B[39;49m\u001B[43mkwargs\u001B[49m\u001B[43m)\u001B[49m\n\u001B[1;32m   3749\u001B[0m \u001B[38;5;28;01mif\u001B[39;00m optim_kwds_prelim \u001B[38;5;129;01mis\u001B[39;00m \u001B[38;5;129;01mnot\u001B[39;00m \u001B[38;5;28;01mNone\u001B[39;00m:\n\u001B[1;32m   3750\u001B[0m     mlefit\u001B[38;5;241m.\u001B[39mmle_settings[\u001B[38;5;124m\"\u001B[39m\u001B[38;5;124moptim_kwds_prelim\u001B[39m\u001B[38;5;124m\"\u001B[39m] \u001B[38;5;241m=\u001B[39m optim_kwds_prelim\n",
      "File \u001B[0;32m~/PycharmProjects/pythonProject/.venv/lib/python3.12/site-packages/statsmodels/discrete/discrete_model.py:1154\u001B[0m, in \u001B[0;36mCountModel.fit\u001B[0;34m(self, start_params, method, maxiter, full_output, disp, callback, **kwargs)\u001B[0m\n\u001B[1;32m   1151\u001B[0m \u001B[38;5;129m@Appender\u001B[39m(DiscreteModel\u001B[38;5;241m.\u001B[39mfit\u001B[38;5;241m.\u001B[39m\u001B[38;5;18m__doc__\u001B[39m)\n\u001B[1;32m   1152\u001B[0m \u001B[38;5;28;01mdef\u001B[39;00m \u001B[38;5;21mfit\u001B[39m(\u001B[38;5;28mself\u001B[39m, start_params\u001B[38;5;241m=\u001B[39m\u001B[38;5;28;01mNone\u001B[39;00m, method\u001B[38;5;241m=\u001B[39m\u001B[38;5;124m'\u001B[39m\u001B[38;5;124mnewton\u001B[39m\u001B[38;5;124m'\u001B[39m, maxiter\u001B[38;5;241m=\u001B[39m\u001B[38;5;241m35\u001B[39m,\n\u001B[1;32m   1153\u001B[0m         full_output\u001B[38;5;241m=\u001B[39m\u001B[38;5;241m1\u001B[39m, disp\u001B[38;5;241m=\u001B[39m\u001B[38;5;241m1\u001B[39m, callback\u001B[38;5;241m=\u001B[39m\u001B[38;5;28;01mNone\u001B[39;00m, \u001B[38;5;241m*\u001B[39m\u001B[38;5;241m*\u001B[39mkwargs):\n\u001B[0;32m-> 1154\u001B[0m     cntfit \u001B[38;5;241m=\u001B[39m \u001B[38;5;28;43msuper\u001B[39;49m\u001B[43m(\u001B[49m\u001B[43m)\u001B[49m\u001B[38;5;241;43m.\u001B[39;49m\u001B[43mfit\u001B[49m\u001B[43m(\u001B[49m\u001B[43mstart_params\u001B[49m\u001B[38;5;241;43m=\u001B[39;49m\u001B[43mstart_params\u001B[49m\u001B[43m,\u001B[49m\n\u001B[1;32m   1155\u001B[0m \u001B[43m                         \u001B[49m\u001B[43mmethod\u001B[49m\u001B[38;5;241;43m=\u001B[39;49m\u001B[43mmethod\u001B[49m\u001B[43m,\u001B[49m\n\u001B[1;32m   1156\u001B[0m \u001B[43m                         \u001B[49m\u001B[43mmaxiter\u001B[49m\u001B[38;5;241;43m=\u001B[39;49m\u001B[43mmaxiter\u001B[49m\u001B[43m,\u001B[49m\n\u001B[1;32m   1157\u001B[0m \u001B[43m                         \u001B[49m\u001B[43mfull_output\u001B[49m\u001B[38;5;241;43m=\u001B[39;49m\u001B[43mfull_output\u001B[49m\u001B[43m,\u001B[49m\n\u001B[1;32m   1158\u001B[0m \u001B[43m                         \u001B[49m\u001B[43mdisp\u001B[49m\u001B[38;5;241;43m=\u001B[39;49m\u001B[43mdisp\u001B[49m\u001B[43m,\u001B[49m\n\u001B[1;32m   1159\u001B[0m \u001B[43m                         \u001B[49m\u001B[43mcallback\u001B[49m\u001B[38;5;241;43m=\u001B[39;49m\u001B[43mcallback\u001B[49m\u001B[43m,\u001B[49m\n\u001B[1;32m   1160\u001B[0m \u001B[43m                         \u001B[49m\u001B[38;5;241;43m*\u001B[39;49m\u001B[38;5;241;43m*\u001B[39;49m\u001B[43mkwargs\u001B[49m\u001B[43m)\u001B[49m\n\u001B[1;32m   1161\u001B[0m     discretefit \u001B[38;5;241m=\u001B[39m CountResults(\u001B[38;5;28mself\u001B[39m, cntfit)\n\u001B[1;32m   1162\u001B[0m     \u001B[38;5;28;01mreturn\u001B[39;00m CountResultsWrapper(discretefit)\n",
      "File \u001B[0;32m~/PycharmProjects/pythonProject/.venv/lib/python3.12/site-packages/statsmodels/discrete/discrete_model.py:243\u001B[0m, in \u001B[0;36mDiscreteModel.fit\u001B[0;34m(self, start_params, method, maxiter, full_output, disp, callback, **kwargs)\u001B[0m\n\u001B[1;32m    240\u001B[0m \u001B[38;5;28;01melse\u001B[39;00m:\n\u001B[1;32m    241\u001B[0m     \u001B[38;5;28;01mpass\u001B[39;00m  \u001B[38;5;66;03m# TODO: make a function factory to have multiple call-backs\u001B[39;00m\n\u001B[0;32m--> 243\u001B[0m mlefit \u001B[38;5;241m=\u001B[39m \u001B[38;5;28;43msuper\u001B[39;49m\u001B[43m(\u001B[49m\u001B[43m)\u001B[49m\u001B[38;5;241;43m.\u001B[39;49m\u001B[43mfit\u001B[49m\u001B[43m(\u001B[49m\u001B[43mstart_params\u001B[49m\u001B[38;5;241;43m=\u001B[39;49m\u001B[43mstart_params\u001B[49m\u001B[43m,\u001B[49m\n\u001B[1;32m    244\u001B[0m \u001B[43m                     \u001B[49m\u001B[43mmethod\u001B[49m\u001B[38;5;241;43m=\u001B[39;49m\u001B[43mmethod\u001B[49m\u001B[43m,\u001B[49m\n\u001B[1;32m    245\u001B[0m \u001B[43m                     \u001B[49m\u001B[43mmaxiter\u001B[49m\u001B[38;5;241;43m=\u001B[39;49m\u001B[43mmaxiter\u001B[49m\u001B[43m,\u001B[49m\n\u001B[1;32m    246\u001B[0m \u001B[43m                     \u001B[49m\u001B[43mfull_output\u001B[49m\u001B[38;5;241;43m=\u001B[39;49m\u001B[43mfull_output\u001B[49m\u001B[43m,\u001B[49m\n\u001B[1;32m    247\u001B[0m \u001B[43m                     \u001B[49m\u001B[43mdisp\u001B[49m\u001B[38;5;241;43m=\u001B[39;49m\u001B[43mdisp\u001B[49m\u001B[43m,\u001B[49m\n\u001B[1;32m    248\u001B[0m \u001B[43m                     \u001B[49m\u001B[43mcallback\u001B[49m\u001B[38;5;241;43m=\u001B[39;49m\u001B[43mcallback\u001B[49m\u001B[43m,\u001B[49m\n\u001B[1;32m    249\u001B[0m \u001B[43m                     \u001B[49m\u001B[38;5;241;43m*\u001B[39;49m\u001B[38;5;241;43m*\u001B[39;49m\u001B[43mkwargs\u001B[49m\u001B[43m)\u001B[49m\n\u001B[1;32m    251\u001B[0m \u001B[38;5;28;01mreturn\u001B[39;00m mlefit\n",
      "File \u001B[0;32m~/PycharmProjects/pythonProject/.venv/lib/python3.12/site-packages/statsmodels/base/model.py:566\u001B[0m, in \u001B[0;36mLikelihoodModel.fit\u001B[0;34m(self, start_params, method, maxiter, full_output, disp, fargs, callback, retall, skip_hessian, **kwargs)\u001B[0m\n\u001B[1;32m    563\u001B[0m     \u001B[38;5;28;01mdel\u001B[39;00m kwargs[\u001B[38;5;124m\"\u001B[39m\u001B[38;5;124muse_t\u001B[39m\u001B[38;5;124m\"\u001B[39m]\n\u001B[1;32m    565\u001B[0m optimizer \u001B[38;5;241m=\u001B[39m Optimizer()\n\u001B[0;32m--> 566\u001B[0m xopt, retvals, optim_settings \u001B[38;5;241m=\u001B[39m \u001B[43moptimizer\u001B[49m\u001B[38;5;241;43m.\u001B[39;49m\u001B[43m_fit\u001B[49m\u001B[43m(\u001B[49m\u001B[43mf\u001B[49m\u001B[43m,\u001B[49m\u001B[43m \u001B[49m\u001B[43mscore\u001B[49m\u001B[43m,\u001B[49m\u001B[43m \u001B[49m\u001B[43mstart_params\u001B[49m\u001B[43m,\u001B[49m\n\u001B[1;32m    567\u001B[0m \u001B[43m                                               \u001B[49m\u001B[43mfargs\u001B[49m\u001B[43m,\u001B[49m\u001B[43m \u001B[49m\u001B[43mkwargs\u001B[49m\u001B[43m,\u001B[49m\n\u001B[1;32m    568\u001B[0m \u001B[43m                                               \u001B[49m\u001B[43mhessian\u001B[49m\u001B[38;5;241;43m=\u001B[39;49m\u001B[43mhess\u001B[49m\u001B[43m,\u001B[49m\n\u001B[1;32m    569\u001B[0m \u001B[43m                                               \u001B[49m\u001B[43mmethod\u001B[49m\u001B[38;5;241;43m=\u001B[39;49m\u001B[43mmethod\u001B[49m\u001B[43m,\u001B[49m\n\u001B[1;32m    570\u001B[0m \u001B[43m                                               \u001B[49m\u001B[43mdisp\u001B[49m\u001B[38;5;241;43m=\u001B[39;49m\u001B[43mdisp\u001B[49m\u001B[43m,\u001B[49m\n\u001B[1;32m    571\u001B[0m \u001B[43m                                               \u001B[49m\u001B[43mmaxiter\u001B[49m\u001B[38;5;241;43m=\u001B[39;49m\u001B[43mmaxiter\u001B[49m\u001B[43m,\u001B[49m\n\u001B[1;32m    572\u001B[0m \u001B[43m                                               \u001B[49m\u001B[43mcallback\u001B[49m\u001B[38;5;241;43m=\u001B[39;49m\u001B[43mcallback\u001B[49m\u001B[43m,\u001B[49m\n\u001B[1;32m    573\u001B[0m \u001B[43m                                               \u001B[49m\u001B[43mretall\u001B[49m\u001B[38;5;241;43m=\u001B[39;49m\u001B[43mretall\u001B[49m\u001B[43m,\u001B[49m\n\u001B[1;32m    574\u001B[0m \u001B[43m                                               \u001B[49m\u001B[43mfull_output\u001B[49m\u001B[38;5;241;43m=\u001B[39;49m\u001B[43mfull_output\u001B[49m\u001B[43m)\u001B[49m\n\u001B[1;32m    575\u001B[0m \u001B[38;5;66;03m# Restore cov_type, cov_kwds and use_t\u001B[39;00m\n\u001B[1;32m    576\u001B[0m optim_settings\u001B[38;5;241m.\u001B[39mupdate(kwds)\n",
      "File \u001B[0;32m~/PycharmProjects/pythonProject/.venv/lib/python3.12/site-packages/statsmodels/base/optimizer.py:242\u001B[0m, in \u001B[0;36mOptimizer._fit\u001B[0;34m(self, objective, gradient, start_params, fargs, kwargs, hessian, method, maxiter, full_output, disp, callback, retall)\u001B[0m\n\u001B[1;32m    239\u001B[0m     fit_funcs\u001B[38;5;241m.\u001B[39mupdate(extra_fit_funcs)\n\u001B[1;32m    241\u001B[0m func \u001B[38;5;241m=\u001B[39m fit_funcs[method]\n\u001B[0;32m--> 242\u001B[0m xopt, retvals \u001B[38;5;241m=\u001B[39m \u001B[43mfunc\u001B[49m\u001B[43m(\u001B[49m\u001B[43mobjective\u001B[49m\u001B[43m,\u001B[49m\u001B[43m \u001B[49m\u001B[43mgradient\u001B[49m\u001B[43m,\u001B[49m\u001B[43m \u001B[49m\u001B[43mstart_params\u001B[49m\u001B[43m,\u001B[49m\u001B[43m \u001B[49m\u001B[43mfargs\u001B[49m\u001B[43m,\u001B[49m\u001B[43m \u001B[49m\u001B[43mkwargs\u001B[49m\u001B[43m,\u001B[49m\n\u001B[1;32m    243\u001B[0m \u001B[43m                     \u001B[49m\u001B[43mdisp\u001B[49m\u001B[38;5;241;43m=\u001B[39;49m\u001B[43mdisp\u001B[49m\u001B[43m,\u001B[49m\u001B[43m \u001B[49m\u001B[43mmaxiter\u001B[49m\u001B[38;5;241;43m=\u001B[39;49m\u001B[43mmaxiter\u001B[49m\u001B[43m,\u001B[49m\u001B[43m \u001B[49m\u001B[43mcallback\u001B[49m\u001B[38;5;241;43m=\u001B[39;49m\u001B[43mcallback\u001B[49m\u001B[43m,\u001B[49m\n\u001B[1;32m    244\u001B[0m \u001B[43m                     \u001B[49m\u001B[43mretall\u001B[49m\u001B[38;5;241;43m=\u001B[39;49m\u001B[43mretall\u001B[49m\u001B[43m,\u001B[49m\u001B[43m \u001B[49m\u001B[43mfull_output\u001B[49m\u001B[38;5;241;43m=\u001B[39;49m\u001B[43mfull_output\u001B[49m\u001B[43m,\u001B[49m\n\u001B[1;32m    245\u001B[0m \u001B[43m                     \u001B[49m\u001B[43mhess\u001B[49m\u001B[38;5;241;43m=\u001B[39;49m\u001B[43mhessian\u001B[49m\u001B[43m)\u001B[49m\n\u001B[1;32m    247\u001B[0m optim_settings \u001B[38;5;241m=\u001B[39m {\u001B[38;5;124m'\u001B[39m\u001B[38;5;124moptimizer\u001B[39m\u001B[38;5;124m'\u001B[39m: method, \u001B[38;5;124m'\u001B[39m\u001B[38;5;124mstart_params\u001B[39m\u001B[38;5;124m'\u001B[39m: start_params,\n\u001B[1;32m    248\u001B[0m                   \u001B[38;5;124m'\u001B[39m\u001B[38;5;124mmaxiter\u001B[39m\u001B[38;5;124m'\u001B[39m: maxiter, \u001B[38;5;124m'\u001B[39m\u001B[38;5;124mfull_output\u001B[39m\u001B[38;5;124m'\u001B[39m: full_output,\n\u001B[1;32m    249\u001B[0m                   \u001B[38;5;124m'\u001B[39m\u001B[38;5;124mdisp\u001B[39m\u001B[38;5;124m'\u001B[39m: disp, \u001B[38;5;124m'\u001B[39m\u001B[38;5;124mfargs\u001B[39m\u001B[38;5;124m'\u001B[39m: fargs, \u001B[38;5;124m'\u001B[39m\u001B[38;5;124mcallback\u001B[39m\u001B[38;5;124m'\u001B[39m: callback,\n\u001B[1;32m    250\u001B[0m                   \u001B[38;5;124m'\u001B[39m\u001B[38;5;124mretall\u001B[39m\u001B[38;5;124m'\u001B[39m: retall, \u001B[38;5;124m\"\u001B[39m\u001B[38;5;124mextra_fit_funcs\u001B[39m\u001B[38;5;124m\"\u001B[39m: extra_fit_funcs}\n\u001B[1;32m    251\u001B[0m optim_settings\u001B[38;5;241m.\u001B[39mupdate(kwargs)\n",
      "File \u001B[0;32m~/PycharmProjects/pythonProject/.venv/lib/python3.12/site-packages/statsmodels/base/optimizer.py:736\u001B[0m, in \u001B[0;36m_fit_nm\u001B[0;34m(f, score, start_params, fargs, kwargs, disp, maxiter, callback, retall, full_output, hess)\u001B[0m\n\u001B[1;32m    734\u001B[0m ftol \u001B[38;5;241m=\u001B[39m kwargs\u001B[38;5;241m.\u001B[39msetdefault(\u001B[38;5;124m'\u001B[39m\u001B[38;5;124mftol\u001B[39m\u001B[38;5;124m'\u001B[39m, \u001B[38;5;241m0.0001\u001B[39m)\n\u001B[1;32m    735\u001B[0m maxfun \u001B[38;5;241m=\u001B[39m kwargs\u001B[38;5;241m.\u001B[39msetdefault(\u001B[38;5;124m'\u001B[39m\u001B[38;5;124mmaxfun\u001B[39m\u001B[38;5;124m'\u001B[39m, \u001B[38;5;28;01mNone\u001B[39;00m)\n\u001B[0;32m--> 736\u001B[0m retvals \u001B[38;5;241m=\u001B[39m \u001B[43moptimize\u001B[49m\u001B[38;5;241;43m.\u001B[39;49m\u001B[43mfmin\u001B[49m\u001B[43m(\u001B[49m\u001B[43mf\u001B[49m\u001B[43m,\u001B[49m\u001B[43m \u001B[49m\u001B[43mstart_params\u001B[49m\u001B[43m,\u001B[49m\u001B[43m \u001B[49m\u001B[43margs\u001B[49m\u001B[38;5;241;43m=\u001B[39;49m\u001B[43mfargs\u001B[49m\u001B[43m,\u001B[49m\u001B[43m \u001B[49m\u001B[43mxtol\u001B[49m\u001B[38;5;241;43m=\u001B[39;49m\u001B[43mxtol\u001B[49m\u001B[43m,\u001B[49m\n\u001B[1;32m    737\u001B[0m \u001B[43m                        \u001B[49m\u001B[43mftol\u001B[49m\u001B[38;5;241;43m=\u001B[39;49m\u001B[43mftol\u001B[49m\u001B[43m,\u001B[49m\u001B[43m \u001B[49m\u001B[43mmaxiter\u001B[49m\u001B[38;5;241;43m=\u001B[39;49m\u001B[43mmaxiter\u001B[49m\u001B[43m,\u001B[49m\u001B[43m \u001B[49m\u001B[43mmaxfun\u001B[49m\u001B[38;5;241;43m=\u001B[39;49m\u001B[43mmaxfun\u001B[49m\u001B[43m,\u001B[49m\n\u001B[1;32m    738\u001B[0m \u001B[43m                        \u001B[49m\u001B[43mfull_output\u001B[49m\u001B[38;5;241;43m=\u001B[39;49m\u001B[43mfull_output\u001B[49m\u001B[43m,\u001B[49m\u001B[43m \u001B[49m\u001B[43mdisp\u001B[49m\u001B[38;5;241;43m=\u001B[39;49m\u001B[43mdisp\u001B[49m\u001B[43m,\u001B[49m\u001B[43m \u001B[49m\u001B[43mretall\u001B[49m\u001B[38;5;241;43m=\u001B[39;49m\u001B[43mretall\u001B[49m\u001B[43m,\u001B[49m\n\u001B[1;32m    739\u001B[0m \u001B[43m                        \u001B[49m\u001B[43mcallback\u001B[49m\u001B[38;5;241;43m=\u001B[39;49m\u001B[43mcallback\u001B[49m\u001B[43m)\u001B[49m\n\u001B[1;32m    740\u001B[0m \u001B[38;5;28;01mif\u001B[39;00m full_output:\n\u001B[1;32m    741\u001B[0m     \u001B[38;5;28;01mif\u001B[39;00m \u001B[38;5;129;01mnot\u001B[39;00m retall:\n",
      "File \u001B[0;32m~/PycharmProjects/pythonProject/.venv/lib/python3.12/site-packages/scipy/optimize/_optimize.py:767\u001B[0m, in \u001B[0;36mfmin\u001B[0;34m(func, x0, args, xtol, ftol, maxiter, maxfun, full_output, disp, retall, callback, initial_simplex)\u001B[0m\n\u001B[1;32m    758\u001B[0m opts \u001B[38;5;241m=\u001B[39m {\u001B[38;5;124m'\u001B[39m\u001B[38;5;124mxatol\u001B[39m\u001B[38;5;124m'\u001B[39m: xtol,\n\u001B[1;32m    759\u001B[0m         \u001B[38;5;124m'\u001B[39m\u001B[38;5;124mfatol\u001B[39m\u001B[38;5;124m'\u001B[39m: ftol,\n\u001B[1;32m    760\u001B[0m         \u001B[38;5;124m'\u001B[39m\u001B[38;5;124mmaxiter\u001B[39m\u001B[38;5;124m'\u001B[39m: maxiter,\n\u001B[0;32m   (...)\u001B[0m\n\u001B[1;32m    763\u001B[0m         \u001B[38;5;124m'\u001B[39m\u001B[38;5;124mreturn_all\u001B[39m\u001B[38;5;124m'\u001B[39m: retall,\n\u001B[1;32m    764\u001B[0m         \u001B[38;5;124m'\u001B[39m\u001B[38;5;124minitial_simplex\u001B[39m\u001B[38;5;124m'\u001B[39m: initial_simplex}\n\u001B[1;32m    766\u001B[0m callback \u001B[38;5;241m=\u001B[39m _wrap_callback(callback)\n\u001B[0;32m--> 767\u001B[0m res \u001B[38;5;241m=\u001B[39m \u001B[43m_minimize_neldermead\u001B[49m\u001B[43m(\u001B[49m\u001B[43mfunc\u001B[49m\u001B[43m,\u001B[49m\u001B[43m \u001B[49m\u001B[43mx0\u001B[49m\u001B[43m,\u001B[49m\u001B[43m \u001B[49m\u001B[43margs\u001B[49m\u001B[43m,\u001B[49m\u001B[43m \u001B[49m\u001B[43mcallback\u001B[49m\u001B[38;5;241;43m=\u001B[39;49m\u001B[43mcallback\u001B[49m\u001B[43m,\u001B[49m\u001B[43m \u001B[49m\u001B[38;5;241;43m*\u001B[39;49m\u001B[38;5;241;43m*\u001B[39;49m\u001B[43mopts\u001B[49m\u001B[43m)\u001B[49m\n\u001B[1;32m    768\u001B[0m \u001B[38;5;28;01mif\u001B[39;00m full_output:\n\u001B[1;32m    769\u001B[0m     retlist \u001B[38;5;241m=\u001B[39m res[\u001B[38;5;124m'\u001B[39m\u001B[38;5;124mx\u001B[39m\u001B[38;5;124m'\u001B[39m], res[\u001B[38;5;124m'\u001B[39m\u001B[38;5;124mfun\u001B[39m\u001B[38;5;124m'\u001B[39m], res[\u001B[38;5;124m'\u001B[39m\u001B[38;5;124mnit\u001B[39m\u001B[38;5;124m'\u001B[39m], res[\u001B[38;5;124m'\u001B[39m\u001B[38;5;124mnfev\u001B[39m\u001B[38;5;124m'\u001B[39m], res[\u001B[38;5;124m'\u001B[39m\u001B[38;5;124mstatus\u001B[39m\u001B[38;5;124m'\u001B[39m]\n",
      "File \u001B[0;32m~/PycharmProjects/pythonProject/.venv/lib/python3.12/site-packages/scipy/optimize/_optimize.py:985\u001B[0m, in \u001B[0;36m_minimize_neldermead\u001B[0;34m(func, x0, args, callback, maxiter, maxfev, disp, return_all, initial_simplex, xatol, fatol, adaptive, bounds, **unknown_options)\u001B[0m\n\u001B[1;32m    983\u001B[0m \u001B[38;5;28;01mif\u001B[39;00m bounds \u001B[38;5;129;01mis\u001B[39;00m \u001B[38;5;129;01mnot\u001B[39;00m \u001B[38;5;28;01mNone\u001B[39;00m:\n\u001B[1;32m    984\u001B[0m     xcc \u001B[38;5;241m=\u001B[39m np\u001B[38;5;241m.\u001B[39mclip(xcc, lower_bound, upper_bound)\n\u001B[0;32m--> 985\u001B[0m fxcc \u001B[38;5;241m=\u001B[39m \u001B[43mfunc\u001B[49m\u001B[43m(\u001B[49m\u001B[43mxcc\u001B[49m\u001B[43m)\u001B[49m\n\u001B[1;32m    987\u001B[0m \u001B[38;5;28;01mif\u001B[39;00m fxcc \u001B[38;5;241m<\u001B[39m fsim[\u001B[38;5;241m-\u001B[39m\u001B[38;5;241m1\u001B[39m]:\n\u001B[1;32m    988\u001B[0m     sim[\u001B[38;5;241m-\u001B[39m\u001B[38;5;241m1\u001B[39m] \u001B[38;5;241m=\u001B[39m xcc\n",
      "File \u001B[0;32m~/PycharmProjects/pythonProject/.venv/lib/python3.12/site-packages/scipy/optimize/_optimize.py:640\u001B[0m, in \u001B[0;36m_wrap_scalar_function_maxfun_validation.<locals>.function_wrapper\u001B[0;34m(x, *wrapper_args)\u001B[0m\n\u001B[1;32m    638\u001B[0m ncalls[\u001B[38;5;241m0\u001B[39m] \u001B[38;5;241m+\u001B[39m\u001B[38;5;241m=\u001B[39m \u001B[38;5;241m1\u001B[39m\n\u001B[1;32m    639\u001B[0m \u001B[38;5;66;03m# A copy of x is sent to the user function (gh13740)\u001B[39;00m\n\u001B[0;32m--> 640\u001B[0m fx \u001B[38;5;241m=\u001B[39m \u001B[43mfunction\u001B[49m\u001B[43m(\u001B[49m\u001B[43mnp\u001B[49m\u001B[38;5;241;43m.\u001B[39;49m\u001B[43mcopy\u001B[49m\u001B[43m(\u001B[49m\u001B[43mx\u001B[49m\u001B[43m)\u001B[49m\u001B[43m,\u001B[49m\u001B[43m \u001B[49m\u001B[38;5;241;43m*\u001B[39;49m\u001B[43m(\u001B[49m\u001B[43mwrapper_args\u001B[49m\u001B[43m \u001B[49m\u001B[38;5;241;43m+\u001B[39;49m\u001B[43m \u001B[49m\u001B[43margs\u001B[49m\u001B[43m)\u001B[49m\u001B[43m)\u001B[49m\n\u001B[1;32m    641\u001B[0m \u001B[38;5;66;03m# Ideally, we'd like to a have a true scalar returned from f(x). For\u001B[39;00m\n\u001B[1;32m    642\u001B[0m \u001B[38;5;66;03m# backwards-compatibility, also allow np.array([1.3]),\u001B[39;00m\n\u001B[1;32m    643\u001B[0m \u001B[38;5;66;03m# np.array([[1.3]]) etc.\u001B[39;00m\n\u001B[1;32m    644\u001B[0m \u001B[38;5;28;01mif\u001B[39;00m \u001B[38;5;129;01mnot\u001B[39;00m np\u001B[38;5;241m.\u001B[39misscalar(fx):\n",
      "File \u001B[0;32m~/PycharmProjects/pythonProject/.venv/lib/python3.12/site-packages/statsmodels/base/model.py:534\u001B[0m, in \u001B[0;36mLikelihoodModel.fit.<locals>.f\u001B[0;34m(params, *args)\u001B[0m\n\u001B[1;32m    533\u001B[0m \u001B[38;5;28;01mdef\u001B[39;00m \u001B[38;5;21mf\u001B[39m(params, \u001B[38;5;241m*\u001B[39margs):\n\u001B[0;32m--> 534\u001B[0m     \u001B[38;5;28;01mreturn\u001B[39;00m \u001B[38;5;241m-\u001B[39m\u001B[38;5;28;43mself\u001B[39;49m\u001B[38;5;241;43m.\u001B[39;49m\u001B[43mloglike\u001B[49m\u001B[43m(\u001B[49m\u001B[43mparams\u001B[49m\u001B[43m,\u001B[49m\u001B[43m \u001B[49m\u001B[38;5;241;43m*\u001B[39;49m\u001B[43margs\u001B[49m\u001B[43m)\u001B[49m \u001B[38;5;241m/\u001B[39m nobs\n",
      "File \u001B[0;32m~/PycharmProjects/pythonProject/.venv/lib/python3.12/site-packages/statsmodels/discrete/discrete_model.py:3433\u001B[0m, in \u001B[0;36mNegativeBinomial.loglike\u001B[0;34m(self, params)\u001B[0m\n\u001B[1;32m   3400\u001B[0m \u001B[38;5;28;01mdef\u001B[39;00m \u001B[38;5;21mloglike\u001B[39m(\u001B[38;5;28mself\u001B[39m, params):\n\u001B[1;32m   3401\u001B[0m \u001B[38;5;250m    \u001B[39m\u001B[38;5;124mr\u001B[39m\u001B[38;5;124;03m\"\"\"\u001B[39;00m\n\u001B[1;32m   3402\u001B[0m \u001B[38;5;124;03m    Loglikelihood for negative binomial model\u001B[39;00m\n\u001B[1;32m   3403\u001B[0m \n\u001B[0;32m   (...)\u001B[0m\n\u001B[1;32m   3431\u001B[0m \u001B[38;5;124;03m    For the geometric, :math:`\\alpha=0` as well.\u001B[39;00m\n\u001B[1;32m   3432\u001B[0m \u001B[38;5;124;03m    \"\"\"\u001B[39;00m\n\u001B[0;32m-> 3433\u001B[0m     llf \u001B[38;5;241m=\u001B[39m np\u001B[38;5;241m.\u001B[39msum(\u001B[38;5;28;43mself\u001B[39;49m\u001B[38;5;241;43m.\u001B[39;49m\u001B[43mloglikeobs\u001B[49m\u001B[43m(\u001B[49m\u001B[43mparams\u001B[49m\u001B[43m)\u001B[49m)\n\u001B[1;32m   3434\u001B[0m     \u001B[38;5;28;01mreturn\u001B[39;00m llf\n",
      "File \u001B[0;32m~/PycharmProjects/pythonProject/.venv/lib/python3.12/site-packages/statsmodels/discrete/discrete_model.py:3387\u001B[0m, in \u001B[0;36mNegativeBinomial._ll_nb2\u001B[0;34m(self, params)\u001B[0m\n\u001B[1;32m   3385\u001B[0m \u001B[38;5;28;01melse\u001B[39;00m:\n\u001B[1;32m   3386\u001B[0m     alpha \u001B[38;5;241m=\u001B[39m params[\u001B[38;5;241m-\u001B[39m\u001B[38;5;241m1\u001B[39m]\n\u001B[0;32m-> 3387\u001B[0m \u001B[38;5;28;01mreturn\u001B[39;00m \u001B[38;5;28;43mself\u001B[39;49m\u001B[38;5;241;43m.\u001B[39;49m\u001B[43m_ll_nbin\u001B[49m\u001B[43m(\u001B[49m\u001B[43mparams\u001B[49m\u001B[43m[\u001B[49m\u001B[43m:\u001B[49m\u001B[38;5;241;43m-\u001B[39;49m\u001B[38;5;241;43m1\u001B[39;49m\u001B[43m]\u001B[49m\u001B[43m,\u001B[49m\u001B[43m \u001B[49m\u001B[43malpha\u001B[49m\u001B[43m,\u001B[49m\u001B[43m \u001B[49m\u001B[43mQ\u001B[49m\u001B[38;5;241;43m=\u001B[39;49m\u001B[38;5;241;43m0\u001B[39;49m\u001B[43m)\u001B[49m\n",
      "File \u001B[0;32m~/PycharmProjects/pythonProject/.venv/lib/python3.12/site-packages/statsmodels/discrete/discrete_model.py:3374\u001B[0m, in \u001B[0;36mNegativeBinomial._ll_nbin\u001B[0;34m(self, params, alpha, Q)\u001B[0m\n\u001B[1;32m   3372\u001B[0m     gamma_ln \u001B[38;5;241m=\u001B[39m gammaln\n\u001B[1;32m   3373\u001B[0m endog \u001B[38;5;241m=\u001B[39m \u001B[38;5;28mself\u001B[39m\u001B[38;5;241m.\u001B[39mendog\n\u001B[0;32m-> 3374\u001B[0m mu \u001B[38;5;241m=\u001B[39m \u001B[38;5;28;43mself\u001B[39;49m\u001B[38;5;241;43m.\u001B[39;49m\u001B[43mpredict\u001B[49m\u001B[43m(\u001B[49m\u001B[43mparams\u001B[49m\u001B[43m)\u001B[49m\n\u001B[1;32m   3375\u001B[0m size \u001B[38;5;241m=\u001B[39m \u001B[38;5;241m1\u001B[39m\u001B[38;5;241m/\u001B[39malpha \u001B[38;5;241m*\u001B[39m mu\u001B[38;5;241m*\u001B[39m\u001B[38;5;241m*\u001B[39mQ\n\u001B[1;32m   3376\u001B[0m prob \u001B[38;5;241m=\u001B[39m size\u001B[38;5;241m/\u001B[39m(size\u001B[38;5;241m+\u001B[39mmu)\n",
      "File \u001B[0;32m~/PycharmProjects/pythonProject/.venv/lib/python3.12/site-packages/statsmodels/discrete/discrete_model.py:3660\u001B[0m, in \u001B[0;36mNegativeBinomial.predict\u001B[0;34m(self, params, exog, exposure, offset, which, linear, y_values)\u001B[0m\n\u001B[1;32m   3652\u001B[0m     \u001B[38;5;28;01mreturn\u001B[39;00m distr\u001B[38;5;241m.\u001B[39mpmf(y_values)\u001B[38;5;241m.\u001B[39mT\n\u001B[1;32m   3654\u001B[0m exog, offset, exposure \u001B[38;5;241m=\u001B[39m \u001B[38;5;28mself\u001B[39m\u001B[38;5;241m.\u001B[39m_get_predict_arrays(\n\u001B[1;32m   3655\u001B[0m     exog\u001B[38;5;241m=\u001B[39mexog,\n\u001B[1;32m   3656\u001B[0m     offset\u001B[38;5;241m=\u001B[39moffset,\n\u001B[1;32m   3657\u001B[0m     exposure\u001B[38;5;241m=\u001B[39mexposure\n\u001B[1;32m   3658\u001B[0m     )\n\u001B[0;32m-> 3660\u001B[0m fitted \u001B[38;5;241m=\u001B[39m \u001B[43mnp\u001B[49m\u001B[38;5;241;43m.\u001B[39;49m\u001B[43mdot\u001B[49m\u001B[43m(\u001B[49m\u001B[43mexog\u001B[49m\u001B[43m,\u001B[49m\u001B[43m \u001B[49m\u001B[43mparams\u001B[49m\u001B[43m[\u001B[49m\u001B[43m:\u001B[49m\u001B[43mexog\u001B[49m\u001B[38;5;241;43m.\u001B[39;49m\u001B[43mshape\u001B[49m\u001B[43m[\u001B[49m\u001B[38;5;241;43m1\u001B[39;49m\u001B[43m]\u001B[49m\u001B[43m]\u001B[49m\u001B[43m)\u001B[49m\n\u001B[1;32m   3661\u001B[0m linpred \u001B[38;5;241m=\u001B[39m fitted \u001B[38;5;241m+\u001B[39m exposure \u001B[38;5;241m+\u001B[39m offset\n\u001B[1;32m   3662\u001B[0m \u001B[38;5;28;01mif\u001B[39;00m which \u001B[38;5;241m==\u001B[39m \u001B[38;5;124m\"\u001B[39m\u001B[38;5;124mmean\u001B[39m\u001B[38;5;124m\"\u001B[39m:\n",
      "\u001B[0;31mKeyboardInterrupt\u001B[0m: "
     ]
    }
   ],
   "source": [
    "model_data = pd.read_csv('poisson_regression_model_data_4.csv')\n",
    "model_data.rename(columns={'10m_u_component_of_wind': 'u_wind'}, inplace=True)\n",
    "model_data.rename(columns={'10m_v_component_of_wind': 'v_wind'}, inplace=True)\n",
    "model_data.rename(columns={'2m_temperature': 'm_temperature'}, inplace=True)\n",
    "value_mapping = {'D': 1, 'N': 2}\n",
    "model_data['daynight'] = model_data['daynight'].map(value_mapping)\n",
    "# Split the DataFrame into train and test sets (70% train, 30% test)\n",
    "train_df, test_df = train_test_split(model_data, test_size=0.3,\n",
    "                                     random_state=42)  # Set random state for reproducibility\n",
    "\n",
    "model = sm.NegativeBinomial.from_formula('number_of_fire ~ daynight + month + u_wind + v_wind + m_temperature + soil_temperature_level_1 + soil_temperature_level_2 + soil_temperature_level_3 + soil_temperature_level_4 + soil_type +  total_precipitation + volumetric_soil_water_layer_1 + volumetric_soil_water_layer_2 + volumetric_soil_water_layer_3 + volumetric_soil_water_layer_4', data=train_df)\n",
    " \n",
    "model_fit = model.fit(skip_hessian=True)\n",
    " \n",
    "print(model_fit.summary())\n",
    "\n",
    "\n"
   ],
   "metadata": {
    "collapsed": false,
    "ExecuteTime": {
     "end_time": "2024-03-17T18:31:31.862784Z",
     "start_time": "2024-03-17T18:31:14.522069Z"
    }
   },
   "id": "3020550c1f50f57c",
   "execution_count": 9
  }
 ],
 "metadata": {
  "kernelspec": {
   "display_name": "Python 3",
   "language": "python",
   "name": "python3"
  },
  "language_info": {
   "codemirror_mode": {
    "name": "ipython",
    "version": 2
   },
   "file_extension": ".py",
   "mimetype": "text/x-python",
   "name": "python",
   "nbconvert_exporter": "python",
   "pygments_lexer": "ipython2",
   "version": "2.7.6"
  }
 },
 "nbformat": 4,
 "nbformat_minor": 5
}
